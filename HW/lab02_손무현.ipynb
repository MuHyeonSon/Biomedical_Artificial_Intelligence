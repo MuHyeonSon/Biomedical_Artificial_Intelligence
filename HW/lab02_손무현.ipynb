{
  "cells": [
    {
      "attachments": {},
      "cell_type": "markdown",
      "metadata": {
        "id": "wadi2wannMQ1"
      },
      "source": [
        "Name : 손무현\n",
        "student ID : 2018-----"
      ]
    },
    {
      "cell_type": "markdown",
      "metadata": {
        "id": "TsR2ODIhNLO-"
      },
      "source": [
        "3. Linear Neural Networks"
      ]
    },
    {
      "cell_type": "markdown",
      "metadata": {
        "id": "3T9yAJGzNoTW"
      },
      "source": [
        "3.2. Linear Regression Implementation from Scratch"
      ]
    },
    {
      "cell_type": "code",
      "execution_count": 2,
      "metadata": {
        "colab": {
          "base_uri": "https://localhost:8080/"
        },
        "id": "Oe_8KeCCOh-8",
        "outputId": "a8380ff9-dbb5-4c8c-941f-884e7c57f577"
      },
      "outputs": [
        {
          "name": "stdout",
          "output_type": "stream",
          "text": [
            "Collecting d2l==0.16.2\n",
            "\u001b[?25l  Downloading https://files.pythonhosted.org/packages/d0/1f/13de7e8cafaba15739caee0596032412aaf51a22726649b317bdb53c4f9a/d2l-0.16.2-py3-none-any.whl (77kB)\n",
            "\r\u001b[K     |████▎                           | 10kB 11.1MB/s eta 0:00:01\r\u001b[K     |████████▌                       | 20kB 15.1MB/s eta 0:00:01\r\u001b[K     |████████████▊                   | 30kB 17.7MB/s eta 0:00:01\r\u001b[K     |█████████████████               | 40kB 10.5MB/s eta 0:00:01\r\u001b[K     |█████████████████████▏          | 51kB 5.0MB/s eta 0:00:01\r\u001b[K     |█████████████████████████▌      | 61kB 5.5MB/s eta 0:00:01\r\u001b[K     |█████████████████████████████▊  | 71kB 5.0MB/s eta 0:00:01\r\u001b[K     |████████████████████████████████| 81kB 3.5MB/s \n",
            "\u001b[?25hRequirement already satisfied: jupyter in /usr/local/lib/python3.7/dist-packages (from d2l==0.16.2) (1.0.0)\n",
            "Requirement already satisfied: numpy in /usr/local/lib/python3.7/dist-packages (from d2l==0.16.2) (1.19.5)\n",
            "Requirement already satisfied: requests in /usr/local/lib/python3.7/dist-packages (from d2l==0.16.2) (2.23.0)\n",
            "Requirement already satisfied: pandas in /usr/local/lib/python3.7/dist-packages (from d2l==0.16.2) (1.1.5)\n",
            "Requirement already satisfied: matplotlib in /usr/local/lib/python3.7/dist-packages (from d2l==0.16.2) (3.2.2)\n",
            "Requirement already satisfied: notebook in /usr/local/lib/python3.7/dist-packages (from jupyter->d2l==0.16.2) (5.3.1)\n",
            "Requirement already satisfied: nbconvert in /usr/local/lib/python3.7/dist-packages (from jupyter->d2l==0.16.2) (5.6.1)\n",
            "Requirement already satisfied: ipykernel in /usr/local/lib/python3.7/dist-packages (from jupyter->d2l==0.16.2) (4.10.1)\n",
            "Requirement already satisfied: jupyter-console in /usr/local/lib/python3.7/dist-packages (from jupyter->d2l==0.16.2) (5.2.0)\n",
            "Requirement already satisfied: ipywidgets in /usr/local/lib/python3.7/dist-packages (from jupyter->d2l==0.16.2) (7.6.3)\n",
            "Requirement already satisfied: qtconsole in /usr/local/lib/python3.7/dist-packages (from jupyter->d2l==0.16.2) (5.0.3)\n",
            "Requirement already satisfied: idna<3,>=2.5 in /usr/local/lib/python3.7/dist-packages (from requests->d2l==0.16.2) (2.10)\n",
            "Requirement already satisfied: certifi>=2017.4.17 in /usr/local/lib/python3.7/dist-packages (from requests->d2l==0.16.2) (2020.12.5)\n",
            "Requirement already satisfied: chardet<4,>=3.0.2 in /usr/local/lib/python3.7/dist-packages (from requests->d2l==0.16.2) (3.0.4)\n",
            "Requirement already satisfied: urllib3!=1.25.0,!=1.25.1,<1.26,>=1.21.1 in /usr/local/lib/python3.7/dist-packages (from requests->d2l==0.16.2) (1.24.3)\n",
            "Requirement already satisfied: pytz>=2017.2 in /usr/local/lib/python3.7/dist-packages (from pandas->d2l==0.16.2) (2018.9)\n",
            "Requirement already satisfied: python-dateutil>=2.7.3 in /usr/local/lib/python3.7/dist-packages (from pandas->d2l==0.16.2) (2.8.1)\n",
            "Requirement already satisfied: kiwisolver>=1.0.1 in /usr/local/lib/python3.7/dist-packages (from matplotlib->d2l==0.16.2) (1.3.1)\n",
            "Requirement already satisfied: pyparsing!=2.0.4,!=2.1.2,!=2.1.6,>=2.0.1 in /usr/local/lib/python3.7/dist-packages (from matplotlib->d2l==0.16.2) (2.4.7)\n",
            "Requirement already satisfied: cycler>=0.10 in /usr/local/lib/python3.7/dist-packages (from matplotlib->d2l==0.16.2) (0.10.0)\n",
            "Requirement already satisfied: terminado>=0.8.1 in /usr/local/lib/python3.7/dist-packages (from notebook->jupyter->d2l==0.16.2) (0.9.3)\n",
            "Requirement already satisfied: tornado>=4 in /usr/local/lib/python3.7/dist-packages (from notebook->jupyter->d2l==0.16.2) (5.1.1)\n",
            "Requirement already satisfied: jupyter-core>=4.4.0 in /usr/local/lib/python3.7/dist-packages (from notebook->jupyter->d2l==0.16.2) (4.7.1)\n",
            "Requirement already satisfied: jinja2 in /usr/local/lib/python3.7/dist-packages (from notebook->jupyter->d2l==0.16.2) (2.11.3)\n",
            "Requirement already satisfied: jupyter-client>=5.2.0 in /usr/local/lib/python3.7/dist-packages (from notebook->jupyter->d2l==0.16.2) (5.3.5)\n",
            "Requirement already satisfied: nbformat in /usr/local/lib/python3.7/dist-packages (from notebook->jupyter->d2l==0.16.2) (5.1.2)\n",
            "Requirement already satisfied: ipython-genutils in /usr/local/lib/python3.7/dist-packages (from notebook->jupyter->d2l==0.16.2) (0.2.0)\n",
            "Requirement already satisfied: Send2Trash in /usr/local/lib/python3.7/dist-packages (from notebook->jupyter->d2l==0.16.2) (1.5.0)\n",
            "Requirement already satisfied: traitlets>=4.2.1 in /usr/local/lib/python3.7/dist-packages (from notebook->jupyter->d2l==0.16.2) (5.0.5)\n",
            "Requirement already satisfied: bleach in /usr/local/lib/python3.7/dist-packages (from nbconvert->jupyter->d2l==0.16.2) (3.3.0)\n",
            "Requirement already satisfied: pandocfilters>=1.4.1 in /usr/local/lib/python3.7/dist-packages (from nbconvert->jupyter->d2l==0.16.2) (1.4.3)\n",
            "Requirement already satisfied: mistune<2,>=0.8.1 in /usr/local/lib/python3.7/dist-packages (from nbconvert->jupyter->d2l==0.16.2) (0.8.4)\n",
            "Requirement already satisfied: pygments in /usr/local/lib/python3.7/dist-packages (from nbconvert->jupyter->d2l==0.16.2) (2.6.1)\n",
            "Requirement already satisfied: entrypoints>=0.2.2 in /usr/local/lib/python3.7/dist-packages (from nbconvert->jupyter->d2l==0.16.2) (0.3)\n",
            "Requirement already satisfied: defusedxml in /usr/local/lib/python3.7/dist-packages (from nbconvert->jupyter->d2l==0.16.2) (0.7.1)\n",
            "Requirement already satisfied: testpath in /usr/local/lib/python3.7/dist-packages (from nbconvert->jupyter->d2l==0.16.2) (0.4.4)\n",
            "Requirement already satisfied: ipython>=4.0.0 in /usr/local/lib/python3.7/dist-packages (from ipykernel->jupyter->d2l==0.16.2) (5.5.0)\n",
            "Requirement already satisfied: prompt-toolkit<2.0.0,>=1.0.0 in /usr/local/lib/python3.7/dist-packages (from jupyter-console->jupyter->d2l==0.16.2) (1.0.18)\n",
            "Requirement already satisfied: jupyterlab-widgets>=1.0.0; python_version >= \"3.6\" in /usr/local/lib/python3.7/dist-packages (from ipywidgets->jupyter->d2l==0.16.2) (1.0.0)\n",
            "Requirement already satisfied: widgetsnbextension~=3.5.0 in /usr/local/lib/python3.7/dist-packages (from ipywidgets->jupyter->d2l==0.16.2) (3.5.1)\n",
            "Requirement already satisfied: pyzmq>=17.1 in /usr/local/lib/python3.7/dist-packages (from qtconsole->jupyter->d2l==0.16.2) (22.0.3)\n",
            "Requirement already satisfied: qtpy in /usr/local/lib/python3.7/dist-packages (from qtconsole->jupyter->d2l==0.16.2) (1.9.0)\n",
            "Requirement already satisfied: six>=1.5 in /usr/local/lib/python3.7/dist-packages (from python-dateutil>=2.7.3->pandas->d2l==0.16.2) (1.15.0)\n",
            "Requirement already satisfied: ptyprocess; os_name != \"nt\" in /usr/local/lib/python3.7/dist-packages (from terminado>=0.8.1->notebook->jupyter->d2l==0.16.2) (0.7.0)\n",
            "Requirement already satisfied: MarkupSafe>=0.23 in /usr/local/lib/python3.7/dist-packages (from jinja2->notebook->jupyter->d2l==0.16.2) (1.1.1)\n",
            "Requirement already satisfied: jsonschema!=2.5.0,>=2.4 in /usr/local/lib/python3.7/dist-packages (from nbformat->notebook->jupyter->d2l==0.16.2) (2.6.0)\n",
            "Requirement already satisfied: webencodings in /usr/local/lib/python3.7/dist-packages (from bleach->nbconvert->jupyter->d2l==0.16.2) (0.5.1)\n",
            "Requirement already satisfied: packaging in /usr/local/lib/python3.7/dist-packages (from bleach->nbconvert->jupyter->d2l==0.16.2) (20.9)\n",
            "Requirement already satisfied: simplegeneric>0.8 in /usr/local/lib/python3.7/dist-packages (from ipython>=4.0.0->ipykernel->jupyter->d2l==0.16.2) (0.8.1)\n",
            "Requirement already satisfied: decorator in /usr/local/lib/python3.7/dist-packages (from ipython>=4.0.0->ipykernel->jupyter->d2l==0.16.2) (4.4.2)\n",
            "Requirement already satisfied: pexpect; sys_platform != \"win32\" in /usr/local/lib/python3.7/dist-packages (from ipython>=4.0.0->ipykernel->jupyter->d2l==0.16.2) (4.8.0)\n",
            "Requirement already satisfied: setuptools>=18.5 in /usr/local/lib/python3.7/dist-packages (from ipython>=4.0.0->ipykernel->jupyter->d2l==0.16.2) (54.2.0)\n",
            "Requirement already satisfied: pickleshare in /usr/local/lib/python3.7/dist-packages (from ipython>=4.0.0->ipykernel->jupyter->d2l==0.16.2) (0.7.5)\n",
            "Requirement already satisfied: wcwidth in /usr/local/lib/python3.7/dist-packages (from prompt-toolkit<2.0.0,>=1.0.0->jupyter-console->jupyter->d2l==0.16.2) (0.2.5)\n",
            "Installing collected packages: d2l\n",
            "Successfully installed d2l-0.16.2\n"
          ]
        }
      ],
      "source": [
        "!pip install d2l==0.16.2"
      ]
    },
    {
      "cell_type": "code",
      "execution_count": 6,
      "metadata": {
        "id": "D1f7q3SROO_r"
      },
      "outputs": [],
      "source": [
        "%matplotlib inline\n",
        "import random\n",
        "import torch\n",
        "from d2l import torch as d2l"
      ]
    },
    {
      "cell_type": "markdown",
      "metadata": {
        "id": "ZPHU3gXoO4Xr"
      },
      "source": [
        "3.2.1 Generating the Dataset"
      ]
    },
    {
      "cell_type": "code",
      "execution_count": 5,
      "metadata": {
        "colab": {
          "base_uri": "https://localhost:8080/",
          "height": 36
        },
        "id": "vOubnqTrJ1jG",
        "outputId": "e9a13294-79c8-4f42-d184-e628c6b29958"
      },
      "outputs": [
        {
          "data": {
            "application/vnd.google.colaboratory.intrinsic+json": {
              "type": "string"
            },
            "text/plain": [
              "'/content'"
            ]
          },
          "execution_count": 5,
          "metadata": {
            "tags": []
          },
          "output_type": "execute_result"
        }
      ],
      "source": [
        "pwd"
      ]
    },
    {
      "cell_type": "code",
      "execution_count": 21,
      "metadata": {
        "id": "GkuvCE1MO9rQ"
      },
      "outputs": [],
      "source": [
        "def synthetic_data(w,b,num_examples):   # 정해준 w,b에대해서 num_examples개의 데이터를 생성하는 함수\n",
        "  \"\"\"Generate y = Wx + b + noise.\"\"\"    #num_example개의 x와 num_example개의 y가 생성된 것임.\n",
        "  X = torch.normal(0,1,(num_examples,len(w)))\n",
        "  y = torch.matmul(X,w) + b\n",
        "  y += torch.normal(0,0.01,y.shape)\n",
        "  return X,y.reshape((-1,1))\n",
        "\n",
        "true_w = torch.tensor([2,-3.4])\n",
        "true_b = 4.2\n",
        "features, labels = synthetic_data(true_w,true_b,2000) #features=인풋 labels=아웃풋 이런 것이 1000개가 생성됨"
      ]
    },
    {
      "cell_type": "code",
      "execution_count": 49,
      "metadata": {
        "colab": {
          "base_uri": "https://localhost:8080/"
        },
        "id": "pkzlLFt8PElY",
        "outputId": "8b58ade2-0f47-4662-bd8a-934dc47f36ef"
      },
      "outputs": [
        {
          "name": "stdout",
          "output_type": "stream",
          "text": [
            "features: tensor([0.9352, 1.0717]) \n",
            "label: tensor([2.4398])\n",
            "features: tensor([1.0763, 0.6171]) \n",
            "label: tensor([4.2611])\n",
            "features: tensor([-0.6042,  0.2280]) \n",
            "label: tensor([2.1998])\n",
            "features: tensor([-0.0509, -0.6528]) \n",
            "label: tensor([6.3355])\n"
          ]
        }
      ],
      "source": [
        "print('features:', features[0], '\\nlabel:', labels[0])\n",
        "print('features:', features[1], '\\nlabel:', labels[1])\n",
        "print('features:', features[2], '\\nlabel:', labels[2])\n",
        "print('features:', features[-1], '\\nlabel:', labels[-1])"
      ]
    },
    {
      "cell_type": "code",
      "execution_count": 14,
      "metadata": {
        "colab": {
          "base_uri": "https://localhost:8080/"
        },
        "id": "LJvxKFHzgTc4",
        "outputId": "50c7c985-b8af-4eda-a723-c38e1f3652a7"
      },
      "outputs": [
        {
          "data": {
            "text/plain": [
              "<function _VariableFunctionsClass.matmul>"
            ]
          },
          "execution_count": 14,
          "metadata": {
            "tags": []
          },
          "output_type": "execute_result"
        }
      ],
      "source": [
        "torch.matmul"
      ]
    },
    {
      "cell_type": "code",
      "execution_count": 25,
      "metadata": {
        "colab": {
          "base_uri": "https://localhost:8080/",
          "height": 243
        },
        "id": "udI42nWxUgm0",
        "outputId": "b2c48945-50ce-46e3-a3ba-30ba14f36e98"
      },
      "outputs": [
        {
          "data": {
            "image/svg+xml": "<?xml version=\"1.0\" encoding=\"utf-8\" standalone=\"no\"?>\n<!DOCTYPE svg PUBLIC \"-//W3C//DTD SVG 1.1//EN\"\n  \"http://www.w3.org/Graphics/SVG/1.1/DTD/svg11.dtd\">\n<!-- Created with matplotlib (https://matplotlib.org/) -->\n<svg height=\"167.957939pt\" version=\"1.1\" viewBox=\"0 0 237.804688 167.957939\" width=\"237.804688pt\" xmlns=\"http://www.w3.org/2000/svg\" xmlns:xlink=\"http://www.w3.org/1999/xlink\">\n <defs>\n  <style type=\"text/css\">\n*{stroke-linecap:butt;stroke-linejoin:round;}\n  </style>\n </defs>\n <g id=\"figure_1\">\n  <g id=\"patch_1\">\n   <path d=\"M 0 167.957939 \nL 237.804688 167.957939 \nL 237.804688 0 \nL 0 0 \nz\n\" style=\"fill:none;\"/>\n  </g>\n  <g id=\"axes_1\">\n   <g id=\"patch_2\">\n    <path d=\"M 35.304688 144.079814 \nL 230.604688 144.079814 \nL 230.604688 8.179814 \nL 35.304688 8.179814 \nz\n\" style=\"fill:#ffffff;\"/>\n   </g>\n   <g id=\"PathCollection_1\">\n    <defs>\n     <path d=\"M 0 0.5 \nC 0.132602 0.5 0.25979 0.447317 0.353553 0.353553 \nC 0.447317 0.25979 0.5 0.132602 0.5 0 \nC 0.5 -0.132602 0.447317 -0.25979 0.353553 -0.353553 \nC 0.25979 -0.447317 0.132602 -0.5 0 -0.5 \nC -0.132602 -0.5 -0.25979 -0.447317 -0.353553 -0.353553 \nC -0.447317 -0.25979 -0.5 -0.132602 -0.5 0 \nC -0.5 0.132602 -0.447317 0.25979 -0.353553 0.353553 \nC -0.25979 0.447317 -0.132602 0.5 0 0.5 \nz\n\" id=\"mb80cc9e2fa\" style=\"stroke:#1f77b4;\"/>\n    </defs>\n    <g clip-path=\"url(#p75fe168eb2)\">\n     <use style=\"fill:#1f77b4;stroke:#1f77b4;\" x=\"163.954054\" xlink:href=\"#mb80cc9e2fa\" y=\"85.056156\"/>\n     <use style=\"fill:#1f77b4;stroke:#1f77b4;\" x=\"151.933493\" xlink:href=\"#mb80cc9e2fa\" y=\"77.374797\"/>\n     <use style=\"fill:#1f77b4;stroke:#1f77b4;\" x=\"141.64735\" xlink:href=\"#mb80cc9e2fa\" y=\"86.068075\"/>\n     <use style=\"fill:#1f77b4;stroke:#1f77b4;\" x=\"106.939265\" xlink:href=\"#mb80cc9e2fa\" y=\"72.162966\"/>\n     <use style=\"fill:#1f77b4;stroke:#1f77b4;\" x=\"83.55952\" xlink:href=\"#mb80cc9e2fa\" y=\"53.344267\"/>\n     <use style=\"fill:#1f77b4;stroke:#1f77b4;\" x=\"107.49982\" xlink:href=\"#mb80cc9e2fa\" y=\"52.637404\"/>\n     <use style=\"fill:#1f77b4;stroke:#1f77b4;\" x=\"80.284156\" xlink:href=\"#mb80cc9e2fa\" y=\"48.532251\"/>\n     <use style=\"fill:#1f77b4;stroke:#1f77b4;\" x=\"125.561009\" xlink:href=\"#mb80cc9e2fa\" y=\"70.93139\"/>\n     <use style=\"fill:#1f77b4;stroke:#1f77b4;\" x=\"116.454956\" xlink:href=\"#mb80cc9e2fa\" y=\"71.638898\"/>\n     <use style=\"fill:#1f77b4;stroke:#1f77b4;\" x=\"95.510253\" xlink:href=\"#mb80cc9e2fa\" y=\"60.036221\"/>\n     <use style=\"fill:#1f77b4;stroke:#1f77b4;\" x=\"124.971253\" xlink:href=\"#mb80cc9e2fa\" y=\"60.018259\"/>\n     <use style=\"fill:#1f77b4;stroke:#1f77b4;\" x=\"124.320903\" xlink:href=\"#mb80cc9e2fa\" y=\"66.85801\"/>\n     <use style=\"fill:#1f77b4;stroke:#1f77b4;\" x=\"147.484485\" xlink:href=\"#mb80cc9e2fa\" y=\"75.034773\"/>\n     <use style=\"fill:#1f77b4;stroke:#1f77b4;\" x=\"180.191524\" xlink:href=\"#mb80cc9e2fa\" y=\"107.965792\"/>\n     <use style=\"fill:#1f77b4;stroke:#1f77b4;\" x=\"138.355087\" xlink:href=\"#mb80cc9e2fa\" y=\"82.248231\"/>\n     <use style=\"fill:#1f77b4;stroke:#1f77b4;\" x=\"130.083108\" xlink:href=\"#mb80cc9e2fa\" y=\"88.01576\"/>\n     <use style=\"fill:#1f77b4;stroke:#1f77b4;\" x=\"156.230853\" xlink:href=\"#mb80cc9e2fa\" y=\"90.734559\"/>\n     <use style=\"fill:#1f77b4;stroke:#1f77b4;\" x=\"124.829662\" xlink:href=\"#mb80cc9e2fa\" y=\"75.155234\"/>\n     <use style=\"fill:#1f77b4;stroke:#1f77b4;\" x=\"112.484916\" xlink:href=\"#mb80cc9e2fa\" y=\"70.13317\"/>\n     <use style=\"fill:#1f77b4;stroke:#1f77b4;\" x=\"167.064718\" xlink:href=\"#mb80cc9e2fa\" y=\"80.681055\"/>\n     <use style=\"fill:#1f77b4;stroke:#1f77b4;\" x=\"109.918207\" xlink:href=\"#mb80cc9e2fa\" y=\"59.524941\"/>\n     <use style=\"fill:#1f77b4;stroke:#1f77b4;\" x=\"86.746423\" xlink:href=\"#mb80cc9e2fa\" y=\"62.387973\"/>\n     <use style=\"fill:#1f77b4;stroke:#1f77b4;\" x=\"146.471972\" xlink:href=\"#mb80cc9e2fa\" y=\"82.237051\"/>\n     <use style=\"fill:#1f77b4;stroke:#1f77b4;\" x=\"128.924283\" xlink:href=\"#mb80cc9e2fa\" y=\"62.531275\"/>\n     <use style=\"fill:#1f77b4;stroke:#1f77b4;\" x=\"108.010715\" xlink:href=\"#mb80cc9e2fa\" y=\"60.891643\"/>\n     <use style=\"fill:#1f77b4;stroke:#1f77b4;\" x=\"144.964717\" xlink:href=\"#mb80cc9e2fa\" y=\"79.270083\"/>\n     <use style=\"fill:#1f77b4;stroke:#1f77b4;\" x=\"114.834318\" xlink:href=\"#mb80cc9e2fa\" y=\"76.835867\"/>\n     <use style=\"fill:#1f77b4;stroke:#1f77b4;\" x=\"175.653574\" xlink:href=\"#mb80cc9e2fa\" y=\"107.49153\"/>\n     <use style=\"fill:#1f77b4;stroke:#1f77b4;\" x=\"167.504828\" xlink:href=\"#mb80cc9e2fa\" y=\"89.574684\"/>\n     <use style=\"fill:#1f77b4;stroke:#1f77b4;\" x=\"143.032675\" xlink:href=\"#mb80cc9e2fa\" y=\"67.15185\"/>\n     <use style=\"fill:#1f77b4;stroke:#1f77b4;\" x=\"111.509602\" xlink:href=\"#mb80cc9e2fa\" y=\"65.108945\"/>\n     <use style=\"fill:#1f77b4;stroke:#1f77b4;\" x=\"142.590452\" xlink:href=\"#mb80cc9e2fa\" y=\"88.163834\"/>\n     <use style=\"fill:#1f77b4;stroke:#1f77b4;\" x=\"163.706794\" xlink:href=\"#mb80cc9e2fa\" y=\"93.526178\"/>\n     <use style=\"fill:#1f77b4;stroke:#1f77b4;\" x=\"137.162034\" xlink:href=\"#mb80cc9e2fa\" y=\"81.114993\"/>\n     <use style=\"fill:#1f77b4;stroke:#1f77b4;\" x=\"112.125941\" xlink:href=\"#mb80cc9e2fa\" y=\"58.62327\"/>\n     <use style=\"fill:#1f77b4;stroke:#1f77b4;\" x=\"191.505395\" xlink:href=\"#mb80cc9e2fa\" y=\"106.389932\"/>\n     <use style=\"fill:#1f77b4;stroke:#1f77b4;\" x=\"92.822383\" xlink:href=\"#mb80cc9e2fa\" y=\"54.90965\"/>\n     <use style=\"fill:#1f77b4;stroke:#1f77b4;\" x=\"135.425961\" xlink:href=\"#mb80cc9e2fa\" y=\"85.455379\"/>\n     <use style=\"fill:#1f77b4;stroke:#1f77b4;\" x=\"139.161863\" xlink:href=\"#mb80cc9e2fa\" y=\"74.731563\"/>\n     <use style=\"fill:#1f77b4;stroke:#1f77b4;\" x=\"136.609036\" xlink:href=\"#mb80cc9e2fa\" y=\"78.143001\"/>\n     <use style=\"fill:#1f77b4;stroke:#1f77b4;\" x=\"107.734779\" xlink:href=\"#mb80cc9e2fa\" y=\"47.546684\"/>\n     <use style=\"fill:#1f77b4;stroke:#1f77b4;\" x=\"124.609353\" xlink:href=\"#mb80cc9e2fa\" y=\"80.730722\"/>\n     <use style=\"fill:#1f77b4;stroke:#1f77b4;\" x=\"190.81416\" xlink:href=\"#mb80cc9e2fa\" y=\"106.953482\"/>\n     <use style=\"fill:#1f77b4;stroke:#1f77b4;\" x=\"157.107814\" xlink:href=\"#mb80cc9e2fa\" y=\"82.448538\"/>\n     <use style=\"fill:#1f77b4;stroke:#1f77b4;\" x=\"103.378033\" xlink:href=\"#mb80cc9e2fa\" y=\"57.006789\"/>\n     <use style=\"fill:#1f77b4;stroke:#1f77b4;\" x=\"140.696204\" xlink:href=\"#mb80cc9e2fa\" y=\"74.495214\"/>\n     <use style=\"fill:#1f77b4;stroke:#1f77b4;\" x=\"134.493578\" xlink:href=\"#mb80cc9e2fa\" y=\"84.394714\"/>\n     <use style=\"fill:#1f77b4;stroke:#1f77b4;\" x=\"179.437334\" xlink:href=\"#mb80cc9e2fa\" y=\"110.427238\"/>\n     <use style=\"fill:#1f77b4;stroke:#1f77b4;\" x=\"111.995112\" xlink:href=\"#mb80cc9e2fa\" y=\"66.724071\"/>\n     <use style=\"fill:#1f77b4;stroke:#1f77b4;\" x=\"85.072823\" xlink:href=\"#mb80cc9e2fa\" y=\"57.842757\"/>\n     <use style=\"fill:#1f77b4;stroke:#1f77b4;\" x=\"104.24783\" xlink:href=\"#mb80cc9e2fa\" y=\"48.384823\"/>\n     <use style=\"fill:#1f77b4;stroke:#1f77b4;\" x=\"150.073376\" xlink:href=\"#mb80cc9e2fa\" y=\"83.503483\"/>\n     <use style=\"fill:#1f77b4;stroke:#1f77b4;\" x=\"132.077573\" xlink:href=\"#mb80cc9e2fa\" y=\"66.922206\"/>\n     <use style=\"fill:#1f77b4;stroke:#1f77b4;\" x=\"128.846264\" xlink:href=\"#mb80cc9e2fa\" y=\"71.490631\"/>\n     <use style=\"fill:#1f77b4;stroke:#1f77b4;\" x=\"126.27486\" xlink:href=\"#mb80cc9e2fa\" y=\"53.17173\"/>\n     <use style=\"fill:#1f77b4;stroke:#1f77b4;\" x=\"112.227611\" xlink:href=\"#mb80cc9e2fa\" y=\"74.448266\"/>\n     <use style=\"fill:#1f77b4;stroke:#1f77b4;\" x=\"126.394936\" xlink:href=\"#mb80cc9e2fa\" y=\"65.331968\"/>\n     <use style=\"fill:#1f77b4;stroke:#1f77b4;\" x=\"133.726851\" xlink:href=\"#mb80cc9e2fa\" y=\"86.813099\"/>\n     <use style=\"fill:#1f77b4;stroke:#1f77b4;\" x=\"149.136651\" xlink:href=\"#mb80cc9e2fa\" y=\"85.288598\"/>\n     <use style=\"fill:#1f77b4;stroke:#1f77b4;\" x=\"150.292311\" xlink:href=\"#mb80cc9e2fa\" y=\"76.542873\"/>\n     <use style=\"fill:#1f77b4;stroke:#1f77b4;\" x=\"140.200876\" xlink:href=\"#mb80cc9e2fa\" y=\"65.593959\"/>\n     <use style=\"fill:#1f77b4;stroke:#1f77b4;\" x=\"162.428036\" xlink:href=\"#mb80cc9e2fa\" y=\"85.038044\"/>\n     <use style=\"fill:#1f77b4;stroke:#1f77b4;\" x=\"132.459553\" xlink:href=\"#mb80cc9e2fa\" y=\"73.063022\"/>\n     <use style=\"fill:#1f77b4;stroke:#1f77b4;\" x=\"138.845218\" xlink:href=\"#mb80cc9e2fa\" y=\"79.812409\"/>\n     <use style=\"fill:#1f77b4;stroke:#1f77b4;\" x=\"122.178614\" xlink:href=\"#mb80cc9e2fa\" y=\"62.180009\"/>\n     <use style=\"fill:#1f77b4;stroke:#1f77b4;\" x=\"91.983197\" xlink:href=\"#mb80cc9e2fa\" y=\"64.148307\"/>\n     <use style=\"fill:#1f77b4;stroke:#1f77b4;\" x=\"153.453431\" xlink:href=\"#mb80cc9e2fa\" y=\"98.085179\"/>\n     <use style=\"fill:#1f77b4;stroke:#1f77b4;\" x=\"101.29991\" xlink:href=\"#mb80cc9e2fa\" y=\"50.747394\"/>\n     <use style=\"fill:#1f77b4;stroke:#1f77b4;\" x=\"124.730112\" xlink:href=\"#mb80cc9e2fa\" y=\"94.29251\"/>\n     <use style=\"fill:#1f77b4;stroke:#1f77b4;\" x=\"149.903762\" xlink:href=\"#mb80cc9e2fa\" y=\"80.485763\"/>\n     <use style=\"fill:#1f77b4;stroke:#1f77b4;\" x=\"172.102823\" xlink:href=\"#mb80cc9e2fa\" y=\"88.858594\"/>\n     <use style=\"fill:#1f77b4;stroke:#1f77b4;\" x=\"188.830744\" xlink:href=\"#mb80cc9e2fa\" y=\"109.904599\"/>\n     <use style=\"fill:#1f77b4;stroke:#1f77b4;\" x=\"125.307439\" xlink:href=\"#mb80cc9e2fa\" y=\"77.97746\"/>\n     <use style=\"fill:#1f77b4;stroke:#1f77b4;\" x=\"125.604956\" xlink:href=\"#mb80cc9e2fa\" y=\"80.544475\"/>\n     <use style=\"fill:#1f77b4;stroke:#1f77b4;\" x=\"123.955421\" xlink:href=\"#mb80cc9e2fa\" y=\"63.305532\"/>\n     <use style=\"fill:#1f77b4;stroke:#1f77b4;\" x=\"143.266085\" xlink:href=\"#mb80cc9e2fa\" y=\"71.590697\"/>\n     <use style=\"fill:#1f77b4;stroke:#1f77b4;\" x=\"137.654883\" xlink:href=\"#mb80cc9e2fa\" y=\"69.487064\"/>\n     <use style=\"fill:#1f77b4;stroke:#1f77b4;\" x=\"141.116763\" xlink:href=\"#mb80cc9e2fa\" y=\"65.34189\"/>\n     <use style=\"fill:#1f77b4;stroke:#1f77b4;\" x=\"122.534155\" xlink:href=\"#mb80cc9e2fa\" y=\"71.788168\"/>\n     <use style=\"fill:#1f77b4;stroke:#1f77b4;\" x=\"173.234521\" xlink:href=\"#mb80cc9e2fa\" y=\"105.236601\"/>\n     <use style=\"fill:#1f77b4;stroke:#1f77b4;\" x=\"147.549657\" xlink:href=\"#mb80cc9e2fa\" y=\"81.342212\"/>\n     <use style=\"fill:#1f77b4;stroke:#1f77b4;\" x=\"135.052192\" xlink:href=\"#mb80cc9e2fa\" y=\"85.546302\"/>\n     <use style=\"fill:#1f77b4;stroke:#1f77b4;\" x=\"134.54273\" xlink:href=\"#mb80cc9e2fa\" y=\"64.902561\"/>\n     <use style=\"fill:#1f77b4;stroke:#1f77b4;\" x=\"137.20745\" xlink:href=\"#mb80cc9e2fa\" y=\"72.191524\"/>\n     <use style=\"fill:#1f77b4;stroke:#1f77b4;\" x=\"136.457448\" xlink:href=\"#mb80cc9e2fa\" y=\"87.42937\"/>\n     <use style=\"fill:#1f77b4;stroke:#1f77b4;\" x=\"89.841914\" xlink:href=\"#mb80cc9e2fa\" y=\"55.690561\"/>\n     <use style=\"fill:#1f77b4;stroke:#1f77b4;\" x=\"161.118594\" xlink:href=\"#mb80cc9e2fa\" y=\"97.25765\"/>\n     <use style=\"fill:#1f77b4;stroke:#1f77b4;\" x=\"114.821569\" xlink:href=\"#mb80cc9e2fa\" y=\"73.027257\"/>\n     <use style=\"fill:#1f77b4;stroke:#1f77b4;\" x=\"137.626055\" xlink:href=\"#mb80cc9e2fa\" y=\"79.619786\"/>\n     <use style=\"fill:#1f77b4;stroke:#1f77b4;\" x=\"142.51299\" xlink:href=\"#mb80cc9e2fa\" y=\"90.349599\"/>\n     <use style=\"fill:#1f77b4;stroke:#1f77b4;\" x=\"85.094987\" xlink:href=\"#mb80cc9e2fa\" y=\"53.157947\"/>\n     <use style=\"fill:#1f77b4;stroke:#1f77b4;\" x=\"140.42518\" xlink:href=\"#mb80cc9e2fa\" y=\"79.351473\"/>\n     <use style=\"fill:#1f77b4;stroke:#1f77b4;\" x=\"198.547592\" xlink:href=\"#mb80cc9e2fa\" y=\"109.246618\"/>\n     <use style=\"fill:#1f77b4;stroke:#1f77b4;\" x=\"117.93569\" xlink:href=\"#mb80cc9e2fa\" y=\"76.413149\"/>\n     <use style=\"fill:#1f77b4;stroke:#1f77b4;\" x=\"162.803647\" xlink:href=\"#mb80cc9e2fa\" y=\"85.913859\"/>\n     <use style=\"fill:#1f77b4;stroke:#1f77b4;\" x=\"139.180562\" xlink:href=\"#mb80cc9e2fa\" y=\"75.589298\"/>\n     <use style=\"fill:#1f77b4;stroke:#1f77b4;\" x=\"168.293824\" xlink:href=\"#mb80cc9e2fa\" y=\"96.231753\"/>\n     <use style=\"fill:#1f77b4;stroke:#1f77b4;\" x=\"147.207565\" xlink:href=\"#mb80cc9e2fa\" y=\"89.173438\"/>\n     <use style=\"fill:#1f77b4;stroke:#1f77b4;\" x=\"105.377086\" xlink:href=\"#mb80cc9e2fa\" y=\"66.392301\"/>\n     <use style=\"fill:#1f77b4;stroke:#1f77b4;\" x=\"116.02518\" xlink:href=\"#mb80cc9e2fa\" y=\"72.171748\"/>\n     <use style=\"fill:#1f77b4;stroke:#1f77b4;\" x=\"137.644345\" xlink:href=\"#mb80cc9e2fa\" y=\"83.795362\"/>\n     <use style=\"fill:#1f77b4;stroke:#1f77b4;\" x=\"95.44523\" xlink:href=\"#mb80cc9e2fa\" y=\"54.739341\"/>\n     <use style=\"fill:#1f77b4;stroke:#1f77b4;\" x=\"145.936077\" xlink:href=\"#mb80cc9e2fa\" y=\"86.327854\"/>\n     <use style=\"fill:#1f77b4;stroke:#1f77b4;\" x=\"135.709091\" xlink:href=\"#mb80cc9e2fa\" y=\"71.473001\"/>\n     <use style=\"fill:#1f77b4;stroke:#1f77b4;\" x=\"122.695952\" xlink:href=\"#mb80cc9e2fa\" y=\"73.118619\"/>\n     <use style=\"fill:#1f77b4;stroke:#1f77b4;\" x=\"89.771637\" xlink:href=\"#mb80cc9e2fa\" y=\"45.377475\"/>\n     <use style=\"fill:#1f77b4;stroke:#1f77b4;\" x=\"151.855344\" xlink:href=\"#mb80cc9e2fa\" y=\"98.992286\"/>\n     <use style=\"fill:#1f77b4;stroke:#1f77b4;\" x=\"179.718146\" xlink:href=\"#mb80cc9e2fa\" y=\"88.381757\"/>\n     <use style=\"fill:#1f77b4;stroke:#1f77b4;\" x=\"166.725045\" xlink:href=\"#mb80cc9e2fa\" y=\"100.746227\"/>\n     <use style=\"fill:#1f77b4;stroke:#1f77b4;\" x=\"102.012688\" xlink:href=\"#mb80cc9e2fa\" y=\"54.217374\"/>\n     <use style=\"fill:#1f77b4;stroke:#1f77b4;\" x=\"184.960451\" xlink:href=\"#mb80cc9e2fa\" y=\"92.268145\"/>\n     <use style=\"fill:#1f77b4;stroke:#1f77b4;\" x=\"143.562808\" xlink:href=\"#mb80cc9e2fa\" y=\"78.522275\"/>\n     <use style=\"fill:#1f77b4;stroke:#1f77b4;\" x=\"145.786786\" xlink:href=\"#mb80cc9e2fa\" y=\"76.192926\"/>\n     <use style=\"fill:#1f77b4;stroke:#1f77b4;\" x=\"139.316016\" xlink:href=\"#mb80cc9e2fa\" y=\"69.967726\"/>\n     <use style=\"fill:#1f77b4;stroke:#1f77b4;\" x=\"153.650898\" xlink:href=\"#mb80cc9e2fa\" y=\"72.646711\"/>\n     <use style=\"fill:#1f77b4;stroke:#1f77b4;\" x=\"121.144726\" xlink:href=\"#mb80cc9e2fa\" y=\"73.524024\"/>\n     <use style=\"fill:#1f77b4;stroke:#1f77b4;\" x=\"132.651651\" xlink:href=\"#mb80cc9e2fa\" y=\"74.00279\"/>\n     <use style=\"fill:#1f77b4;stroke:#1f77b4;\" x=\"114.532545\" xlink:href=\"#mb80cc9e2fa\" y=\"74.894612\"/>\n     <use style=\"fill:#1f77b4;stroke:#1f77b4;\" x=\"147.140917\" xlink:href=\"#mb80cc9e2fa\" y=\"80.943037\"/>\n     <use style=\"fill:#1f77b4;stroke:#1f77b4;\" x=\"166.126888\" xlink:href=\"#mb80cc9e2fa\" y=\"93.832189\"/>\n     <use style=\"fill:#1f77b4;stroke:#1f77b4;\" x=\"143.22523\" xlink:href=\"#mb80cc9e2fa\" y=\"92.873826\"/>\n     <use style=\"fill:#1f77b4;stroke:#1f77b4;\" x=\"145.010274\" xlink:href=\"#mb80cc9e2fa\" y=\"76.06868\"/>\n     <use style=\"fill:#1f77b4;stroke:#1f77b4;\" x=\"127.587618\" xlink:href=\"#mb80cc9e2fa\" y=\"70.028331\"/>\n     <use style=\"fill:#1f77b4;stroke:#1f77b4;\" x=\"135.225988\" xlink:href=\"#mb80cc9e2fa\" y=\"80.4938\"/>\n     <use style=\"fill:#1f77b4;stroke:#1f77b4;\" x=\"119.309999\" xlink:href=\"#mb80cc9e2fa\" y=\"69.227756\"/>\n     <use style=\"fill:#1f77b4;stroke:#1f77b4;\" x=\"97.696475\" xlink:href=\"#mb80cc9e2fa\" y=\"55.521552\"/>\n     <use style=\"fill:#1f77b4;stroke:#1f77b4;\" x=\"147.073353\" xlink:href=\"#mb80cc9e2fa\" y=\"82.200143\"/>\n     <use style=\"fill:#1f77b4;stroke:#1f77b4;\" x=\"164.006709\" xlink:href=\"#mb80cc9e2fa\" y=\"102.36416\"/>\n     <use style=\"fill:#1f77b4;stroke:#1f77b4;\" x=\"127.324091\" xlink:href=\"#mb80cc9e2fa\" y=\"81.216765\"/>\n     <use style=\"fill:#1f77b4;stroke:#1f77b4;\" x=\"101.389609\" xlink:href=\"#mb80cc9e2fa\" y=\"61.790886\"/>\n     <use style=\"fill:#1f77b4;stroke:#1f77b4;\" x=\"99.250913\" xlink:href=\"#mb80cc9e2fa\" y=\"60.569414\"/>\n     <use style=\"fill:#1f77b4;stroke:#1f77b4;\" x=\"136.225514\" xlink:href=\"#mb80cc9e2fa\" y=\"87.562893\"/>\n     <use style=\"fill:#1f77b4;stroke:#1f77b4;\" x=\"146.279311\" xlink:href=\"#mb80cc9e2fa\" y=\"86.194747\"/>\n     <use style=\"fill:#1f77b4;stroke:#1f77b4;\" x=\"152.761301\" xlink:href=\"#mb80cc9e2fa\" y=\"89.80874\"/>\n     <use style=\"fill:#1f77b4;stroke:#1f77b4;\" x=\"142.323029\" xlink:href=\"#mb80cc9e2fa\" y=\"85.357916\"/>\n     <use style=\"fill:#1f77b4;stroke:#1f77b4;\" x=\"171.921008\" xlink:href=\"#mb80cc9e2fa\" y=\"96.898183\"/>\n     <use style=\"fill:#1f77b4;stroke:#1f77b4;\" x=\"99.049982\" xlink:href=\"#mb80cc9e2fa\" y=\"56.774812\"/>\n     <use style=\"fill:#1f77b4;stroke:#1f77b4;\" x=\"123.36357\" xlink:href=\"#mb80cc9e2fa\" y=\"67.614516\"/>\n     <use style=\"fill:#1f77b4;stroke:#1f77b4;\" x=\"111.143143\" xlink:href=\"#mb80cc9e2fa\" y=\"51.738689\"/>\n     <use style=\"fill:#1f77b4;stroke:#1f77b4;\" x=\"106.197496\" xlink:href=\"#mb80cc9e2fa\" y=\"59.620904\"/>\n     <use style=\"fill:#1f77b4;stroke:#1f77b4;\" x=\"101.83\" xlink:href=\"#mb80cc9e2fa\" y=\"56.241523\"/>\n     <use style=\"fill:#1f77b4;stroke:#1f77b4;\" x=\"128.630267\" xlink:href=\"#mb80cc9e2fa\" y=\"73.114569\"/>\n     <use style=\"fill:#1f77b4;stroke:#1f77b4;\" x=\"173.442099\" xlink:href=\"#mb80cc9e2fa\" y=\"106.173851\"/>\n     <use style=\"fill:#1f77b4;stroke:#1f77b4;\" x=\"117.394307\" xlink:href=\"#mb80cc9e2fa\" y=\"76.26149\"/>\n     <use style=\"fill:#1f77b4;stroke:#1f77b4;\" x=\"118.575579\" xlink:href=\"#mb80cc9e2fa\" y=\"60.26038\"/>\n     <use style=\"fill:#1f77b4;stroke:#1f77b4;\" x=\"126.01007\" xlink:href=\"#mb80cc9e2fa\" y=\"73.95253\"/>\n     <use style=\"fill:#1f77b4;stroke:#1f77b4;\" x=\"142.644334\" xlink:href=\"#mb80cc9e2fa\" y=\"77.09077\"/>\n     <use style=\"fill:#1f77b4;stroke:#1f77b4;\" x=\"121.994543\" xlink:href=\"#mb80cc9e2fa\" y=\"68.444312\"/>\n     <use style=\"fill:#1f77b4;stroke:#1f77b4;\" x=\"113.104306\" xlink:href=\"#mb80cc9e2fa\" y=\"75.18721\"/>\n     <use style=\"fill:#1f77b4;stroke:#1f77b4;\" x=\"78.089376\" xlink:href=\"#mb80cc9e2fa\" y=\"51.154169\"/>\n     <use style=\"fill:#1f77b4;stroke:#1f77b4;\" x=\"141.755448\" xlink:href=\"#mb80cc9e2fa\" y=\"80.327065\"/>\n     <use style=\"fill:#1f77b4;stroke:#1f77b4;\" x=\"98.695678\" xlink:href=\"#mb80cc9e2fa\" y=\"55.084025\"/>\n     <use style=\"fill:#1f77b4;stroke:#1f77b4;\" x=\"149.834809\" xlink:href=\"#mb80cc9e2fa\" y=\"92.964129\"/>\n     <use style=\"fill:#1f77b4;stroke:#1f77b4;\" x=\"147.851376\" xlink:href=\"#mb80cc9e2fa\" y=\"83.561445\"/>\n     <use style=\"fill:#1f77b4;stroke:#1f77b4;\" x=\"141.644441\" xlink:href=\"#mb80cc9e2fa\" y=\"85.144122\"/>\n     <use style=\"fill:#1f77b4;stroke:#1f77b4;\" x=\"148.976804\" xlink:href=\"#mb80cc9e2fa\" y=\"80.411782\"/>\n     <use style=\"fill:#1f77b4;stroke:#1f77b4;\" x=\"108.366251\" xlink:href=\"#mb80cc9e2fa\" y=\"57.051706\"/>\n     <use style=\"fill:#1f77b4;stroke:#1f77b4;\" x=\"161.87755\" xlink:href=\"#mb80cc9e2fa\" y=\"85.359624\"/>\n     <use style=\"fill:#1f77b4;stroke:#1f77b4;\" x=\"139.832922\" xlink:href=\"#mb80cc9e2fa\" y=\"77.325438\"/>\n     <use style=\"fill:#1f77b4;stroke:#1f77b4;\" x=\"126.733573\" xlink:href=\"#mb80cc9e2fa\" y=\"71.40275\"/>\n     <use style=\"fill:#1f77b4;stroke:#1f77b4;\" x=\"139.630308\" xlink:href=\"#mb80cc9e2fa\" y=\"78.73081\"/>\n     <use style=\"fill:#1f77b4;stroke:#1f77b4;\" x=\"89.395721\" xlink:href=\"#mb80cc9e2fa\" y=\"57.570592\"/>\n     <use style=\"fill:#1f77b4;stroke:#1f77b4;\" x=\"111.381049\" xlink:href=\"#mb80cc9e2fa\" y=\"64.245499\"/>\n     <use style=\"fill:#1f77b4;stroke:#1f77b4;\" x=\"155.886922\" xlink:href=\"#mb80cc9e2fa\" y=\"95.673159\"/>\n     <use style=\"fill:#1f77b4;stroke:#1f77b4;\" x=\"93.669427\" xlink:href=\"#mb80cc9e2fa\" y=\"55.613091\"/>\n     <use style=\"fill:#1f77b4;stroke:#1f77b4;\" x=\"136.236647\" xlink:href=\"#mb80cc9e2fa\" y=\"81.255458\"/>\n     <use style=\"fill:#1f77b4;stroke:#1f77b4;\" x=\"129.710054\" xlink:href=\"#mb80cc9e2fa\" y=\"74.811746\"/>\n     <use style=\"fill:#1f77b4;stroke:#1f77b4;\" x=\"152.544869\" xlink:href=\"#mb80cc9e2fa\" y=\"90.330363\"/>\n     <use style=\"fill:#1f77b4;stroke:#1f77b4;\" x=\"145.391206\" xlink:href=\"#mb80cc9e2fa\" y=\"77.348936\"/>\n     <use style=\"fill:#1f77b4;stroke:#1f77b4;\" x=\"129.656821\" xlink:href=\"#mb80cc9e2fa\" y=\"63.105726\"/>\n     <use style=\"fill:#1f77b4;stroke:#1f77b4;\" x=\"138.423925\" xlink:href=\"#mb80cc9e2fa\" y=\"90.035061\"/>\n     <use style=\"fill:#1f77b4;stroke:#1f77b4;\" x=\"114.686461\" xlink:href=\"#mb80cc9e2fa\" y=\"70.458543\"/>\n     <use style=\"fill:#1f77b4;stroke:#1f77b4;\" x=\"112.108779\" xlink:href=\"#mb80cc9e2fa\" y=\"66.283667\"/>\n     <use style=\"fill:#1f77b4;stroke:#1f77b4;\" x=\"130.756349\" xlink:href=\"#mb80cc9e2fa\" y=\"77.351488\"/>\n     <use style=\"fill:#1f77b4;stroke:#1f77b4;\" x=\"97.315989\" xlink:href=\"#mb80cc9e2fa\" y=\"57.597346\"/>\n     <use style=\"fill:#1f77b4;stroke:#1f77b4;\" x=\"124.885293\" xlink:href=\"#mb80cc9e2fa\" y=\"79.139896\"/>\n     <use style=\"fill:#1f77b4;stroke:#1f77b4;\" x=\"167.245663\" xlink:href=\"#mb80cc9e2fa\" y=\"98.290931\"/>\n     <use style=\"fill:#1f77b4;stroke:#1f77b4;\" x=\"143.05313\" xlink:href=\"#mb80cc9e2fa\" y=\"76.415176\"/>\n     <use style=\"fill:#1f77b4;stroke:#1f77b4;\" x=\"116.926358\" xlink:href=\"#mb80cc9e2fa\" y=\"76.656424\"/>\n     <use style=\"fill:#1f77b4;stroke:#1f77b4;\" x=\"149.731858\" xlink:href=\"#mb80cc9e2fa\" y=\"75.245595\"/>\n     <use style=\"fill:#1f77b4;stroke:#1f77b4;\" x=\"153.677522\" xlink:href=\"#mb80cc9e2fa\" y=\"80.585939\"/>\n     <use style=\"fill:#1f77b4;stroke:#1f77b4;\" x=\"142.320861\" xlink:href=\"#mb80cc9e2fa\" y=\"83.801317\"/>\n     <use style=\"fill:#1f77b4;stroke:#1f77b4;\" x=\"121.941338\" xlink:href=\"#mb80cc9e2fa\" y=\"80.230033\"/>\n     <use style=\"fill:#1f77b4;stroke:#1f77b4;\" x=\"146.867599\" xlink:href=\"#mb80cc9e2fa\" y=\"83.601781\"/>\n     <use style=\"fill:#1f77b4;stroke:#1f77b4;\" x=\"136.593298\" xlink:href=\"#mb80cc9e2fa\" y=\"74.289888\"/>\n     <use style=\"fill:#1f77b4;stroke:#1f77b4;\" x=\"131.018872\" xlink:href=\"#mb80cc9e2fa\" y=\"66.604014\"/>\n     <use style=\"fill:#1f77b4;stroke:#1f77b4;\" x=\"148.300909\" xlink:href=\"#mb80cc9e2fa\" y=\"94.760134\"/>\n     <use style=\"fill:#1f77b4;stroke:#1f77b4;\" x=\"128.619782\" xlink:href=\"#mb80cc9e2fa\" y=\"66.583868\"/>\n     <use style=\"fill:#1f77b4;stroke:#1f77b4;\" x=\"191.707145\" xlink:href=\"#mb80cc9e2fa\" y=\"104.39698\"/>\n     <use style=\"fill:#1f77b4;stroke:#1f77b4;\" x=\"99.264974\" xlink:href=\"#mb80cc9e2fa\" y=\"44.895362\"/>\n     <use style=\"fill:#1f77b4;stroke:#1f77b4;\" x=\"140.297417\" xlink:href=\"#mb80cc9e2fa\" y=\"64.728126\"/>\n     <use style=\"fill:#1f77b4;stroke:#1f77b4;\" x=\"161.175657\" xlink:href=\"#mb80cc9e2fa\" y=\"80.120157\"/>\n     <use style=\"fill:#1f77b4;stroke:#1f77b4;\" x=\"95.169206\" xlink:href=\"#mb80cc9e2fa\" y=\"50.960485\"/>\n     <use style=\"fill:#1f77b4;stroke:#1f77b4;\" x=\"142.575689\" xlink:href=\"#mb80cc9e2fa\" y=\"81.108779\"/>\n     <use style=\"fill:#1f77b4;stroke:#1f77b4;\" x=\"144.722762\" xlink:href=\"#mb80cc9e2fa\" y=\"63.840319\"/>\n     <use style=\"fill:#1f77b4;stroke:#1f77b4;\" x=\"93.64407\" xlink:href=\"#mb80cc9e2fa\" y=\"55.761243\"/>\n     <use style=\"fill:#1f77b4;stroke:#1f77b4;\" x=\"77.920127\" xlink:href=\"#mb80cc9e2fa\" y=\"32.735486\"/>\n     <use style=\"fill:#1f77b4;stroke:#1f77b4;\" x=\"189.194898\" xlink:href=\"#mb80cc9e2fa\" y=\"110.451661\"/>\n     <use style=\"fill:#1f77b4;stroke:#1f77b4;\" x=\"150.478473\" xlink:href=\"#mb80cc9e2fa\" y=\"97.116368\"/>\n     <use style=\"fill:#1f77b4;stroke:#1f77b4;\" x=\"88.815876\" xlink:href=\"#mb80cc9e2fa\" y=\"57.826239\"/>\n     <use style=\"fill:#1f77b4;stroke:#1f77b4;\" x=\"178.493421\" xlink:href=\"#mb80cc9e2fa\" y=\"111.350101\"/>\n     <use style=\"fill:#1f77b4;stroke:#1f77b4;\" x=\"138.099343\" xlink:href=\"#mb80cc9e2fa\" y=\"75.187568\"/>\n     <use style=\"fill:#1f77b4;stroke:#1f77b4;\" x=\"152.175463\" xlink:href=\"#mb80cc9e2fa\" y=\"80.478889\"/>\n     <use style=\"fill:#1f77b4;stroke:#1f77b4;\" x=\"128.162726\" xlink:href=\"#mb80cc9e2fa\" y=\"78.892532\"/>\n     <use style=\"fill:#1f77b4;stroke:#1f77b4;\" x=\"115.274143\" xlink:href=\"#mb80cc9e2fa\" y=\"58.482209\"/>\n     <use style=\"fill:#1f77b4;stroke:#1f77b4;\" x=\"161.130275\" xlink:href=\"#mb80cc9e2fa\" y=\"82.200381\"/>\n     <use style=\"fill:#1f77b4;stroke:#1f77b4;\" x=\"122.806987\" xlink:href=\"#mb80cc9e2fa\" y=\"73.660666\"/>\n     <use style=\"fill:#1f77b4;stroke:#1f77b4;\" x=\"129.976176\" xlink:href=\"#mb80cc9e2fa\" y=\"82.827511\"/>\n     <use style=\"fill:#1f77b4;stroke:#1f77b4;\" x=\"117.423416\" xlink:href=\"#mb80cc9e2fa\" y=\"64.009838\"/>\n     <use style=\"fill:#1f77b4;stroke:#1f77b4;\" x=\"120.086309\" xlink:href=\"#mb80cc9e2fa\" y=\"79.265052\"/>\n     <use style=\"fill:#1f77b4;stroke:#1f77b4;\" x=\"133.765852\" xlink:href=\"#mb80cc9e2fa\" y=\"80.810655\"/>\n     <use style=\"fill:#1f77b4;stroke:#1f77b4;\" x=\"138.513337\" xlink:href=\"#mb80cc9e2fa\" y=\"76.308784\"/>\n     <use style=\"fill:#1f77b4;stroke:#1f77b4;\" x=\"145.198473\" xlink:href=\"#mb80cc9e2fa\" y=\"73.02534\"/>\n     <use style=\"fill:#1f77b4;stroke:#1f77b4;\" x=\"123.025224\" xlink:href=\"#mb80cc9e2fa\" y=\"63.59696\"/>\n     <use style=\"fill:#1f77b4;stroke:#1f77b4;\" x=\"104.512249\" xlink:href=\"#mb80cc9e2fa\" y=\"54.201612\"/>\n     <use style=\"fill:#1f77b4;stroke:#1f77b4;\" x=\"105.283866\" xlink:href=\"#mb80cc9e2fa\" y=\"64.138421\"/>\n     <use style=\"fill:#1f77b4;stroke:#1f77b4;\" x=\"153.024285\" xlink:href=\"#mb80cc9e2fa\" y=\"96.208387\"/>\n     <use style=\"fill:#1f77b4;stroke:#1f77b4;\" x=\"129.216478\" xlink:href=\"#mb80cc9e2fa\" y=\"69.327275\"/>\n     <use style=\"fill:#1f77b4;stroke:#1f77b4;\" x=\"97.404733\" xlink:href=\"#mb80cc9e2fa\" y=\"47.332676\"/>\n     <use style=\"fill:#1f77b4;stroke:#1f77b4;\" x=\"112.776889\" xlink:href=\"#mb80cc9e2fa\" y=\"66.847911\"/>\n     <use style=\"fill:#1f77b4;stroke:#1f77b4;\" x=\"113.919538\" xlink:href=\"#mb80cc9e2fa\" y=\"56.127525\"/>\n     <use style=\"fill:#1f77b4;stroke:#1f77b4;\" x=\"116.151349\" xlink:href=\"#mb80cc9e2fa\" y=\"70.793623\"/>\n     <use style=\"fill:#1f77b4;stroke:#1f77b4;\" x=\"157.192665\" xlink:href=\"#mb80cc9e2fa\" y=\"81.98591\"/>\n     <use style=\"fill:#1f77b4;stroke:#1f77b4;\" x=\"135.734802\" xlink:href=\"#mb80cc9e2fa\" y=\"56.757135\"/>\n     <use style=\"fill:#1f77b4;stroke:#1f77b4;\" x=\"80.946765\" xlink:href=\"#mb80cc9e2fa\" y=\"51.740708\"/>\n     <use style=\"fill:#1f77b4;stroke:#1f77b4;\" x=\"159.926848\" xlink:href=\"#mb80cc9e2fa\" y=\"73.956385\"/>\n     <use style=\"fill:#1f77b4;stroke:#1f77b4;\" x=\"110.853944\" xlink:href=\"#mb80cc9e2fa\" y=\"78.446072\"/>\n     <use style=\"fill:#1f77b4;stroke:#1f77b4;\" x=\"147.292331\" xlink:href=\"#mb80cc9e2fa\" y=\"73.816705\"/>\n     <use style=\"fill:#1f77b4;stroke:#1f77b4;\" x=\"161.289228\" xlink:href=\"#mb80cc9e2fa\" y=\"97.581738\"/>\n     <use style=\"fill:#1f77b4;stroke:#1f77b4;\" x=\"132.019646\" xlink:href=\"#mb80cc9e2fa\" y=\"72.771709\"/>\n     <use style=\"fill:#1f77b4;stroke:#1f77b4;\" x=\"109.792853\" xlink:href=\"#mb80cc9e2fa\" y=\"70.194125\"/>\n     <use style=\"fill:#1f77b4;stroke:#1f77b4;\" x=\"118.035823\" xlink:href=\"#mb80cc9e2fa\" y=\"56.842139\"/>\n     <use style=\"fill:#1f77b4;stroke:#1f77b4;\" x=\"157.558492\" xlink:href=\"#mb80cc9e2fa\" y=\"84.183024\"/>\n     <use style=\"fill:#1f77b4;stroke:#1f77b4;\" x=\"130.967452\" xlink:href=\"#mb80cc9e2fa\" y=\"71.32551\"/>\n     <use style=\"fill:#1f77b4;stroke:#1f77b4;\" x=\"144.227198\" xlink:href=\"#mb80cc9e2fa\" y=\"77.01096\"/>\n     <use style=\"fill:#1f77b4;stroke:#1f77b4;\" x=\"73.981372\" xlink:href=\"#mb80cc9e2fa\" y=\"30.878348\"/>\n     <use style=\"fill:#1f77b4;stroke:#1f77b4;\" x=\"178.940093\" xlink:href=\"#mb80cc9e2fa\" y=\"89.440406\"/>\n     <use style=\"fill:#1f77b4;stroke:#1f77b4;\" x=\"131.307564\" xlink:href=\"#mb80cc9e2fa\" y=\"64.607934\"/>\n     <use style=\"fill:#1f77b4;stroke:#1f77b4;\" x=\"161.422771\" xlink:href=\"#mb80cc9e2fa\" y=\"96.455898\"/>\n     <use style=\"fill:#1f77b4;stroke:#1f77b4;\" x=\"142.67843\" xlink:href=\"#mb80cc9e2fa\" y=\"75.883738\"/>\n     <use style=\"fill:#1f77b4;stroke:#1f77b4;\" x=\"141.573247\" xlink:href=\"#mb80cc9e2fa\" y=\"75.725887\"/>\n     <use style=\"fill:#1f77b4;stroke:#1f77b4;\" x=\"108.124954\" xlink:href=\"#mb80cc9e2fa\" y=\"62.780325\"/>\n     <use style=\"fill:#1f77b4;stroke:#1f77b4;\" x=\"149.590442\" xlink:href=\"#mb80cc9e2fa\" y=\"95.102773\"/>\n     <use style=\"fill:#1f77b4;stroke:#1f77b4;\" x=\"162.94474\" xlink:href=\"#mb80cc9e2fa\" y=\"87.445959\"/>\n     <use style=\"fill:#1f77b4;stroke:#1f77b4;\" x=\"166.129428\" xlink:href=\"#mb80cc9e2fa\" y=\"87.4168\"/>\n     <use style=\"fill:#1f77b4;stroke:#1f77b4;\" x=\"141.865953\" xlink:href=\"#mb80cc9e2fa\" y=\"74.836314\"/>\n     <use style=\"fill:#1f77b4;stroke:#1f77b4;\" x=\"157.049859\" xlink:href=\"#mb80cc9e2fa\" y=\"96.345577\"/>\n     <use style=\"fill:#1f77b4;stroke:#1f77b4;\" x=\"109.03217\" xlink:href=\"#mb80cc9e2fa\" y=\"72.033896\"/>\n     <use style=\"fill:#1f77b4;stroke:#1f77b4;\" x=\"113.1484\" xlink:href=\"#mb80cc9e2fa\" y=\"68.694382\"/>\n     <use style=\"fill:#1f77b4;stroke:#1f77b4;\" x=\"142.457223\" xlink:href=\"#mb80cc9e2fa\" y=\"80.462192\"/>\n     <use style=\"fill:#1f77b4;stroke:#1f77b4;\" x=\"142.128158\" xlink:href=\"#mb80cc9e2fa\" y=\"94.038082\"/>\n     <use style=\"fill:#1f77b4;stroke:#1f77b4;\" x=\"156.43244\" xlink:href=\"#mb80cc9e2fa\" y=\"77.70287\"/>\n     <use style=\"fill:#1f77b4;stroke:#1f77b4;\" x=\"101.62846\" xlink:href=\"#mb80cc9e2fa\" y=\"58.096477\"/>\n     <use style=\"fill:#1f77b4;stroke:#1f77b4;\" x=\"132.582681\" xlink:href=\"#mb80cc9e2fa\" y=\"90.185106\"/>\n     <use style=\"fill:#1f77b4;stroke:#1f77b4;\" x=\"103.794287\" xlink:href=\"#mb80cc9e2fa\" y=\"51.408971\"/>\n     <use style=\"fill:#1f77b4;stroke:#1f77b4;\" x=\"124.15447\" xlink:href=\"#mb80cc9e2fa\" y=\"61.435623\"/>\n     <use style=\"fill:#1f77b4;stroke:#1f77b4;\" x=\"153.674235\" xlink:href=\"#mb80cc9e2fa\" y=\"84.000062\"/>\n     <use style=\"fill:#1f77b4;stroke:#1f77b4;\" x=\"115.885071\" xlink:href=\"#mb80cc9e2fa\" y=\"77.752304\"/>\n     <use style=\"fill:#1f77b4;stroke:#1f77b4;\" x=\"152.361045\" xlink:href=\"#mb80cc9e2fa\" y=\"84.28005\"/>\n     <use style=\"fill:#1f77b4;stroke:#1f77b4;\" x=\"106.521151\" xlink:href=\"#mb80cc9e2fa\" y=\"69.993885\"/>\n     <use style=\"fill:#1f77b4;stroke:#1f77b4;\" x=\"166.22596\" xlink:href=\"#mb80cc9e2fa\" y=\"91.697415\"/>\n     <use style=\"fill:#1f77b4;stroke:#1f77b4;\" x=\"153.598042\" xlink:href=\"#mb80cc9e2fa\" y=\"93.895476\"/>\n     <use style=\"fill:#1f77b4;stroke:#1f77b4;\" x=\"128.325462\" xlink:href=\"#mb80cc9e2fa\" y=\"74.840157\"/>\n     <use style=\"fill:#1f77b4;stroke:#1f77b4;\" x=\"157.943763\" xlink:href=\"#mb80cc9e2fa\" y=\"86.320156\"/>\n     <use style=\"fill:#1f77b4;stroke:#1f77b4;\" x=\"129.929673\" xlink:href=\"#mb80cc9e2fa\" y=\"57.424302\"/>\n     <use style=\"fill:#1f77b4;stroke:#1f77b4;\" x=\"201.070197\" xlink:href=\"#mb80cc9e2fa\" y=\"122.744651\"/>\n     <use style=\"fill:#1f77b4;stroke:#1f77b4;\" x=\"128.556764\" xlink:href=\"#mb80cc9e2fa\" y=\"62.562636\"/>\n     <use style=\"fill:#1f77b4;stroke:#1f77b4;\" x=\"124.248046\" xlink:href=\"#mb80cc9e2fa\" y=\"71.916136\"/>\n     <use style=\"fill:#1f77b4;stroke:#1f77b4;\" x=\"158.133661\" xlink:href=\"#mb80cc9e2fa\" y=\"101.514277\"/>\n     <use style=\"fill:#1f77b4;stroke:#1f77b4;\" x=\"98.603745\" xlink:href=\"#mb80cc9e2fa\" y=\"47.003521\"/>\n     <use style=\"fill:#1f77b4;stroke:#1f77b4;\" x=\"99.820039\" xlink:href=\"#mb80cc9e2fa\" y=\"59.073667\"/>\n     <use style=\"fill:#1f77b4;stroke:#1f77b4;\" x=\"135.838454\" xlink:href=\"#mb80cc9e2fa\" y=\"77.893134\"/>\n     <use style=\"fill:#1f77b4;stroke:#1f77b4;\" x=\"115.098939\" xlink:href=\"#mb80cc9e2fa\" y=\"61.473819\"/>\n     <use style=\"fill:#1f77b4;stroke:#1f77b4;\" x=\"103.854144\" xlink:href=\"#mb80cc9e2fa\" y=\"60.015002\"/>\n     <use style=\"fill:#1f77b4;stroke:#1f77b4;\" x=\"179.648565\" xlink:href=\"#mb80cc9e2fa\" y=\"103.068281\"/>\n     <use style=\"fill:#1f77b4;stroke:#1f77b4;\" x=\"198.330448\" xlink:href=\"#mb80cc9e2fa\" y=\"112.543113\"/>\n     <use style=\"fill:#1f77b4;stroke:#1f77b4;\" x=\"93.801805\" xlink:href=\"#mb80cc9e2fa\" y=\"42.087397\"/>\n     <use style=\"fill:#1f77b4;stroke:#1f77b4;\" x=\"155.303137\" xlink:href=\"#mb80cc9e2fa\" y=\"88.659602\"/>\n     <use style=\"fill:#1f77b4;stroke:#1f77b4;\" x=\"131.2803\" xlink:href=\"#mb80cc9e2fa\" y=\"74.65071\"/>\n     <use style=\"fill:#1f77b4;stroke:#1f77b4;\" x=\"104.476429\" xlink:href=\"#mb80cc9e2fa\" y=\"68.685661\"/>\n     <use style=\"fill:#1f77b4;stroke:#1f77b4;\" x=\"122.721514\" xlink:href=\"#mb80cc9e2fa\" y=\"70.515399\"/>\n     <use style=\"fill:#1f77b4;stroke:#1f77b4;\" x=\"130.19634\" xlink:href=\"#mb80cc9e2fa\" y=\"75.961888\"/>\n     <use style=\"fill:#1f77b4;stroke:#1f77b4;\" x=\"131.880257\" xlink:href=\"#mb80cc9e2fa\" y=\"69.977487\"/>\n     <use style=\"fill:#1f77b4;stroke:#1f77b4;\" x=\"91.364143\" xlink:href=\"#mb80cc9e2fa\" y=\"63.525991\"/>\n     <use style=\"fill:#1f77b4;stroke:#1f77b4;\" x=\"148.799032\" xlink:href=\"#mb80cc9e2fa\" y=\"80.637871\"/>\n     <use style=\"fill:#1f77b4;stroke:#1f77b4;\" x=\"136.672828\" xlink:href=\"#mb80cc9e2fa\" y=\"69.274887\"/>\n     <use style=\"fill:#1f77b4;stroke:#1f77b4;\" x=\"125.807294\" xlink:href=\"#mb80cc9e2fa\" y=\"58.128528\"/>\n     <use style=\"fill:#1f77b4;stroke:#1f77b4;\" x=\"131.23374\" xlink:href=\"#mb80cc9e2fa\" y=\"79.003505\"/>\n     <use style=\"fill:#1f77b4;stroke:#1f77b4;\" x=\"178.613856\" xlink:href=\"#mb80cc9e2fa\" y=\"109.659619\"/>\n     <use style=\"fill:#1f77b4;stroke:#1f77b4;\" x=\"114.274733\" xlink:href=\"#mb80cc9e2fa\" y=\"67.084539\"/>\n     <use style=\"fill:#1f77b4;stroke:#1f77b4;\" x=\"148.721295\" xlink:href=\"#mb80cc9e2fa\" y=\"83.898325\"/>\n     <use style=\"fill:#1f77b4;stroke:#1f77b4;\" x=\"149.468812\" xlink:href=\"#mb80cc9e2fa\" y=\"81.282715\"/>\n     <use style=\"fill:#1f77b4;stroke:#1f77b4;\" x=\"110.810912\" xlink:href=\"#mb80cc9e2fa\" y=\"46.911157\"/>\n     <use style=\"fill:#1f77b4;stroke:#1f77b4;\" x=\"71.071215\" xlink:href=\"#mb80cc9e2fa\" y=\"31.196407\"/>\n     <use style=\"fill:#1f77b4;stroke:#1f77b4;\" x=\"127.286675\" xlink:href=\"#mb80cc9e2fa\" y=\"60.944098\"/>\n     <use style=\"fill:#1f77b4;stroke:#1f77b4;\" x=\"157.974529\" xlink:href=\"#mb80cc9e2fa\" y=\"80.19711\"/>\n     <use style=\"fill:#1f77b4;stroke:#1f77b4;\" x=\"128.268928\" xlink:href=\"#mb80cc9e2fa\" y=\"62.171231\"/>\n     <use style=\"fill:#1f77b4;stroke:#1f77b4;\" x=\"154.37247\" xlink:href=\"#mb80cc9e2fa\" y=\"80.182237\"/>\n     <use style=\"fill:#1f77b4;stroke:#1f77b4;\" x=\"135.323541\" xlink:href=\"#mb80cc9e2fa\" y=\"75.445015\"/>\n     <use style=\"fill:#1f77b4;stroke:#1f77b4;\" x=\"93.177775\" xlink:href=\"#mb80cc9e2fa\" y=\"61.854292\"/>\n     <use style=\"fill:#1f77b4;stroke:#1f77b4;\" x=\"78.99142\" xlink:href=\"#mb80cc9e2fa\" y=\"41.570884\"/>\n     <use style=\"fill:#1f77b4;stroke:#1f77b4;\" x=\"138.66189\" xlink:href=\"#mb80cc9e2fa\" y=\"66.503013\"/>\n     <use style=\"fill:#1f77b4;stroke:#1f77b4;\" x=\"141.015435\" xlink:href=\"#mb80cc9e2fa\" y=\"76.205012\"/>\n     <use style=\"fill:#1f77b4;stroke:#1f77b4;\" x=\"153.442223\" xlink:href=\"#mb80cc9e2fa\" y=\"92.84193\"/>\n     <use style=\"fill:#1f77b4;stroke:#1f77b4;\" x=\"162.554079\" xlink:href=\"#mb80cc9e2fa\" y=\"85.338253\"/>\n     <use style=\"fill:#1f77b4;stroke:#1f77b4;\" x=\"171.290053\" xlink:href=\"#mb80cc9e2fa\" y=\"98.222649\"/>\n     <use style=\"fill:#1f77b4;stroke:#1f77b4;\" x=\"156.494597\" xlink:href=\"#mb80cc9e2fa\" y=\"94.495766\"/>\n     <use style=\"fill:#1f77b4;stroke:#1f77b4;\" x=\"158.722048\" xlink:href=\"#mb80cc9e2fa\" y=\"94.39459\"/>\n     <use style=\"fill:#1f77b4;stroke:#1f77b4;\" x=\"157.145427\" xlink:href=\"#mb80cc9e2fa\" y=\"111.399076\"/>\n     <use style=\"fill:#1f77b4;stroke:#1f77b4;\" x=\"159.88636\" xlink:href=\"#mb80cc9e2fa\" y=\"94.49933\"/>\n     <use style=\"fill:#1f77b4;stroke:#1f77b4;\" x=\"155.152124\" xlink:href=\"#mb80cc9e2fa\" y=\"106.853009\"/>\n     <use style=\"fill:#1f77b4;stroke:#1f77b4;\" x=\"121.197748\" xlink:href=\"#mb80cc9e2fa\" y=\"76.819544\"/>\n     <use style=\"fill:#1f77b4;stroke:#1f77b4;\" x=\"134.612012\" xlink:href=\"#mb80cc9e2fa\" y=\"75.676881\"/>\n     <use style=\"fill:#1f77b4;stroke:#1f77b4;\" x=\"182.839216\" xlink:href=\"#mb80cc9e2fa\" y=\"100.919471\"/>\n     <use style=\"fill:#1f77b4;stroke:#1f77b4;\" x=\"86.476857\" xlink:href=\"#mb80cc9e2fa\" y=\"38.194338\"/>\n     <use style=\"fill:#1f77b4;stroke:#1f77b4;\" x=\"113.634261\" xlink:href=\"#mb80cc9e2fa\" y=\"61.651647\"/>\n     <use style=\"fill:#1f77b4;stroke:#1f77b4;\" x=\"116.543328\" xlink:href=\"#mb80cc9e2fa\" y=\"57.423353\"/>\n     <use style=\"fill:#1f77b4;stroke:#1f77b4;\" x=\"146.859067\" xlink:href=\"#mb80cc9e2fa\" y=\"78.376243\"/>\n     <use style=\"fill:#1f77b4;stroke:#1f77b4;\" x=\"138.052161\" xlink:href=\"#mb80cc9e2fa\" y=\"82.599872\"/>\n     <use style=\"fill:#1f77b4;stroke:#1f77b4;\" x=\"118.895187\" xlink:href=\"#mb80cc9e2fa\" y=\"53.518035\"/>\n     <use style=\"fill:#1f77b4;stroke:#1f77b4;\" x=\"95.534623\" xlink:href=\"#mb80cc9e2fa\" y=\"64.784105\"/>\n     <use style=\"fill:#1f77b4;stroke:#1f77b4;\" x=\"156.075758\" xlink:href=\"#mb80cc9e2fa\" y=\"85.714412\"/>\n     <use style=\"fill:#1f77b4;stroke:#1f77b4;\" x=\"123.960326\" xlink:href=\"#mb80cc9e2fa\" y=\"63.775902\"/>\n     <use style=\"fill:#1f77b4;stroke:#1f77b4;\" x=\"125.028076\" xlink:href=\"#mb80cc9e2fa\" y=\"80.427542\"/>\n     <use style=\"fill:#1f77b4;stroke:#1f77b4;\" x=\"114.293694\" xlink:href=\"#mb80cc9e2fa\" y=\"72.725046\"/>\n     <use style=\"fill:#1f77b4;stroke:#1f77b4;\" x=\"133.035919\" xlink:href=\"#mb80cc9e2fa\" y=\"96.414957\"/>\n     <use style=\"fill:#1f77b4;stroke:#1f77b4;\" x=\"108.095601\" xlink:href=\"#mb80cc9e2fa\" y=\"54.692232\"/>\n     <use style=\"fill:#1f77b4;stroke:#1f77b4;\" x=\"179.790632\" xlink:href=\"#mb80cc9e2fa\" y=\"103.496208\"/>\n     <use style=\"fill:#1f77b4;stroke:#1f77b4;\" x=\"162.208484\" xlink:href=\"#mb80cc9e2fa\" y=\"93.356718\"/>\n     <use style=\"fill:#1f77b4;stroke:#1f77b4;\" x=\"125.946605\" xlink:href=\"#mb80cc9e2fa\" y=\"82.765175\"/>\n     <use style=\"fill:#1f77b4;stroke:#1f77b4;\" x=\"138.567835\" xlink:href=\"#mb80cc9e2fa\" y=\"62.171213\"/>\n     <use style=\"fill:#1f77b4;stroke:#1f77b4;\" x=\"134.932455\" xlink:href=\"#mb80cc9e2fa\" y=\"74.193194\"/>\n     <use style=\"fill:#1f77b4;stroke:#1f77b4;\" x=\"122.053415\" xlink:href=\"#mb80cc9e2fa\" y=\"72.660287\"/>\n     <use style=\"fill:#1f77b4;stroke:#1f77b4;\" x=\"121.919112\" xlink:href=\"#mb80cc9e2fa\" y=\"55.017124\"/>\n     <use style=\"fill:#1f77b4;stroke:#1f77b4;\" x=\"97.172734\" xlink:href=\"#mb80cc9e2fa\" y=\"67.836294\"/>\n     <use style=\"fill:#1f77b4;stroke:#1f77b4;\" x=\"125.054894\" xlink:href=\"#mb80cc9e2fa\" y=\"72.563356\"/>\n     <use style=\"fill:#1f77b4;stroke:#1f77b4;\" x=\"177.058586\" xlink:href=\"#mb80cc9e2fa\" y=\"111.139767\"/>\n     <use style=\"fill:#1f77b4;stroke:#1f77b4;\" x=\"150.704236\" xlink:href=\"#mb80cc9e2fa\" y=\"87.409233\"/>\n     <use style=\"fill:#1f77b4;stroke:#1f77b4;\" x=\"143.041177\" xlink:href=\"#mb80cc9e2fa\" y=\"89.693243\"/>\n     <use style=\"fill:#1f77b4;stroke:#1f77b4;\" x=\"107.306734\" xlink:href=\"#mb80cc9e2fa\" y=\"63.166335\"/>\n     <use style=\"fill:#1f77b4;stroke:#1f77b4;\" x=\"140.109245\" xlink:href=\"#mb80cc9e2fa\" y=\"82.484925\"/>\n     <use style=\"fill:#1f77b4;stroke:#1f77b4;\" x=\"117.325975\" xlink:href=\"#mb80cc9e2fa\" y=\"76.144029\"/>\n     <use style=\"fill:#1f77b4;stroke:#1f77b4;\" x=\"146.90001\" xlink:href=\"#mb80cc9e2fa\" y=\"81.187689\"/>\n     <use style=\"fill:#1f77b4;stroke:#1f77b4;\" x=\"133.486936\" xlink:href=\"#mb80cc9e2fa\" y=\"97.035311\"/>\n     <use style=\"fill:#1f77b4;stroke:#1f77b4;\" x=\"137.978305\" xlink:href=\"#mb80cc9e2fa\" y=\"72.886935\"/>\n     <use style=\"fill:#1f77b4;stroke:#1f77b4;\" x=\"127.648701\" xlink:href=\"#mb80cc9e2fa\" y=\"69.623776\"/>\n     <use style=\"fill:#1f77b4;stroke:#1f77b4;\" x=\"84.341824\" xlink:href=\"#mb80cc9e2fa\" y=\"37.226294\"/>\n     <use style=\"fill:#1f77b4;stroke:#1f77b4;\" x=\"177.364458\" xlink:href=\"#mb80cc9e2fa\" y=\"116.132514\"/>\n     <use style=\"fill:#1f77b4;stroke:#1f77b4;\" x=\"155.464653\" xlink:href=\"#mb80cc9e2fa\" y=\"80.400316\"/>\n     <use style=\"fill:#1f77b4;stroke:#1f77b4;\" x=\"133.840974\" xlink:href=\"#mb80cc9e2fa\" y=\"87.121704\"/>\n     <use style=\"fill:#1f77b4;stroke:#1f77b4;\" x=\"143.476526\" xlink:href=\"#mb80cc9e2fa\" y=\"73.525084\"/>\n     <use style=\"fill:#1f77b4;stroke:#1f77b4;\" x=\"178.889439\" xlink:href=\"#mb80cc9e2fa\" y=\"96.59433\"/>\n     <use style=\"fill:#1f77b4;stroke:#1f77b4;\" x=\"122.30923\" xlink:href=\"#mb80cc9e2fa\" y=\"61.299733\"/>\n     <use style=\"fill:#1f77b4;stroke:#1f77b4;\" x=\"121.564732\" xlink:href=\"#mb80cc9e2fa\" y=\"68.520333\"/>\n     <use style=\"fill:#1f77b4;stroke:#1f77b4;\" x=\"169.017422\" xlink:href=\"#mb80cc9e2fa\" y=\"94.697286\"/>\n     <use style=\"fill:#1f77b4;stroke:#1f77b4;\" x=\"175.303478\" xlink:href=\"#mb80cc9e2fa\" y=\"105.011898\"/>\n     <use style=\"fill:#1f77b4;stroke:#1f77b4;\" x=\"147.340431\" xlink:href=\"#mb80cc9e2fa\" y=\"89.129075\"/>\n     <use style=\"fill:#1f77b4;stroke:#1f77b4;\" x=\"115.772547\" xlink:href=\"#mb80cc9e2fa\" y=\"68.543898\"/>\n     <use style=\"fill:#1f77b4;stroke:#1f77b4;\" x=\"125.228903\" xlink:href=\"#mb80cc9e2fa\" y=\"74.412581\"/>\n     <use style=\"fill:#1f77b4;stroke:#1f77b4;\" x=\"134.255499\" xlink:href=\"#mb80cc9e2fa\" y=\"79.880826\"/>\n     <use style=\"fill:#1f77b4;stroke:#1f77b4;\" x=\"99.12234\" xlink:href=\"#mb80cc9e2fa\" y=\"48.401864\"/>\n     <use style=\"fill:#1f77b4;stroke:#1f77b4;\" x=\"141.786497\" xlink:href=\"#mb80cc9e2fa\" y=\"74.089529\"/>\n     <use style=\"fill:#1f77b4;stroke:#1f77b4;\" x=\"126.94373\" xlink:href=\"#mb80cc9e2fa\" y=\"59.983771\"/>\n     <use style=\"fill:#1f77b4;stroke:#1f77b4;\" x=\"118.166597\" xlink:href=\"#mb80cc9e2fa\" y=\"70.052776\"/>\n     <use style=\"fill:#1f77b4;stroke:#1f77b4;\" x=\"137.110853\" xlink:href=\"#mb80cc9e2fa\" y=\"86.382408\"/>\n     <use style=\"fill:#1f77b4;stroke:#1f77b4;\" x=\"164.346139\" xlink:href=\"#mb80cc9e2fa\" y=\"96.958892\"/>\n     <use style=\"fill:#1f77b4;stroke:#1f77b4;\" x=\"89.801891\" xlink:href=\"#mb80cc9e2fa\" y=\"59.165251\"/>\n     <use style=\"fill:#1f77b4;stroke:#1f77b4;\" x=\"126.154088\" xlink:href=\"#mb80cc9e2fa\" y=\"63.677473\"/>\n     <use style=\"fill:#1f77b4;stroke:#1f77b4;\" x=\"142.039223\" xlink:href=\"#mb80cc9e2fa\" y=\"86.202492\"/>\n     <use style=\"fill:#1f77b4;stroke:#1f77b4;\" x=\"103.131788\" xlink:href=\"#mb80cc9e2fa\" y=\"65.795832\"/>\n     <use style=\"fill:#1f77b4;stroke:#1f77b4;\" x=\"164.787091\" xlink:href=\"#mb80cc9e2fa\" y=\"93.247689\"/>\n     <use style=\"fill:#1f77b4;stroke:#1f77b4;\" x=\"99.141815\" xlink:href=\"#mb80cc9e2fa\" y=\"57.137305\"/>\n     <use style=\"fill:#1f77b4;stroke:#1f77b4;\" x=\"141.40807\" xlink:href=\"#mb80cc9e2fa\" y=\"74.7343\"/>\n     <use style=\"fill:#1f77b4;stroke:#1f77b4;\" x=\"132.808645\" xlink:href=\"#mb80cc9e2fa\" y=\"87.814173\"/>\n     <use style=\"fill:#1f77b4;stroke:#1f77b4;\" x=\"174.860591\" xlink:href=\"#mb80cc9e2fa\" y=\"97.963046\"/>\n     <use style=\"fill:#1f77b4;stroke:#1f77b4;\" x=\"144.379024\" xlink:href=\"#mb80cc9e2fa\" y=\"86.009099\"/>\n     <use style=\"fill:#1f77b4;stroke:#1f77b4;\" x=\"148.837301\" xlink:href=\"#mb80cc9e2fa\" y=\"86.420777\"/>\n     <use style=\"fill:#1f77b4;stroke:#1f77b4;\" x=\"112.634905\" xlink:href=\"#mb80cc9e2fa\" y=\"68.9968\"/>\n     <use style=\"fill:#1f77b4;stroke:#1f77b4;\" x=\"179.495019\" xlink:href=\"#mb80cc9e2fa\" y=\"92.2695\"/>\n     <use style=\"fill:#1f77b4;stroke:#1f77b4;\" x=\"133.435348\" xlink:href=\"#mb80cc9e2fa\" y=\"72.427515\"/>\n     <use style=\"fill:#1f77b4;stroke:#1f77b4;\" x=\"151.17085\" xlink:href=\"#mb80cc9e2fa\" y=\"83.878214\"/>\n     <use style=\"fill:#1f77b4;stroke:#1f77b4;\" x=\"114.412735\" xlink:href=\"#mb80cc9e2fa\" y=\"52.294175\"/>\n     <use style=\"fill:#1f77b4;stroke:#1f77b4;\" x=\"144.060987\" xlink:href=\"#mb80cc9e2fa\" y=\"74.609194\"/>\n     <use style=\"fill:#1f77b4;stroke:#1f77b4;\" x=\"88.127973\" xlink:href=\"#mb80cc9e2fa\" y=\"49.535178\"/>\n     <use style=\"fill:#1f77b4;stroke:#1f77b4;\" x=\"147.726549\" xlink:href=\"#mb80cc9e2fa\" y=\"91.839071\"/>\n     <use style=\"fill:#1f77b4;stroke:#1f77b4;\" x=\"165.20163\" xlink:href=\"#mb80cc9e2fa\" y=\"84.27026\"/>\n     <use style=\"fill:#1f77b4;stroke:#1f77b4;\" x=\"131.377259\" xlink:href=\"#mb80cc9e2fa\" y=\"83.536565\"/>\n     <use style=\"fill:#1f77b4;stroke:#1f77b4;\" x=\"121.706038\" xlink:href=\"#mb80cc9e2fa\" y=\"63.321371\"/>\n     <use style=\"fill:#1f77b4;stroke:#1f77b4;\" x=\"134.654513\" xlink:href=\"#mb80cc9e2fa\" y=\"75.690799\"/>\n     <use style=\"fill:#1f77b4;stroke:#1f77b4;\" x=\"165.725306\" xlink:href=\"#mb80cc9e2fa\" y=\"105.752365\"/>\n     <use style=\"fill:#1f77b4;stroke:#1f77b4;\" x=\"119.619305\" xlink:href=\"#mb80cc9e2fa\" y=\"79.574201\"/>\n     <use style=\"fill:#1f77b4;stroke:#1f77b4;\" x=\"101.448826\" xlink:href=\"#mb80cc9e2fa\" y=\"63.641951\"/>\n     <use style=\"fill:#1f77b4;stroke:#1f77b4;\" x=\"122.061716\" xlink:href=\"#mb80cc9e2fa\" y=\"61.864773\"/>\n     <use style=\"fill:#1f77b4;stroke:#1f77b4;\" x=\"144.968499\" xlink:href=\"#mb80cc9e2fa\" y=\"91.1018\"/>\n     <use style=\"fill:#1f77b4;stroke:#1f77b4;\" x=\"101.656386\" xlink:href=\"#mb80cc9e2fa\" y=\"42.453888\"/>\n     <use style=\"fill:#1f77b4;stroke:#1f77b4;\" x=\"144.332795\" xlink:href=\"#mb80cc9e2fa\" y=\"92.750435\"/>\n     <use style=\"fill:#1f77b4;stroke:#1f77b4;\" x=\"140.883721\" xlink:href=\"#mb80cc9e2fa\" y=\"85.652937\"/>\n     <use style=\"fill:#1f77b4;stroke:#1f77b4;\" x=\"170.549583\" xlink:href=\"#mb80cc9e2fa\" y=\"90.347848\"/>\n     <use style=\"fill:#1f77b4;stroke:#1f77b4;\" x=\"131.268152\" xlink:href=\"#mb80cc9e2fa\" y=\"61.256984\"/>\n     <use style=\"fill:#1f77b4;stroke:#1f77b4;\" x=\"168.273333\" xlink:href=\"#mb80cc9e2fa\" y=\"81.880783\"/>\n     <use style=\"fill:#1f77b4;stroke:#1f77b4;\" x=\"82.994161\" xlink:href=\"#mb80cc9e2fa\" y=\"46.283968\"/>\n     <use style=\"fill:#1f77b4;stroke:#1f77b4;\" x=\"154.681261\" xlink:href=\"#mb80cc9e2fa\" y=\"82.422507\"/>\n     <use style=\"fill:#1f77b4;stroke:#1f77b4;\" x=\"143.726346\" xlink:href=\"#mb80cc9e2fa\" y=\"75.486845\"/>\n     <use style=\"fill:#1f77b4;stroke:#1f77b4;\" x=\"123.836976\" xlink:href=\"#mb80cc9e2fa\" y=\"83.252933\"/>\n     <use style=\"fill:#1f77b4;stroke:#1f77b4;\" x=\"110.905655\" xlink:href=\"#mb80cc9e2fa\" y=\"60.730919\"/>\n     <use style=\"fill:#1f77b4;stroke:#1f77b4;\" x=\"97.561708\" xlink:href=\"#mb80cc9e2fa\" y=\"60.266027\"/>\n     <use style=\"fill:#1f77b4;stroke:#1f77b4;\" x=\"150.093916\" xlink:href=\"#mb80cc9e2fa\" y=\"79.709765\"/>\n     <use style=\"fill:#1f77b4;stroke:#1f77b4;\" x=\"124.637582\" xlink:href=\"#mb80cc9e2fa\" y=\"73.869241\"/>\n     <use style=\"fill:#1f77b4;stroke:#1f77b4;\" x=\"157.76702\" xlink:href=\"#mb80cc9e2fa\" y=\"78.549943\"/>\n     <use style=\"fill:#1f77b4;stroke:#1f77b4;\" x=\"136.410241\" xlink:href=\"#mb80cc9e2fa\" y=\"78.167654\"/>\n     <use style=\"fill:#1f77b4;stroke:#1f77b4;\" x=\"138.031119\" xlink:href=\"#mb80cc9e2fa\" y=\"71.831275\"/>\n     <use style=\"fill:#1f77b4;stroke:#1f77b4;\" x=\"173.520782\" xlink:href=\"#mb80cc9e2fa\" y=\"100.429573\"/>\n     <use style=\"fill:#1f77b4;stroke:#1f77b4;\" x=\"139.311842\" xlink:href=\"#mb80cc9e2fa\" y=\"83.660283\"/>\n     <use style=\"fill:#1f77b4;stroke:#1f77b4;\" x=\"125.947715\" xlink:href=\"#mb80cc9e2fa\" y=\"76.747455\"/>\n     <use style=\"fill:#1f77b4;stroke:#1f77b4;\" x=\"168.369698\" xlink:href=\"#mb80cc9e2fa\" y=\"91.56056\"/>\n     <use style=\"fill:#1f77b4;stroke:#1f77b4;\" x=\"134.999682\" xlink:href=\"#mb80cc9e2fa\" y=\"79.691274\"/>\n     <use style=\"fill:#1f77b4;stroke:#1f77b4;\" x=\"159.274068\" xlink:href=\"#mb80cc9e2fa\" y=\"94.159051\"/>\n     <use style=\"fill:#1f77b4;stroke:#1f77b4;\" x=\"124.002263\" xlink:href=\"#mb80cc9e2fa\" y=\"67.039677\"/>\n     <use style=\"fill:#1f77b4;stroke:#1f77b4;\" x=\"106.274427\" xlink:href=\"#mb80cc9e2fa\" y=\"53.453994\"/>\n     <use style=\"fill:#1f77b4;stroke:#1f77b4;\" x=\"99.095605\" xlink:href=\"#mb80cc9e2fa\" y=\"48.65073\"/>\n     <use style=\"fill:#1f77b4;stroke:#1f77b4;\" x=\"191.538685\" xlink:href=\"#mb80cc9e2fa\" y=\"112.670852\"/>\n     <use style=\"fill:#1f77b4;stroke:#1f77b4;\" x=\"158.309129\" xlink:href=\"#mb80cc9e2fa\" y=\"97.526623\"/>\n     <use style=\"fill:#1f77b4;stroke:#1f77b4;\" x=\"71.670799\" xlink:href=\"#mb80cc9e2fa\" y=\"40.510367\"/>\n     <use style=\"fill:#1f77b4;stroke:#1f77b4;\" x=\"86.598081\" xlink:href=\"#mb80cc9e2fa\" y=\"44.331132\"/>\n     <use style=\"fill:#1f77b4;stroke:#1f77b4;\" x=\"165.315835\" xlink:href=\"#mb80cc9e2fa\" y=\"84.566473\"/>\n     <use style=\"fill:#1f77b4;stroke:#1f77b4;\" x=\"146.182649\" xlink:href=\"#mb80cc9e2fa\" y=\"85.140697\"/>\n     <use style=\"fill:#1f77b4;stroke:#1f77b4;\" x=\"100.154026\" xlink:href=\"#mb80cc9e2fa\" y=\"61.27855\"/>\n     <use style=\"fill:#1f77b4;stroke:#1f77b4;\" x=\"171.771796\" xlink:href=\"#mb80cc9e2fa\" y=\"100.262151\"/>\n     <use style=\"fill:#1f77b4;stroke:#1f77b4;\" x=\"148.295665\" xlink:href=\"#mb80cc9e2fa\" y=\"78.497513\"/>\n     <use style=\"fill:#1f77b4;stroke:#1f77b4;\" x=\"141.949313\" xlink:href=\"#mb80cc9e2fa\" y=\"80.304223\"/>\n     <use style=\"fill:#1f77b4;stroke:#1f77b4;\" x=\"164.219447\" xlink:href=\"#mb80cc9e2fa\" y=\"89.542451\"/>\n     <use style=\"fill:#1f77b4;stroke:#1f77b4;\" x=\"167.741592\" xlink:href=\"#mb80cc9e2fa\" y=\"98.06659\"/>\n     <use style=\"fill:#1f77b4;stroke:#1f77b4;\" x=\"117.677143\" xlink:href=\"#mb80cc9e2fa\" y=\"52.404678\"/>\n     <use style=\"fill:#1f77b4;stroke:#1f77b4;\" x=\"169.44853\" xlink:href=\"#mb80cc9e2fa\" y=\"120.41551\"/>\n     <use style=\"fill:#1f77b4;stroke:#1f77b4;\" x=\"164.977161\" xlink:href=\"#mb80cc9e2fa\" y=\"101.256755\"/>\n     <use style=\"fill:#1f77b4;stroke:#1f77b4;\" x=\"117.48671\" xlink:href=\"#mb80cc9e2fa\" y=\"68.14533\"/>\n     <use style=\"fill:#1f77b4;stroke:#1f77b4;\" x=\"111.345816\" xlink:href=\"#mb80cc9e2fa\" y=\"61.048636\"/>\n     <use style=\"fill:#1f77b4;stroke:#1f77b4;\" x=\"145.050298\" xlink:href=\"#mb80cc9e2fa\" y=\"80.195461\"/>\n     <use style=\"fill:#1f77b4;stroke:#1f77b4;\" x=\"108.55732\" xlink:href=\"#mb80cc9e2fa\" y=\"60.022048\"/>\n     <use style=\"fill:#1f77b4;stroke:#1f77b4;\" x=\"92.296744\" xlink:href=\"#mb80cc9e2fa\" y=\"49.25729\"/>\n     <use style=\"fill:#1f77b4;stroke:#1f77b4;\" x=\"151.850492\" xlink:href=\"#mb80cc9e2fa\" y=\"100.8914\"/>\n     <use style=\"fill:#1f77b4;stroke:#1f77b4;\" x=\"132.470281\" xlink:href=\"#mb80cc9e2fa\" y=\"72.854146\"/>\n     <use style=\"fill:#1f77b4;stroke:#1f77b4;\" x=\"131.830831\" xlink:href=\"#mb80cc9e2fa\" y=\"64.920515\"/>\n     <use style=\"fill:#1f77b4;stroke:#1f77b4;\" x=\"135.761448\" xlink:href=\"#mb80cc9e2fa\" y=\"88.331975\"/>\n     <use style=\"fill:#1f77b4;stroke:#1f77b4;\" x=\"108.702176\" xlink:href=\"#mb80cc9e2fa\" y=\"42.018843\"/>\n     <use style=\"fill:#1f77b4;stroke:#1f77b4;\" x=\"136.11979\" xlink:href=\"#mb80cc9e2fa\" y=\"72.77525\"/>\n     <use style=\"fill:#1f77b4;stroke:#1f77b4;\" x=\"166.566109\" xlink:href=\"#mb80cc9e2fa\" y=\"91.629524\"/>\n     <use style=\"fill:#1f77b4;stroke:#1f77b4;\" x=\"141.606512\" xlink:href=\"#mb80cc9e2fa\" y=\"95.862882\"/>\n     <use style=\"fill:#1f77b4;stroke:#1f77b4;\" x=\"106.510177\" xlink:href=\"#mb80cc9e2fa\" y=\"63.411933\"/>\n     <use style=\"fill:#1f77b4;stroke:#1f77b4;\" x=\"166.195712\" xlink:href=\"#mb80cc9e2fa\" y=\"96.320835\"/>\n     <use style=\"fill:#1f77b4;stroke:#1f77b4;\" x=\"151.880567\" xlink:href=\"#mb80cc9e2fa\" y=\"83.551341\"/>\n     <use style=\"fill:#1f77b4;stroke:#1f77b4;\" x=\"100.646517\" xlink:href=\"#mb80cc9e2fa\" y=\"65.039386\"/>\n     <use style=\"fill:#1f77b4;stroke:#1f77b4;\" x=\"132.489498\" xlink:href=\"#mb80cc9e2fa\" y=\"75.211889\"/>\n     <use style=\"fill:#1f77b4;stroke:#1f77b4;\" x=\"131.965557\" xlink:href=\"#mb80cc9e2fa\" y=\"72.636726\"/>\n     <use style=\"fill:#1f77b4;stroke:#1f77b4;\" x=\"145.396656\" xlink:href=\"#mb80cc9e2fa\" y=\"105.179934\"/>\n     <use style=\"fill:#1f77b4;stroke:#1f77b4;\" x=\"120.250017\" xlink:href=\"#mb80cc9e2fa\" y=\"78.733245\"/>\n     <use style=\"fill:#1f77b4;stroke:#1f77b4;\" x=\"174.151719\" xlink:href=\"#mb80cc9e2fa\" y=\"107.22804\"/>\n     <use style=\"fill:#1f77b4;stroke:#1f77b4;\" x=\"131.13841\" xlink:href=\"#mb80cc9e2fa\" y=\"78.517888\"/>\n     <use style=\"fill:#1f77b4;stroke:#1f77b4;\" x=\"120.0172\" xlink:href=\"#mb80cc9e2fa\" y=\"71.436437\"/>\n     <use style=\"fill:#1f77b4;stroke:#1f77b4;\" x=\"144.740684\" xlink:href=\"#mb80cc9e2fa\" y=\"87.114695\"/>\n     <use style=\"fill:#1f77b4;stroke:#1f77b4;\" x=\"87.080883\" xlink:href=\"#mb80cc9e2fa\" y=\"57.407491\"/>\n     <use style=\"fill:#1f77b4;stroke:#1f77b4;\" x=\"103.172396\" xlink:href=\"#mb80cc9e2fa\" y=\"49.728601\"/>\n     <use style=\"fill:#1f77b4;stroke:#1f77b4;\" x=\"88.672665\" xlink:href=\"#mb80cc9e2fa\" y=\"49.863119\"/>\n     <use style=\"fill:#1f77b4;stroke:#1f77b4;\" x=\"142.840927\" xlink:href=\"#mb80cc9e2fa\" y=\"76.415655\"/>\n     <use style=\"fill:#1f77b4;stroke:#1f77b4;\" x=\"139.458002\" xlink:href=\"#mb80cc9e2fa\" y=\"79.868657\"/>\n     <use style=\"fill:#1f77b4;stroke:#1f77b4;\" x=\"132.043797\" xlink:href=\"#mb80cc9e2fa\" y=\"76.353633\"/>\n     <use style=\"fill:#1f77b4;stroke:#1f77b4;\" x=\"110.813876\" xlink:href=\"#mb80cc9e2fa\" y=\"75.228769\"/>\n     <use style=\"fill:#1f77b4;stroke:#1f77b4;\" x=\"133.703969\" xlink:href=\"#mb80cc9e2fa\" y=\"75.592998\"/>\n     <use style=\"fill:#1f77b4;stroke:#1f77b4;\" x=\"146.451597\" xlink:href=\"#mb80cc9e2fa\" y=\"94.845323\"/>\n     <use style=\"fill:#1f77b4;stroke:#1f77b4;\" x=\"81.531839\" xlink:href=\"#mb80cc9e2fa\" y=\"53.134616\"/>\n     <use style=\"fill:#1f77b4;stroke:#1f77b4;\" x=\"120.643693\" xlink:href=\"#mb80cc9e2fa\" y=\"74.918961\"/>\n     <use style=\"fill:#1f77b4;stroke:#1f77b4;\" x=\"154.106727\" xlink:href=\"#mb80cc9e2fa\" y=\"88.966276\"/>\n     <use style=\"fill:#1f77b4;stroke:#1f77b4;\" x=\"164.329699\" xlink:href=\"#mb80cc9e2fa\" y=\"100.821678\"/>\n     <use style=\"fill:#1f77b4;stroke:#1f77b4;\" x=\"125.823294\" xlink:href=\"#mb80cc9e2fa\" y=\"69.098394\"/>\n     <use style=\"fill:#1f77b4;stroke:#1f77b4;\" x=\"137.953527\" xlink:href=\"#mb80cc9e2fa\" y=\"65.395536\"/>\n     <use style=\"fill:#1f77b4;stroke:#1f77b4;\" x=\"133.389358\" xlink:href=\"#mb80cc9e2fa\" y=\"69.182614\"/>\n     <use style=\"fill:#1f77b4;stroke:#1f77b4;\" x=\"130.876563\" xlink:href=\"#mb80cc9e2fa\" y=\"77.34973\"/>\n     <use style=\"fill:#1f77b4;stroke:#1f77b4;\" x=\"129.523939\" xlink:href=\"#mb80cc9e2fa\" y=\"84.344858\"/>\n     <use style=\"fill:#1f77b4;stroke:#1f77b4;\" x=\"132.525565\" xlink:href=\"#mb80cc9e2fa\" y=\"72.629726\"/>\n     <use style=\"fill:#1f77b4;stroke:#1f77b4;\" x=\"114.675017\" xlink:href=\"#mb80cc9e2fa\" y=\"68.052662\"/>\n     <use style=\"fill:#1f77b4;stroke:#1f77b4;\" x=\"146.913644\" xlink:href=\"#mb80cc9e2fa\" y=\"84.472547\"/>\n     <use style=\"fill:#1f77b4;stroke:#1f77b4;\" x=\"131.088251\" xlink:href=\"#mb80cc9e2fa\" y=\"79.843348\"/>\n     <use style=\"fill:#1f77b4;stroke:#1f77b4;\" x=\"113.722141\" xlink:href=\"#mb80cc9e2fa\" y=\"67.238139\"/>\n     <use style=\"fill:#1f77b4;stroke:#1f77b4;\" x=\"113.769771\" xlink:href=\"#mb80cc9e2fa\" y=\"53.42035\"/>\n     <use style=\"fill:#1f77b4;stroke:#1f77b4;\" x=\"154.786939\" xlink:href=\"#mb80cc9e2fa\" y=\"69.472869\"/>\n     <use style=\"fill:#1f77b4;stroke:#1f77b4;\" x=\"99.441756\" xlink:href=\"#mb80cc9e2fa\" y=\"65.107855\"/>\n     <use style=\"fill:#1f77b4;stroke:#1f77b4;\" x=\"126.70384\" xlink:href=\"#mb80cc9e2fa\" y=\"61.653549\"/>\n     <use style=\"fill:#1f77b4;stroke:#1f77b4;\" x=\"104.183608\" xlink:href=\"#mb80cc9e2fa\" y=\"61.058425\"/>\n     <use style=\"fill:#1f77b4;stroke:#1f77b4;\" x=\"113.528165\" xlink:href=\"#mb80cc9e2fa\" y=\"64.272068\"/>\n     <use style=\"fill:#1f77b4;stroke:#1f77b4;\" x=\"134.138829\" xlink:href=\"#mb80cc9e2fa\" y=\"70.404478\"/>\n     <use style=\"fill:#1f77b4;stroke:#1f77b4;\" x=\"163.213591\" xlink:href=\"#mb80cc9e2fa\" y=\"105.475247\"/>\n     <use style=\"fill:#1f77b4;stroke:#1f77b4;\" x=\"156.567793\" xlink:href=\"#mb80cc9e2fa\" y=\"94.744869\"/>\n     <use style=\"fill:#1f77b4;stroke:#1f77b4;\" x=\"116.849747\" xlink:href=\"#mb80cc9e2fa\" y=\"71.688305\"/>\n     <use style=\"fill:#1f77b4;stroke:#1f77b4;\" x=\"170.574826\" xlink:href=\"#mb80cc9e2fa\" y=\"100.684068\"/>\n     <use style=\"fill:#1f77b4;stroke:#1f77b4;\" x=\"126.432489\" xlink:href=\"#mb80cc9e2fa\" y=\"84.337271\"/>\n     <use style=\"fill:#1f77b4;stroke:#1f77b4;\" x=\"171.873364\" xlink:href=\"#mb80cc9e2fa\" y=\"91.877328\"/>\n     <use style=\"fill:#1f77b4;stroke:#1f77b4;\" x=\"136.885509\" xlink:href=\"#mb80cc9e2fa\" y=\"72.942056\"/>\n     <use style=\"fill:#1f77b4;stroke:#1f77b4;\" x=\"127.952486\" xlink:href=\"#mb80cc9e2fa\" y=\"71.021838\"/>\n     <use style=\"fill:#1f77b4;stroke:#1f77b4;\" x=\"152.882601\" xlink:href=\"#mb80cc9e2fa\" y=\"78.144262\"/>\n     <use style=\"fill:#1f77b4;stroke:#1f77b4;\" x=\"91.661357\" xlink:href=\"#mb80cc9e2fa\" y=\"50.685935\"/>\n     <use style=\"fill:#1f77b4;stroke:#1f77b4;\" x=\"169.34381\" xlink:href=\"#mb80cc9e2fa\" y=\"101.598319\"/>\n     <use style=\"fill:#1f77b4;stroke:#1f77b4;\" x=\"135.227351\" xlink:href=\"#mb80cc9e2fa\" y=\"76.248007\"/>\n     <use style=\"fill:#1f77b4;stroke:#1f77b4;\" x=\"144.350205\" xlink:href=\"#mb80cc9e2fa\" y=\"75.832589\"/>\n     <use style=\"fill:#1f77b4;stroke:#1f77b4;\" x=\"143.313681\" xlink:href=\"#mb80cc9e2fa\" y=\"83.21026\"/>\n     <use style=\"fill:#1f77b4;stroke:#1f77b4;\" x=\"111.688614\" xlink:href=\"#mb80cc9e2fa\" y=\"62.455101\"/>\n     <use style=\"fill:#1f77b4;stroke:#1f77b4;\" x=\"106.962755\" xlink:href=\"#mb80cc9e2fa\" y=\"58.885822\"/>\n     <use style=\"fill:#1f77b4;stroke:#1f77b4;\" x=\"181.323319\" xlink:href=\"#mb80cc9e2fa\" y=\"93.390539\"/>\n     <use style=\"fill:#1f77b4;stroke:#1f77b4;\" x=\"152.870554\" xlink:href=\"#mb80cc9e2fa\" y=\"90.625917\"/>\n     <use style=\"fill:#1f77b4;stroke:#1f77b4;\" x=\"102.318173\" xlink:href=\"#mb80cc9e2fa\" y=\"56.215231\"/>\n     <use style=\"fill:#1f77b4;stroke:#1f77b4;\" x=\"115.859671\" xlink:href=\"#mb80cc9e2fa\" y=\"67.516896\"/>\n     <use style=\"fill:#1f77b4;stroke:#1f77b4;\" x=\"148.734528\" xlink:href=\"#mb80cc9e2fa\" y=\"85.442977\"/>\n     <use style=\"fill:#1f77b4;stroke:#1f77b4;\" x=\"113.861045\" xlink:href=\"#mb80cc9e2fa\" y=\"71.47247\"/>\n     <use style=\"fill:#1f77b4;stroke:#1f77b4;\" x=\"98.554481\" xlink:href=\"#mb80cc9e2fa\" y=\"47.256617\"/>\n     <use style=\"fill:#1f77b4;stroke:#1f77b4;\" x=\"153.246313\" xlink:href=\"#mb80cc9e2fa\" y=\"72.310248\"/>\n     <use style=\"fill:#1f77b4;stroke:#1f77b4;\" x=\"155.205532\" xlink:href=\"#mb80cc9e2fa\" y=\"80.139439\"/>\n     <use style=\"fill:#1f77b4;stroke:#1f77b4;\" x=\"122.280025\" xlink:href=\"#mb80cc9e2fa\" y=\"69.59082\"/>\n     <use style=\"fill:#1f77b4;stroke:#1f77b4;\" x=\"136.37862\" xlink:href=\"#mb80cc9e2fa\" y=\"67.261887\"/>\n     <use style=\"fill:#1f77b4;stroke:#1f77b4;\" x=\"137.633707\" xlink:href=\"#mb80cc9e2fa\" y=\"78.135454\"/>\n     <use style=\"fill:#1f77b4;stroke:#1f77b4;\" x=\"201.863111\" xlink:href=\"#mb80cc9e2fa\" y=\"122.407003\"/>\n     <use style=\"fill:#1f77b4;stroke:#1f77b4;\" x=\"134.063792\" xlink:href=\"#mb80cc9e2fa\" y=\"67.533074\"/>\n     <use style=\"fill:#1f77b4;stroke:#1f77b4;\" x=\"114.942934\" xlink:href=\"#mb80cc9e2fa\" y=\"52.541923\"/>\n     <use style=\"fill:#1f77b4;stroke:#1f77b4;\" x=\"115.381053\" xlink:href=\"#mb80cc9e2fa\" y=\"71.464333\"/>\n     <use style=\"fill:#1f77b4;stroke:#1f77b4;\" x=\"85.515518\" xlink:href=\"#mb80cc9e2fa\" y=\"49.615673\"/>\n     <use style=\"fill:#1f77b4;stroke:#1f77b4;\" x=\"103.314624\" xlink:href=\"#mb80cc9e2fa\" y=\"69.28602\"/>\n     <use style=\"fill:#1f77b4;stroke:#1f77b4;\" x=\"120.758686\" xlink:href=\"#mb80cc9e2fa\" y=\"58.926347\"/>\n     <use style=\"fill:#1f77b4;stroke:#1f77b4;\" x=\"114.024159\" xlink:href=\"#mb80cc9e2fa\" y=\"69.568237\"/>\n     <use style=\"fill:#1f77b4;stroke:#1f77b4;\" x=\"158.504612\" xlink:href=\"#mb80cc9e2fa\" y=\"108.669007\"/>\n     <use style=\"fill:#1f77b4;stroke:#1f77b4;\" x=\"148.045861\" xlink:href=\"#mb80cc9e2fa\" y=\"82.360017\"/>\n     <use style=\"fill:#1f77b4;stroke:#1f77b4;\" x=\"147.000546\" xlink:href=\"#mb80cc9e2fa\" y=\"88.203633\"/>\n     <use style=\"fill:#1f77b4;stroke:#1f77b4;\" x=\"177.223759\" xlink:href=\"#mb80cc9e2fa\" y=\"111.176057\"/>\n     <use style=\"fill:#1f77b4;stroke:#1f77b4;\" x=\"109.990185\" xlink:href=\"#mb80cc9e2fa\" y=\"69.174672\"/>\n     <use style=\"fill:#1f77b4;stroke:#1f77b4;\" x=\"80.009238\" xlink:href=\"#mb80cc9e2fa\" y=\"60.011993\"/>\n     <use style=\"fill:#1f77b4;stroke:#1f77b4;\" x=\"155.350251\" xlink:href=\"#mb80cc9e2fa\" y=\"65.941549\"/>\n     <use style=\"fill:#1f77b4;stroke:#1f77b4;\" x=\"177.460527\" xlink:href=\"#mb80cc9e2fa\" y=\"113.218807\"/>\n     <use style=\"fill:#1f77b4;stroke:#1f77b4;\" x=\"110.614564\" xlink:href=\"#mb80cc9e2fa\" y=\"72.44809\"/>\n     <use style=\"fill:#1f77b4;stroke:#1f77b4;\" x=\"126.643708\" xlink:href=\"#mb80cc9e2fa\" y=\"85.21048\"/>\n     <use style=\"fill:#1f77b4;stroke:#1f77b4;\" x=\"124.030636\" xlink:href=\"#mb80cc9e2fa\" y=\"86.252653\"/>\n     <use style=\"fill:#1f77b4;stroke:#1f77b4;\" x=\"148.137212\" xlink:href=\"#mb80cc9e2fa\" y=\"87.830225\"/>\n     <use style=\"fill:#1f77b4;stroke:#1f77b4;\" x=\"147.295412\" xlink:href=\"#mb80cc9e2fa\" y=\"88.289935\"/>\n     <use style=\"fill:#1f77b4;stroke:#1f77b4;\" x=\"148.770034\" xlink:href=\"#mb80cc9e2fa\" y=\"86.725085\"/>\n     <use style=\"fill:#1f77b4;stroke:#1f77b4;\" x=\"159.116795\" xlink:href=\"#mb80cc9e2fa\" y=\"89.441198\"/>\n     <use style=\"fill:#1f77b4;stroke:#1f77b4;\" x=\"93.512074\" xlink:href=\"#mb80cc9e2fa\" y=\"47.56882\"/>\n     <use style=\"fill:#1f77b4;stroke:#1f77b4;\" x=\"114.693802\" xlink:href=\"#mb80cc9e2fa\" y=\"82.398673\"/>\n     <use style=\"fill:#1f77b4;stroke:#1f77b4;\" x=\"150.869193\" xlink:href=\"#mb80cc9e2fa\" y=\"86.769024\"/>\n     <use style=\"fill:#1f77b4;stroke:#1f77b4;\" x=\"144.021046\" xlink:href=\"#mb80cc9e2fa\" y=\"80.864561\"/>\n     <use style=\"fill:#1f77b4;stroke:#1f77b4;\" x=\"104.672361\" xlink:href=\"#mb80cc9e2fa\" y=\"47.868503\"/>\n     <use style=\"fill:#1f77b4;stroke:#1f77b4;\" x=\"158.065017\" xlink:href=\"#mb80cc9e2fa\" y=\"95.277564\"/>\n     <use style=\"fill:#1f77b4;stroke:#1f77b4;\" x=\"129.131665\" xlink:href=\"#mb80cc9e2fa\" y=\"85.211054\"/>\n     <use style=\"fill:#1f77b4;stroke:#1f77b4;\" x=\"132.324878\" xlink:href=\"#mb80cc9e2fa\" y=\"79.014427\"/>\n     <use style=\"fill:#1f77b4;stroke:#1f77b4;\" x=\"168.496053\" xlink:href=\"#mb80cc9e2fa\" y=\"87.970141\"/>\n     <use style=\"fill:#1f77b4;stroke:#1f77b4;\" x=\"125.928729\" xlink:href=\"#mb80cc9e2fa\" y=\"72.735952\"/>\n     <use style=\"fill:#1f77b4;stroke:#1f77b4;\" x=\"140.638106\" xlink:href=\"#mb80cc9e2fa\" y=\"87.41285\"/>\n     <use style=\"fill:#1f77b4;stroke:#1f77b4;\" x=\"147.787766\" xlink:href=\"#mb80cc9e2fa\" y=\"101.453491\"/>\n     <use style=\"fill:#1f77b4;stroke:#1f77b4;\" x=\"135.141827\" xlink:href=\"#mb80cc9e2fa\" y=\"75.146122\"/>\n     <use style=\"fill:#1f77b4;stroke:#1f77b4;\" x=\"129.090478\" xlink:href=\"#mb80cc9e2fa\" y=\"76.865698\"/>\n     <use style=\"fill:#1f77b4;stroke:#1f77b4;\" x=\"169.125137\" xlink:href=\"#mb80cc9e2fa\" y=\"104.637885\"/>\n     <use style=\"fill:#1f77b4;stroke:#1f77b4;\" x=\"92.694884\" xlink:href=\"#mb80cc9e2fa\" y=\"63.81595\"/>\n     <use style=\"fill:#1f77b4;stroke:#1f77b4;\" x=\"150.586991\" xlink:href=\"#mb80cc9e2fa\" y=\"80.30504\"/>\n     <use style=\"fill:#1f77b4;stroke:#1f77b4;\" x=\"119.883928\" xlink:href=\"#mb80cc9e2fa\" y=\"70.212007\"/>\n     <use style=\"fill:#1f77b4;stroke:#1f77b4;\" x=\"159.203471\" xlink:href=\"#mb80cc9e2fa\" y=\"88.084508\"/>\n     <use style=\"fill:#1f77b4;stroke:#1f77b4;\" x=\"179.704044\" xlink:href=\"#mb80cc9e2fa\" y=\"100.201827\"/>\n     <use style=\"fill:#1f77b4;stroke:#1f77b4;\" x=\"112.242774\" xlink:href=\"#mb80cc9e2fa\" y=\"66.142199\"/>\n     <use style=\"fill:#1f77b4;stroke:#1f77b4;\" x=\"134.21396\" xlink:href=\"#mb80cc9e2fa\" y=\"82.26867\"/>\n     <use style=\"fill:#1f77b4;stroke:#1f77b4;\" x=\"146.439126\" xlink:href=\"#mb80cc9e2fa\" y=\"69.130485\"/>\n     <use style=\"fill:#1f77b4;stroke:#1f77b4;\" x=\"127.109243\" xlink:href=\"#mb80cc9e2fa\" y=\"70.123894\"/>\n     <use style=\"fill:#1f77b4;stroke:#1f77b4;\" x=\"152.92345\" xlink:href=\"#mb80cc9e2fa\" y=\"89.274343\"/>\n     <use style=\"fill:#1f77b4;stroke:#1f77b4;\" x=\"170.705597\" xlink:href=\"#mb80cc9e2fa\" y=\"93.978741\"/>\n     <use style=\"fill:#1f77b4;stroke:#1f77b4;\" x=\"136.011283\" xlink:href=\"#mb80cc9e2fa\" y=\"74.834535\"/>\n     <use style=\"fill:#1f77b4;stroke:#1f77b4;\" x=\"142.218278\" xlink:href=\"#mb80cc9e2fa\" y=\"84.382768\"/>\n     <use style=\"fill:#1f77b4;stroke:#1f77b4;\" x=\"106.211695\" xlink:href=\"#mb80cc9e2fa\" y=\"67.665333\"/>\n     <use style=\"fill:#1f77b4;stroke:#1f77b4;\" x=\"76.65504\" xlink:href=\"#mb80cc9e2fa\" y=\"41.741197\"/>\n     <use style=\"fill:#1f77b4;stroke:#1f77b4;\" x=\"141.228312\" xlink:href=\"#mb80cc9e2fa\" y=\"78.8822\"/>\n     <use style=\"fill:#1f77b4;stroke:#1f77b4;\" x=\"126.550607\" xlink:href=\"#mb80cc9e2fa\" y=\"83.376231\"/>\n     <use style=\"fill:#1f77b4;stroke:#1f77b4;\" x=\"146.337446\" xlink:href=\"#mb80cc9e2fa\" y=\"94.298235\"/>\n     <use style=\"fill:#1f77b4;stroke:#1f77b4;\" x=\"156.772418\" xlink:href=\"#mb80cc9e2fa\" y=\"90.502141\"/>\n     <use style=\"fill:#1f77b4;stroke:#1f77b4;\" x=\"194.307274\" xlink:href=\"#mb80cc9e2fa\" y=\"109.729129\"/>\n     <use style=\"fill:#1f77b4;stroke:#1f77b4;\" x=\"141.875405\" xlink:href=\"#mb80cc9e2fa\" y=\"90.628612\"/>\n     <use style=\"fill:#1f77b4;stroke:#1f77b4;\" x=\"129.753066\" xlink:href=\"#mb80cc9e2fa\" y=\"67.308201\"/>\n     <use style=\"fill:#1f77b4;stroke:#1f77b4;\" x=\"149.95992\" xlink:href=\"#mb80cc9e2fa\" y=\"70.712124\"/>\n     <use style=\"fill:#1f77b4;stroke:#1f77b4;\" x=\"143.656202\" xlink:href=\"#mb80cc9e2fa\" y=\"86.478063\"/>\n     <use style=\"fill:#1f77b4;stroke:#1f77b4;\" x=\"137.377408\" xlink:href=\"#mb80cc9e2fa\" y=\"95.089895\"/>\n     <use style=\"fill:#1f77b4;stroke:#1f77b4;\" x=\"158.762209\" xlink:href=\"#mb80cc9e2fa\" y=\"104.315175\"/>\n     <use style=\"fill:#1f77b4;stroke:#1f77b4;\" x=\"123.752893\" xlink:href=\"#mb80cc9e2fa\" y=\"69.571525\"/>\n     <use style=\"fill:#1f77b4;stroke:#1f77b4;\" x=\"176.242081\" xlink:href=\"#mb80cc9e2fa\" y=\"95.618498\"/>\n     <use style=\"fill:#1f77b4;stroke:#1f77b4;\" x=\"148.482835\" xlink:href=\"#mb80cc9e2fa\" y=\"79.717251\"/>\n     <use style=\"fill:#1f77b4;stroke:#1f77b4;\" x=\"156.360735\" xlink:href=\"#mb80cc9e2fa\" y=\"87.12426\"/>\n     <use style=\"fill:#1f77b4;stroke:#1f77b4;\" x=\"100.09565\" xlink:href=\"#mb80cc9e2fa\" y=\"50.813254\"/>\n     <use style=\"fill:#1f77b4;stroke:#1f77b4;\" x=\"122.192665\" xlink:href=\"#mb80cc9e2fa\" y=\"63.533815\"/>\n     <use style=\"fill:#1f77b4;stroke:#1f77b4;\" x=\"156.462469\" xlink:href=\"#mb80cc9e2fa\" y=\"94.297829\"/>\n     <use style=\"fill:#1f77b4;stroke:#1f77b4;\" x=\"112.085975\" xlink:href=\"#mb80cc9e2fa\" y=\"68.54062\"/>\n     <use style=\"fill:#1f77b4;stroke:#1f77b4;\" x=\"129.46258\" xlink:href=\"#mb80cc9e2fa\" y=\"83.718176\"/>\n     <use style=\"fill:#1f77b4;stroke:#1f77b4;\" x=\"176.560166\" xlink:href=\"#mb80cc9e2fa\" y=\"103.857648\"/>\n     <use style=\"fill:#1f77b4;stroke:#1f77b4;\" x=\"121.012036\" xlink:href=\"#mb80cc9e2fa\" y=\"78.100405\"/>\n     <use style=\"fill:#1f77b4;stroke:#1f77b4;\" x=\"106.625636\" xlink:href=\"#mb80cc9e2fa\" y=\"65.451974\"/>\n     <use style=\"fill:#1f77b4;stroke:#1f77b4;\" x=\"115.073407\" xlink:href=\"#mb80cc9e2fa\" y=\"77.304632\"/>\n     <use style=\"fill:#1f77b4;stroke:#1f77b4;\" x=\"133.414254\" xlink:href=\"#mb80cc9e2fa\" y=\"87.078092\"/>\n     <use style=\"fill:#1f77b4;stroke:#1f77b4;\" x=\"185.200002\" xlink:href=\"#mb80cc9e2fa\" y=\"114.642675\"/>\n     <use style=\"fill:#1f77b4;stroke:#1f77b4;\" x=\"130.636924\" xlink:href=\"#mb80cc9e2fa\" y=\"87.638913\"/>\n     <use style=\"fill:#1f77b4;stroke:#1f77b4;\" x=\"120.077091\" xlink:href=\"#mb80cc9e2fa\" y=\"63.74542\"/>\n     <use style=\"fill:#1f77b4;stroke:#1f77b4;\" x=\"150.67295\" xlink:href=\"#mb80cc9e2fa\" y=\"67.68924\"/>\n     <use style=\"fill:#1f77b4;stroke:#1f77b4;\" x=\"161.010107\" xlink:href=\"#mb80cc9e2fa\" y=\"100.349846\"/>\n     <use style=\"fill:#1f77b4;stroke:#1f77b4;\" x=\"148.058336\" xlink:href=\"#mb80cc9e2fa\" y=\"75.909532\"/>\n     <use style=\"fill:#1f77b4;stroke:#1f77b4;\" x=\"170.847465\" xlink:href=\"#mb80cc9e2fa\" y=\"94.587033\"/>\n     <use style=\"fill:#1f77b4;stroke:#1f77b4;\" x=\"180.281427\" xlink:href=\"#mb80cc9e2fa\" y=\"96.648365\"/>\n     <use style=\"fill:#1f77b4;stroke:#1f77b4;\" x=\"129.228333\" xlink:href=\"#mb80cc9e2fa\" y=\"70.777835\"/>\n     <use style=\"fill:#1f77b4;stroke:#1f77b4;\" x=\"152.71559\" xlink:href=\"#mb80cc9e2fa\" y=\"87.887624\"/>\n     <use style=\"fill:#1f77b4;stroke:#1f77b4;\" x=\"112.478932\" xlink:href=\"#mb80cc9e2fa\" y=\"61.717009\"/>\n     <use style=\"fill:#1f77b4;stroke:#1f77b4;\" x=\"126.924401\" xlink:href=\"#mb80cc9e2fa\" y=\"75.158795\"/>\n     <use style=\"fill:#1f77b4;stroke:#1f77b4;\" x=\"155.353099\" xlink:href=\"#mb80cc9e2fa\" y=\"93.741156\"/>\n     <use style=\"fill:#1f77b4;stroke:#1f77b4;\" x=\"134.583902\" xlink:href=\"#mb80cc9e2fa\" y=\"68.429564\"/>\n     <use style=\"fill:#1f77b4;stroke:#1f77b4;\" x=\"130.23193\" xlink:href=\"#mb80cc9e2fa\" y=\"73.518357\"/>\n     <use style=\"fill:#1f77b4;stroke:#1f77b4;\" x=\"97.309613\" xlink:href=\"#mb80cc9e2fa\" y=\"67.335651\"/>\n     <use style=\"fill:#1f77b4;stroke:#1f77b4;\" x=\"149.892124\" xlink:href=\"#mb80cc9e2fa\" y=\"93.269053\"/>\n     <use style=\"fill:#1f77b4;stroke:#1f77b4;\" x=\"169.808567\" xlink:href=\"#mb80cc9e2fa\" y=\"104.593598\"/>\n     <use style=\"fill:#1f77b4;stroke:#1f77b4;\" x=\"124.685577\" xlink:href=\"#mb80cc9e2fa\" y=\"62.330379\"/>\n     <use style=\"fill:#1f77b4;stroke:#1f77b4;\" x=\"118.840963\" xlink:href=\"#mb80cc9e2fa\" y=\"66.979814\"/>\n     <use style=\"fill:#1f77b4;stroke:#1f77b4;\" x=\"143.163827\" xlink:href=\"#mb80cc9e2fa\" y=\"73.74877\"/>\n     <use style=\"fill:#1f77b4;stroke:#1f77b4;\" x=\"130.570273\" xlink:href=\"#mb80cc9e2fa\" y=\"73.204234\"/>\n     <use style=\"fill:#1f77b4;stroke:#1f77b4;\" x=\"173.398345\" xlink:href=\"#mb80cc9e2fa\" y=\"93.987159\"/>\n     <use style=\"fill:#1f77b4;stroke:#1f77b4;\" x=\"154.876121\" xlink:href=\"#mb80cc9e2fa\" y=\"93.217158\"/>\n     <use style=\"fill:#1f77b4;stroke:#1f77b4;\" x=\"112.017528\" xlink:href=\"#mb80cc9e2fa\" y=\"72.321847\"/>\n     <use style=\"fill:#1f77b4;stroke:#1f77b4;\" x=\"125.373919\" xlink:href=\"#mb80cc9e2fa\" y=\"85.074469\"/>\n     <use style=\"fill:#1f77b4;stroke:#1f77b4;\" x=\"153.639389\" xlink:href=\"#mb80cc9e2fa\" y=\"91.412209\"/>\n     <use style=\"fill:#1f77b4;stroke:#1f77b4;\" x=\"110.8674\" xlink:href=\"#mb80cc9e2fa\" y=\"65.834704\"/>\n     <use style=\"fill:#1f77b4;stroke:#1f77b4;\" x=\"194.724057\" xlink:href=\"#mb80cc9e2fa\" y=\"108.96928\"/>\n     <use style=\"fill:#1f77b4;stroke:#1f77b4;\" x=\"121.092796\" xlink:href=\"#mb80cc9e2fa\" y=\"58.108784\"/>\n     <use style=\"fill:#1f77b4;stroke:#1f77b4;\" x=\"169.610281\" xlink:href=\"#mb80cc9e2fa\" y=\"81.607572\"/>\n     <use style=\"fill:#1f77b4;stroke:#1f77b4;\" x=\"177.54384\" xlink:href=\"#mb80cc9e2fa\" y=\"102.86814\"/>\n     <use style=\"fill:#1f77b4;stroke:#1f77b4;\" x=\"211.737067\" xlink:href=\"#mb80cc9e2fa\" y=\"122.005712\"/>\n     <use style=\"fill:#1f77b4;stroke:#1f77b4;\" x=\"168.409119\" xlink:href=\"#mb80cc9e2fa\" y=\"93.937835\"/>\n     <use style=\"fill:#1f77b4;stroke:#1f77b4;\" x=\"154.492548\" xlink:href=\"#mb80cc9e2fa\" y=\"94.18764\"/>\n     <use style=\"fill:#1f77b4;stroke:#1f77b4;\" x=\"135.085418\" xlink:href=\"#mb80cc9e2fa\" y=\"74.343987\"/>\n     <use style=\"fill:#1f77b4;stroke:#1f77b4;\" x=\"117.55897\" xlink:href=\"#mb80cc9e2fa\" y=\"65.122451\"/>\n     <use style=\"fill:#1f77b4;stroke:#1f77b4;\" x=\"167.944818\" xlink:href=\"#mb80cc9e2fa\" y=\"95.677882\"/>\n     <use style=\"fill:#1f77b4;stroke:#1f77b4;\" x=\"137.143893\" xlink:href=\"#mb80cc9e2fa\" y=\"57.805638\"/>\n     <use style=\"fill:#1f77b4;stroke:#1f77b4;\" x=\"102.338357\" xlink:href=\"#mb80cc9e2fa\" y=\"62.187484\"/>\n     <use style=\"fill:#1f77b4;stroke:#1f77b4;\" x=\"112.583041\" xlink:href=\"#mb80cc9e2fa\" y=\"61.962675\"/>\n     <use style=\"fill:#1f77b4;stroke:#1f77b4;\" x=\"148.871994\" xlink:href=\"#mb80cc9e2fa\" y=\"74.876423\"/>\n     <use style=\"fill:#1f77b4;stroke:#1f77b4;\" x=\"178.420858\" xlink:href=\"#mb80cc9e2fa\" y=\"101.640019\"/>\n     <use style=\"fill:#1f77b4;stroke:#1f77b4;\" x=\"163.055225\" xlink:href=\"#mb80cc9e2fa\" y=\"96.544997\"/>\n     <use style=\"fill:#1f77b4;stroke:#1f77b4;\" x=\"102.594594\" xlink:href=\"#mb80cc9e2fa\" y=\"57.441022\"/>\n     <use style=\"fill:#1f77b4;stroke:#1f77b4;\" x=\"142.962583\" xlink:href=\"#mb80cc9e2fa\" y=\"71.439595\"/>\n     <use style=\"fill:#1f77b4;stroke:#1f77b4;\" x=\"166.013083\" xlink:href=\"#mb80cc9e2fa\" y=\"95.090831\"/>\n     <use style=\"fill:#1f77b4;stroke:#1f77b4;\" x=\"140.722323\" xlink:href=\"#mb80cc9e2fa\" y=\"93.360701\"/>\n     <use style=\"fill:#1f77b4;stroke:#1f77b4;\" x=\"149.88959\" xlink:href=\"#mb80cc9e2fa\" y=\"78.470902\"/>\n     <use style=\"fill:#1f77b4;stroke:#1f77b4;\" x=\"142.84055\" xlink:href=\"#mb80cc9e2fa\" y=\"101.339641\"/>\n     <use style=\"fill:#1f77b4;stroke:#1f77b4;\" x=\"171.094401\" xlink:href=\"#mb80cc9e2fa\" y=\"99.661505\"/>\n     <use style=\"fill:#1f77b4;stroke:#1f77b4;\" x=\"140.66238\" xlink:href=\"#mb80cc9e2fa\" y=\"83.274214\"/>\n     <use style=\"fill:#1f77b4;stroke:#1f77b4;\" x=\"143.702449\" xlink:href=\"#mb80cc9e2fa\" y=\"73.750242\"/>\n     <use style=\"fill:#1f77b4;stroke:#1f77b4;\" x=\"132.931882\" xlink:href=\"#mb80cc9e2fa\" y=\"68.117789\"/>\n     <use style=\"fill:#1f77b4;stroke:#1f77b4;\" x=\"144.904578\" xlink:href=\"#mb80cc9e2fa\" y=\"63.715223\"/>\n     <use style=\"fill:#1f77b4;stroke:#1f77b4;\" x=\"138.749322\" xlink:href=\"#mb80cc9e2fa\" y=\"81.723367\"/>\n     <use style=\"fill:#1f77b4;stroke:#1f77b4;\" x=\"65.289736\" xlink:href=\"#mb80cc9e2fa\" y=\"30.11979\"/>\n     <use style=\"fill:#1f77b4;stroke:#1f77b4;\" x=\"142.894397\" xlink:href=\"#mb80cc9e2fa\" y=\"76.641827\"/>\n     <use style=\"fill:#1f77b4;stroke:#1f77b4;\" x=\"69.929125\" xlink:href=\"#mb80cc9e2fa\" y=\"43.857927\"/>\n     <use style=\"fill:#1f77b4;stroke:#1f77b4;\" x=\"100.6724\" xlink:href=\"#mb80cc9e2fa\" y=\"63.791859\"/>\n     <use style=\"fill:#1f77b4;stroke:#1f77b4;\" x=\"148.906203\" xlink:href=\"#mb80cc9e2fa\" y=\"88.038683\"/>\n     <use style=\"fill:#1f77b4;stroke:#1f77b4;\" x=\"140.790265\" xlink:href=\"#mb80cc9e2fa\" y=\"72.350254\"/>\n     <use style=\"fill:#1f77b4;stroke:#1f77b4;\" x=\"121.685184\" xlink:href=\"#mb80cc9e2fa\" y=\"67.06117\"/>\n     <use style=\"fill:#1f77b4;stroke:#1f77b4;\" x=\"92.223262\" xlink:href=\"#mb80cc9e2fa\" y=\"48.000801\"/>\n     <use style=\"fill:#1f77b4;stroke:#1f77b4;\" x=\"119.597627\" xlink:href=\"#mb80cc9e2fa\" y=\"84.265716\"/>\n     <use style=\"fill:#1f77b4;stroke:#1f77b4;\" x=\"162.967846\" xlink:href=\"#mb80cc9e2fa\" y=\"88.370951\"/>\n     <use style=\"fill:#1f77b4;stroke:#1f77b4;\" x=\"135.635852\" xlink:href=\"#mb80cc9e2fa\" y=\"80.426894\"/>\n     <use style=\"fill:#1f77b4;stroke:#1f77b4;\" x=\"129.017056\" xlink:href=\"#mb80cc9e2fa\" y=\"67.095668\"/>\n     <use style=\"fill:#1f77b4;stroke:#1f77b4;\" x=\"181.624826\" xlink:href=\"#mb80cc9e2fa\" y=\"117.906814\"/>\n     <use style=\"fill:#1f77b4;stroke:#1f77b4;\" x=\"145.417562\" xlink:href=\"#mb80cc9e2fa\" y=\"79.042078\"/>\n     <use style=\"fill:#1f77b4;stroke:#1f77b4;\" x=\"137.141198\" xlink:href=\"#mb80cc9e2fa\" y=\"76.398331\"/>\n     <use style=\"fill:#1f77b4;stroke:#1f77b4;\" x=\"156.539244\" xlink:href=\"#mb80cc9e2fa\" y=\"92.71858\"/>\n     <use style=\"fill:#1f77b4;stroke:#1f77b4;\" x=\"149.343415\" xlink:href=\"#mb80cc9e2fa\" y=\"82.709168\"/>\n     <use style=\"fill:#1f77b4;stroke:#1f77b4;\" x=\"162.372365\" xlink:href=\"#mb80cc9e2fa\" y=\"86.951527\"/>\n     <use style=\"fill:#1f77b4;stroke:#1f77b4;\" x=\"124.0579\" xlink:href=\"#mb80cc9e2fa\" y=\"73.054348\"/>\n     <use style=\"fill:#1f77b4;stroke:#1f77b4;\" x=\"143.373421\" xlink:href=\"#mb80cc9e2fa\" y=\"85.12113\"/>\n     <use style=\"fill:#1f77b4;stroke:#1f77b4;\" x=\"193.733761\" xlink:href=\"#mb80cc9e2fa\" y=\"121.434776\"/>\n     <use style=\"fill:#1f77b4;stroke:#1f77b4;\" x=\"79.901835\" xlink:href=\"#mb80cc9e2fa\" y=\"53.314573\"/>\n     <use style=\"fill:#1f77b4;stroke:#1f77b4;\" x=\"93.414325\" xlink:href=\"#mb80cc9e2fa\" y=\"46.269722\"/>\n     <use style=\"fill:#1f77b4;stroke:#1f77b4;\" x=\"159.883028\" xlink:href=\"#mb80cc9e2fa\" y=\"79.331311\"/>\n     <use style=\"fill:#1f77b4;stroke:#1f77b4;\" x=\"157.117847\" xlink:href=\"#mb80cc9e2fa\" y=\"90.636519\"/>\n     <use style=\"fill:#1f77b4;stroke:#1f77b4;\" x=\"149.131804\" xlink:href=\"#mb80cc9e2fa\" y=\"82.940417\"/>\n     <use style=\"fill:#1f77b4;stroke:#1f77b4;\" x=\"162.748392\" xlink:href=\"#mb80cc9e2fa\" y=\"112.130594\"/>\n     <use style=\"fill:#1f77b4;stroke:#1f77b4;\" x=\"133.140707\" xlink:href=\"#mb80cc9e2fa\" y=\"83.979186\"/>\n     <use style=\"fill:#1f77b4;stroke:#1f77b4;\" x=\"160.456657\" xlink:href=\"#mb80cc9e2fa\" y=\"80.222534\"/>\n     <use style=\"fill:#1f77b4;stroke:#1f77b4;\" x=\"118.826414\" xlink:href=\"#mb80cc9e2fa\" y=\"62.478075\"/>\n     <use style=\"fill:#1f77b4;stroke:#1f77b4;\" x=\"130.073201\" xlink:href=\"#mb80cc9e2fa\" y=\"73.757061\"/>\n     <use style=\"fill:#1f77b4;stroke:#1f77b4;\" x=\"114.97156\" xlink:href=\"#mb80cc9e2fa\" y=\"68.909363\"/>\n     <use style=\"fill:#1f77b4;stroke:#1f77b4;\" x=\"206.242408\" xlink:href=\"#mb80cc9e2fa\" y=\"126.370359\"/>\n     <use style=\"fill:#1f77b4;stroke:#1f77b4;\" x=\"180.969201\" xlink:href=\"#mb80cc9e2fa\" y=\"98.710401\"/>\n     <use style=\"fill:#1f77b4;stroke:#1f77b4;\" x=\"138.428881\" xlink:href=\"#mb80cc9e2fa\" y=\"83.580193\"/>\n     <use style=\"fill:#1f77b4;stroke:#1f77b4;\" x=\"208.227148\" xlink:href=\"#mb80cc9e2fa\" y=\"122.66722\"/>\n     <use style=\"fill:#1f77b4;stroke:#1f77b4;\" x=\"141.938192\" xlink:href=\"#mb80cc9e2fa\" y=\"80.616924\"/>\n     <use style=\"fill:#1f77b4;stroke:#1f77b4;\" x=\"98.257576\" xlink:href=\"#mb80cc9e2fa\" y=\"72.368978\"/>\n     <use style=\"fill:#1f77b4;stroke:#1f77b4;\" x=\"155.495355\" xlink:href=\"#mb80cc9e2fa\" y=\"100.395762\"/>\n     <use style=\"fill:#1f77b4;stroke:#1f77b4;\" x=\"139.29562\" xlink:href=\"#mb80cc9e2fa\" y=\"74.813792\"/>\n     <use style=\"fill:#1f77b4;stroke:#1f77b4;\" x=\"131.309733\" xlink:href=\"#mb80cc9e2fa\" y=\"66.779089\"/>\n     <use style=\"fill:#1f77b4;stroke:#1f77b4;\" x=\"133.437417\" xlink:href=\"#mb80cc9e2fa\" y=\"91.639342\"/>\n     <use style=\"fill:#1f77b4;stroke:#1f77b4;\" x=\"118.740573\" xlink:href=\"#mb80cc9e2fa\" y=\"82.47467\"/>\n     <use style=\"fill:#1f77b4;stroke:#1f77b4;\" x=\"124.755684\" xlink:href=\"#mb80cc9e2fa\" y=\"66.296211\"/>\n     <use style=\"fill:#1f77b4;stroke:#1f77b4;\" x=\"86.640742\" xlink:href=\"#mb80cc9e2fa\" y=\"49.221362\"/>\n     <use style=\"fill:#1f77b4;stroke:#1f77b4;\" x=\"144.797199\" xlink:href=\"#mb80cc9e2fa\" y=\"83.012067\"/>\n     <use style=\"fill:#1f77b4;stroke:#1f77b4;\" x=\"174.477215\" xlink:href=\"#mb80cc9e2fa\" y=\"94.872507\"/>\n     <use style=\"fill:#1f77b4;stroke:#1f77b4;\" x=\"127.807894\" xlink:href=\"#mb80cc9e2fa\" y=\"70.809463\"/>\n     <use style=\"fill:#1f77b4;stroke:#1f77b4;\" x=\"140.763737\" xlink:href=\"#mb80cc9e2fa\" y=\"91.989047\"/>\n     <use style=\"fill:#1f77b4;stroke:#1f77b4;\" x=\"109.535376\" xlink:href=\"#mb80cc9e2fa\" y=\"67.999973\"/>\n     <use style=\"fill:#1f77b4;stroke:#1f77b4;\" x=\"123.375618\" xlink:href=\"#mb80cc9e2fa\" y=\"71.136123\"/>\n     <use style=\"fill:#1f77b4;stroke:#1f77b4;\" x=\"80.424697\" xlink:href=\"#mb80cc9e2fa\" y=\"37.708548\"/>\n     <use style=\"fill:#1f77b4;stroke:#1f77b4;\" x=\"120.638206\" xlink:href=\"#mb80cc9e2fa\" y=\"67.448352\"/>\n     <use style=\"fill:#1f77b4;stroke:#1f77b4;\" x=\"135.719976\" xlink:href=\"#mb80cc9e2fa\" y=\"68.913059\"/>\n     <use style=\"fill:#1f77b4;stroke:#1f77b4;\" x=\"135.893469\" xlink:href=\"#mb80cc9e2fa\" y=\"80.899839\"/>\n     <use style=\"fill:#1f77b4;stroke:#1f77b4;\" x=\"116.378875\" xlink:href=\"#mb80cc9e2fa\" y=\"65.789272\"/>\n     <use style=\"fill:#1f77b4;stroke:#1f77b4;\" x=\"159.604914\" xlink:href=\"#mb80cc9e2fa\" y=\"98.309682\"/>\n     <use style=\"fill:#1f77b4;stroke:#1f77b4;\" x=\"142.088171\" xlink:href=\"#mb80cc9e2fa\" y=\"75.137529\"/>\n     <use style=\"fill:#1f77b4;stroke:#1f77b4;\" x=\"123.188135\" xlink:href=\"#mb80cc9e2fa\" y=\"68.973851\"/>\n     <use style=\"fill:#1f77b4;stroke:#1f77b4;\" x=\"161.511726\" xlink:href=\"#mb80cc9e2fa\" y=\"112.251933\"/>\n     <use style=\"fill:#1f77b4;stroke:#1f77b4;\" x=\"122.621321\" xlink:href=\"#mb80cc9e2fa\" y=\"63.311736\"/>\n     <use style=\"fill:#1f77b4;stroke:#1f77b4;\" x=\"108.295271\" xlink:href=\"#mb80cc9e2fa\" y=\"59.366549\"/>\n     <use style=\"fill:#1f77b4;stroke:#1f77b4;\" x=\"136.266562\" xlink:href=\"#mb80cc9e2fa\" y=\"77.172135\"/>\n     <use style=\"fill:#1f77b4;stroke:#1f77b4;\" x=\"148.619025\" xlink:href=\"#mb80cc9e2fa\" y=\"93.017254\"/>\n     <use style=\"fill:#1f77b4;stroke:#1f77b4;\" x=\"163.939341\" xlink:href=\"#mb80cc9e2fa\" y=\"99.937014\"/>\n     <use style=\"fill:#1f77b4;stroke:#1f77b4;\" x=\"158.811342\" xlink:href=\"#mb80cc9e2fa\" y=\"92.633194\"/>\n     <use style=\"fill:#1f77b4;stroke:#1f77b4;\" x=\"103.91673\" xlink:href=\"#mb80cc9e2fa\" y=\"47.328469\"/>\n     <use style=\"fill:#1f77b4;stroke:#1f77b4;\" x=\"142.432763\" xlink:href=\"#mb80cc9e2fa\" y=\"86.036525\"/>\n     <use style=\"fill:#1f77b4;stroke:#1f77b4;\" x=\"127.364976\" xlink:href=\"#mb80cc9e2fa\" y=\"73.711032\"/>\n     <use style=\"fill:#1f77b4;stroke:#1f77b4;\" x=\"112.425169\" xlink:href=\"#mb80cc9e2fa\" y=\"51.629997\"/>\n     <use style=\"fill:#1f77b4;stroke:#1f77b4;\" x=\"138.306501\" xlink:href=\"#mb80cc9e2fa\" y=\"68.901528\"/>\n     <use style=\"fill:#1f77b4;stroke:#1f77b4;\" x=\"162.032593\" xlink:href=\"#mb80cc9e2fa\" y=\"80.493017\"/>\n     <use style=\"fill:#1f77b4;stroke:#1f77b4;\" x=\"147.875165\" xlink:href=\"#mb80cc9e2fa\" y=\"87.650404\"/>\n     <use style=\"fill:#1f77b4;stroke:#1f77b4;\" x=\"179.02224\" xlink:href=\"#mb80cc9e2fa\" y=\"106.961166\"/>\n     <use style=\"fill:#1f77b4;stroke:#1f77b4;\" x=\"150.928275\" xlink:href=\"#mb80cc9e2fa\" y=\"95.122385\"/>\n     <use style=\"fill:#1f77b4;stroke:#1f77b4;\" x=\"121.930063\" xlink:href=\"#mb80cc9e2fa\" y=\"70.039554\"/>\n     <use style=\"fill:#1f77b4;stroke:#1f77b4;\" x=\"156.614058\" xlink:href=\"#mb80cc9e2fa\" y=\"81.86481\"/>\n     <use style=\"fill:#1f77b4;stroke:#1f77b4;\" x=\"147.023274\" xlink:href=\"#mb80cc9e2fa\" y=\"79.607643\"/>\n     <use style=\"fill:#1f77b4;stroke:#1f77b4;\" x=\"104.457341\" xlink:href=\"#mb80cc9e2fa\" y=\"50.2695\"/>\n     <use style=\"fill:#1f77b4;stroke:#1f77b4;\" x=\"143.29885\" xlink:href=\"#mb80cc9e2fa\" y=\"79.668647\"/>\n     <use style=\"fill:#1f77b4;stroke:#1f77b4;\" x=\"156.978742\" xlink:href=\"#mb80cc9e2fa\" y=\"103.20265\"/>\n     <use style=\"fill:#1f77b4;stroke:#1f77b4;\" x=\"165.137004\" xlink:href=\"#mb80cc9e2fa\" y=\"98.734341\"/>\n     <use style=\"fill:#1f77b4;stroke:#1f77b4;\" x=\"191.440164\" xlink:href=\"#mb80cc9e2fa\" y=\"111.854984\"/>\n     <use style=\"fill:#1f77b4;stroke:#1f77b4;\" x=\"112.549535\" xlink:href=\"#mb80cc9e2fa\" y=\"63.401649\"/>\n     <use style=\"fill:#1f77b4;stroke:#1f77b4;\" x=\"136.897993\" xlink:href=\"#mb80cc9e2fa\" y=\"83.842078\"/>\n     <use style=\"fill:#1f77b4;stroke:#1f77b4;\" x=\"126.016842\" xlink:href=\"#mb80cc9e2fa\" y=\"84.438223\"/>\n     <use style=\"fill:#1f77b4;stroke:#1f77b4;\" x=\"161.217261\" xlink:href=\"#mb80cc9e2fa\" y=\"112.644936\"/>\n     <use style=\"fill:#1f77b4;stroke:#1f77b4;\" x=\"107.274503\" xlink:href=\"#mb80cc9e2fa\" y=\"54.315589\"/>\n     <use style=\"fill:#1f77b4;stroke:#1f77b4;\" x=\"100.456078\" xlink:href=\"#mb80cc9e2fa\" y=\"64.319839\"/>\n     <use style=\"fill:#1f77b4;stroke:#1f77b4;\" x=\"167.588078\" xlink:href=\"#mb80cc9e2fa\" y=\"102.755245\"/>\n     <use style=\"fill:#1f77b4;stroke:#1f77b4;\" x=\"149.219659\" xlink:href=\"#mb80cc9e2fa\" y=\"91.525597\"/>\n     <use style=\"fill:#1f77b4;stroke:#1f77b4;\" x=\"151.84256\" xlink:href=\"#mb80cc9e2fa\" y=\"97.738259\"/>\n     <use style=\"fill:#1f77b4;stroke:#1f77b4;\" x=\"124.907057\" xlink:href=\"#mb80cc9e2fa\" y=\"62.178935\"/>\n     <use style=\"fill:#1f77b4;stroke:#1f77b4;\" x=\"138.053772\" xlink:href=\"#mb80cc9e2fa\" y=\"93.886198\"/>\n     <use style=\"fill:#1f77b4;stroke:#1f77b4;\" x=\"129.649259\" xlink:href=\"#mb80cc9e2fa\" y=\"76.449081\"/>\n     <use style=\"fill:#1f77b4;stroke:#1f77b4;\" x=\"159.770377\" xlink:href=\"#mb80cc9e2fa\" y=\"88.274216\"/>\n     <use style=\"fill:#1f77b4;stroke:#1f77b4;\" x=\"78.9619\" xlink:href=\"#mb80cc9e2fa\" y=\"42.677745\"/>\n     <use style=\"fill:#1f77b4;stroke:#1f77b4;\" x=\"107.350116\" xlink:href=\"#mb80cc9e2fa\" y=\"73.53344\"/>\n     <use style=\"fill:#1f77b4;stroke:#1f77b4;\" x=\"136.780425\" xlink:href=\"#mb80cc9e2fa\" y=\"62.111284\"/>\n     <use style=\"fill:#1f77b4;stroke:#1f77b4;\" x=\"101.494106\" xlink:href=\"#mb80cc9e2fa\" y=\"71.289649\"/>\n     <use style=\"fill:#1f77b4;stroke:#1f77b4;\" x=\"141.503468\" xlink:href=\"#mb80cc9e2fa\" y=\"92.293482\"/>\n     <use style=\"fill:#1f77b4;stroke:#1f77b4;\" x=\"139.712417\" xlink:href=\"#mb80cc9e2fa\" y=\"80.071988\"/>\n     <use style=\"fill:#1f77b4;stroke:#1f77b4;\" x=\"133.547139\" xlink:href=\"#mb80cc9e2fa\" y=\"67.411511\"/>\n     <use style=\"fill:#1f77b4;stroke:#1f77b4;\" x=\"118.05639\" xlink:href=\"#mb80cc9e2fa\" y=\"67.846821\"/>\n     <use style=\"fill:#1f77b4;stroke:#1f77b4;\" x=\"156.792603\" xlink:href=\"#mb80cc9e2fa\" y=\"90.43147\"/>\n     <use style=\"fill:#1f77b4;stroke:#1f77b4;\" x=\"175.938935\" xlink:href=\"#mb80cc9e2fa\" y=\"94.439941\"/>\n     <use style=\"fill:#1f77b4;stroke:#1f77b4;\" x=\"184.297003\" xlink:href=\"#mb80cc9e2fa\" y=\"112.928419\"/>\n     <use style=\"fill:#1f77b4;stroke:#1f77b4;\" x=\"132.499649\" xlink:href=\"#mb80cc9e2fa\" y=\"69.249649\"/>\n     <use style=\"fill:#1f77b4;stroke:#1f77b4;\" x=\"126.804119\" xlink:href=\"#mb80cc9e2fa\" y=\"73.467331\"/>\n     <use style=\"fill:#1f77b4;stroke:#1f77b4;\" x=\"143.446586\" xlink:href=\"#mb80cc9e2fa\" y=\"76.751274\"/>\n     <use style=\"fill:#1f77b4;stroke:#1f77b4;\" x=\"140.10614\" xlink:href=\"#mb80cc9e2fa\" y=\"87.482201\"/>\n     <use style=\"fill:#1f77b4;stroke:#1f77b4;\" x=\"138.709327\" xlink:href=\"#mb80cc9e2fa\" y=\"68.133704\"/>\n     <use style=\"fill:#1f77b4;stroke:#1f77b4;\" x=\"149.75327\" xlink:href=\"#mb80cc9e2fa\" y=\"111.451513\"/>\n     <use style=\"fill:#1f77b4;stroke:#1f77b4;\" x=\"107.935117\" xlink:href=\"#mb80cc9e2fa\" y=\"64.283551\"/>\n     <use style=\"fill:#1f77b4;stroke:#1f77b4;\" x=\"167.559695\" xlink:href=\"#mb80cc9e2fa\" y=\"101.180183\"/>\n     <use style=\"fill:#1f77b4;stroke:#1f77b4;\" x=\"134.712154\" xlink:href=\"#mb80cc9e2fa\" y=\"67.156409\"/>\n     <use style=\"fill:#1f77b4;stroke:#1f77b4;\" x=\"143.166354\" xlink:href=\"#mb80cc9e2fa\" y=\"85.551534\"/>\n     <use style=\"fill:#1f77b4;stroke:#1f77b4;\" x=\"176.067055\" xlink:href=\"#mb80cc9e2fa\" y=\"113.12895\"/>\n     <use style=\"fill:#1f77b4;stroke:#1f77b4;\" x=\"156.6674\" xlink:href=\"#mb80cc9e2fa\" y=\"84.080466\"/>\n     <use style=\"fill:#1f77b4;stroke:#1f77b4;\" x=\"117.19062\" xlink:href=\"#mb80cc9e2fa\" y=\"74.824779\"/>\n     <use style=\"fill:#1f77b4;stroke:#1f77b4;\" x=\"170.328959\" xlink:href=\"#mb80cc9e2fa\" y=\"104.253998\"/>\n     <use style=\"fill:#1f77b4;stroke:#1f77b4;\" x=\"92.566789\" xlink:href=\"#mb80cc9e2fa\" y=\"66.454129\"/>\n     <use style=\"fill:#1f77b4;stroke:#1f77b4;\" x=\"138.334856\" xlink:href=\"#mb80cc9e2fa\" y=\"70.757542\"/>\n     <use style=\"fill:#1f77b4;stroke:#1f77b4;\" x=\"180.723905\" xlink:href=\"#mb80cc9e2fa\" y=\"99.149099\"/>\n     <use style=\"fill:#1f77b4;stroke:#1f77b4;\" x=\"162.674988\" xlink:href=\"#mb80cc9e2fa\" y=\"79.482486\"/>\n     <use style=\"fill:#1f77b4;stroke:#1f77b4;\" x=\"135.11264\" xlink:href=\"#mb80cc9e2fa\" y=\"88.202164\"/>\n     <use style=\"fill:#1f77b4;stroke:#1f77b4;\" x=\"101.472326\" xlink:href=\"#mb80cc9e2fa\" y=\"59.641931\"/>\n     <use style=\"fill:#1f77b4;stroke:#1f77b4;\" x=\"130.009808\" xlink:href=\"#mb80cc9e2fa\" y=\"86.449231\"/>\n     <use style=\"fill:#1f77b4;stroke:#1f77b4;\" x=\"159.691879\" xlink:href=\"#mb80cc9e2fa\" y=\"81.650034\"/>\n     <use style=\"fill:#1f77b4;stroke:#1f77b4;\" x=\"142.77361\" xlink:href=\"#mb80cc9e2fa\" y=\"72.156336\"/>\n     <use style=\"fill:#1f77b4;stroke:#1f77b4;\" x=\"124.691604\" xlink:href=\"#mb80cc9e2fa\" y=\"65.232555\"/>\n     <use style=\"fill:#1f77b4;stroke:#1f77b4;\" x=\"138.433504\" xlink:href=\"#mb80cc9e2fa\" y=\"79.228956\"/>\n     <use style=\"fill:#1f77b4;stroke:#1f77b4;\" x=\"125.388206\" xlink:href=\"#mb80cc9e2fa\" y=\"84.256413\"/>\n     <use style=\"fill:#1f77b4;stroke:#1f77b4;\" x=\"181.771706\" xlink:href=\"#mb80cc9e2fa\" y=\"85.15934\"/>\n     <use style=\"fill:#1f77b4;stroke:#1f77b4;\" x=\"133.882767\" xlink:href=\"#mb80cc9e2fa\" y=\"84.054948\"/>\n     <use style=\"fill:#1f77b4;stroke:#1f77b4;\" x=\"110.053178\" xlink:href=\"#mb80cc9e2fa\" y=\"73.656714\"/>\n     <use style=\"fill:#1f77b4;stroke:#1f77b4;\" x=\"146.013892\" xlink:href=\"#mb80cc9e2fa\" y=\"90.145405\"/>\n     <use style=\"fill:#1f77b4;stroke:#1f77b4;\" x=\"117.762591\" xlink:href=\"#mb80cc9e2fa\" y=\"53.297814\"/>\n     <use style=\"fill:#1f77b4;stroke:#1f77b4;\" x=\"111.015104\" xlink:href=\"#mb80cc9e2fa\" y=\"67.642638\"/>\n     <use style=\"fill:#1f77b4;stroke:#1f77b4;\" x=\"172.886823\" xlink:href=\"#mb80cc9e2fa\" y=\"103.784846\"/>\n     <use style=\"fill:#1f77b4;stroke:#1f77b4;\" x=\"160.604744\" xlink:href=\"#mb80cc9e2fa\" y=\"76.539605\"/>\n     <use style=\"fill:#1f77b4;stroke:#1f77b4;\" x=\"137.300749\" xlink:href=\"#mb80cc9e2fa\" y=\"85.259063\"/>\n     <use style=\"fill:#1f77b4;stroke:#1f77b4;\" x=\"119.694427\" xlink:href=\"#mb80cc9e2fa\" y=\"71.630212\"/>\n     <use style=\"fill:#1f77b4;stroke:#1f77b4;\" x=\"203.351237\" xlink:href=\"#mb80cc9e2fa\" y=\"113.254974\"/>\n     <use style=\"fill:#1f77b4;stroke:#1f77b4;\" x=\"92.772956\" xlink:href=\"#mb80cc9e2fa\" y=\"57.583833\"/>\n     <use style=\"fill:#1f77b4;stroke:#1f77b4;\" x=\"135.115788\" xlink:href=\"#mb80cc9e2fa\" y=\"90.705686\"/>\n     <use style=\"fill:#1f77b4;stroke:#1f77b4;\" x=\"157.814476\" xlink:href=\"#mb80cc9e2fa\" y=\"87.837042\"/>\n     <use style=\"fill:#1f77b4;stroke:#1f77b4;\" x=\"135.950041\" xlink:href=\"#mb80cc9e2fa\" y=\"76.331375\"/>\n     <use style=\"fill:#1f77b4;stroke:#1f77b4;\" x=\"71.351396\" xlink:href=\"#mb80cc9e2fa\" y=\"40.359621\"/>\n     <use style=\"fill:#1f77b4;stroke:#1f77b4;\" x=\"88.053327\" xlink:href=\"#mb80cc9e2fa\" y=\"41.091891\"/>\n     <use style=\"fill:#1f77b4;stroke:#1f77b4;\" x=\"108.453444\" xlink:href=\"#mb80cc9e2fa\" y=\"54.341583\"/>\n     <use style=\"fill:#1f77b4;stroke:#1f77b4;\" x=\"140.400586\" xlink:href=\"#mb80cc9e2fa\" y=\"77.981494\"/>\n     <use style=\"fill:#1f77b4;stroke:#1f77b4;\" x=\"134.314775\" xlink:href=\"#mb80cc9e2fa\" y=\"80.499047\"/>\n     <use style=\"fill:#1f77b4;stroke:#1f77b4;\" x=\"146.703355\" xlink:href=\"#mb80cc9e2fa\" y=\"82.36847\"/>\n     <use style=\"fill:#1f77b4;stroke:#1f77b4;\" x=\"119.570994\" xlink:href=\"#mb80cc9e2fa\" y=\"84.979006\"/>\n     <use style=\"fill:#1f77b4;stroke:#1f77b4;\" x=\"160.727664\" xlink:href=\"#mb80cc9e2fa\" y=\"90.37263\"/>\n     <use style=\"fill:#1f77b4;stroke:#1f77b4;\" x=\"130.923008\" xlink:href=\"#mb80cc9e2fa\" y=\"80.947605\"/>\n     <use style=\"fill:#1f77b4;stroke:#1f77b4;\" x=\"147.262741\" xlink:href=\"#mb80cc9e2fa\" y=\"83.424775\"/>\n     <use style=\"fill:#1f77b4;stroke:#1f77b4;\" x=\"107.131872\" xlink:href=\"#mb80cc9e2fa\" y=\"63.3506\"/>\n     <use style=\"fill:#1f77b4;stroke:#1f77b4;\" x=\"152.527304\" xlink:href=\"#mb80cc9e2fa\" y=\"87.76128\"/>\n     <use style=\"fill:#1f77b4;stroke:#1f77b4;\" x=\"140.866365\" xlink:href=\"#mb80cc9e2fa\" y=\"74.159601\"/>\n     <use style=\"fill:#1f77b4;stroke:#1f77b4;\" x=\"117.12198\" xlink:href=\"#mb80cc9e2fa\" y=\"75.168221\"/>\n     <use style=\"fill:#1f77b4;stroke:#1f77b4;\" x=\"150.605778\" xlink:href=\"#mb80cc9e2fa\" y=\"91.274274\"/>\n     <use style=\"fill:#1f77b4;stroke:#1f77b4;\" x=\"90.20556\" xlink:href=\"#mb80cc9e2fa\" y=\"57.099012\"/>\n     <use style=\"fill:#1f77b4;stroke:#1f77b4;\" x=\"191.040079\" xlink:href=\"#mb80cc9e2fa\" y=\"109.834892\"/>\n     <use style=\"fill:#1f77b4;stroke:#1f77b4;\" x=\"164.481666\" xlink:href=\"#mb80cc9e2fa\" y=\"97.839673\"/>\n     <use style=\"fill:#1f77b4;stroke:#1f77b4;\" x=\"147.021948\" xlink:href=\"#mb80cc9e2fa\" y=\"73.627883\"/>\n     <use style=\"fill:#1f77b4;stroke:#1f77b4;\" x=\"109.282483\" xlink:href=\"#mb80cc9e2fa\" y=\"61.695452\"/>\n     <use style=\"fill:#1f77b4;stroke:#1f77b4;\" x=\"110.749217\" xlink:href=\"#mb80cc9e2fa\" y=\"67.524628\"/>\n     <use style=\"fill:#1f77b4;stroke:#1f77b4;\" x=\"80.313853\" xlink:href=\"#mb80cc9e2fa\" y=\"47.844279\"/>\n     <use style=\"fill:#1f77b4;stroke:#1f77b4;\" x=\"148.297403\" xlink:href=\"#mb80cc9e2fa\" y=\"103.159844\"/>\n     <use style=\"fill:#1f77b4;stroke:#1f77b4;\" x=\"120.303686\" xlink:href=\"#mb80cc9e2fa\" y=\"69.559403\"/>\n     <use style=\"fill:#1f77b4;stroke:#1f77b4;\" x=\"128.369044\" xlink:href=\"#mb80cc9e2fa\" y=\"68.389391\"/>\n     <use style=\"fill:#1f77b4;stroke:#1f77b4;\" x=\"135.8801\" xlink:href=\"#mb80cc9e2fa\" y=\"84.160548\"/>\n     <use style=\"fill:#1f77b4;stroke:#1f77b4;\" x=\"131.4735\" xlink:href=\"#mb80cc9e2fa\" y=\"60.523017\"/>\n     <use style=\"fill:#1f77b4;stroke:#1f77b4;\" x=\"141.723854\" xlink:href=\"#mb80cc9e2fa\" y=\"71.040182\"/>\n     <use style=\"fill:#1f77b4;stroke:#1f77b4;\" x=\"128.696619\" xlink:href=\"#mb80cc9e2fa\" y=\"94.711519\"/>\n     <use style=\"fill:#1f77b4;stroke:#1f77b4;\" x=\"135.486898\" xlink:href=\"#mb80cc9e2fa\" y=\"70.991699\"/>\n     <use style=\"fill:#1f77b4;stroke:#1f77b4;\" x=\"159.206084\" xlink:href=\"#mb80cc9e2fa\" y=\"98.64941\"/>\n     <use style=\"fill:#1f77b4;stroke:#1f77b4;\" x=\"161.536496\" xlink:href=\"#mb80cc9e2fa\" y=\"80.226453\"/>\n     <use style=\"fill:#1f77b4;stroke:#1f77b4;\" x=\"134.0623\" xlink:href=\"#mb80cc9e2fa\" y=\"77.309014\"/>\n     <use style=\"fill:#1f77b4;stroke:#1f77b4;\" x=\"135.020137\" xlink:href=\"#mb80cc9e2fa\" y=\"73.146889\"/>\n     <use style=\"fill:#1f77b4;stroke:#1f77b4;\" x=\"132.367454\" xlink:href=\"#mb80cc9e2fa\" y=\"78.215062\"/>\n     <use style=\"fill:#1f77b4;stroke:#1f77b4;\" x=\"161.595218\" xlink:href=\"#mb80cc9e2fa\" y=\"99.293482\"/>\n     <use style=\"fill:#1f77b4;stroke:#1f77b4;\" x=\"133.993538\" xlink:href=\"#mb80cc9e2fa\" y=\"81.640477\"/>\n     <use style=\"fill:#1f77b4;stroke:#1f77b4;\" x=\"154.20388\" xlink:href=\"#mb80cc9e2fa\" y=\"85.638004\"/>\n     <use style=\"fill:#1f77b4;stroke:#1f77b4;\" x=\"155.893616\" xlink:href=\"#mb80cc9e2fa\" y=\"97.946645\"/>\n     <use style=\"fill:#1f77b4;stroke:#1f77b4;\" x=\"90.05161\" xlink:href=\"#mb80cc9e2fa\" y=\"50.823542\"/>\n     <use style=\"fill:#1f77b4;stroke:#1f77b4;\" x=\"101.087427\" xlink:href=\"#mb80cc9e2fa\" y=\"58.494653\"/>\n     <use style=\"fill:#1f77b4;stroke:#1f77b4;\" x=\"104.135697\" xlink:href=\"#mb80cc9e2fa\" y=\"54.162655\"/>\n     <use style=\"fill:#1f77b4;stroke:#1f77b4;\" x=\"154.90061\" xlink:href=\"#mb80cc9e2fa\" y=\"97.65136\"/>\n     <use style=\"fill:#1f77b4;stroke:#1f77b4;\" x=\"153.830234\" xlink:href=\"#mb80cc9e2fa\" y=\"83.966684\"/>\n     <use style=\"fill:#1f77b4;stroke:#1f77b4;\" x=\"171.850999\" xlink:href=\"#mb80cc9e2fa\" y=\"107.096282\"/>\n     <use style=\"fill:#1f77b4;stroke:#1f77b4;\" x=\"128.118425\" xlink:href=\"#mb80cc9e2fa\" y=\"82.23236\"/>\n     <use style=\"fill:#1f77b4;stroke:#1f77b4;\" x=\"154.088903\" xlink:href=\"#mb80cc9e2fa\" y=\"92.029366\"/>\n     <use style=\"fill:#1f77b4;stroke:#1f77b4;\" x=\"151.781315\" xlink:href=\"#mb80cc9e2fa\" y=\"77.23052\"/>\n     <use style=\"fill:#1f77b4;stroke:#1f77b4;\" x=\"139.761272\" xlink:href=\"#mb80cc9e2fa\" y=\"72.500427\"/>\n     <use style=\"fill:#1f77b4;stroke:#1f77b4;\" x=\"140.66002\" xlink:href=\"#mb80cc9e2fa\" y=\"81.082263\"/>\n     <use style=\"fill:#1f77b4;stroke:#1f77b4;\" x=\"121.110804\" xlink:href=\"#mb80cc9e2fa\" y=\"67.187817\"/>\n     <use style=\"fill:#1f77b4;stroke:#1f77b4;\" x=\"159.161277\" xlink:href=\"#mb80cc9e2fa\" y=\"91.881146\"/>\n     <use style=\"fill:#1f77b4;stroke:#1f77b4;\" x=\"154.063269\" xlink:href=\"#mb80cc9e2fa\" y=\"97.551334\"/>\n     <use style=\"fill:#1f77b4;stroke:#1f77b4;\" x=\"137.089276\" xlink:href=\"#mb80cc9e2fa\" y=\"69.023327\"/>\n     <use style=\"fill:#1f77b4;stroke:#1f77b4;\" x=\"136.910139\" xlink:href=\"#mb80cc9e2fa\" y=\"71.584831\"/>\n     <use style=\"fill:#1f77b4;stroke:#1f77b4;\" x=\"136.969377\" xlink:href=\"#mb80cc9e2fa\" y=\"66.932512\"/>\n     <use style=\"fill:#1f77b4;stroke:#1f77b4;\" x=\"106.5188\" xlink:href=\"#mb80cc9e2fa\" y=\"65.366317\"/>\n     <use style=\"fill:#1f77b4;stroke:#1f77b4;\" x=\"164.189744\" xlink:href=\"#mb80cc9e2fa\" y=\"92.786495\"/>\n     <use style=\"fill:#1f77b4;stroke:#1f77b4;\" x=\"148.096729\" xlink:href=\"#mb80cc9e2fa\" y=\"97.386821\"/>\n     <use style=\"fill:#1f77b4;stroke:#1f77b4;\" x=\"131.064317\" xlink:href=\"#mb80cc9e2fa\" y=\"82.064324\"/>\n     <use style=\"fill:#1f77b4;stroke:#1f77b4;\" x=\"133.639941\" xlink:href=\"#mb80cc9e2fa\" y=\"85.418846\"/>\n     <use style=\"fill:#1f77b4;stroke:#1f77b4;\" x=\"133.571138\" xlink:href=\"#mb80cc9e2fa\" y=\"69.341703\"/>\n     <use style=\"fill:#1f77b4;stroke:#1f77b4;\" x=\"129.391142\" xlink:href=\"#mb80cc9e2fa\" y=\"82.728119\"/>\n     <use style=\"fill:#1f77b4;stroke:#1f77b4;\" x=\"188.48686\" xlink:href=\"#mb80cc9e2fa\" y=\"105.338677\"/>\n     <use style=\"fill:#1f77b4;stroke:#1f77b4;\" x=\"153.256476\" xlink:href=\"#mb80cc9e2fa\" y=\"80.45786\"/>\n     <use style=\"fill:#1f77b4;stroke:#1f77b4;\" x=\"130.226365\" xlink:href=\"#mb80cc9e2fa\" y=\"72.046577\"/>\n     <use style=\"fill:#1f77b4;stroke:#1f77b4;\" x=\"93.524145\" xlink:href=\"#mb80cc9e2fa\" y=\"66.100405\"/>\n     <use style=\"fill:#1f77b4;stroke:#1f77b4;\" x=\"121.309272\" xlink:href=\"#mb80cc9e2fa\" y=\"72.119519\"/>\n     <use style=\"fill:#1f77b4;stroke:#1f77b4;\" x=\"135.535683\" xlink:href=\"#mb80cc9e2fa\" y=\"71.35436\"/>\n     <use style=\"fill:#1f77b4;stroke:#1f77b4;\" x=\"145.010493\" xlink:href=\"#mb80cc9e2fa\" y=\"84.443038\"/>\n     <use style=\"fill:#1f77b4;stroke:#1f77b4;\" x=\"112.551239\" xlink:href=\"#mb80cc9e2fa\" y=\"64.649871\"/>\n     <use style=\"fill:#1f77b4;stroke:#1f77b4;\" x=\"167.378164\" xlink:href=\"#mb80cc9e2fa\" y=\"95.095821\"/>\n     <use style=\"fill:#1f77b4;stroke:#1f77b4;\" x=\"107.182383\" xlink:href=\"#mb80cc9e2fa\" y=\"52.592362\"/>\n     <use style=\"fill:#1f77b4;stroke:#1f77b4;\" x=\"127.374627\" xlink:href=\"#mb80cc9e2fa\" y=\"67.676949\"/>\n     <use style=\"fill:#1f77b4;stroke:#1f77b4;\" x=\"189.162692\" xlink:href=\"#mb80cc9e2fa\" y=\"105.31289\"/>\n     <use style=\"fill:#1f77b4;stroke:#1f77b4;\" x=\"165.096957\" xlink:href=\"#mb80cc9e2fa\" y=\"97.774387\"/>\n     <use style=\"fill:#1f77b4;stroke:#1f77b4;\" x=\"116.507331\" xlink:href=\"#mb80cc9e2fa\" y=\"63.809907\"/>\n     <use style=\"fill:#1f77b4;stroke:#1f77b4;\" x=\"167.904578\" xlink:href=\"#mb80cc9e2fa\" y=\"89.645121\"/>\n     <use style=\"fill:#1f77b4;stroke:#1f77b4;\" x=\"201.678677\" xlink:href=\"#mb80cc9e2fa\" y=\"119.580883\"/>\n     <use style=\"fill:#1f77b4;stroke:#1f77b4;\" x=\"80.062763\" xlink:href=\"#mb80cc9e2fa\" y=\"50.964595\"/>\n     <use style=\"fill:#1f77b4;stroke:#1f77b4;\" x=\"154.610902\" xlink:href=\"#mb80cc9e2fa\" y=\"96.450298\"/>\n     <use style=\"fill:#1f77b4;stroke:#1f77b4;\" x=\"148.094478\" xlink:href=\"#mb80cc9e2fa\" y=\"82.916987\"/>\n     <use style=\"fill:#1f77b4;stroke:#1f77b4;\" x=\"105.482689\" xlink:href=\"#mb80cc9e2fa\" y=\"55.749334\"/>\n     <use style=\"fill:#1f77b4;stroke:#1f77b4;\" x=\"103.262313\" xlink:href=\"#mb80cc9e2fa\" y=\"55.421626\"/>\n     <use style=\"fill:#1f77b4;stroke:#1f77b4;\" x=\"139.393262\" xlink:href=\"#mb80cc9e2fa\" y=\"82.560605\"/>\n     <use style=\"fill:#1f77b4;stroke:#1f77b4;\" x=\"137.581889\" xlink:href=\"#mb80cc9e2fa\" y=\"98.273112\"/>\n     <use style=\"fill:#1f77b4;stroke:#1f77b4;\" x=\"108.672606\" xlink:href=\"#mb80cc9e2fa\" y=\"66.235663\"/>\n     <use style=\"fill:#1f77b4;stroke:#1f77b4;\" x=\"152.778138\" xlink:href=\"#mb80cc9e2fa\" y=\"84.642109\"/>\n     <use style=\"fill:#1f77b4;stroke:#1f77b4;\" x=\"121.172268\" xlink:href=\"#mb80cc9e2fa\" y=\"72.819522\"/>\n     <use style=\"fill:#1f77b4;stroke:#1f77b4;\" x=\"192.356334\" xlink:href=\"#mb80cc9e2fa\" y=\"115.837247\"/>\n     <use style=\"fill:#1f77b4;stroke:#1f77b4;\" x=\"106.672753\" xlink:href=\"#mb80cc9e2fa\" y=\"59.993742\"/>\n     <use style=\"fill:#1f77b4;stroke:#1f77b4;\" x=\"135.577937\" xlink:href=\"#mb80cc9e2fa\" y=\"67.858553\"/>\n     <use style=\"fill:#1f77b4;stroke:#1f77b4;\" x=\"145.555805\" xlink:href=\"#mb80cc9e2fa\" y=\"98.194812\"/>\n     <use style=\"fill:#1f77b4;stroke:#1f77b4;\" x=\"112.902892\" xlink:href=\"#mb80cc9e2fa\" y=\"56.024748\"/>\n     <use style=\"fill:#1f77b4;stroke:#1f77b4;\" x=\"146.802301\" xlink:href=\"#mb80cc9e2fa\" y=\"88.168612\"/>\n     <use style=\"fill:#1f77b4;stroke:#1f77b4;\" x=\"124.805819\" xlink:href=\"#mb80cc9e2fa\" y=\"56.448693\"/>\n     <use style=\"fill:#1f77b4;stroke:#1f77b4;\" x=\"121.564901\" xlink:href=\"#mb80cc9e2fa\" y=\"71.681001\"/>\n     <use style=\"fill:#1f77b4;stroke:#1f77b4;\" x=\"115.025056\" xlink:href=\"#mb80cc9e2fa\" y=\"79.647173\"/>\n     <use style=\"fill:#1f77b4;stroke:#1f77b4;\" x=\"126.959902\" xlink:href=\"#mb80cc9e2fa\" y=\"73.861668\"/>\n     <use style=\"fill:#1f77b4;stroke:#1f77b4;\" x=\"149.878369\" xlink:href=\"#mb80cc9e2fa\" y=\"83.620893\"/>\n     <use style=\"fill:#1f77b4;stroke:#1f77b4;\" x=\"123.706342\" xlink:href=\"#mb80cc9e2fa\" y=\"80.020036\"/>\n     <use style=\"fill:#1f77b4;stroke:#1f77b4;\" x=\"74.162182\" xlink:href=\"#mb80cc9e2fa\" y=\"59.802318\"/>\n     <use style=\"fill:#1f77b4;stroke:#1f77b4;\" x=\"150.810165\" xlink:href=\"#mb80cc9e2fa\" y=\"84.280871\"/>\n     <use style=\"fill:#1f77b4;stroke:#1f77b4;\" x=\"132.964004\" xlink:href=\"#mb80cc9e2fa\" y=\"73.967723\"/>\n     <use style=\"fill:#1f77b4;stroke:#1f77b4;\" x=\"143.683597\" xlink:href=\"#mb80cc9e2fa\" y=\"73.939396\"/>\n     <use style=\"fill:#1f77b4;stroke:#1f77b4;\" x=\"126.592951\" xlink:href=\"#mb80cc9e2fa\" y=\"79.083796\"/>\n     <use style=\"fill:#1f77b4;stroke:#1f77b4;\" x=\"163.39371\" xlink:href=\"#mb80cc9e2fa\" y=\"106.063417\"/>\n     <use style=\"fill:#1f77b4;stroke:#1f77b4;\" x=\"139.261001\" xlink:href=\"#mb80cc9e2fa\" y=\"77.96127\"/>\n     <use style=\"fill:#1f77b4;stroke:#1f77b4;\" x=\"147.825375\" xlink:href=\"#mb80cc9e2fa\" y=\"81.648696\"/>\n     <use style=\"fill:#1f77b4;stroke:#1f77b4;\" x=\"133.209807\" xlink:href=\"#mb80cc9e2fa\" y=\"88.342361\"/>\n     <use style=\"fill:#1f77b4;stroke:#1f77b4;\" x=\"112.886142\" xlink:href=\"#mb80cc9e2fa\" y=\"68.694226\"/>\n     <use style=\"fill:#1f77b4;stroke:#1f77b4;\" x=\"117.250218\" xlink:href=\"#mb80cc9e2fa\" y=\"72.055953\"/>\n     <use style=\"fill:#1f77b4;stroke:#1f77b4;\" x=\"153.419867\" xlink:href=\"#mb80cc9e2fa\" y=\"92.493143\"/>\n     <use style=\"fill:#1f77b4;stroke:#1f77b4;\" x=\"153.840576\" xlink:href=\"#mb80cc9e2fa\" y=\"85.748155\"/>\n     <use style=\"fill:#1f77b4;stroke:#1f77b4;\" x=\"91.82458\" xlink:href=\"#mb80cc9e2fa\" y=\"68.072492\"/>\n     <use style=\"fill:#1f77b4;stroke:#1f77b4;\" x=\"102.992293\" xlink:href=\"#mb80cc9e2fa\" y=\"65.023135\"/>\n     <use style=\"fill:#1f77b4;stroke:#1f77b4;\" x=\"148.388636\" xlink:href=\"#mb80cc9e2fa\" y=\"79.427732\"/>\n     <use style=\"fill:#1f77b4;stroke:#1f77b4;\" x=\"156.296697\" xlink:href=\"#mb80cc9e2fa\" y=\"88.708706\"/>\n     <use style=\"fill:#1f77b4;stroke:#1f77b4;\" x=\"131.808852\" xlink:href=\"#mb80cc9e2fa\" y=\"75.680734\"/>\n     <use style=\"fill:#1f77b4;stroke:#1f77b4;\" x=\"124.386166\" xlink:href=\"#mb80cc9e2fa\" y=\"72.676377\"/>\n     <use style=\"fill:#1f77b4;stroke:#1f77b4;\" x=\"182.286156\" xlink:href=\"#mb80cc9e2fa\" y=\"101.964093\"/>\n     <use style=\"fill:#1f77b4;stroke:#1f77b4;\" x=\"164.562899\" xlink:href=\"#mb80cc9e2fa\" y=\"89.179869\"/>\n     <use style=\"fill:#1f77b4;stroke:#1f77b4;\" x=\"75.88267\" xlink:href=\"#mb80cc9e2fa\" y=\"47.811034\"/>\n     <use style=\"fill:#1f77b4;stroke:#1f77b4;\" x=\"131.563893\" xlink:href=\"#mb80cc9e2fa\" y=\"78.154516\"/>\n     <use style=\"fill:#1f77b4;stroke:#1f77b4;\" x=\"174.314617\" xlink:href=\"#mb80cc9e2fa\" y=\"108.040892\"/>\n     <use style=\"fill:#1f77b4;stroke:#1f77b4;\" x=\"167.93066\" xlink:href=\"#mb80cc9e2fa\" y=\"102.828655\"/>\n     <use style=\"fill:#1f77b4;stroke:#1f77b4;\" x=\"111.919138\" xlink:href=\"#mb80cc9e2fa\" y=\"61.586908\"/>\n     <use style=\"fill:#1f77b4;stroke:#1f77b4;\" x=\"158.418459\" xlink:href=\"#mb80cc9e2fa\" y=\"97.074381\"/>\n     <use style=\"fill:#1f77b4;stroke:#1f77b4;\" x=\"147.17953\" xlink:href=\"#mb80cc9e2fa\" y=\"82.330032\"/>\n     <use style=\"fill:#1f77b4;stroke:#1f77b4;\" x=\"151.240615\" xlink:href=\"#mb80cc9e2fa\" y=\"81.480114\"/>\n     <use style=\"fill:#1f77b4;stroke:#1f77b4;\" x=\"183.919451\" xlink:href=\"#mb80cc9e2fa\" y=\"96.789585\"/>\n     <use style=\"fill:#1f77b4;stroke:#1f77b4;\" x=\"124.310311\" xlink:href=\"#mb80cc9e2fa\" y=\"77.268195\"/>\n     <use style=\"fill:#1f77b4;stroke:#1f77b4;\" x=\"133.438994\" xlink:href=\"#mb80cc9e2fa\" y=\"76.591136\"/>\n     <use style=\"fill:#1f77b4;stroke:#1f77b4;\" x=\"114.751363\" xlink:href=\"#mb80cc9e2fa\" y=\"66.090592\"/>\n     <use style=\"fill:#1f77b4;stroke:#1f77b4;\" x=\"135.985136\" xlink:href=\"#mb80cc9e2fa\" y=\"95.359067\"/>\n     <use style=\"fill:#1f77b4;stroke:#1f77b4;\" x=\"77.412615\" xlink:href=\"#mb80cc9e2fa\" y=\"42.550447\"/>\n     <use style=\"fill:#1f77b4;stroke:#1f77b4;\" x=\"124.607802\" xlink:href=\"#mb80cc9e2fa\" y=\"77.981844\"/>\n     <use style=\"fill:#1f77b4;stroke:#1f77b4;\" x=\"102.206114\" xlink:href=\"#mb80cc9e2fa\" y=\"46.316602\"/>\n     <use style=\"fill:#1f77b4;stroke:#1f77b4;\" x=\"114.029891\" xlink:href=\"#mb80cc9e2fa\" y=\"57.568034\"/>\n     <use style=\"fill:#1f77b4;stroke:#1f77b4;\" x=\"108.351825\" xlink:href=\"#mb80cc9e2fa\" y=\"66.296181\"/>\n     <use style=\"fill:#1f77b4;stroke:#1f77b4;\" x=\"144.053708\" xlink:href=\"#mb80cc9e2fa\" y=\"73.369073\"/>\n     <use style=\"fill:#1f77b4;stroke:#1f77b4;\" x=\"116.569426\" xlink:href=\"#mb80cc9e2fa\" y=\"57.078062\"/>\n     <use style=\"fill:#1f77b4;stroke:#1f77b4;\" x=\"157.896419\" xlink:href=\"#mb80cc9e2fa\" y=\"94.941138\"/>\n     <use style=\"fill:#1f77b4;stroke:#1f77b4;\" x=\"159.020329\" xlink:href=\"#mb80cc9e2fa\" y=\"107.47563\"/>\n     <use style=\"fill:#1f77b4;stroke:#1f77b4;\" x=\"172.900959\" xlink:href=\"#mb80cc9e2fa\" y=\"85.498187\"/>\n     <use style=\"fill:#1f77b4;stroke:#1f77b4;\" x=\"157.179497\" xlink:href=\"#mb80cc9e2fa\" y=\"79.662179\"/>\n     <use style=\"fill:#1f77b4;stroke:#1f77b4;\" x=\"76.061071\" xlink:href=\"#mb80cc9e2fa\" y=\"33.843944\"/>\n     <use style=\"fill:#1f77b4;stroke:#1f77b4;\" x=\"144.61421\" xlink:href=\"#mb80cc9e2fa\" y=\"103.563387\"/>\n     <use style=\"fill:#1f77b4;stroke:#1f77b4;\" x=\"164.625665\" xlink:href=\"#mb80cc9e2fa\" y=\"93.420626\"/>\n     <use style=\"fill:#1f77b4;stroke:#1f77b4;\" x=\"112.659393\" xlink:href=\"#mb80cc9e2fa\" y=\"54.719509\"/>\n     <use style=\"fill:#1f77b4;stroke:#1f77b4;\" x=\"135.443147\" xlink:href=\"#mb80cc9e2fa\" y=\"64.18589\"/>\n     <use style=\"fill:#1f77b4;stroke:#1f77b4;\" x=\"162.288362\" xlink:href=\"#mb80cc9e2fa\" y=\"96.143318\"/>\n     <use style=\"fill:#1f77b4;stroke:#1f77b4;\" x=\"146.429041\" xlink:href=\"#mb80cc9e2fa\" y=\"74.364585\"/>\n     <use style=\"fill:#1f77b4;stroke:#1f77b4;\" x=\"194.480783\" xlink:href=\"#mb80cc9e2fa\" y=\"129.372014\"/>\n     <use style=\"fill:#1f77b4;stroke:#1f77b4;\" x=\"152.359169\" xlink:href=\"#mb80cc9e2fa\" y=\"87.805294\"/>\n     <use style=\"fill:#1f77b4;stroke:#1f77b4;\" x=\"84.71398\" xlink:href=\"#mb80cc9e2fa\" y=\"47.301933\"/>\n     <use style=\"fill:#1f77b4;stroke:#1f77b4;\" x=\"140.070894\" xlink:href=\"#mb80cc9e2fa\" y=\"72.245092\"/>\n     <use style=\"fill:#1f77b4;stroke:#1f77b4;\" x=\"92.464228\" xlink:href=\"#mb80cc9e2fa\" y=\"66.821899\"/>\n     <use style=\"fill:#1f77b4;stroke:#1f77b4;\" x=\"147.03079\" xlink:href=\"#mb80cc9e2fa\" y=\"79.217685\"/>\n     <use style=\"fill:#1f77b4;stroke:#1f77b4;\" x=\"174.591262\" xlink:href=\"#mb80cc9e2fa\" y=\"107.50197\"/>\n     <use style=\"fill:#1f77b4;stroke:#1f77b4;\" x=\"125.02328\" xlink:href=\"#mb80cc9e2fa\" y=\"82.378923\"/>\n     <use style=\"fill:#1f77b4;stroke:#1f77b4;\" x=\"81.157209\" xlink:href=\"#mb80cc9e2fa\" y=\"40.609536\"/>\n     <use style=\"fill:#1f77b4;stroke:#1f77b4;\" x=\"163.218725\" xlink:href=\"#mb80cc9e2fa\" y=\"97.290323\"/>\n     <use style=\"fill:#1f77b4;stroke:#1f77b4;\" x=\"138.177276\" xlink:href=\"#mb80cc9e2fa\" y=\"76.818621\"/>\n     <use style=\"fill:#1f77b4;stroke:#1f77b4;\" x=\"119.121537\" xlink:href=\"#mb80cc9e2fa\" y=\"65.893965\"/>\n     <use style=\"fill:#1f77b4;stroke:#1f77b4;\" x=\"168.642498\" xlink:href=\"#mb80cc9e2fa\" y=\"115.096595\"/>\n     <use style=\"fill:#1f77b4;stroke:#1f77b4;\" x=\"159.91205\" xlink:href=\"#mb80cc9e2fa\" y=\"97.974844\"/>\n     <use style=\"fill:#1f77b4;stroke:#1f77b4;\" x=\"113.031594\" xlink:href=\"#mb80cc9e2fa\" y=\"82.003489\"/>\n     <use style=\"fill:#1f77b4;stroke:#1f77b4;\" x=\"165.143708\" xlink:href=\"#mb80cc9e2fa\" y=\"85.867516\"/>\n     <use style=\"fill:#1f77b4;stroke:#1f77b4;\" x=\"121.123632\" xlink:href=\"#mb80cc9e2fa\" y=\"66.642581\"/>\n     <use style=\"fill:#1f77b4;stroke:#1f77b4;\" x=\"145.043619\" xlink:href=\"#mb80cc9e2fa\" y=\"83.922422\"/>\n     <use style=\"fill:#1f77b4;stroke:#1f77b4;\" x=\"179.706953\" xlink:href=\"#mb80cc9e2fa\" y=\"97.007324\"/>\n     <use style=\"fill:#1f77b4;stroke:#1f77b4;\" x=\"159.50561\" xlink:href=\"#mb80cc9e2fa\" y=\"91.801453\"/>\n     <use style=\"fill:#1f77b4;stroke:#1f77b4;\" x=\"135.928959\" xlink:href=\"#mb80cc9e2fa\" y=\"67.141498\"/>\n     <use style=\"fill:#1f77b4;stroke:#1f77b4;\" x=\"165.955515\" xlink:href=\"#mb80cc9e2fa\" y=\"85.64575\"/>\n     <use style=\"fill:#1f77b4;stroke:#1f77b4;\" x=\"131.927389\" xlink:href=\"#mb80cc9e2fa\" y=\"79.30959\"/>\n     <use style=\"fill:#1f77b4;stroke:#1f77b4;\" x=\"137.876859\" xlink:href=\"#mb80cc9e2fa\" y=\"76.157314\"/>\n     <use style=\"fill:#1f77b4;stroke:#1f77b4;\" x=\"118.392182\" xlink:href=\"#mb80cc9e2fa\" y=\"78.271554\"/>\n     <use style=\"fill:#1f77b4;stroke:#1f77b4;\" x=\"120.95725\" xlink:href=\"#mb80cc9e2fa\" y=\"78.955587\"/>\n     <use style=\"fill:#1f77b4;stroke:#1f77b4;\" x=\"139.986551\" xlink:href=\"#mb80cc9e2fa\" y=\"80.928631\"/>\n     <use style=\"fill:#1f77b4;stroke:#1f77b4;\" x=\"165.004916\" xlink:href=\"#mb80cc9e2fa\" y=\"88.602064\"/>\n     <use style=\"fill:#1f77b4;stroke:#1f77b4;\" x=\"94.292103\" xlink:href=\"#mb80cc9e2fa\" y=\"61.176107\"/>\n     <use style=\"fill:#1f77b4;stroke:#1f77b4;\" x=\"114.384267\" xlink:href=\"#mb80cc9e2fa\" y=\"57.164835\"/>\n     <use style=\"fill:#1f77b4;stroke:#1f77b4;\" x=\"143.785181\" xlink:href=\"#mb80cc9e2fa\" y=\"95.40856\"/>\n     <use style=\"fill:#1f77b4;stroke:#1f77b4;\" x=\"203.585439\" xlink:href=\"#mb80cc9e2fa\" y=\"118.480831\"/>\n     <use style=\"fill:#1f77b4;stroke:#1f77b4;\" x=\"176.51269\" xlink:href=\"#mb80cc9e2fa\" y=\"107.126921\"/>\n     <use style=\"fill:#1f77b4;stroke:#1f77b4;\" x=\"133.918906\" xlink:href=\"#mb80cc9e2fa\" y=\"72.514578\"/>\n     <use style=\"fill:#1f77b4;stroke:#1f77b4;\" x=\"153.178054\" xlink:href=\"#mb80cc9e2fa\" y=\"93.526456\"/>\n     <use style=\"fill:#1f77b4;stroke:#1f77b4;\" x=\"141.044966\" xlink:href=\"#mb80cc9e2fa\" y=\"87.601246\"/>\n     <use style=\"fill:#1f77b4;stroke:#1f77b4;\" x=\"158.112287\" xlink:href=\"#mb80cc9e2fa\" y=\"97.59283\"/>\n     <use style=\"fill:#1f77b4;stroke:#1f77b4;\" x=\"158.459384\" xlink:href=\"#mb80cc9e2fa\" y=\"81.269762\"/>\n     <use style=\"fill:#1f77b4;stroke:#1f77b4;\" x=\"113.465936\" xlink:href=\"#mb80cc9e2fa\" y=\"68.310175\"/>\n     <use style=\"fill:#1f77b4;stroke:#1f77b4;\" x=\"130.899201\" xlink:href=\"#mb80cc9e2fa\" y=\"81.55957\"/>\n     <use style=\"fill:#1f77b4;stroke:#1f77b4;\" x=\"88.043534\" xlink:href=\"#mb80cc9e2fa\" y=\"59.334136\"/>\n     <use style=\"fill:#1f77b4;stroke:#1f77b4;\" x=\"140.727708\" xlink:href=\"#mb80cc9e2fa\" y=\"81.798621\"/>\n     <use style=\"fill:#1f77b4;stroke:#1f77b4;\" x=\"174.944771\" xlink:href=\"#mb80cc9e2fa\" y=\"107.544752\"/>\n     <use style=\"fill:#1f77b4;stroke:#1f77b4;\" x=\"125.323783\" xlink:href=\"#mb80cc9e2fa\" y=\"79.034947\"/>\n     <use style=\"fill:#1f77b4;stroke:#1f77b4;\" x=\"84.441968\" xlink:href=\"#mb80cc9e2fa\" y=\"58.836538\"/>\n     <use style=\"fill:#1f77b4;stroke:#1f77b4;\" x=\"157.302325\" xlink:href=\"#mb80cc9e2fa\" y=\"90.891051\"/>\n     <use style=\"fill:#1f77b4;stroke:#1f77b4;\" x=\"158.858093\" xlink:href=\"#mb80cc9e2fa\" y=\"105.000082\"/>\n     <use style=\"fill:#1f77b4;stroke:#1f77b4;\" x=\"134.43235\" xlink:href=\"#mb80cc9e2fa\" y=\"63.999083\"/>\n     <use style=\"fill:#1f77b4;stroke:#1f77b4;\" x=\"113.082736\" xlink:href=\"#mb80cc9e2fa\" y=\"65.087818\"/>\n     <use style=\"fill:#1f77b4;stroke:#1f77b4;\" x=\"137.956166\" xlink:href=\"#mb80cc9e2fa\" y=\"92.332947\"/>\n     <use style=\"fill:#1f77b4;stroke:#1f77b4;\" x=\"166.205202\" xlink:href=\"#mb80cc9e2fa\" y=\"76.913233\"/>\n     <use style=\"fill:#1f77b4;stroke:#1f77b4;\" x=\"132.149277\" xlink:href=\"#mb80cc9e2fa\" y=\"79.440972\"/>\n     <use style=\"fill:#1f77b4;stroke:#1f77b4;\" x=\"141.968502\" xlink:href=\"#mb80cc9e2fa\" y=\"72.130409\"/>\n     <use style=\"fill:#1f77b4;stroke:#1f77b4;\" x=\"122.01073\" xlink:href=\"#mb80cc9e2fa\" y=\"63.885924\"/>\n     <use style=\"fill:#1f77b4;stroke:#1f77b4;\" x=\"151.817935\" xlink:href=\"#mb80cc9e2fa\" y=\"95.301222\"/>\n     <use style=\"fill:#1f77b4;stroke:#1f77b4;\" x=\"150.552719\" xlink:href=\"#mb80cc9e2fa\" y=\"83.294224\"/>\n     <use style=\"fill:#1f77b4;stroke:#1f77b4;\" x=\"196.317392\" xlink:href=\"#mb80cc9e2fa\" y=\"106.755715\"/>\n     <use style=\"fill:#1f77b4;stroke:#1f77b4;\" x=\"114.243648\" xlink:href=\"#mb80cc9e2fa\" y=\"60.602502\"/>\n     <use style=\"fill:#1f77b4;stroke:#1f77b4;\" x=\"109.211637\" xlink:href=\"#mb80cc9e2fa\" y=\"67.663831\"/>\n     <use style=\"fill:#1f77b4;stroke:#1f77b4;\" x=\"124.999758\" xlink:href=\"#mb80cc9e2fa\" y=\"65.808461\"/>\n     <use style=\"fill:#1f77b4;stroke:#1f77b4;\" x=\"145.778119\" xlink:href=\"#mb80cc9e2fa\" y=\"75.955493\"/>\n     <use style=\"fill:#1f77b4;stroke:#1f77b4;\" x=\"171.383329\" xlink:href=\"#mb80cc9e2fa\" y=\"98.295536\"/>\n     <use style=\"fill:#1f77b4;stroke:#1f77b4;\" x=\"147.0138\" xlink:href=\"#mb80cc9e2fa\" y=\"77.067601\"/>\n     <use style=\"fill:#1f77b4;stroke:#1f77b4;\" x=\"53.730581\" xlink:href=\"#mb80cc9e2fa\" y=\"25.992224\"/>\n     <use style=\"fill:#1f77b4;stroke:#1f77b4;\" x=\"130.571743\" xlink:href=\"#mb80cc9e2fa\" y=\"78.968962\"/>\n     <use style=\"fill:#1f77b4;stroke:#1f77b4;\" x=\"127.401969\" xlink:href=\"#mb80cc9e2fa\" y=\"70.851991\"/>\n     <use style=\"fill:#1f77b4;stroke:#1f77b4;\" x=\"175.246833\" xlink:href=\"#mb80cc9e2fa\" y=\"103.395021\"/>\n     <use style=\"fill:#1f77b4;stroke:#1f77b4;\" x=\"99.125781\" xlink:href=\"#mb80cc9e2fa\" y=\"70.084628\"/>\n     <use style=\"fill:#1f77b4;stroke:#1f77b4;\" x=\"168.477949\" xlink:href=\"#mb80cc9e2fa\" y=\"98.241633\"/>\n     <use style=\"fill:#1f77b4;stroke:#1f77b4;\" x=\"130.606909\" xlink:href=\"#mb80cc9e2fa\" y=\"79.543579\"/>\n     <use style=\"fill:#1f77b4;stroke:#1f77b4;\" x=\"144.716095\" xlink:href=\"#mb80cc9e2fa\" y=\"81.077128\"/>\n     <use style=\"fill:#1f77b4;stroke:#1f77b4;\" x=\"105.726936\" xlink:href=\"#mb80cc9e2fa\" y=\"59.566198\"/>\n     <use style=\"fill:#1f77b4;stroke:#1f77b4;\" x=\"112.177223\" xlink:href=\"#mb80cc9e2fa\" y=\"68.561355\"/>\n     <use style=\"fill:#1f77b4;stroke:#1f77b4;\" x=\"104.226533\" xlink:href=\"#mb80cc9e2fa\" y=\"52.666024\"/>\n     <use style=\"fill:#1f77b4;stroke:#1f77b4;\" x=\"93.612668\" xlink:href=\"#mb80cc9e2fa\" y=\"56.305459\"/>\n     <use style=\"fill:#1f77b4;stroke:#1f77b4;\" x=\"126.938437\" xlink:href=\"#mb80cc9e2fa\" y=\"64.103245\"/>\n     <use style=\"fill:#1f77b4;stroke:#1f77b4;\" x=\"173.610122\" xlink:href=\"#mb80cc9e2fa\" y=\"99.476114\"/>\n     <use style=\"fill:#1f77b4;stroke:#1f77b4;\" x=\"121.855947\" xlink:href=\"#mb80cc9e2fa\" y=\"77.887588\"/>\n     <use style=\"fill:#1f77b4;stroke:#1f77b4;\" x=\"114.125843\" xlink:href=\"#mb80cc9e2fa\" y=\"74.841348\"/>\n     <use style=\"fill:#1f77b4;stroke:#1f77b4;\" x=\"182.378632\" xlink:href=\"#mb80cc9e2fa\" y=\"103.439419\"/>\n     <use style=\"fill:#1f77b4;stroke:#1f77b4;\" x=\"147.766002\" xlink:href=\"#mb80cc9e2fa\" y=\"82.504423\"/>\n     <use style=\"fill:#1f77b4;stroke:#1f77b4;\" x=\"139.188209\" xlink:href=\"#mb80cc9e2fa\" y=\"83.205771\"/>\n     <use style=\"fill:#1f77b4;stroke:#1f77b4;\" x=\"133.049657\" xlink:href=\"#mb80cc9e2fa\" y=\"84.379527\"/>\n     <use style=\"fill:#1f77b4;stroke:#1f77b4;\" x=\"162.783579\" xlink:href=\"#mb80cc9e2fa\" y=\"77.917825\"/>\n     <use style=\"fill:#1f77b4;stroke:#1f77b4;\" x=\"153.408014\" xlink:href=\"#mb80cc9e2fa\" y=\"93.932866\"/>\n     <use style=\"fill:#1f77b4;stroke:#1f77b4;\" x=\"113.374573\" xlink:href=\"#mb80cc9e2fa\" y=\"67.583065\"/>\n     <use style=\"fill:#1f77b4;stroke:#1f77b4;\" x=\"114.906917\" xlink:href=\"#mb80cc9e2fa\" y=\"76.160093\"/>\n     <use style=\"fill:#1f77b4;stroke:#1f77b4;\" x=\"144.972902\" xlink:href=\"#mb80cc9e2fa\" y=\"75.052409\"/>\n     <use style=\"fill:#1f77b4;stroke:#1f77b4;\" x=\"165.809325\" xlink:href=\"#mb80cc9e2fa\" y=\"93.546483\"/>\n     <use style=\"fill:#1f77b4;stroke:#1f77b4;\" x=\"165.900559\" xlink:href=\"#mb80cc9e2fa\" y=\"98.09512\"/>\n     <use style=\"fill:#1f77b4;stroke:#1f77b4;\" x=\"114.857467\" xlink:href=\"#mb80cc9e2fa\" y=\"56.143717\"/>\n     <use style=\"fill:#1f77b4;stroke:#1f77b4;\" x=\"176.683959\" xlink:href=\"#mb80cc9e2fa\" y=\"105.325342\"/>\n     <use style=\"fill:#1f77b4;stroke:#1f77b4;\" x=\"143.835792\" xlink:href=\"#mb80cc9e2fa\" y=\"79.506724\"/>\n     <use style=\"fill:#1f77b4;stroke:#1f77b4;\" x=\"110.404763\" xlink:href=\"#mb80cc9e2fa\" y=\"68.957709\"/>\n     <use style=\"fill:#1f77b4;stroke:#1f77b4;\" x=\"125.312431\" xlink:href=\"#mb80cc9e2fa\" y=\"70.198857\"/>\n     <use style=\"fill:#1f77b4;stroke:#1f77b4;\" x=\"197.204401\" xlink:href=\"#mb80cc9e2fa\" y=\"120.185702\"/>\n     <use style=\"fill:#1f77b4;stroke:#1f77b4;\" x=\"150.451732\" xlink:href=\"#mb80cc9e2fa\" y=\"70.433018\"/>\n     <use style=\"fill:#1f77b4;stroke:#1f77b4;\" x=\"179.847671\" xlink:href=\"#mb80cc9e2fa\" y=\"91.126338\"/>\n     <use style=\"fill:#1f77b4;stroke:#1f77b4;\" x=\"131.724649\" xlink:href=\"#mb80cc9e2fa\" y=\"85.49047\"/>\n     <use style=\"fill:#1f77b4;stroke:#1f77b4;\" x=\"145.106628\" xlink:href=\"#mb80cc9e2fa\" y=\"83.211542\"/>\n     <use style=\"fill:#1f77b4;stroke:#1f77b4;\" x=\"47.773595\" xlink:href=\"#mb80cc9e2fa\" y=\"30.463401\"/>\n     <use style=\"fill:#1f77b4;stroke:#1f77b4;\" x=\"130.161814\" xlink:href=\"#mb80cc9e2fa\" y=\"68.872502\"/>\n     <use style=\"fill:#1f77b4;stroke:#1f77b4;\" x=\"116.250093\" xlink:href=\"#mb80cc9e2fa\" y=\"64.034846\"/>\n     <use style=\"fill:#1f77b4;stroke:#1f77b4;\" x=\"138.294349\" xlink:href=\"#mb80cc9e2fa\" y=\"80.943074\"/>\n     <use style=\"fill:#1f77b4;stroke:#1f77b4;\" x=\"152.970377\" xlink:href=\"#mb80cc9e2fa\" y=\"78.8041\"/>\n     <use style=\"fill:#1f77b4;stroke:#1f77b4;\" x=\"98.665345\" xlink:href=\"#mb80cc9e2fa\" y=\"63.963968\"/>\n     <use style=\"fill:#1f77b4;stroke:#1f77b4;\" x=\"145.388847\" xlink:href=\"#mb80cc9e2fa\" y=\"79.631998\"/>\n     <use style=\"fill:#1f77b4;stroke:#1f77b4;\" x=\"180.096946\" xlink:href=\"#mb80cc9e2fa\" y=\"108.217207\"/>\n     <use style=\"fill:#1f77b4;stroke:#1f77b4;\" x=\"106.556818\" xlink:href=\"#mb80cc9e2fa\" y=\"56.287912\"/>\n     <use style=\"fill:#1f77b4;stroke:#1f77b4;\" x=\"95.957656\" xlink:href=\"#mb80cc9e2fa\" y=\"60.751145\"/>\n     <use style=\"fill:#1f77b4;stroke:#1f77b4;\" x=\"138.650938\" xlink:href=\"#mb80cc9e2fa\" y=\"78.326325\"/>\n     <use style=\"fill:#1f77b4;stroke:#1f77b4;\" x=\"152.285446\" xlink:href=\"#mb80cc9e2fa\" y=\"84.253632\"/>\n     <use style=\"fill:#1f77b4;stroke:#1f77b4;\" x=\"149.06975\" xlink:href=\"#mb80cc9e2fa\" y=\"86.596496\"/>\n     <use style=\"fill:#1f77b4;stroke:#1f77b4;\" x=\"176.663194\" xlink:href=\"#mb80cc9e2fa\" y=\"93.042084\"/>\n     <use style=\"fill:#1f77b4;stroke:#1f77b4;\" x=\"183.319232\" xlink:href=\"#mb80cc9e2fa\" y=\"104.478602\"/>\n     <use style=\"fill:#1f77b4;stroke:#1f77b4;\" x=\"156.73498\" xlink:href=\"#mb80cc9e2fa\" y=\"83.661022\"/>\n     <use style=\"fill:#1f77b4;stroke:#1f77b4;\" x=\"98.337674\" xlink:href=\"#mb80cc9e2fa\" y=\"59.303191\"/>\n     <use style=\"fill:#1f77b4;stroke:#1f77b4;\" x=\"115.845516\" xlink:href=\"#mb80cc9e2fa\" y=\"57.001094\"/>\n     <use style=\"fill:#1f77b4;stroke:#1f77b4;\" x=\"155.718604\" xlink:href=\"#mb80cc9e2fa\" y=\"81.910418\"/>\n     <use style=\"fill:#1f77b4;stroke:#1f77b4;\" x=\"103.652422\" xlink:href=\"#mb80cc9e2fa\" y=\"55.977008\"/>\n     <use style=\"fill:#1f77b4;stroke:#1f77b4;\" x=\"117.188818\" xlink:href=\"#mb80cc9e2fa\" y=\"68.36472\"/>\n     <use style=\"fill:#1f77b4;stroke:#1f77b4;\" x=\"149.989937\" xlink:href=\"#mb80cc9e2fa\" y=\"78.091088\"/>\n     <use style=\"fill:#1f77b4;stroke:#1f77b4;\" x=\"147.33509\" xlink:href=\"#mb80cc9e2fa\" y=\"87.897302\"/>\n     <use style=\"fill:#1f77b4;stroke:#1f77b4;\" x=\"158.028678\" xlink:href=\"#mb80cc9e2fa\" y=\"70.541767\"/>\n     <use style=\"fill:#1f77b4;stroke:#1f77b4;\" x=\"139.400698\" xlink:href=\"#mb80cc9e2fa\" y=\"73.412607\"/>\n     <use style=\"fill:#1f77b4;stroke:#1f77b4;\" x=\"127.728247\" xlink:href=\"#mb80cc9e2fa\" y=\"64.659067\"/>\n     <use style=\"fill:#1f77b4;stroke:#1f77b4;\" x=\"128.319822\" xlink:href=\"#mb80cc9e2fa\" y=\"72.76604\"/>\n     <use style=\"fill:#1f77b4;stroke:#1f77b4;\" x=\"172.446023\" xlink:href=\"#mb80cc9e2fa\" y=\"95.736571\"/>\n     <use style=\"fill:#1f77b4;stroke:#1f77b4;\" x=\"124.371048\" xlink:href=\"#mb80cc9e2fa\" y=\"65.173037\"/>\n     <use style=\"fill:#1f77b4;stroke:#1f77b4;\" x=\"166.183914\" xlink:href=\"#mb80cc9e2fa\" y=\"104.447274\"/>\n     <use style=\"fill:#1f77b4;stroke:#1f77b4;\" x=\"157.236256\" xlink:href=\"#mb80cc9e2fa\" y=\"94.689296\"/>\n     <use style=\"fill:#1f77b4;stroke:#1f77b4;\" x=\"120.102265\" xlink:href=\"#mb80cc9e2fa\" y=\"55.776132\"/>\n     <use style=\"fill:#1f77b4;stroke:#1f77b4;\" x=\"102.41617\" xlink:href=\"#mb80cc9e2fa\" y=\"55.259989\"/>\n     <use style=\"fill:#1f77b4;stroke:#1f77b4;\" x=\"99.902113\" xlink:href=\"#mb80cc9e2fa\" y=\"61.555432\"/>\n     <use style=\"fill:#1f77b4;stroke:#1f77b4;\" x=\"156.677736\" xlink:href=\"#mb80cc9e2fa\" y=\"99.86782\"/>\n     <use style=\"fill:#1f77b4;stroke:#1f77b4;\" x=\"138.520461\" xlink:href=\"#mb80cc9e2fa\" y=\"80.871596\"/>\n     <use style=\"fill:#1f77b4;stroke:#1f77b4;\" x=\"159.371226\" xlink:href=\"#mb80cc9e2fa\" y=\"93.008457\"/>\n     <use style=\"fill:#1f77b4;stroke:#1f77b4;\" x=\"118.644004\" xlink:href=\"#mb80cc9e2fa\" y=\"80.730882\"/>\n     <use style=\"fill:#1f77b4;stroke:#1f77b4;\" x=\"146.117101\" xlink:href=\"#mb80cc9e2fa\" y=\"74.163766\"/>\n     <use style=\"fill:#1f77b4;stroke:#1f77b4;\" x=\"116.126972\" xlink:href=\"#mb80cc9e2fa\" y=\"70.972953\"/>\n     <use style=\"fill:#1f77b4;stroke:#1f77b4;\" x=\"124.121024\" xlink:href=\"#mb80cc9e2fa\" y=\"78.94373\"/>\n     <use style=\"fill:#1f77b4;stroke:#1f77b4;\" x=\"135.691632\" xlink:href=\"#mb80cc9e2fa\" y=\"67.924077\"/>\n     <use style=\"fill:#1f77b4;stroke:#1f77b4;\" x=\"133.834702\" xlink:href=\"#mb80cc9e2fa\" y=\"71.169731\"/>\n     <use style=\"fill:#1f77b4;stroke:#1f77b4;\" x=\"140.392027\" xlink:href=\"#mb80cc9e2fa\" y=\"77.481159\"/>\n     <use style=\"fill:#1f77b4;stroke:#1f77b4;\" x=\"106.053046\" xlink:href=\"#mb80cc9e2fa\" y=\"69.897382\"/>\n     <use style=\"fill:#1f77b4;stroke:#1f77b4;\" x=\"135.613287\" xlink:href=\"#mb80cc9e2fa\" y=\"80.098196\"/>\n     <use style=\"fill:#1f77b4;stroke:#1f77b4;\" x=\"148.011736\" xlink:href=\"#mb80cc9e2fa\" y=\"64.189029\"/>\n     <use style=\"fill:#1f77b4;stroke:#1f77b4;\" x=\"212.726373\" xlink:href=\"#mb80cc9e2fa\" y=\"132.970515\"/>\n     <use style=\"fill:#1f77b4;stroke:#1f77b4;\" x=\"110.859824\" xlink:href=\"#mb80cc9e2fa\" y=\"67.939056\"/>\n     <use style=\"fill:#1f77b4;stroke:#1f77b4;\" x=\"122.756862\" xlink:href=\"#mb80cc9e2fa\" y=\"66.617548\"/>\n     <use style=\"fill:#1f77b4;stroke:#1f77b4;\" x=\"173.148242\" xlink:href=\"#mb80cc9e2fa\" y=\"92.218066\"/>\n     <use style=\"fill:#1f77b4;stroke:#1f77b4;\" x=\"141.551742\" xlink:href=\"#mb80cc9e2fa\" y=\"75.266835\"/>\n     <use style=\"fill:#1f77b4;stroke:#1f77b4;\" x=\"112.272939\" xlink:href=\"#mb80cc9e2fa\" y=\"72.652038\"/>\n     <use style=\"fill:#1f77b4;stroke:#1f77b4;\" x=\"142.412232\" xlink:href=\"#mb80cc9e2fa\" y=\"70.00915\"/>\n     <use style=\"fill:#1f77b4;stroke:#1f77b4;\" x=\"141.106796\" xlink:href=\"#mb80cc9e2fa\" y=\"78.797711\"/>\n     <use style=\"fill:#1f77b4;stroke:#1f77b4;\" x=\"153.361732\" xlink:href=\"#mb80cc9e2fa\" y=\"94.361446\"/>\n     <use style=\"fill:#1f77b4;stroke:#1f77b4;\" x=\"145.287368\" xlink:href=\"#mb80cc9e2fa\" y=\"84.664203\"/>\n     <use style=\"fill:#1f77b4;stroke:#1f77b4;\" x=\"160.239069\" xlink:href=\"#mb80cc9e2fa\" y=\"106.005105\"/>\n     <use style=\"fill:#1f77b4;stroke:#1f77b4;\" x=\"130.712909\" xlink:href=\"#mb80cc9e2fa\" y=\"84.150441\"/>\n     <use style=\"fill:#1f77b4;stroke:#1f77b4;\" x=\"133.836981\" xlink:href=\"#mb80cc9e2fa\" y=\"79.14239\"/>\n     <use style=\"fill:#1f77b4;stroke:#1f77b4;\" x=\"115.926622\" xlink:href=\"#mb80cc9e2fa\" y=\"68.292299\"/>\n     <use style=\"fill:#1f77b4;stroke:#1f77b4;\" x=\"123.79481\" xlink:href=\"#mb80cc9e2fa\" y=\"73.422513\"/>\n     <use style=\"fill:#1f77b4;stroke:#1f77b4;\" x=\"99.272806\" xlink:href=\"#mb80cc9e2fa\" y=\"65.644933\"/>\n     <use style=\"fill:#1f77b4;stroke:#1f77b4;\" x=\"115.021149\" xlink:href=\"#mb80cc9e2fa\" y=\"70.09015\"/>\n     <use style=\"fill:#1f77b4;stroke:#1f77b4;\" x=\"111.364336\" xlink:href=\"#mb80cc9e2fa\" y=\"67.878659\"/>\n     <use style=\"fill:#1f77b4;stroke:#1f77b4;\" x=\"175.659626\" xlink:href=\"#mb80cc9e2fa\" y=\"109.627357\"/>\n     <use style=\"fill:#1f77b4;stroke:#1f77b4;\" x=\"130.078571\" xlink:href=\"#mb80cc9e2fa\" y=\"81.456686\"/>\n     <use style=\"fill:#1f77b4;stroke:#1f77b4;\" x=\"157.306536\" xlink:href=\"#mb80cc9e2fa\" y=\"82.676605\"/>\n     <use style=\"fill:#1f77b4;stroke:#1f77b4;\" x=\"125.127858\" xlink:href=\"#mb80cc9e2fa\" y=\"67.131465\"/>\n     <use style=\"fill:#1f77b4;stroke:#1f77b4;\" x=\"171.129516\" xlink:href=\"#mb80cc9e2fa\" y=\"100.45943\"/>\n     <use style=\"fill:#1f77b4;stroke:#1f77b4;\" x=\"145.339174\" xlink:href=\"#mb80cc9e2fa\" y=\"85.706809\"/>\n     <use style=\"fill:#1f77b4;stroke:#1f77b4;\" x=\"123.488475\" xlink:href=\"#mb80cc9e2fa\" y=\"82.767774\"/>\n     <use style=\"fill:#1f77b4;stroke:#1f77b4;\" x=\"130.319632\" xlink:href=\"#mb80cc9e2fa\" y=\"70.81141\"/>\n     <use style=\"fill:#1f77b4;stroke:#1f77b4;\" x=\"102.795774\" xlink:href=\"#mb80cc9e2fa\" y=\"61.370761\"/>\n     <use style=\"fill:#1f77b4;stroke:#1f77b4;\" x=\"116.856072\" xlink:href=\"#mb80cc9e2fa\" y=\"77.76113\"/>\n     <use style=\"fill:#1f77b4;stroke:#1f77b4;\" x=\"120.594933\" xlink:href=\"#mb80cc9e2fa\" y=\"59.471875\"/>\n     <use style=\"fill:#1f77b4;stroke:#1f77b4;\" x=\"177.101297\" xlink:href=\"#mb80cc9e2fa\" y=\"110.997645\"/>\n     <use style=\"fill:#1f77b4;stroke:#1f77b4;\" x=\"173.697217\" xlink:href=\"#mb80cc9e2fa\" y=\"100.531859\"/>\n     <use style=\"fill:#1f77b4;stroke:#1f77b4;\" x=\"147.658865\" xlink:href=\"#mb80cc9e2fa\" y=\"92.411959\"/>\n     <use style=\"fill:#1f77b4;stroke:#1f77b4;\" x=\"95.144703\" xlink:href=\"#mb80cc9e2fa\" y=\"44.468465\"/>\n     <use style=\"fill:#1f77b4;stroke:#1f77b4;\" x=\"145.516533\" xlink:href=\"#mb80cc9e2fa\" y=\"82.775589\"/>\n     <use style=\"fill:#1f77b4;stroke:#1f77b4;\" x=\"121.170247\" xlink:href=\"#mb80cc9e2fa\" y=\"61.603241\"/>\n     <use style=\"fill:#1f77b4;stroke:#1f77b4;\" x=\"131.0638\" xlink:href=\"#mb80cc9e2fa\" y=\"87.890378\"/>\n     <use style=\"fill:#1f77b4;stroke:#1f77b4;\" x=\"122.194685\" xlink:href=\"#mb80cc9e2fa\" y=\"62.027043\"/>\n     <use style=\"fill:#1f77b4;stroke:#1f77b4;\" x=\"70.606391\" xlink:href=\"#mb80cc9e2fa\" y=\"41.505793\"/>\n     <use style=\"fill:#1f77b4;stroke:#1f77b4;\" x=\"154.806252\" xlink:href=\"#mb80cc9e2fa\" y=\"85.436827\"/>\n     <use style=\"fill:#1f77b4;stroke:#1f77b4;\" x=\"136.221751\" xlink:href=\"#mb80cc9e2fa\" y=\"79.128976\"/>\n     <use style=\"fill:#1f77b4;stroke:#1f77b4;\" x=\"171.506838\" xlink:href=\"#mb80cc9e2fa\" y=\"101.224969\"/>\n     <use style=\"fill:#1f77b4;stroke:#1f77b4;\" x=\"121.154092\" xlink:href=\"#mb80cc9e2fa\" y=\"52.646312\"/>\n     <use style=\"fill:#1f77b4;stroke:#1f77b4;\" x=\"145.074234\" xlink:href=\"#mb80cc9e2fa\" y=\"68.987063\"/>\n     <use style=\"fill:#1f77b4;stroke:#1f77b4;\" x=\"170.734272\" xlink:href=\"#mb80cc9e2fa\" y=\"85.897488\"/>\n     <use style=\"fill:#1f77b4;stroke:#1f77b4;\" x=\"116.772383\" xlink:href=\"#mb80cc9e2fa\" y=\"71.363902\"/>\n     <use style=\"fill:#1f77b4;stroke:#1f77b4;\" x=\"90.892045\" xlink:href=\"#mb80cc9e2fa\" y=\"47.787811\"/>\n     <use style=\"fill:#1f77b4;stroke:#1f77b4;\" x=\"194.298026\" xlink:href=\"#mb80cc9e2fa\" y=\"122.143872\"/>\n     <use style=\"fill:#1f77b4;stroke:#1f77b4;\" x=\"172.333703\" xlink:href=\"#mb80cc9e2fa\" y=\"95.408701\"/>\n     <use style=\"fill:#1f77b4;stroke:#1f77b4;\" x=\"113.870895\" xlink:href=\"#mb80cc9e2fa\" y=\"64.971787\"/>\n     <use style=\"fill:#1f77b4;stroke:#1f77b4;\" x=\"167.796873\" xlink:href=\"#mb80cc9e2fa\" y=\"91.650498\"/>\n     <use style=\"fill:#1f77b4;stroke:#1f77b4;\" x=\"128.079613\" xlink:href=\"#mb80cc9e2fa\" y=\"81.751616\"/>\n     <use style=\"fill:#1f77b4;stroke:#1f77b4;\" x=\"120.92188\" xlink:href=\"#mb80cc9e2fa\" y=\"83.466182\"/>\n     <use style=\"fill:#1f77b4;stroke:#1f77b4;\" x=\"135.063733\" xlink:href=\"#mb80cc9e2fa\" y=\"63.068326\"/>\n     <use style=\"fill:#1f77b4;stroke:#1f77b4;\" x=\"194.325605\" xlink:href=\"#mb80cc9e2fa\" y=\"111.771573\"/>\n     <use style=\"fill:#1f77b4;stroke:#1f77b4;\" x=\"130.435497\" xlink:href=\"#mb80cc9e2fa\" y=\"90.62588\"/>\n     <use style=\"fill:#1f77b4;stroke:#1f77b4;\" x=\"164.023966\" xlink:href=\"#mb80cc9e2fa\" y=\"93.600178\"/>\n     <use style=\"fill:#1f77b4;stroke:#1f77b4;\" x=\"74.453483\" xlink:href=\"#mb80cc9e2fa\" y=\"41.886795\"/>\n     <use style=\"fill:#1f77b4;stroke:#1f77b4;\" x=\"119.631451\" xlink:href=\"#mb80cc9e2fa\" y=\"73.749776\"/>\n     <use style=\"fill:#1f77b4;stroke:#1f77b4;\" x=\"132.382138\" xlink:href=\"#mb80cc9e2fa\" y=\"66.647337\"/>\n     <use style=\"fill:#1f77b4;stroke:#1f77b4;\" x=\"129.840659\" xlink:href=\"#mb80cc9e2fa\" y=\"69.482019\"/>\n     <use style=\"fill:#1f77b4;stroke:#1f77b4;\" x=\"97.715793\" xlink:href=\"#mb80cc9e2fa\" y=\"64.986377\"/>\n     <use style=\"fill:#1f77b4;stroke:#1f77b4;\" x=\"110.055843\" xlink:href=\"#mb80cc9e2fa\" y=\"60.436147\"/>\n     <use style=\"fill:#1f77b4;stroke:#1f77b4;\" x=\"163.244665\" xlink:href=\"#mb80cc9e2fa\" y=\"87.443759\"/>\n     <use style=\"fill:#1f77b4;stroke:#1f77b4;\" x=\"141.955533\" xlink:href=\"#mb80cc9e2fa\" y=\"77.952403\"/>\n     <use style=\"fill:#1f77b4;stroke:#1f77b4;\" x=\"142.803321\" xlink:href=\"#mb80cc9e2fa\" y=\"74.068472\"/>\n     <use style=\"fill:#1f77b4;stroke:#1f77b4;\" x=\"121.256742\" xlink:href=\"#mb80cc9e2fa\" y=\"68.714629\"/>\n     <use style=\"fill:#1f77b4;stroke:#1f77b4;\" x=\"67.746776\" xlink:href=\"#mb80cc9e2fa\" y=\"43.731091\"/>\n     <use style=\"fill:#1f77b4;stroke:#1f77b4;\" x=\"101.548605\" xlink:href=\"#mb80cc9e2fa\" y=\"53.994486\"/>\n     <use style=\"fill:#1f77b4;stroke:#1f77b4;\" x=\"113.774798\" xlink:href=\"#mb80cc9e2fa\" y=\"71.511879\"/>\n     <use style=\"fill:#1f77b4;stroke:#1f77b4;\" x=\"146.4845\" xlink:href=\"#mb80cc9e2fa\" y=\"81.417102\"/>\n     <use style=\"fill:#1f77b4;stroke:#1f77b4;\" x=\"131.709801\" xlink:href=\"#mb80cc9e2fa\" y=\"73.091632\"/>\n     <use style=\"fill:#1f77b4;stroke:#1f77b4;\" x=\"149.040997\" xlink:href=\"#mb80cc9e2fa\" y=\"94.632789\"/>\n     <use style=\"fill:#1f77b4;stroke:#1f77b4;\" x=\"146.921631\" xlink:href=\"#mb80cc9e2fa\" y=\"75.999871\"/>\n     <use style=\"fill:#1f77b4;stroke:#1f77b4;\" x=\"158.404179\" xlink:href=\"#mb80cc9e2fa\" y=\"91.469224\"/>\n     <use style=\"fill:#1f77b4;stroke:#1f77b4;\" x=\"176.332378\" xlink:href=\"#mb80cc9e2fa\" y=\"99.94389\"/>\n     <use style=\"fill:#1f77b4;stroke:#1f77b4;\" x=\"199.480461\" xlink:href=\"#mb80cc9e2fa\" y=\"105.388341\"/>\n     <use style=\"fill:#1f77b4;stroke:#1f77b4;\" x=\"91.537092\" xlink:href=\"#mb80cc9e2fa\" y=\"59.366162\"/>\n     <use style=\"fill:#1f77b4;stroke:#1f77b4;\" x=\"118.281055\" xlink:href=\"#mb80cc9e2fa\" y=\"67.116001\"/>\n     <use style=\"fill:#1f77b4;stroke:#1f77b4;\" x=\"103.361272\" xlink:href=\"#mb80cc9e2fa\" y=\"63.798469\"/>\n     <use style=\"fill:#1f77b4;stroke:#1f77b4;\" x=\"118.83178\" xlink:href=\"#mb80cc9e2fa\" y=\"83.998759\"/>\n     <use style=\"fill:#1f77b4;stroke:#1f77b4;\" x=\"148.963537\" xlink:href=\"#mb80cc9e2fa\" y=\"86.56255\"/>\n     <use style=\"fill:#1f77b4;stroke:#1f77b4;\" x=\"119.719825\" xlink:href=\"#mb80cc9e2fa\" y=\"73.142791\"/>\n     <use style=\"fill:#1f77b4;stroke:#1f77b4;\" x=\"153.578191\" xlink:href=\"#mb80cc9e2fa\" y=\"82.372014\"/>\n     <use style=\"fill:#1f77b4;stroke:#1f77b4;\" x=\"144.041666\" xlink:href=\"#mb80cc9e2fa\" y=\"75.359611\"/>\n     <use style=\"fill:#1f77b4;stroke:#1f77b4;\" x=\"142.919588\" xlink:href=\"#mb80cc9e2fa\" y=\"77.556253\"/>\n     <use style=\"fill:#1f77b4;stroke:#1f77b4;\" x=\"112.159975\" xlink:href=\"#mb80cc9e2fa\" y=\"60.701643\"/>\n     <use style=\"fill:#1f77b4;stroke:#1f77b4;\" x=\"122.079473\" xlink:href=\"#mb80cc9e2fa\" y=\"69.763325\"/>\n     <use style=\"fill:#1f77b4;stroke:#1f77b4;\" x=\"99.88886\" xlink:href=\"#mb80cc9e2fa\" y=\"62.262111\"/>\n     <use style=\"fill:#1f77b4;stroke:#1f77b4;\" x=\"161.541092\" xlink:href=\"#mb80cc9e2fa\" y=\"87.753348\"/>\n     <use style=\"fill:#1f77b4;stroke:#1f77b4;\" x=\"133.997108\" xlink:href=\"#mb80cc9e2fa\" y=\"78.138151\"/>\n     <use style=\"fill:#1f77b4;stroke:#1f77b4;\" x=\"144.676212\" xlink:href=\"#mb80cc9e2fa\" y=\"93.708786\"/>\n     <use style=\"fill:#1f77b4;stroke:#1f77b4;\" x=\"91.053562\" xlink:href=\"#mb80cc9e2fa\" y=\"49.361446\"/>\n     <use style=\"fill:#1f77b4;stroke:#1f77b4;\" x=\"150.776792\" xlink:href=\"#mb80cc9e2fa\" y=\"99.363497\"/>\n     <use style=\"fill:#1f77b4;stroke:#1f77b4;\" x=\"167.799029\" xlink:href=\"#mb80cc9e2fa\" y=\"98.862757\"/>\n     <use style=\"fill:#1f77b4;stroke:#1f77b4;\" x=\"123.063356\" xlink:href=\"#mb80cc9e2fa\" y=\"87.433516\"/>\n     <use style=\"fill:#1f77b4;stroke:#1f77b4;\" x=\"159.881942\" xlink:href=\"#mb80cc9e2fa\" y=\"91.352945\"/>\n     <use style=\"fill:#1f77b4;stroke:#1f77b4;\" x=\"126.258316\" xlink:href=\"#mb80cc9e2fa\" y=\"76.54053\"/>\n     <use style=\"fill:#1f77b4;stroke:#1f77b4;\" x=\"152.830136\" xlink:href=\"#mb80cc9e2fa\" y=\"65.997076\"/>\n     <use style=\"fill:#1f77b4;stroke:#1f77b4;\" x=\"128.320175\" xlink:href=\"#mb80cc9e2fa\" y=\"73.434659\"/>\n     <use style=\"fill:#1f77b4;stroke:#1f77b4;\" x=\"100.331788\" xlink:href=\"#mb80cc9e2fa\" y=\"42.678148\"/>\n     <use style=\"fill:#1f77b4;stroke:#1f77b4;\" x=\"154.6487\" xlink:href=\"#mb80cc9e2fa\" y=\"93.524661\"/>\n     <use style=\"fill:#1f77b4;stroke:#1f77b4;\" x=\"156.544235\" xlink:href=\"#mb80cc9e2fa\" y=\"97.605614\"/>\n     <use style=\"fill:#1f77b4;stroke:#1f77b4;\" x=\"126.067729\" xlink:href=\"#mb80cc9e2fa\" y=\"79.597267\"/>\n     <use style=\"fill:#1f77b4;stroke:#1f77b4;\" x=\"143.387328\" xlink:href=\"#mb80cc9e2fa\" y=\"86.151755\"/>\n     <use style=\"fill:#1f77b4;stroke:#1f77b4;\" x=\"185.738563\" xlink:href=\"#mb80cc9e2fa\" y=\"100.12547\"/>\n     <use style=\"fill:#1f77b4;stroke:#1f77b4;\" x=\"129.872823\" xlink:href=\"#mb80cc9e2fa\" y=\"76.806515\"/>\n     <use style=\"fill:#1f77b4;stroke:#1f77b4;\" x=\"133.53006\" xlink:href=\"#mb80cc9e2fa\" y=\"64.182132\"/>\n     <use style=\"fill:#1f77b4;stroke:#1f77b4;\" x=\"154.380858\" xlink:href=\"#mb80cc9e2fa\" y=\"87.39887\"/>\n     <use style=\"fill:#1f77b4;stroke:#1f77b4;\" x=\"81.572359\" xlink:href=\"#mb80cc9e2fa\" y=\"38.490308\"/>\n     <use style=\"fill:#1f77b4;stroke:#1f77b4;\" x=\"121.856348\" xlink:href=\"#mb80cc9e2fa\" y=\"64.325242\"/>\n     <use style=\"fill:#1f77b4;stroke:#1f77b4;\" x=\"154.130577\" xlink:href=\"#mb80cc9e2fa\" y=\"82.541506\"/>\n     <use style=\"fill:#1f77b4;stroke:#1f77b4;\" x=\"152.660396\" xlink:href=\"#mb80cc9e2fa\" y=\"77.127745\"/>\n     <use style=\"fill:#1f77b4;stroke:#1f77b4;\" x=\"81.471613\" xlink:href=\"#mb80cc9e2fa\" y=\"41.90906\"/>\n     <use style=\"fill:#1f77b4;stroke:#1f77b4;\" x=\"190.446319\" xlink:href=\"#mb80cc9e2fa\" y=\"113.869432\"/>\n     <use style=\"fill:#1f77b4;stroke:#1f77b4;\" x=\"176.424955\" xlink:href=\"#mb80cc9e2fa\" y=\"114.791493\"/>\n     <use style=\"fill:#1f77b4;stroke:#1f77b4;\" x=\"153.910824\" xlink:href=\"#mb80cc9e2fa\" y=\"82.638882\"/>\n     <use style=\"fill:#1f77b4;stroke:#1f77b4;\" x=\"145.105402\" xlink:href=\"#mb80cc9e2fa\" y=\"91.201274\"/>\n     <use style=\"fill:#1f77b4;stroke:#1f77b4;\" x=\"124.933406\" xlink:href=\"#mb80cc9e2fa\" y=\"69.985919\"/>\n     <use style=\"fill:#1f77b4;stroke:#1f77b4;\" x=\"70.468888\" xlink:href=\"#mb80cc9e2fa\" y=\"50.446529\"/>\n     <use style=\"fill:#1f77b4;stroke:#1f77b4;\" x=\"108.255649\" xlink:href=\"#mb80cc9e2fa\" y=\"55.66933\"/>\n     <use style=\"fill:#1f77b4;stroke:#1f77b4;\" x=\"140.346048\" xlink:href=\"#mb80cc9e2fa\" y=\"59.23635\"/>\n     <use style=\"fill:#1f77b4;stroke:#1f77b4;\" x=\"122.206648\" xlink:href=\"#mb80cc9e2fa\" y=\"67.405554\"/>\n     <use style=\"fill:#1f77b4;stroke:#1f77b4;\" x=\"128.872837\" xlink:href=\"#mb80cc9e2fa\" y=\"67.772039\"/>\n     <use style=\"fill:#1f77b4;stroke:#1f77b4;\" x=\"136.586042\" xlink:href=\"#mb80cc9e2fa\" y=\"83.755985\"/>\n     <use style=\"fill:#1f77b4;stroke:#1f77b4;\" x=\"158.608354\" xlink:href=\"#mb80cc9e2fa\" y=\"100.83498\"/>\n     <use style=\"fill:#1f77b4;stroke:#1f77b4;\" x=\"137.249643\" xlink:href=\"#mb80cc9e2fa\" y=\"82.952546\"/>\n     <use style=\"fill:#1f77b4;stroke:#1f77b4;\" x=\"135.389401\" xlink:href=\"#mb80cc9e2fa\" y=\"95.73433\"/>\n     <use style=\"fill:#1f77b4;stroke:#1f77b4;\" x=\"123.156656\" xlink:href=\"#mb80cc9e2fa\" y=\"59.941336\"/>\n     <use style=\"fill:#1f77b4;stroke:#1f77b4;\" x=\"158.036364\" xlink:href=\"#mb80cc9e2fa\" y=\"74.464999\"/>\n     <use style=\"fill:#1f77b4;stroke:#1f77b4;\" x=\"102.39099\" xlink:href=\"#mb80cc9e2fa\" y=\"50.453592\"/>\n     <use style=\"fill:#1f77b4;stroke:#1f77b4;\" x=\"166.523496\" xlink:href=\"#mb80cc9e2fa\" y=\"83.113096\"/>\n     <use style=\"fill:#1f77b4;stroke:#1f77b4;\" x=\"174.818152\" xlink:href=\"#mb80cc9e2fa\" y=\"89.472736\"/>\n     <use style=\"fill:#1f77b4;stroke:#1f77b4;\" x=\"107.524928\" xlink:href=\"#mb80cc9e2fa\" y=\"61.938192\"/>\n     <use style=\"fill:#1f77b4;stroke:#1f77b4;\" x=\"109.212699\" xlink:href=\"#mb80cc9e2fa\" y=\"78.321865\"/>\n     <use style=\"fill:#1f77b4;stroke:#1f77b4;\" x=\"121.503052\" xlink:href=\"#mb80cc9e2fa\" y=\"73.789044\"/>\n     <use style=\"fill:#1f77b4;stroke:#1f77b4;\" x=\"129.247941\" xlink:href=\"#mb80cc9e2fa\" y=\"70.182773\"/>\n     <use style=\"fill:#1f77b4;stroke:#1f77b4;\" x=\"132.273754\" xlink:href=\"#mb80cc9e2fa\" y=\"86.424326\"/>\n     <use style=\"fill:#1f77b4;stroke:#1f77b4;\" x=\"133.164196\" xlink:href=\"#mb80cc9e2fa\" y=\"82.945795\"/>\n     <use style=\"fill:#1f77b4;stroke:#1f77b4;\" x=\"170.085906\" xlink:href=\"#mb80cc9e2fa\" y=\"109.687613\"/>\n     <use style=\"fill:#1f77b4;stroke:#1f77b4;\" x=\"114.12942\" xlink:href=\"#mb80cc9e2fa\" y=\"69.754175\"/>\n     <use style=\"fill:#1f77b4;stroke:#1f77b4;\" x=\"140.263146\" xlink:href=\"#mb80cc9e2fa\" y=\"88.519004\"/>\n     <use style=\"fill:#1f77b4;stroke:#1f77b4;\" x=\"139.73309\" xlink:href=\"#mb80cc9e2fa\" y=\"90.308702\"/>\n     <use style=\"fill:#1f77b4;stroke:#1f77b4;\" x=\"126.068208\" xlink:href=\"#mb80cc9e2fa\" y=\"79.077693\"/>\n     <use style=\"fill:#1f77b4;stroke:#1f77b4;\" x=\"144.876416\" xlink:href=\"#mb80cc9e2fa\" y=\"92.074445\"/>\n     <use style=\"fill:#1f77b4;stroke:#1f77b4;\" x=\"73.163489\" xlink:href=\"#mb80cc9e2fa\" y=\"42.124986\"/>\n     <use style=\"fill:#1f77b4;stroke:#1f77b4;\" x=\"171.888812\" xlink:href=\"#mb80cc9e2fa\" y=\"92.270498\"/>\n     <use style=\"fill:#1f77b4;stroke:#1f77b4;\" x=\"113.483207\" xlink:href=\"#mb80cc9e2fa\" y=\"61.012153\"/>\n     <use style=\"fill:#1f77b4;stroke:#1f77b4;\" x=\"140.750919\" xlink:href=\"#mb80cc9e2fa\" y=\"86.131296\"/>\n     <use style=\"fill:#1f77b4;stroke:#1f77b4;\" x=\"156.788086\" xlink:href=\"#mb80cc9e2fa\" y=\"78.007796\"/>\n     <use style=\"fill:#1f77b4;stroke:#1f77b4;\" x=\"161.509302\" xlink:href=\"#mb80cc9e2fa\" y=\"89.624517\"/>\n     <use style=\"fill:#1f77b4;stroke:#1f77b4;\" x=\"141.119807\" xlink:href=\"#mb80cc9e2fa\" y=\"73.521006\"/>\n     <use style=\"fill:#1f77b4;stroke:#1f77b4;\" x=\"149.997248\" xlink:href=\"#mb80cc9e2fa\" y=\"82.294292\"/>\n     <use style=\"fill:#1f77b4;stroke:#1f77b4;\" x=\"179.773243\" xlink:href=\"#mb80cc9e2fa\" y=\"100.840072\"/>\n     <use style=\"fill:#1f77b4;stroke:#1f77b4;\" x=\"134.916566\" xlink:href=\"#mb80cc9e2fa\" y=\"82.302585\"/>\n     <use style=\"fill:#1f77b4;stroke:#1f77b4;\" x=\"160.814086\" xlink:href=\"#mb80cc9e2fa\" y=\"97.447438\"/>\n     <use style=\"fill:#1f77b4;stroke:#1f77b4;\" x=\"121.192239\" xlink:href=\"#mb80cc9e2fa\" y=\"61.310158\"/>\n     <use style=\"fill:#1f77b4;stroke:#1f77b4;\" x=\"166.14589\" xlink:href=\"#mb80cc9e2fa\" y=\"88.105613\"/>\n     <use style=\"fill:#1f77b4;stroke:#1f77b4;\" x=\"110.691006\" xlink:href=\"#mb80cc9e2fa\" y=\"63.213607\"/>\n     <use style=\"fill:#1f77b4;stroke:#1f77b4;\" x=\"119.4769\" xlink:href=\"#mb80cc9e2fa\" y=\"53.586766\"/>\n     <use style=\"fill:#1f77b4;stroke:#1f77b4;\" x=\"150.44373\" xlink:href=\"#mb80cc9e2fa\" y=\"94.723409\"/>\n     <use style=\"fill:#1f77b4;stroke:#1f77b4;\" x=\"106.24138\" xlink:href=\"#mb80cc9e2fa\" y=\"61.080699\"/>\n     <use style=\"fill:#1f77b4;stroke:#1f77b4;\" x=\"181.488297\" xlink:href=\"#mb80cc9e2fa\" y=\"85.612792\"/>\n     <use style=\"fill:#1f77b4;stroke:#1f77b4;\" x=\"161.19952\" xlink:href=\"#mb80cc9e2fa\" y=\"101.088205\"/>\n     <use style=\"fill:#1f77b4;stroke:#1f77b4;\" x=\"158.313324\" xlink:href=\"#mb80cc9e2fa\" y=\"83.65506\"/>\n     <use style=\"fill:#1f77b4;stroke:#1f77b4;\" x=\"97.122811\" xlink:href=\"#mb80cc9e2fa\" y=\"50.713473\"/>\n     <use style=\"fill:#1f77b4;stroke:#1f77b4;\" x=\"164.717353\" xlink:href=\"#mb80cc9e2fa\" y=\"97.015642\"/>\n     <use style=\"fill:#1f77b4;stroke:#1f77b4;\" x=\"120.122108\" xlink:href=\"#mb80cc9e2fa\" y=\"65.359015\"/>\n     <use style=\"fill:#1f77b4;stroke:#1f77b4;\" x=\"155.960749\" xlink:href=\"#mb80cc9e2fa\" y=\"93.690691\"/>\n     <use style=\"fill:#1f77b4;stroke:#1f77b4;\" x=\"104.516646\" xlink:href=\"#mb80cc9e2fa\" y=\"48.331348\"/>\n     <use style=\"fill:#1f77b4;stroke:#1f77b4;\" x=\"151.617596\" xlink:href=\"#mb80cc9e2fa\" y=\"92.107993\"/>\n     <use style=\"fill:#1f77b4;stroke:#1f77b4;\" x=\"166.554573\" xlink:href=\"#mb80cc9e2fa\" y=\"91.547443\"/>\n     <use style=\"fill:#1f77b4;stroke:#1f77b4;\" x=\"85.835513\" xlink:href=\"#mb80cc9e2fa\" y=\"33.481419\"/>\n     <use style=\"fill:#1f77b4;stroke:#1f77b4;\" x=\"152.40136\" xlink:href=\"#mb80cc9e2fa\" y=\"84.978852\"/>\n     <use style=\"fill:#1f77b4;stroke:#1f77b4;\" x=\"118.002881\" xlink:href=\"#mb80cc9e2fa\" y=\"65.797762\"/>\n     <use style=\"fill:#1f77b4;stroke:#1f77b4;\" x=\"102.205969\" xlink:href=\"#mb80cc9e2fa\" y=\"70.727229\"/>\n     <use style=\"fill:#1f77b4;stroke:#1f77b4;\" x=\"162.904967\" xlink:href=\"#mb80cc9e2fa\" y=\"95.774937\"/>\n     <use style=\"fill:#1f77b4;stroke:#1f77b4;\" x=\"141.42954\" xlink:href=\"#mb80cc9e2fa\" y=\"90.051166\"/>\n     <use style=\"fill:#1f77b4;stroke:#1f77b4;\" x=\"104.588518\" xlink:href=\"#mb80cc9e2fa\" y=\"62.995254\"/>\n     <use style=\"fill:#1f77b4;stroke:#1f77b4;\" x=\"98.50147\" xlink:href=\"#mb80cc9e2fa\" y=\"46.38473\"/>\n     <use style=\"fill:#1f77b4;stroke:#1f77b4;\" x=\"129.529566\" xlink:href=\"#mb80cc9e2fa\" y=\"74.813452\"/>\n     <use style=\"fill:#1f77b4;stroke:#1f77b4;\" x=\"134.572426\" xlink:href=\"#mb80cc9e2fa\" y=\"82.371028\"/>\n     <use style=\"fill:#1f77b4;stroke:#1f77b4;\" x=\"179.448933\" xlink:href=\"#mb80cc9e2fa\" y=\"95.299705\"/>\n     <use style=\"fill:#1f77b4;stroke:#1f77b4;\" x=\"133.176996\" xlink:href=\"#mb80cc9e2fa\" y=\"64.112237\"/>\n     <use style=\"fill:#1f77b4;stroke:#1f77b4;\" x=\"108.732636\" xlink:href=\"#mb80cc9e2fa\" y=\"57.818521\"/>\n     <use style=\"fill:#1f77b4;stroke:#1f77b4;\" x=\"98.406454\" xlink:href=\"#mb80cc9e2fa\" y=\"46.837294\"/>\n     <use style=\"fill:#1f77b4;stroke:#1f77b4;\" x=\"121.392067\" xlink:href=\"#mb80cc9e2fa\" y=\"62.202614\"/>\n     <use style=\"fill:#1f77b4;stroke:#1f77b4;\" x=\"133.91039\" xlink:href=\"#mb80cc9e2fa\" y=\"81.405701\"/>\n     <use style=\"fill:#1f77b4;stroke:#1f77b4;\" x=\"132.689402\" xlink:href=\"#mb80cc9e2fa\" y=\"61.484409\"/>\n     <use style=\"fill:#1f77b4;stroke:#1f77b4;\" x=\"168.243391\" xlink:href=\"#mb80cc9e2fa\" y=\"98.794912\"/>\n     <use style=\"fill:#1f77b4;stroke:#1f77b4;\" x=\"148.829778\" xlink:href=\"#mb80cc9e2fa\" y=\"83.697946\"/>\n     <use style=\"fill:#1f77b4;stroke:#1f77b4;\" x=\"146.44165\" xlink:href=\"#mb80cc9e2fa\" y=\"88.650503\"/>\n     <use style=\"fill:#1f77b4;stroke:#1f77b4;\" x=\"161.274452\" xlink:href=\"#mb80cc9e2fa\" y=\"94.309943\"/>\n     <use style=\"fill:#1f77b4;stroke:#1f77b4;\" x=\"136.16397\" xlink:href=\"#mb80cc9e2fa\" y=\"64.164735\"/>\n     <use style=\"fill:#1f77b4;stroke:#1f77b4;\" x=\"142.22181\" xlink:href=\"#mb80cc9e2fa\" y=\"90.607217\"/>\n     <use style=\"fill:#1f77b4;stroke:#1f77b4;\" x=\"116.059727\" xlink:href=\"#mb80cc9e2fa\" y=\"61.23724\"/>\n     <use style=\"fill:#1f77b4;stroke:#1f77b4;\" x=\"150.776071\" xlink:href=\"#mb80cc9e2fa\" y=\"86.067538\"/>\n     <use style=\"fill:#1f77b4;stroke:#1f77b4;\" x=\"112.737873\" xlink:href=\"#mb80cc9e2fa\" y=\"48.630113\"/>\n     <use style=\"fill:#1f77b4;stroke:#1f77b4;\" x=\"95.088896\" xlink:href=\"#mb80cc9e2fa\" y=\"48.806222\"/>\n     <use style=\"fill:#1f77b4;stroke:#1f77b4;\" x=\"120.794499\" xlink:href=\"#mb80cc9e2fa\" y=\"59.934619\"/>\n     <use style=\"fill:#1f77b4;stroke:#1f77b4;\" x=\"130.43466\" xlink:href=\"#mb80cc9e2fa\" y=\"73.062744\"/>\n     <use style=\"fill:#1f77b4;stroke:#1f77b4;\" x=\"142.654839\" xlink:href=\"#mb80cc9e2fa\" y=\"92.134337\"/>\n     <use style=\"fill:#1f77b4;stroke:#1f77b4;\" x=\"148.138272\" xlink:href=\"#mb80cc9e2fa\" y=\"78.754928\"/>\n     <use style=\"fill:#1f77b4;stroke:#1f77b4;\" x=\"167.142808\" xlink:href=\"#mb80cc9e2fa\" y=\"106.253438\"/>\n     <use style=\"fill:#1f77b4;stroke:#1f77b4;\" x=\"110.469348\" xlink:href=\"#mb80cc9e2fa\" y=\"60.933512\"/>\n     <use style=\"fill:#1f77b4;stroke:#1f77b4;\" x=\"165.941889\" xlink:href=\"#mb80cc9e2fa\" y=\"102.611347\"/>\n     <use style=\"fill:#1f77b4;stroke:#1f77b4;\" x=\"159.904157\" xlink:href=\"#mb80cc9e2fa\" y=\"91.426775\"/>\n     <use style=\"fill:#1f77b4;stroke:#1f77b4;\" x=\"86.090616\" xlink:href=\"#mb80cc9e2fa\" y=\"57.550656\"/>\n     <use style=\"fill:#1f77b4;stroke:#1f77b4;\" x=\"121.232813\" xlink:href=\"#mb80cc9e2fa\" y=\"66.557163\"/>\n     <use style=\"fill:#1f77b4;stroke:#1f77b4;\" x=\"151.065103\" xlink:href=\"#mb80cc9e2fa\" y=\"70.395131\"/>\n     <use style=\"fill:#1f77b4;stroke:#1f77b4;\" x=\"189.625719\" xlink:href=\"#mb80cc9e2fa\" y=\"109.432992\"/>\n     <use style=\"fill:#1f77b4;stroke:#1f77b4;\" x=\"151.596586\" xlink:href=\"#mb80cc9e2fa\" y=\"95.677983\"/>\n     <use style=\"fill:#1f77b4;stroke:#1f77b4;\" x=\"126.911772\" xlink:href=\"#mb80cc9e2fa\" y=\"62.074455\"/>\n     <use style=\"fill:#1f77b4;stroke:#1f77b4;\" x=\"176.25003\" xlink:href=\"#mb80cc9e2fa\" y=\"108.244306\"/>\n     <use style=\"fill:#1f77b4;stroke:#1f77b4;\" x=\"157.056672\" xlink:href=\"#mb80cc9e2fa\" y=\"87.105844\"/>\n     <use style=\"fill:#1f77b4;stroke:#1f77b4;\" x=\"158.759389\" xlink:href=\"#mb80cc9e2fa\" y=\"83.182474\"/>\n     <use style=\"fill:#1f77b4;stroke:#1f77b4;\" x=\"133.342024\" xlink:href=\"#mb80cc9e2fa\" y=\"61.428383\"/>\n     <use style=\"fill:#1f77b4;stroke:#1f77b4;\" x=\"169.393514\" xlink:href=\"#mb80cc9e2fa\" y=\"90.023357\"/>\n     <use style=\"fill:#1f77b4;stroke:#1f77b4;\" x=\"106.570749\" xlink:href=\"#mb80cc9e2fa\" y=\"68.832377\"/>\n     <use style=\"fill:#1f77b4;stroke:#1f77b4;\" x=\"174.931556\" xlink:href=\"#mb80cc9e2fa\" y=\"92.242385\"/>\n     <use style=\"fill:#1f77b4;stroke:#1f77b4;\" x=\"73.437676\" xlink:href=\"#mb80cc9e2fa\" y=\"53.03975\"/>\n     <use style=\"fill:#1f77b4;stroke:#1f77b4;\" x=\"127.515763\" xlink:href=\"#mb80cc9e2fa\" y=\"62.676298\"/>\n     <use style=\"fill:#1f77b4;stroke:#1f77b4;\" x=\"157.307913\" xlink:href=\"#mb80cc9e2fa\" y=\"84.859324\"/>\n     <use style=\"fill:#1f77b4;stroke:#1f77b4;\" x=\"145.697241\" xlink:href=\"#mb80cc9e2fa\" y=\"71.154278\"/>\n     <use style=\"fill:#1f77b4;stroke:#1f77b4;\" x=\"83.473899\" xlink:href=\"#mb80cc9e2fa\" y=\"33.224075\"/>\n     <use style=\"fill:#1f77b4;stroke:#1f77b4;\" x=\"150.089429\" xlink:href=\"#mb80cc9e2fa\" y=\"92.147386\"/>\n     <use style=\"fill:#1f77b4;stroke:#1f77b4;\" x=\"162.42016\" xlink:href=\"#mb80cc9e2fa\" y=\"102.741451\"/>\n     <use style=\"fill:#1f77b4;stroke:#1f77b4;\" x=\"112.214072\" xlink:href=\"#mb80cc9e2fa\" y=\"52.264353\"/>\n     <use style=\"fill:#1f77b4;stroke:#1f77b4;\" x=\"83.713425\" xlink:href=\"#mb80cc9e2fa\" y=\"61.074517\"/>\n     <use style=\"fill:#1f77b4;stroke:#1f77b4;\" x=\"117.895959\" xlink:href=\"#mb80cc9e2fa\" y=\"76.560318\"/>\n     <use style=\"fill:#1f77b4;stroke:#1f77b4;\" x=\"141.67153\" xlink:href=\"#mb80cc9e2fa\" y=\"78.06613\"/>\n     <use style=\"fill:#1f77b4;stroke:#1f77b4;\" x=\"221.727415\" xlink:href=\"#mb80cc9e2fa\" y=\"137.902541\"/>\n     <use style=\"fill:#1f77b4;stroke:#1f77b4;\" x=\"114.488468\" xlink:href=\"#mb80cc9e2fa\" y=\"62.443834\"/>\n     <use style=\"fill:#1f77b4;stroke:#1f77b4;\" x=\"134.478605\" xlink:href=\"#mb80cc9e2fa\" y=\"77.041364\"/>\n     <use style=\"fill:#1f77b4;stroke:#1f77b4;\" x=\"119.268302\" xlink:href=\"#mb80cc9e2fa\" y=\"72.565566\"/>\n     <use style=\"fill:#1f77b4;stroke:#1f77b4;\" x=\"160.535829\" xlink:href=\"#mb80cc9e2fa\" y=\"97.163009\"/>\n     <use style=\"fill:#1f77b4;stroke:#1f77b4;\" x=\"132.479637\" xlink:href=\"#mb80cc9e2fa\" y=\"69.519391\"/>\n     <use style=\"fill:#1f77b4;stroke:#1f77b4;\" x=\"135.707282\" xlink:href=\"#mb80cc9e2fa\" y=\"90.261539\"/>\n     <use style=\"fill:#1f77b4;stroke:#1f77b4;\" x=\"140.286837\" xlink:href=\"#mb80cc9e2fa\" y=\"66.244825\"/>\n     <use style=\"fill:#1f77b4;stroke:#1f77b4;\" x=\"124.941517\" xlink:href=\"#mb80cc9e2fa\" y=\"71.700252\"/>\n     <use style=\"fill:#1f77b4;stroke:#1f77b4;\" x=\"154.627903\" xlink:href=\"#mb80cc9e2fa\" y=\"82.713494\"/>\n     <use style=\"fill:#1f77b4;stroke:#1f77b4;\" x=\"131.652327\" xlink:href=\"#mb80cc9e2fa\" y=\"65.198651\"/>\n     <use style=\"fill:#1f77b4;stroke:#1f77b4;\" x=\"90.751421\" xlink:href=\"#mb80cc9e2fa\" y=\"34.113462\"/>\n     <use style=\"fill:#1f77b4;stroke:#1f77b4;\" x=\"141.884708\" xlink:href=\"#mb80cc9e2fa\" y=\"75.45774\"/>\n     <use style=\"fill:#1f77b4;stroke:#1f77b4;\" x=\"122.846621\" xlink:href=\"#mb80cc9e2fa\" y=\"75.108191\"/>\n     <use style=\"fill:#1f77b4;stroke:#1f77b4;\" x=\"139.687792\" xlink:href=\"#mb80cc9e2fa\" y=\"70.89793\"/>\n     <use style=\"fill:#1f77b4;stroke:#1f77b4;\" x=\"162.279524\" xlink:href=\"#mb80cc9e2fa\" y=\"93.832063\"/>\n     <use style=\"fill:#1f77b4;stroke:#1f77b4;\" x=\"60.815108\" xlink:href=\"#mb80cc9e2fa\" y=\"36.782384\"/>\n     <use style=\"fill:#1f77b4;stroke:#1f77b4;\" x=\"117.389089\" xlink:href=\"#mb80cc9e2fa\" y=\"80.775501\"/>\n     <use style=\"fill:#1f77b4;stroke:#1f77b4;\" x=\"127.55457\" xlink:href=\"#mb80cc9e2fa\" y=\"67.265965\"/>\n     <use style=\"fill:#1f77b4;stroke:#1f77b4;\" x=\"122.874466\" xlink:href=\"#mb80cc9e2fa\" y=\"76.637861\"/>\n     <use style=\"fill:#1f77b4;stroke:#1f77b4;\" x=\"104.911887\" xlink:href=\"#mb80cc9e2fa\" y=\"47.100397\"/>\n     <use style=\"fill:#1f77b4;stroke:#1f77b4;\" x=\"142.10988\" xlink:href=\"#mb80cc9e2fa\" y=\"86.14909\"/>\n     <use style=\"fill:#1f77b4;stroke:#1f77b4;\" x=\"98.464042\" xlink:href=\"#mb80cc9e2fa\" y=\"74.60336\"/>\n     <use style=\"fill:#1f77b4;stroke:#1f77b4;\" x=\"73.119288\" xlink:href=\"#mb80cc9e2fa\" y=\"52.945749\"/>\n     <use style=\"fill:#1f77b4;stroke:#1f77b4;\" x=\"192.611194\" xlink:href=\"#mb80cc9e2fa\" y=\"118.686891\"/>\n     <use style=\"fill:#1f77b4;stroke:#1f77b4;\" x=\"92.255751\" xlink:href=\"#mb80cc9e2fa\" y=\"51.80765\"/>\n     <use style=\"fill:#1f77b4;stroke:#1f77b4;\" x=\"137.757944\" xlink:href=\"#mb80cc9e2fa\" y=\"73.098214\"/>\n     <use style=\"fill:#1f77b4;stroke:#1f77b4;\" x=\"159.217525\" xlink:href=\"#mb80cc9e2fa\" y=\"92.407215\"/>\n     <use style=\"fill:#1f77b4;stroke:#1f77b4;\" x=\"102.617404\" xlink:href=\"#mb80cc9e2fa\" y=\"71.184833\"/>\n     <use style=\"fill:#1f77b4;stroke:#1f77b4;\" x=\"153.161789\" xlink:href=\"#mb80cc9e2fa\" y=\"90.542907\"/>\n     <use style=\"fill:#1f77b4;stroke:#1f77b4;\" x=\"125.801782\" xlink:href=\"#mb80cc9e2fa\" y=\"72.108419\"/>\n     <use style=\"fill:#1f77b4;stroke:#1f77b4;\" x=\"104.494438\" xlink:href=\"#mb80cc9e2fa\" y=\"77.682266\"/>\n     <use style=\"fill:#1f77b4;stroke:#1f77b4;\" x=\"182.423539\" xlink:href=\"#mb80cc9e2fa\" y=\"106.320521\"/>\n     <use style=\"fill:#1f77b4;stroke:#1f77b4;\" x=\"94.483405\" xlink:href=\"#mb80cc9e2fa\" y=\"47.167218\"/>\n     <use style=\"fill:#1f77b4;stroke:#1f77b4;\" x=\"112.243546\" xlink:href=\"#mb80cc9e2fa\" y=\"62.779302\"/>\n     <use style=\"fill:#1f77b4;stroke:#1f77b4;\" x=\"137.690435\" xlink:href=\"#mb80cc9e2fa\" y=\"78.063572\"/>\n     <use style=\"fill:#1f77b4;stroke:#1f77b4;\" x=\"154.655322\" xlink:href=\"#mb80cc9e2fa\" y=\"83.793049\"/>\n     <use style=\"fill:#1f77b4;stroke:#1f77b4;\" x=\"163.776942\" xlink:href=\"#mb80cc9e2fa\" y=\"90.931845\"/>\n     <use style=\"fill:#1f77b4;stroke:#1f77b4;\" x=\"118.744357\" xlink:href=\"#mb80cc9e2fa\" y=\"61.902916\"/>\n     <use style=\"fill:#1f77b4;stroke:#1f77b4;\" x=\"123.015323\" xlink:href=\"#mb80cc9e2fa\" y=\"86.312118\"/>\n     <use style=\"fill:#1f77b4;stroke:#1f77b4;\" x=\"133.50747\" xlink:href=\"#mb80cc9e2fa\" y=\"73.333027\"/>\n     <use style=\"fill:#1f77b4;stroke:#1f77b4;\" x=\"140.854559\" xlink:href=\"#mb80cc9e2fa\" y=\"85.83056\"/>\n     <use style=\"fill:#1f77b4;stroke:#1f77b4;\" x=\"172.461539\" xlink:href=\"#mb80cc9e2fa\" y=\"104.122432\"/>\n     <use style=\"fill:#1f77b4;stroke:#1f77b4;\" x=\"107.455732\" xlink:href=\"#mb80cc9e2fa\" y=\"70.362463\"/>\n     <use style=\"fill:#1f77b4;stroke:#1f77b4;\" x=\"134.534909\" xlink:href=\"#mb80cc9e2fa\" y=\"83.892315\"/>\n     <use style=\"fill:#1f77b4;stroke:#1f77b4;\" x=\"129.582055\" xlink:href=\"#mb80cc9e2fa\" y=\"77.680498\"/>\n     <use style=\"fill:#1f77b4;stroke:#1f77b4;\" x=\"188.52456\" xlink:href=\"#mb80cc9e2fa\" y=\"97.09871\"/>\n     <use style=\"fill:#1f77b4;stroke:#1f77b4;\" x=\"120.04001\" xlink:href=\"#mb80cc9e2fa\" y=\"61.759129\"/>\n     <use style=\"fill:#1f77b4;stroke:#1f77b4;\" x=\"51.515541\" xlink:href=\"#mb80cc9e2fa\" y=\"14.357087\"/>\n     <use style=\"fill:#1f77b4;stroke:#1f77b4;\" x=\"161.134571\" xlink:href=\"#mb80cc9e2fa\" y=\"98.096929\"/>\n     <use style=\"fill:#1f77b4;stroke:#1f77b4;\" x=\"116.345697\" xlink:href=\"#mb80cc9e2fa\" y=\"68.928562\"/>\n     <use style=\"fill:#1f77b4;stroke:#1f77b4;\" x=\"137.803056\" xlink:href=\"#mb80cc9e2fa\" y=\"81.192493\"/>\n     <use style=\"fill:#1f77b4;stroke:#1f77b4;\" x=\"133.131199\" xlink:href=\"#mb80cc9e2fa\" y=\"63.767323\"/>\n     <use style=\"fill:#1f77b4;stroke:#1f77b4;\" x=\"123.882282\" xlink:href=\"#mb80cc9e2fa\" y=\"82.392467\"/>\n     <use style=\"fill:#1f77b4;stroke:#1f77b4;\" x=\"90.839935\" xlink:href=\"#mb80cc9e2fa\" y=\"57.888297\"/>\n     <use style=\"fill:#1f77b4;stroke:#1f77b4;\" x=\"163.574015\" xlink:href=\"#mb80cc9e2fa\" y=\"76.382154\"/>\n     <use style=\"fill:#1f77b4;stroke:#1f77b4;\" x=\"133.0103\" xlink:href=\"#mb80cc9e2fa\" y=\"89.725054\"/>\n     <use style=\"fill:#1f77b4;stroke:#1f77b4;\" x=\"120.174035\" xlink:href=\"#mb80cc9e2fa\" y=\"55.750299\"/>\n     <use style=\"fill:#1f77b4;stroke:#1f77b4;\" x=\"171.392554\" xlink:href=\"#mb80cc9e2fa\" y=\"96.911408\"/>\n     <use style=\"fill:#1f77b4;stroke:#1f77b4;\" x=\"73.842987\" xlink:href=\"#mb80cc9e2fa\" y=\"42.576948\"/>\n     <use style=\"fill:#1f77b4;stroke:#1f77b4;\" x=\"174.859844\" xlink:href=\"#mb80cc9e2fa\" y=\"100.28324\"/>\n     <use style=\"fill:#1f77b4;stroke:#1f77b4;\" x=\"96.845895\" xlink:href=\"#mb80cc9e2fa\" y=\"57.289238\"/>\n     <use style=\"fill:#1f77b4;stroke:#1f77b4;\" x=\"156.993816\" xlink:href=\"#mb80cc9e2fa\" y=\"91.601382\"/>\n     <use style=\"fill:#1f77b4;stroke:#1f77b4;\" x=\"136.767567\" xlink:href=\"#mb80cc9e2fa\" y=\"66.180243\"/>\n     <use style=\"fill:#1f77b4;stroke:#1f77b4;\" x=\"147.823547\" xlink:href=\"#mb80cc9e2fa\" y=\"85.304292\"/>\n     <use style=\"fill:#1f77b4;stroke:#1f77b4;\" x=\"101.948308\" xlink:href=\"#mb80cc9e2fa\" y=\"61.558706\"/>\n     <use style=\"fill:#1f77b4;stroke:#1f77b4;\" x=\"150.124457\" xlink:href=\"#mb80cc9e2fa\" y=\"101.509825\"/>\n     <use style=\"fill:#1f77b4;stroke:#1f77b4;\" x=\"107.080597\" xlink:href=\"#mb80cc9e2fa\" y=\"51.534721\"/>\n     <use style=\"fill:#1f77b4;stroke:#1f77b4;\" x=\"135.900225\" xlink:href=\"#mb80cc9e2fa\" y=\"69.498501\"/>\n     <use style=\"fill:#1f77b4;stroke:#1f77b4;\" x=\"135.567142\" xlink:href=\"#mb80cc9e2fa\" y=\"61.569256\"/>\n     <use style=\"fill:#1f77b4;stroke:#1f77b4;\" x=\"98.665625\" xlink:href=\"#mb80cc9e2fa\" y=\"55.922551\"/>\n     <use style=\"fill:#1f77b4;stroke:#1f77b4;\" x=\"151.738089\" xlink:href=\"#mb80cc9e2fa\" y=\"86.019807\"/>\n     <use style=\"fill:#1f77b4;stroke:#1f77b4;\" x=\"101.726086\" xlink:href=\"#mb80cc9e2fa\" y=\"63.175252\"/>\n     <use style=\"fill:#1f77b4;stroke:#1f77b4;\" x=\"71.770505\" xlink:href=\"#mb80cc9e2fa\" y=\"34.49434\"/>\n     <use style=\"fill:#1f77b4;stroke:#1f77b4;\" x=\"139.789997\" xlink:href=\"#mb80cc9e2fa\" y=\"82.545128\"/>\n     <use style=\"fill:#1f77b4;stroke:#1f77b4;\" x=\"197.439562\" xlink:href=\"#mb80cc9e2fa\" y=\"120.736199\"/>\n     <use style=\"fill:#1f77b4;stroke:#1f77b4;\" x=\"134.644579\" xlink:href=\"#mb80cc9e2fa\" y=\"86.361165\"/>\n     <use style=\"fill:#1f77b4;stroke:#1f77b4;\" x=\"110.580377\" xlink:href=\"#mb80cc9e2fa\" y=\"67.679963\"/>\n     <use style=\"fill:#1f77b4;stroke:#1f77b4;\" x=\"161.197271\" xlink:href=\"#mb80cc9e2fa\" y=\"82.568774\"/>\n     <use style=\"fill:#1f77b4;stroke:#1f77b4;\" x=\"135.221279\" xlink:href=\"#mb80cc9e2fa\" y=\"70.706158\"/>\n     <use style=\"fill:#1f77b4;stroke:#1f77b4;\" x=\"110.818149\" xlink:href=\"#mb80cc9e2fa\" y=\"71.097237\"/>\n     <use style=\"fill:#1f77b4;stroke:#1f77b4;\" x=\"144.159268\" xlink:href=\"#mb80cc9e2fa\" y=\"74.542954\"/>\n     <use style=\"fill:#1f77b4;stroke:#1f77b4;\" x=\"116.939505\" xlink:href=\"#mb80cc9e2fa\" y=\"65.881151\"/>\n     <use style=\"fill:#1f77b4;stroke:#1f77b4;\" x=\"129.594052\" xlink:href=\"#mb80cc9e2fa\" y=\"64.241132\"/>\n     <use style=\"fill:#1f77b4;stroke:#1f77b4;\" x=\"95.220196\" xlink:href=\"#mb80cc9e2fa\" y=\"61.033996\"/>\n     <use style=\"fill:#1f77b4;stroke:#1f77b4;\" x=\"145.511558\" xlink:href=\"#mb80cc9e2fa\" y=\"107.363631\"/>\n     <use style=\"fill:#1f77b4;stroke:#1f77b4;\" x=\"159.566999\" xlink:href=\"#mb80cc9e2fa\" y=\"92.199289\"/>\n     <use style=\"fill:#1f77b4;stroke:#1f77b4;\" x=\"143.809211\" xlink:href=\"#mb80cc9e2fa\" y=\"75.809979\"/>\n     <use style=\"fill:#1f77b4;stroke:#1f77b4;\" x=\"167.133315\" xlink:href=\"#mb80cc9e2fa\" y=\"80.886838\"/>\n     <use style=\"fill:#1f77b4;stroke:#1f77b4;\" x=\"149.601964\" xlink:href=\"#mb80cc9e2fa\" y=\"79.005815\"/>\n     <use style=\"fill:#1f77b4;stroke:#1f77b4;\" x=\"123.025624\" xlink:href=\"#mb80cc9e2fa\" y=\"71.932827\"/>\n     <use style=\"fill:#1f77b4;stroke:#1f77b4;\" x=\"124.953603\" xlink:href=\"#mb80cc9e2fa\" y=\"84.938905\"/>\n     <use style=\"fill:#1f77b4;stroke:#1f77b4;\" x=\"100.968019\" xlink:href=\"#mb80cc9e2fa\" y=\"63.931873\"/>\n     <use style=\"fill:#1f77b4;stroke:#1f77b4;\" x=\"150.939404\" xlink:href=\"#mb80cc9e2fa\" y=\"85.679668\"/>\n     <use style=\"fill:#1f77b4;stroke:#1f77b4;\" x=\"116.825615\" xlink:href=\"#mb80cc9e2fa\" y=\"77.358289\"/>\n     <use style=\"fill:#1f77b4;stroke:#1f77b4;\" x=\"132.165867\" xlink:href=\"#mb80cc9e2fa\" y=\"79.395536\"/>\n     <use style=\"fill:#1f77b4;stroke:#1f77b4;\" x=\"165.380133\" xlink:href=\"#mb80cc9e2fa\" y=\"97.810527\"/>\n     <use style=\"fill:#1f77b4;stroke:#1f77b4;\" x=\"103.69494\" xlink:href=\"#mb80cc9e2fa\" y=\"60.471097\"/>\n     <use style=\"fill:#1f77b4;stroke:#1f77b4;\" x=\"180.59215\" xlink:href=\"#mb80cc9e2fa\" y=\"97.566845\"/>\n     <use style=\"fill:#1f77b4;stroke:#1f77b4;\" x=\"77.472248\" xlink:href=\"#mb80cc9e2fa\" y=\"51.568071\"/>\n     <use style=\"fill:#1f77b4;stroke:#1f77b4;\" x=\"133.252333\" xlink:href=\"#mb80cc9e2fa\" y=\"81.605433\"/>\n     <use style=\"fill:#1f77b4;stroke:#1f77b4;\" x=\"94.337937\" xlink:href=\"#mb80cc9e2fa\" y=\"57.801238\"/>\n     <use style=\"fill:#1f77b4;stroke:#1f77b4;\" x=\"96.84025\" xlink:href=\"#mb80cc9e2fa\" y=\"42.857281\"/>\n     <use style=\"fill:#1f77b4;stroke:#1f77b4;\" x=\"99.907894\" xlink:href=\"#mb80cc9e2fa\" y=\"51.141122\"/>\n     <use style=\"fill:#1f77b4;stroke:#1f77b4;\" x=\"136.816347\" xlink:href=\"#mb80cc9e2fa\" y=\"59.248577\"/>\n     <use style=\"fill:#1f77b4;stroke:#1f77b4;\" x=\"130.174788\" xlink:href=\"#mb80cc9e2fa\" y=\"75.356053\"/>\n     <use style=\"fill:#1f77b4;stroke:#1f77b4;\" x=\"87.937326\" xlink:href=\"#mb80cc9e2fa\" y=\"44.375233\"/>\n     <use style=\"fill:#1f77b4;stroke:#1f77b4;\" x=\"149.066664\" xlink:href=\"#mb80cc9e2fa\" y=\"89.991741\"/>\n     <use style=\"fill:#1f77b4;stroke:#1f77b4;\" x=\"117.003935\" xlink:href=\"#mb80cc9e2fa\" y=\"69.173842\"/>\n     <use style=\"fill:#1f77b4;stroke:#1f77b4;\" x=\"105.370208\" xlink:href=\"#mb80cc9e2fa\" y=\"62.161956\"/>\n     <use style=\"fill:#1f77b4;stroke:#1f77b4;\" x=\"112.570869\" xlink:href=\"#mb80cc9e2fa\" y=\"73.506171\"/>\n     <use style=\"fill:#1f77b4;stroke:#1f77b4;\" x=\"130.203492\" xlink:href=\"#mb80cc9e2fa\" y=\"82.898615\"/>\n     <use style=\"fill:#1f77b4;stroke:#1f77b4;\" x=\"114.037182\" xlink:href=\"#mb80cc9e2fa\" y=\"53.906582\"/>\n     <use style=\"fill:#1f77b4;stroke:#1f77b4;\" x=\"210.076597\" xlink:href=\"#mb80cc9e2fa\" y=\"102.290461\"/>\n     <use style=\"fill:#1f77b4;stroke:#1f77b4;\" x=\"114.514001\" xlink:href=\"#mb80cc9e2fa\" y=\"59.183888\"/>\n     <use style=\"fill:#1f77b4;stroke:#1f77b4;\" x=\"153.354864\" xlink:href=\"#mb80cc9e2fa\" y=\"80.882509\"/>\n     <use style=\"fill:#1f77b4;stroke:#1f77b4;\" x=\"187.184521\" xlink:href=\"#mb80cc9e2fa\" y=\"93.033962\"/>\n     <use style=\"fill:#1f77b4;stroke:#1f77b4;\" x=\"146.948007\" xlink:href=\"#mb80cc9e2fa\" y=\"70.68229\"/>\n     <use style=\"fill:#1f77b4;stroke:#1f77b4;\" x=\"103.861002\" xlink:href=\"#mb80cc9e2fa\" y=\"63.145443\"/>\n     <use style=\"fill:#1f77b4;stroke:#1f77b4;\" x=\"159.149068\" xlink:href=\"#mb80cc9e2fa\" y=\"89.742547\"/>\n     <use style=\"fill:#1f77b4;stroke:#1f77b4;\" x=\"130.376529\" xlink:href=\"#mb80cc9e2fa\" y=\"81.26902\"/>\n     <use style=\"fill:#1f77b4;stroke:#1f77b4;\" x=\"191.222925\" xlink:href=\"#mb80cc9e2fa\" y=\"108.126331\"/>\n     <use style=\"fill:#1f77b4;stroke:#1f77b4;\" x=\"130.760612\" xlink:href=\"#mb80cc9e2fa\" y=\"60.057562\"/>\n     <use style=\"fill:#1f77b4;stroke:#1f77b4;\" x=\"166.266944\" xlink:href=\"#mb80cc9e2fa\" y=\"112.571271\"/>\n     <use style=\"fill:#1f77b4;stroke:#1f77b4;\" x=\"144.752078\" xlink:href=\"#mb80cc9e2fa\" y=\"92.817691\"/>\n     <use style=\"fill:#1f77b4;stroke:#1f77b4;\" x=\"162.200979\" xlink:href=\"#mb80cc9e2fa\" y=\"88.401519\"/>\n     <use style=\"fill:#1f77b4;stroke:#1f77b4;\" x=\"120.264848\" xlink:href=\"#mb80cc9e2fa\" y=\"88.689315\"/>\n     <use style=\"fill:#1f77b4;stroke:#1f77b4;\" x=\"127.934248\" xlink:href=\"#mb80cc9e2fa\" y=\"58.679091\"/>\n     <use style=\"fill:#1f77b4;stroke:#1f77b4;\" x=\"192.150865\" xlink:href=\"#mb80cc9e2fa\" y=\"100.96612\"/>\n     <use style=\"fill:#1f77b4;stroke:#1f77b4;\" x=\"172.224683\" xlink:href=\"#mb80cc9e2fa\" y=\"107.84463\"/>\n     <use style=\"fill:#1f77b4;stroke:#1f77b4;\" x=\"137.995541\" xlink:href=\"#mb80cc9e2fa\" y=\"83.347599\"/>\n     <use style=\"fill:#1f77b4;stroke:#1f77b4;\" x=\"115.866149\" xlink:href=\"#mb80cc9e2fa\" y=\"72.793779\"/>\n     <use style=\"fill:#1f77b4;stroke:#1f77b4;\" x=\"79.127851\" xlink:href=\"#mb80cc9e2fa\" y=\"48.706341\"/>\n     <use style=\"fill:#1f77b4;stroke:#1f77b4;\" x=\"102.991177\" xlink:href=\"#mb80cc9e2fa\" y=\"59.489061\"/>\n     <use style=\"fill:#1f77b4;stroke:#1f77b4;\" x=\"119.00549\" xlink:href=\"#mb80cc9e2fa\" y=\"64.058477\"/>\n     <use style=\"fill:#1f77b4;stroke:#1f77b4;\" x=\"119.000995\" xlink:href=\"#mb80cc9e2fa\" y=\"77.616423\"/>\n     <use style=\"fill:#1f77b4;stroke:#1f77b4;\" x=\"146.007016\" xlink:href=\"#mb80cc9e2fa\" y=\"83.952782\"/>\n     <use style=\"fill:#1f77b4;stroke:#1f77b4;\" x=\"114.684483\" xlink:href=\"#mb80cc9e2fa\" y=\"69.500857\"/>\n     <use style=\"fill:#1f77b4;stroke:#1f77b4;\" x=\"113.059604\" xlink:href=\"#mb80cc9e2fa\" y=\"82.588777\"/>\n     <use style=\"fill:#1f77b4;stroke:#1f77b4;\" x=\"110.764758\" xlink:href=\"#mb80cc9e2fa\" y=\"72.061163\"/>\n     <use style=\"fill:#1f77b4;stroke:#1f77b4;\" x=\"137.084081\" xlink:href=\"#mb80cc9e2fa\" y=\"86.192447\"/>\n     <use style=\"fill:#1f77b4;stroke:#1f77b4;\" x=\"149.024331\" xlink:href=\"#mb80cc9e2fa\" y=\"93.696826\"/>\n     <use style=\"fill:#1f77b4;stroke:#1f77b4;\" x=\"113.362845\" xlink:href=\"#mb80cc9e2fa\" y=\"63.70851\"/>\n     <use style=\"fill:#1f77b4;stroke:#1f77b4;\" x=\"93.13525\" xlink:href=\"#mb80cc9e2fa\" y=\"52.657501\"/>\n     <use style=\"fill:#1f77b4;stroke:#1f77b4;\" x=\"107.905676\" xlink:href=\"#mb80cc9e2fa\" y=\"60.080531\"/>\n     <use style=\"fill:#1f77b4;stroke:#1f77b4;\" x=\"122.633865\" xlink:href=\"#mb80cc9e2fa\" y=\"75.514518\"/>\n     <use style=\"fill:#1f77b4;stroke:#1f77b4;\" x=\"160.551562\" xlink:href=\"#mb80cc9e2fa\" y=\"96.043661\"/>\n     <use style=\"fill:#1f77b4;stroke:#1f77b4;\" x=\"176.425453\" xlink:href=\"#mb80cc9e2fa\" y=\"89.431424\"/>\n     <use style=\"fill:#1f77b4;stroke:#1f77b4;\" x=\"129.626514\" xlink:href=\"#mb80cc9e2fa\" y=\"79.87695\"/>\n     <use style=\"fill:#1f77b4;stroke:#1f77b4;\" x=\"149.710134\" xlink:href=\"#mb80cc9e2fa\" y=\"87.015977\"/>\n     <use style=\"fill:#1f77b4;stroke:#1f77b4;\" x=\"130.934104\" xlink:href=\"#mb80cc9e2fa\" y=\"70.08875\"/>\n     <use style=\"fill:#1f77b4;stroke:#1f77b4;\" x=\"109.568989\" xlink:href=\"#mb80cc9e2fa\" y=\"70.580943\"/>\n     <use style=\"fill:#1f77b4;stroke:#1f77b4;\" x=\"146.215612\" xlink:href=\"#mb80cc9e2fa\" y=\"83.144919\"/>\n     <use style=\"fill:#1f77b4;stroke:#1f77b4;\" x=\"118.360126\" xlink:href=\"#mb80cc9e2fa\" y=\"65.956778\"/>\n     <use style=\"fill:#1f77b4;stroke:#1f77b4;\" x=\"157.293952\" xlink:href=\"#mb80cc9e2fa\" y=\"93.978586\"/>\n     <use style=\"fill:#1f77b4;stroke:#1f77b4;\" x=\"116.755954\" xlink:href=\"#mb80cc9e2fa\" y=\"58.489054\"/>\n     <use style=\"fill:#1f77b4;stroke:#1f77b4;\" x=\"134.186011\" xlink:href=\"#mb80cc9e2fa\" y=\"70.440326\"/>\n     <use style=\"fill:#1f77b4;stroke:#1f77b4;\" x=\"92.779865\" xlink:href=\"#mb80cc9e2fa\" y=\"58.154361\"/>\n     <use style=\"fill:#1f77b4;stroke:#1f77b4;\" x=\"176.584212\" xlink:href=\"#mb80cc9e2fa\" y=\"107.420014\"/>\n     <use style=\"fill:#1f77b4;stroke:#1f77b4;\" x=\"111.317451\" xlink:href=\"#mb80cc9e2fa\" y=\"65.883017\"/>\n     <use style=\"fill:#1f77b4;stroke:#1f77b4;\" x=\"146.006198\" xlink:href=\"#mb80cc9e2fa\" y=\"84.946511\"/>\n     <use style=\"fill:#1f77b4;stroke:#1f77b4;\" x=\"90.230939\" xlink:href=\"#mb80cc9e2fa\" y=\"54.688033\"/>\n     <use style=\"fill:#1f77b4;stroke:#1f77b4;\" x=\"131.549255\" xlink:href=\"#mb80cc9e2fa\" y=\"75.762772\"/>\n     <use style=\"fill:#1f77b4;stroke:#1f77b4;\" x=\"101.122757\" xlink:href=\"#mb80cc9e2fa\" y=\"53.469579\"/>\n     <use style=\"fill:#1f77b4;stroke:#1f77b4;\" x=\"159.146318\" xlink:href=\"#mb80cc9e2fa\" y=\"112.413794\"/>\n     <use style=\"fill:#1f77b4;stroke:#1f77b4;\" x=\"111.099572\" xlink:href=\"#mb80cc9e2fa\" y=\"54.050045\"/>\n     <use style=\"fill:#1f77b4;stroke:#1f77b4;\" x=\"157.333048\" xlink:href=\"#mb80cc9e2fa\" y=\"73.944158\"/>\n     <use style=\"fill:#1f77b4;stroke:#1f77b4;\" x=\"162.907564\" xlink:href=\"#mb80cc9e2fa\" y=\"67.267244\"/>\n     <use style=\"fill:#1f77b4;stroke:#1f77b4;\" x=\"91.482533\" xlink:href=\"#mb80cc9e2fa\" y=\"59.817931\"/>\n     <use style=\"fill:#1f77b4;stroke:#1f77b4;\" x=\"161.613837\" xlink:href=\"#mb80cc9e2fa\" y=\"85.680392\"/>\n     <use style=\"fill:#1f77b4;stroke:#1f77b4;\" x=\"126.882697\" xlink:href=\"#mb80cc9e2fa\" y=\"67.070943\"/>\n     <use style=\"fill:#1f77b4;stroke:#1f77b4;\" x=\"121.675064\" xlink:href=\"#mb80cc9e2fa\" y=\"48.125557\"/>\n     <use style=\"fill:#1f77b4;stroke:#1f77b4;\" x=\"122.713223\" xlink:href=\"#mb80cc9e2fa\" y=\"49.780146\"/>\n     <use style=\"fill:#1f77b4;stroke:#1f77b4;\" x=\"153.954404\" xlink:href=\"#mb80cc9e2fa\" y=\"88.145147\"/>\n     <use style=\"fill:#1f77b4;stroke:#1f77b4;\" x=\"129.531516\" xlink:href=\"#mb80cc9e2fa\" y=\"69.693299\"/>\n     <use style=\"fill:#1f77b4;stroke:#1f77b4;\" x=\"86.239938\" xlink:href=\"#mb80cc9e2fa\" y=\"52.690932\"/>\n     <use style=\"fill:#1f77b4;stroke:#1f77b4;\" x=\"100.882862\" xlink:href=\"#mb80cc9e2fa\" y=\"58.998079\"/>\n     <use style=\"fill:#1f77b4;stroke:#1f77b4;\" x=\"119.789831\" xlink:href=\"#mb80cc9e2fa\" y=\"70.310759\"/>\n     <use style=\"fill:#1f77b4;stroke:#1f77b4;\" x=\"93.111932\" xlink:href=\"#mb80cc9e2fa\" y=\"69.455219\"/>\n     <use style=\"fill:#1f77b4;stroke:#1f77b4;\" x=\"150.776544\" xlink:href=\"#mb80cc9e2fa\" y=\"81.724731\"/>\n     <use style=\"fill:#1f77b4;stroke:#1f77b4;\" x=\"116.011472\" xlink:href=\"#mb80cc9e2fa\" y=\"77.255528\"/>\n     <use style=\"fill:#1f77b4;stroke:#1f77b4;\" x=\"150.943952\" xlink:href=\"#mb80cc9e2fa\" y=\"80.746945\"/>\n     <use style=\"fill:#1f77b4;stroke:#1f77b4;\" x=\"153.085164\" xlink:href=\"#mb80cc9e2fa\" y=\"93.1494\"/>\n     <use style=\"fill:#1f77b4;stroke:#1f77b4;\" x=\"119.827016\" xlink:href=\"#mb80cc9e2fa\" y=\"61.016834\"/>\n     <use style=\"fill:#1f77b4;stroke:#1f77b4;\" x=\"126.090628\" xlink:href=\"#mb80cc9e2fa\" y=\"82.141287\"/>\n     <use style=\"fill:#1f77b4;stroke:#1f77b4;\" x=\"182.544174\" xlink:href=\"#mb80cc9e2fa\" y=\"118.608819\"/>\n     <use style=\"fill:#1f77b4;stroke:#1f77b4;\" x=\"137.908051\" xlink:href=\"#mb80cc9e2fa\" y=\"96.034033\"/>\n     <use style=\"fill:#1f77b4;stroke:#1f77b4;\" x=\"116.40786\" xlink:href=\"#mb80cc9e2fa\" y=\"83.796546\"/>\n     <use style=\"fill:#1f77b4;stroke:#1f77b4;\" x=\"95.205752\" xlink:href=\"#mb80cc9e2fa\" y=\"64.199018\"/>\n     <use style=\"fill:#1f77b4;stroke:#1f77b4;\" x=\"102.168692\" xlink:href=\"#mb80cc9e2fa\" y=\"51.904337\"/>\n     <use style=\"fill:#1f77b4;stroke:#1f77b4;\" x=\"161.472245\" xlink:href=\"#mb80cc9e2fa\" y=\"85.423296\"/>\n     <use style=\"fill:#1f77b4;stroke:#1f77b4;\" x=\"155.356564\" xlink:href=\"#mb80cc9e2fa\" y=\"90.391884\"/>\n     <use style=\"fill:#1f77b4;stroke:#1f77b4;\" x=\"179.820792\" xlink:href=\"#mb80cc9e2fa\" y=\"99.46871\"/>\n     <use style=\"fill:#1f77b4;stroke:#1f77b4;\" x=\"160.997282\" xlink:href=\"#mb80cc9e2fa\" y=\"99.516279\"/>\n     <use style=\"fill:#1f77b4;stroke:#1f77b4;\" x=\"96.745313\" xlink:href=\"#mb80cc9e2fa\" y=\"70.093542\"/>\n     <use style=\"fill:#1f77b4;stroke:#1f77b4;\" x=\"165.119108\" xlink:href=\"#mb80cc9e2fa\" y=\"89.524228\"/>\n     <use style=\"fill:#1f77b4;stroke:#1f77b4;\" x=\"131.792049\" xlink:href=\"#mb80cc9e2fa\" y=\"68.520347\"/>\n     <use style=\"fill:#1f77b4;stroke:#1f77b4;\" x=\"171.024817\" xlink:href=\"#mb80cc9e2fa\" y=\"92.460679\"/>\n     <use style=\"fill:#1f77b4;stroke:#1f77b4;\" x=\"177.509346\" xlink:href=\"#mb80cc9e2fa\" y=\"95.673455\"/>\n     <use style=\"fill:#1f77b4;stroke:#1f77b4;\" x=\"102.670339\" xlink:href=\"#mb80cc9e2fa\" y=\"64.697871\"/>\n     <use style=\"fill:#1f77b4;stroke:#1f77b4;\" x=\"131.886881\" xlink:href=\"#mb80cc9e2fa\" y=\"56.290659\"/>\n     <use style=\"fill:#1f77b4;stroke:#1f77b4;\" x=\"105.116682\" xlink:href=\"#mb80cc9e2fa\" y=\"48.272076\"/>\n     <use style=\"fill:#1f77b4;stroke:#1f77b4;\" x=\"180.373953\" xlink:href=\"#mb80cc9e2fa\" y=\"101.727867\"/>\n     <use style=\"fill:#1f77b4;stroke:#1f77b4;\" x=\"158.407037\" xlink:href=\"#mb80cc9e2fa\" y=\"77.2122\"/>\n     <use style=\"fill:#1f77b4;stroke:#1f77b4;\" x=\"111.961373\" xlink:href=\"#mb80cc9e2fa\" y=\"49.746997\"/>\n     <use style=\"fill:#1f77b4;stroke:#1f77b4;\" x=\"143.363213\" xlink:href=\"#mb80cc9e2fa\" y=\"90.526252\"/>\n     <use style=\"fill:#1f77b4;stroke:#1f77b4;\" x=\"159.79435\" xlink:href=\"#mb80cc9e2fa\" y=\"95.270133\"/>\n     <use style=\"fill:#1f77b4;stroke:#1f77b4;\" x=\"185.988597\" xlink:href=\"#mb80cc9e2fa\" y=\"99.49032\"/>\n     <use style=\"fill:#1f77b4;stroke:#1f77b4;\" x=\"157.836331\" xlink:href=\"#mb80cc9e2fa\" y=\"94.842425\"/>\n     <use style=\"fill:#1f77b4;stroke:#1f77b4;\" x=\"99.988052\" xlink:href=\"#mb80cc9e2fa\" y=\"66.730158\"/>\n     <use style=\"fill:#1f77b4;stroke:#1f77b4;\" x=\"133.586707\" xlink:href=\"#mb80cc9e2fa\" y=\"70.302375\"/>\n     <use style=\"fill:#1f77b4;stroke:#1f77b4;\" x=\"122.488357\" xlink:href=\"#mb80cc9e2fa\" y=\"75.549732\"/>\n     <use style=\"fill:#1f77b4;stroke:#1f77b4;\" x=\"174.164115\" xlink:href=\"#mb80cc9e2fa\" y=\"102.021838\"/>\n     <use style=\"fill:#1f77b4;stroke:#1f77b4;\" x=\"146.030225\" xlink:href=\"#mb80cc9e2fa\" y=\"78.063429\"/>\n     <use style=\"fill:#1f77b4;stroke:#1f77b4;\" x=\"147.645995\" xlink:href=\"#mb80cc9e2fa\" y=\"62.09988\"/>\n     <use style=\"fill:#1f77b4;stroke:#1f77b4;\" x=\"158.552041\" xlink:href=\"#mb80cc9e2fa\" y=\"80.923769\"/>\n     <use style=\"fill:#1f77b4;stroke:#1f77b4;\" x=\"127.107242\" xlink:href=\"#mb80cc9e2fa\" y=\"50.837281\"/>\n     <use style=\"fill:#1f77b4;stroke:#1f77b4;\" x=\"143.641713\" xlink:href=\"#mb80cc9e2fa\" y=\"101.345382\"/>\n     <use style=\"fill:#1f77b4;stroke:#1f77b4;\" x=\"74.777463\" xlink:href=\"#mb80cc9e2fa\" y=\"29.774527\"/>\n     <use style=\"fill:#1f77b4;stroke:#1f77b4;\" x=\"77.690508\" xlink:href=\"#mb80cc9e2fa\" y=\"33.41227\"/>\n     <use style=\"fill:#1f77b4;stroke:#1f77b4;\" x=\"177.344249\" xlink:href=\"#mb80cc9e2fa\" y=\"105.941259\"/>\n     <use style=\"fill:#1f77b4;stroke:#1f77b4;\" x=\"178.428795\" xlink:href=\"#mb80cc9e2fa\" y=\"105.377334\"/>\n     <use style=\"fill:#1f77b4;stroke:#1f77b4;\" x=\"118.491032\" xlink:href=\"#mb80cc9e2fa\" y=\"55.011051\"/>\n     <use style=\"fill:#1f77b4;stroke:#1f77b4;\" x=\"118.484631\" xlink:href=\"#mb80cc9e2fa\" y=\"61.962726\"/>\n     <use style=\"fill:#1f77b4;stroke:#1f77b4;\" x=\"116.419112\" xlink:href=\"#mb80cc9e2fa\" y=\"58.911056\"/>\n     <use style=\"fill:#1f77b4;stroke:#1f77b4;\" x=\"146.249855\" xlink:href=\"#mb80cc9e2fa\" y=\"97.729576\"/>\n     <use style=\"fill:#1f77b4;stroke:#1f77b4;\" x=\"123.316986\" xlink:href=\"#mb80cc9e2fa\" y=\"87.176605\"/>\n     <use style=\"fill:#1f77b4;stroke:#1f77b4;\" x=\"150.693649\" xlink:href=\"#mb80cc9e2fa\" y=\"79.776819\"/>\n     <use style=\"fill:#1f77b4;stroke:#1f77b4;\" x=\"85.038225\" xlink:href=\"#mb80cc9e2fa\" y=\"52.925777\"/>\n     <use style=\"fill:#1f77b4;stroke:#1f77b4;\" x=\"115.140701\" xlink:href=\"#mb80cc9e2fa\" y=\"66.366286\"/>\n     <use style=\"fill:#1f77b4;stroke:#1f77b4;\" x=\"122.023381\" xlink:href=\"#mb80cc9e2fa\" y=\"79.249386\"/>\n     <use style=\"fill:#1f77b4;stroke:#1f77b4;\" x=\"144.023408\" xlink:href=\"#mb80cc9e2fa\" y=\"88.509957\"/>\n     <use style=\"fill:#1f77b4;stroke:#1f77b4;\" x=\"98.01255\" xlink:href=\"#mb80cc9e2fa\" y=\"43.776402\"/>\n     <use style=\"fill:#1f77b4;stroke:#1f77b4;\" x=\"83.735857\" xlink:href=\"#mb80cc9e2fa\" y=\"30.094774\"/>\n     <use style=\"fill:#1f77b4;stroke:#1f77b4;\" x=\"117.335438\" xlink:href=\"#mb80cc9e2fa\" y=\"66.461827\"/>\n     <use style=\"fill:#1f77b4;stroke:#1f77b4;\" x=\"114.696468\" xlink:href=\"#mb80cc9e2fa\" y=\"58.834193\"/>\n     <use style=\"fill:#1f77b4;stroke:#1f77b4;\" x=\"154.603526\" xlink:href=\"#mb80cc9e2fa\" y=\"78.044084\"/>\n     <use style=\"fill:#1f77b4;stroke:#1f77b4;\" x=\"154.895283\" xlink:href=\"#mb80cc9e2fa\" y=\"84.256811\"/>\n     <use style=\"fill:#1f77b4;stroke:#1f77b4;\" x=\"100.455359\" xlink:href=\"#mb80cc9e2fa\" y=\"58.389539\"/>\n     <use style=\"fill:#1f77b4;stroke:#1f77b4;\" x=\"164.127416\" xlink:href=\"#mb80cc9e2fa\" y=\"97.932137\"/>\n     <use style=\"fill:#1f77b4;stroke:#1f77b4;\" x=\"134.144178\" xlink:href=\"#mb80cc9e2fa\" y=\"75.995218\"/>\n     <use style=\"fill:#1f77b4;stroke:#1f77b4;\" x=\"142.053111\" xlink:href=\"#mb80cc9e2fa\" y=\"73.40036\"/>\n     <use style=\"fill:#1f77b4;stroke:#1f77b4;\" x=\"145.441029\" xlink:href=\"#mb80cc9e2fa\" y=\"84.123113\"/>\n     <use style=\"fill:#1f77b4;stroke:#1f77b4;\" x=\"117.39672\" xlink:href=\"#mb80cc9e2fa\" y=\"75.871795\"/>\n     <use style=\"fill:#1f77b4;stroke:#1f77b4;\" x=\"151.919916\" xlink:href=\"#mb80cc9e2fa\" y=\"91.69712\"/>\n     <use style=\"fill:#1f77b4;stroke:#1f77b4;\" x=\"181.113153\" xlink:href=\"#mb80cc9e2fa\" y=\"107.221138\"/>\n     <use style=\"fill:#1f77b4;stroke:#1f77b4;\" x=\"184.915732\" xlink:href=\"#mb80cc9e2fa\" y=\"118.648029\"/>\n     <use style=\"fill:#1f77b4;stroke:#1f77b4;\" x=\"165.654282\" xlink:href=\"#mb80cc9e2fa\" y=\"101.156048\"/>\n     <use style=\"fill:#1f77b4;stroke:#1f77b4;\" x=\"149.456166\" xlink:href=\"#mb80cc9e2fa\" y=\"77.34267\"/>\n     <use style=\"fill:#1f77b4;stroke:#1f77b4;\" x=\"138.483496\" xlink:href=\"#mb80cc9e2fa\" y=\"83.46389\"/>\n     <use style=\"fill:#1f77b4;stroke:#1f77b4;\" x=\"154.195337\" xlink:href=\"#mb80cc9e2fa\" y=\"85.352495\"/>\n     <use style=\"fill:#1f77b4;stroke:#1f77b4;\" x=\"157.695045\" xlink:href=\"#mb80cc9e2fa\" y=\"74.010154\"/>\n     <use style=\"fill:#1f77b4;stroke:#1f77b4;\" x=\"158.366795\" xlink:href=\"#mb80cc9e2fa\" y=\"82.112922\"/>\n     <use style=\"fill:#1f77b4;stroke:#1f77b4;\" x=\"105.359309\" xlink:href=\"#mb80cc9e2fa\" y=\"72.954707\"/>\n     <use style=\"fill:#1f77b4;stroke:#1f77b4;\" x=\"146.85416\" xlink:href=\"#mb80cc9e2fa\" y=\"80.676701\"/>\n     <use style=\"fill:#1f77b4;stroke:#1f77b4;\" x=\"142.385797\" xlink:href=\"#mb80cc9e2fa\" y=\"83.734932\"/>\n     <use style=\"fill:#1f77b4;stroke:#1f77b4;\" x=\"127.35978\" xlink:href=\"#mb80cc9e2fa\" y=\"67.73433\"/>\n     <use style=\"fill:#1f77b4;stroke:#1f77b4;\" x=\"145.248785\" xlink:href=\"#mb80cc9e2fa\" y=\"79.543701\"/>\n     <use style=\"fill:#1f77b4;stroke:#1f77b4;\" x=\"138.003755\" xlink:href=\"#mb80cc9e2fa\" y=\"80.447345\"/>\n     <use style=\"fill:#1f77b4;stroke:#1f77b4;\" x=\"137.759949\" xlink:href=\"#mb80cc9e2fa\" y=\"78.677393\"/>\n     <use style=\"fill:#1f77b4;stroke:#1f77b4;\" x=\"180.84382\" xlink:href=\"#mb80cc9e2fa\" y=\"104.622273\"/>\n     <use style=\"fill:#1f77b4;stroke:#1f77b4;\" x=\"167.318641\" xlink:href=\"#mb80cc9e2fa\" y=\"100.643356\"/>\n     <use style=\"fill:#1f77b4;stroke:#1f77b4;\" x=\"87.775733\" xlink:href=\"#mb80cc9e2fa\" y=\"46.005232\"/>\n     <use style=\"fill:#1f77b4;stroke:#1f77b4;\" x=\"127.748306\" xlink:href=\"#mb80cc9e2fa\" y=\"77.514849\"/>\n     <use style=\"fill:#1f77b4;stroke:#1f77b4;\" x=\"145.511394\" xlink:href=\"#mb80cc9e2fa\" y=\"86.091957\"/>\n     <use style=\"fill:#1f77b4;stroke:#1f77b4;\" x=\"147.519133\" xlink:href=\"#mb80cc9e2fa\" y=\"74.603844\"/>\n     <use style=\"fill:#1f77b4;stroke:#1f77b4;\" x=\"153.34733\" xlink:href=\"#mb80cc9e2fa\" y=\"101.286087\"/>\n     <use style=\"fill:#1f77b4;stroke:#1f77b4;\" x=\"158.582795\" xlink:href=\"#mb80cc9e2fa\" y=\"96.568399\"/>\n     <use style=\"fill:#1f77b4;stroke:#1f77b4;\" x=\"144.675706\" xlink:href=\"#mb80cc9e2fa\" y=\"75.946772\"/>\n     <use style=\"fill:#1f77b4;stroke:#1f77b4;\" x=\"160.923796\" xlink:href=\"#mb80cc9e2fa\" y=\"101.645709\"/>\n     <use style=\"fill:#1f77b4;stroke:#1f77b4;\" x=\"124.451938\" xlink:href=\"#mb80cc9e2fa\" y=\"59.20944\"/>\n     <use style=\"fill:#1f77b4;stroke:#1f77b4;\" x=\"151.104702\" xlink:href=\"#mb80cc9e2fa\" y=\"93.163904\"/>\n     <use style=\"fill:#1f77b4;stroke:#1f77b4;\" x=\"134.457142\" xlink:href=\"#mb80cc9e2fa\" y=\"87.522521\"/>\n     <use style=\"fill:#1f77b4;stroke:#1f77b4;\" x=\"124.45648\" xlink:href=\"#mb80cc9e2fa\" y=\"68.510552\"/>\n     <use style=\"fill:#1f77b4;stroke:#1f77b4;\" x=\"178.226489\" xlink:href=\"#mb80cc9e2fa\" y=\"99.770134\"/>\n     <use style=\"fill:#1f77b4;stroke:#1f77b4;\" x=\"140.957616\" xlink:href=\"#mb80cc9e2fa\" y=\"79.877835\"/>\n     <use style=\"fill:#1f77b4;stroke:#1f77b4;\" x=\"138.936488\" xlink:href=\"#mb80cc9e2fa\" y=\"80.696669\"/>\n     <use style=\"fill:#1f77b4;stroke:#1f77b4;\" x=\"201.776416\" xlink:href=\"#mb80cc9e2fa\" y=\"114.603047\"/>\n     <use style=\"fill:#1f77b4;stroke:#1f77b4;\" x=\"136.496937\" xlink:href=\"#mb80cc9e2fa\" y=\"76.765151\"/>\n     <use style=\"fill:#1f77b4;stroke:#1f77b4;\" x=\"94.598735\" xlink:href=\"#mb80cc9e2fa\" y=\"60.841948\"/>\n     <use style=\"fill:#1f77b4;stroke:#1f77b4;\" x=\"131.02536\" xlink:href=\"#mb80cc9e2fa\" y=\"75.148445\"/>\n     <use style=\"fill:#1f77b4;stroke:#1f77b4;\" x=\"122.070839\" xlink:href=\"#mb80cc9e2fa\" y=\"61.062455\"/>\n     <use style=\"fill:#1f77b4;stroke:#1f77b4;\" x=\"132.40672\" xlink:href=\"#mb80cc9e2fa\" y=\"83.088159\"/>\n     <use style=\"fill:#1f77b4;stroke:#1f77b4;\" x=\"148.943916\" xlink:href=\"#mb80cc9e2fa\" y=\"91.666207\"/>\n     <use style=\"fill:#1f77b4;stroke:#1f77b4;\" x=\"104.143778\" xlink:href=\"#mb80cc9e2fa\" y=\"39.407286\"/>\n     <use style=\"fill:#1f77b4;stroke:#1f77b4;\" x=\"160.604108\" xlink:href=\"#mb80cc9e2fa\" y=\"95.094186\"/>\n     <use style=\"fill:#1f77b4;stroke:#1f77b4;\" x=\"94.570377\" xlink:href=\"#mb80cc9e2fa\" y=\"67.983332\"/>\n     <use style=\"fill:#1f77b4;stroke:#1f77b4;\" x=\"135.405137\" xlink:href=\"#mb80cc9e2fa\" y=\"53.897075\"/>\n     <use style=\"fill:#1f77b4;stroke:#1f77b4;\" x=\"155.038571\" xlink:href=\"#mb80cc9e2fa\" y=\"71.897422\"/>\n     <use style=\"fill:#1f77b4;stroke:#1f77b4;\" x=\"128.291123\" xlink:href=\"#mb80cc9e2fa\" y=\"69.358539\"/>\n     <use style=\"fill:#1f77b4;stroke:#1f77b4;\" x=\"135.176021\" xlink:href=\"#mb80cc9e2fa\" y=\"64.938312\"/>\n     <use style=\"fill:#1f77b4;stroke:#1f77b4;\" x=\"163.775782\" xlink:href=\"#mb80cc9e2fa\" y=\"95.623117\"/>\n     <use style=\"fill:#1f77b4;stroke:#1f77b4;\" x=\"77.68155\" xlink:href=\"#mb80cc9e2fa\" y=\"44.655131\"/>\n     <use style=\"fill:#1f77b4;stroke:#1f77b4;\" x=\"128.805201\" xlink:href=\"#mb80cc9e2fa\" y=\"66.985105\"/>\n     <use style=\"fill:#1f77b4;stroke:#1f77b4;\" x=\"182.544035\" xlink:href=\"#mb80cc9e2fa\" y=\"93.875824\"/>\n     <use style=\"fill:#1f77b4;stroke:#1f77b4;\" x=\"129.327317\" xlink:href=\"#mb80cc9e2fa\" y=\"60.959715\"/>\n     <use style=\"fill:#1f77b4;stroke:#1f77b4;\" x=\"135.670632\" xlink:href=\"#mb80cc9e2fa\" y=\"73.449259\"/>\n     <use style=\"fill:#1f77b4;stroke:#1f77b4;\" x=\"44.18196\" xlink:href=\"#mb80cc9e2fa\" y=\"24.279747\"/>\n     <use style=\"fill:#1f77b4;stroke:#1f77b4;\" x=\"122.917401\" xlink:href=\"#mb80cc9e2fa\" y=\"63.329163\"/>\n     <use style=\"fill:#1f77b4;stroke:#1f77b4;\" x=\"148.895294\" xlink:href=\"#mb80cc9e2fa\" y=\"87.060684\"/>\n     <use style=\"fill:#1f77b4;stroke:#1f77b4;\" x=\"159.480334\" xlink:href=\"#mb80cc9e2fa\" y=\"92.562607\"/>\n     <use style=\"fill:#1f77b4;stroke:#1f77b4;\" x=\"167.140589\" xlink:href=\"#mb80cc9e2fa\" y=\"83.74147\"/>\n     <use style=\"fill:#1f77b4;stroke:#1f77b4;\" x=\"132.290097\" xlink:href=\"#mb80cc9e2fa\" y=\"79.810051\"/>\n     <use style=\"fill:#1f77b4;stroke:#1f77b4;\" x=\"127.944026\" xlink:href=\"#mb80cc9e2fa\" y=\"69.497197\"/>\n     <use style=\"fill:#1f77b4;stroke:#1f77b4;\" x=\"132.609736\" xlink:href=\"#mb80cc9e2fa\" y=\"63.904763\"/>\n     <use style=\"fill:#1f77b4;stroke:#1f77b4;\" x=\"119.105751\" xlink:href=\"#mb80cc9e2fa\" y=\"65.538408\"/>\n     <use style=\"fill:#1f77b4;stroke:#1f77b4;\" x=\"125.063757\" xlink:href=\"#mb80cc9e2fa\" y=\"64.290067\"/>\n     <use style=\"fill:#1f77b4;stroke:#1f77b4;\" x=\"109.965799\" xlink:href=\"#mb80cc9e2fa\" y=\"59.204935\"/>\n     <use style=\"fill:#1f77b4;stroke:#1f77b4;\" x=\"112.482886\" xlink:href=\"#mb80cc9e2fa\" y=\"63.969504\"/>\n     <use style=\"fill:#1f77b4;stroke:#1f77b4;\" x=\"155.886395\" xlink:href=\"#mb80cc9e2fa\" y=\"78.569208\"/>\n     <use style=\"fill:#1f77b4;stroke:#1f77b4;\" x=\"113.970856\" xlink:href=\"#mb80cc9e2fa\" y=\"64.467291\"/>\n     <use style=\"fill:#1f77b4;stroke:#1f77b4;\" x=\"152.580616\" xlink:href=\"#mb80cc9e2fa\" y=\"79.753174\"/>\n     <use style=\"fill:#1f77b4;stroke:#1f77b4;\" x=\"138.990565\" xlink:href=\"#mb80cc9e2fa\" y=\"81.452668\"/>\n     <use style=\"fill:#1f77b4;stroke:#1f77b4;\" x=\"116.978868\" xlink:href=\"#mb80cc9e2fa\" y=\"62.726015\"/>\n     <use style=\"fill:#1f77b4;stroke:#1f77b4;\" x=\"146.603331\" xlink:href=\"#mb80cc9e2fa\" y=\"66.513605\"/>\n     <use style=\"fill:#1f77b4;stroke:#1f77b4;\" x=\"104.980146\" xlink:href=\"#mb80cc9e2fa\" y=\"68.826171\"/>\n     <use style=\"fill:#1f77b4;stroke:#1f77b4;\" x=\"127.304679\" xlink:href=\"#mb80cc9e2fa\" y=\"76.296998\"/>\n     <use style=\"fill:#1f77b4;stroke:#1f77b4;\" x=\"171.431306\" xlink:href=\"#mb80cc9e2fa\" y=\"113.1113\"/>\n     <use style=\"fill:#1f77b4;stroke:#1f77b4;\" x=\"114.708103\" xlink:href=\"#mb80cc9e2fa\" y=\"70.259711\"/>\n     <use style=\"fill:#1f77b4;stroke:#1f77b4;\" x=\"147.198078\" xlink:href=\"#mb80cc9e2fa\" y=\"95.886205\"/>\n     <use style=\"fill:#1f77b4;stroke:#1f77b4;\" x=\"119.088556\" xlink:href=\"#mb80cc9e2fa\" y=\"57.09172\"/>\n     <use style=\"fill:#1f77b4;stroke:#1f77b4;\" x=\"121.225912\" xlink:href=\"#mb80cc9e2fa\" y=\"77.138148\"/>\n     <use style=\"fill:#1f77b4;stroke:#1f77b4;\" x=\"141.987089\" xlink:href=\"#mb80cc9e2fa\" y=\"83.647931\"/>\n     <use style=\"fill:#1f77b4;stroke:#1f77b4;\" x=\"108.423486\" xlink:href=\"#mb80cc9e2fa\" y=\"53.0056\"/>\n     <use style=\"fill:#1f77b4;stroke:#1f77b4;\" x=\"127.388724\" xlink:href=\"#mb80cc9e2fa\" y=\"80.644217\"/>\n     <use style=\"fill:#1f77b4;stroke:#1f77b4;\" x=\"136.793282\" xlink:href=\"#mb80cc9e2fa\" y=\"84.243665\"/>\n     <use style=\"fill:#1f77b4;stroke:#1f77b4;\" x=\"163.654977\" xlink:href=\"#mb80cc9e2fa\" y=\"96.792889\"/>\n     <use style=\"fill:#1f77b4;stroke:#1f77b4;\" x=\"116.027507\" xlink:href=\"#mb80cc9e2fa\" y=\"78.002827\"/>\n     <use style=\"fill:#1f77b4;stroke:#1f77b4;\" x=\"121.800942\" xlink:href=\"#mb80cc9e2fa\" y=\"76.16029\"/>\n     <use style=\"fill:#1f77b4;stroke:#1f77b4;\" x=\"140.167787\" xlink:href=\"#mb80cc9e2fa\" y=\"81.375054\"/>\n     <use style=\"fill:#1f77b4;stroke:#1f77b4;\" x=\"161.714074\" xlink:href=\"#mb80cc9e2fa\" y=\"82.492845\"/>\n     <use style=\"fill:#1f77b4;stroke:#1f77b4;\" x=\"124.273782\" xlink:href=\"#mb80cc9e2fa\" y=\"87.389778\"/>\n     <use style=\"fill:#1f77b4;stroke:#1f77b4;\" x=\"150.294201\" xlink:href=\"#mb80cc9e2fa\" y=\"83.614528\"/>\n     <use style=\"fill:#1f77b4;stroke:#1f77b4;\" x=\"135.043909\" xlink:href=\"#mb80cc9e2fa\" y=\"84.04197\"/>\n     <use style=\"fill:#1f77b4;stroke:#1f77b4;\" x=\"132.32036\" xlink:href=\"#mb80cc9e2fa\" y=\"62.458403\"/>\n     <use style=\"fill:#1f77b4;stroke:#1f77b4;\" x=\"109.092402\" xlink:href=\"#mb80cc9e2fa\" y=\"68.681305\"/>\n     <use style=\"fill:#1f77b4;stroke:#1f77b4;\" x=\"134.64525\" xlink:href=\"#mb80cc9e2fa\" y=\"80.611935\"/>\n     <use style=\"fill:#1f77b4;stroke:#1f77b4;\" x=\"122.420487\" xlink:href=\"#mb80cc9e2fa\" y=\"74.451365\"/>\n     <use style=\"fill:#1f77b4;stroke:#1f77b4;\" x=\"125.798951\" xlink:href=\"#mb80cc9e2fa\" y=\"81.859886\"/>\n     <use style=\"fill:#1f77b4;stroke:#1f77b4;\" x=\"173.91526\" xlink:href=\"#mb80cc9e2fa\" y=\"114.588504\"/>\n     <use style=\"fill:#1f77b4;stroke:#1f77b4;\" x=\"132.597545\" xlink:href=\"#mb80cc9e2fa\" y=\"69.88855\"/>\n     <use style=\"fill:#1f77b4;stroke:#1f77b4;\" x=\"155.94131\" xlink:href=\"#mb80cc9e2fa\" y=\"78.516692\"/>\n     <use style=\"fill:#1f77b4;stroke:#1f77b4;\" x=\"101.464989\" xlink:href=\"#mb80cc9e2fa\" y=\"56.570183\"/>\n     <use style=\"fill:#1f77b4;stroke:#1f77b4;\" x=\"130.763196\" xlink:href=\"#mb80cc9e2fa\" y=\"60.442867\"/>\n     <use style=\"fill:#1f77b4;stroke:#1f77b4;\" x=\"145.140913\" xlink:href=\"#mb80cc9e2fa\" y=\"81.419746\"/>\n     <use style=\"fill:#1f77b4;stroke:#1f77b4;\" x=\"114.233889\" xlink:href=\"#mb80cc9e2fa\" y=\"70.563232\"/>\n     <use style=\"fill:#1f77b4;stroke:#1f77b4;\" x=\"171.094621\" xlink:href=\"#mb80cc9e2fa\" y=\"81.79842\"/>\n     <use style=\"fill:#1f77b4;stroke:#1f77b4;\" x=\"114.97037\" xlink:href=\"#mb80cc9e2fa\" y=\"54.851219\"/>\n     <use style=\"fill:#1f77b4;stroke:#1f77b4;\" x=\"106.081233\" xlink:href=\"#mb80cc9e2fa\" y=\"63.40675\"/>\n     <use style=\"fill:#1f77b4;stroke:#1f77b4;\" x=\"129.31139\" xlink:href=\"#mb80cc9e2fa\" y=\"62.87019\"/>\n     <use style=\"fill:#1f77b4;stroke:#1f77b4;\" x=\"151.222748\" xlink:href=\"#mb80cc9e2fa\" y=\"81.023777\"/>\n     <use style=\"fill:#1f77b4;stroke:#1f77b4;\" x=\"139.49146\" xlink:href=\"#mb80cc9e2fa\" y=\"90.028955\"/>\n     <use style=\"fill:#1f77b4;stroke:#1f77b4;\" x=\"131.707138\" xlink:href=\"#mb80cc9e2fa\" y=\"75.105221\"/>\n     <use style=\"fill:#1f77b4;stroke:#1f77b4;\" x=\"179.078088\" xlink:href=\"#mb80cc9e2fa\" y=\"105.039771\"/>\n     <use style=\"fill:#1f77b4;stroke:#1f77b4;\" x=\"169.865843\" xlink:href=\"#mb80cc9e2fa\" y=\"95.366856\"/>\n     <use style=\"fill:#1f77b4;stroke:#1f77b4;\" x=\"115.530668\" xlink:href=\"#mb80cc9e2fa\" y=\"75.466244\"/>\n     <use style=\"fill:#1f77b4;stroke:#1f77b4;\" x=\"142.361489\" xlink:href=\"#mb80cc9e2fa\" y=\"74.042434\"/>\n     <use style=\"fill:#1f77b4;stroke:#1f77b4;\" x=\"105.394764\" xlink:href=\"#mb80cc9e2fa\" y=\"69.049298\"/>\n     <use style=\"fill:#1f77b4;stroke:#1f77b4;\" x=\"95.300153\" xlink:href=\"#mb80cc9e2fa\" y=\"58.1102\"/>\n     <use style=\"fill:#1f77b4;stroke:#1f77b4;\" x=\"114.335714\" xlink:href=\"#mb80cc9e2fa\" y=\"70.192591\"/>\n     <use style=\"fill:#1f77b4;stroke:#1f77b4;\" x=\"114.331453\" xlink:href=\"#mb80cc9e2fa\" y=\"71.2236\"/>\n     <use style=\"fill:#1f77b4;stroke:#1f77b4;\" x=\"101.447231\" xlink:href=\"#mb80cc9e2fa\" y=\"76.000251\"/>\n     <use style=\"fill:#1f77b4;stroke:#1f77b4;\" x=\"129.054\" xlink:href=\"#mb80cc9e2fa\" y=\"78.020312\"/>\n     <use style=\"fill:#1f77b4;stroke:#1f77b4;\" x=\"149.063032\" xlink:href=\"#mb80cc9e2fa\" y=\"80.898476\"/>\n     <use style=\"fill:#1f77b4;stroke:#1f77b4;\" x=\"122.994441\" xlink:href=\"#mb80cc9e2fa\" y=\"76.083932\"/>\n     <use style=\"fill:#1f77b4;stroke:#1f77b4;\" x=\"158.232436\" xlink:href=\"#mb80cc9e2fa\" y=\"91.460253\"/>\n     <use style=\"fill:#1f77b4;stroke:#1f77b4;\" x=\"149.790907\" xlink:href=\"#mb80cc9e2fa\" y=\"92.577979\"/>\n     <use style=\"fill:#1f77b4;stroke:#1f77b4;\" x=\"96.364663\" xlink:href=\"#mb80cc9e2fa\" y=\"60.433006\"/>\n     <use style=\"fill:#1f77b4;stroke:#1f77b4;\" x=\"88.678042\" xlink:href=\"#mb80cc9e2fa\" y=\"45.302699\"/>\n     <use style=\"fill:#1f77b4;stroke:#1f77b4;\" x=\"129.267926\" xlink:href=\"#mb80cc9e2fa\" y=\"87.962683\"/>\n     <use style=\"fill:#1f77b4;stroke:#1f77b4;\" x=\"133.168019\" xlink:href=\"#mb80cc9e2fa\" y=\"76.219477\"/>\n     <use style=\"fill:#1f77b4;stroke:#1f77b4;\" x=\"93.751892\" xlink:href=\"#mb80cc9e2fa\" y=\"52.79029\"/>\n     <use style=\"fill:#1f77b4;stroke:#1f77b4;\" x=\"82.676961\" xlink:href=\"#mb80cc9e2fa\" y=\"46.990409\"/>\n     <use style=\"fill:#1f77b4;stroke:#1f77b4;\" x=\"176.721135\" xlink:href=\"#mb80cc9e2fa\" y=\"109.357532\"/>\n     <use style=\"fill:#1f77b4;stroke:#1f77b4;\" x=\"155.080789\" xlink:href=\"#mb80cc9e2fa\" y=\"85.657449\"/>\n     <use style=\"fill:#1f77b4;stroke:#1f77b4;\" x=\"167.617825\" xlink:href=\"#mb80cc9e2fa\" y=\"100.994838\"/>\n     <use style=\"fill:#1f77b4;stroke:#1f77b4;\" x=\"186.420888\" xlink:href=\"#mb80cc9e2fa\" y=\"104.419793\"/>\n     <use style=\"fill:#1f77b4;stroke:#1f77b4;\" x=\"157.271254\" xlink:href=\"#mb80cc9e2fa\" y=\"83.760203\"/>\n     <use style=\"fill:#1f77b4;stroke:#1f77b4;\" x=\"155.396648\" xlink:href=\"#mb80cc9e2fa\" y=\"91.614021\"/>\n     <use style=\"fill:#1f77b4;stroke:#1f77b4;\" x=\"131.523683\" xlink:href=\"#mb80cc9e2fa\" y=\"85.243451\"/>\n     <use style=\"fill:#1f77b4;stroke:#1f77b4;\" x=\"119.160308\" xlink:href=\"#mb80cc9e2fa\" y=\"88.422631\"/>\n     <use style=\"fill:#1f77b4;stroke:#1f77b4;\" x=\"165.287493\" xlink:href=\"#mb80cc9e2fa\" y=\"103.267845\"/>\n     <use style=\"fill:#1f77b4;stroke:#1f77b4;\" x=\"101.594644\" xlink:href=\"#mb80cc9e2fa\" y=\"68.023638\"/>\n     <use style=\"fill:#1f77b4;stroke:#1f77b4;\" x=\"110.636697\" xlink:href=\"#mb80cc9e2fa\" y=\"67.372928\"/>\n     <use style=\"fill:#1f77b4;stroke:#1f77b4;\" x=\"145.267462\" xlink:href=\"#mb80cc9e2fa\" y=\"78.115847\"/>\n     <use style=\"fill:#1f77b4;stroke:#1f77b4;\" x=\"125.718955\" xlink:href=\"#mb80cc9e2fa\" y=\"75.671323\"/>\n     <use style=\"fill:#1f77b4;stroke:#1f77b4;\" x=\"107.884202\" xlink:href=\"#mb80cc9e2fa\" y=\"61.096762\"/>\n     <use style=\"fill:#1f77b4;stroke:#1f77b4;\" x=\"175.274327\" xlink:href=\"#mb80cc9e2fa\" y=\"89.391889\"/>\n     <use style=\"fill:#1f77b4;stroke:#1f77b4;\" x=\"181.61937\" xlink:href=\"#mb80cc9e2fa\" y=\"111.035568\"/>\n     <use style=\"fill:#1f77b4;stroke:#1f77b4;\" x=\"95.484105\" xlink:href=\"#mb80cc9e2fa\" y=\"50.728576\"/>\n     <use style=\"fill:#1f77b4;stroke:#1f77b4;\" x=\"153.563926\" xlink:href=\"#mb80cc9e2fa\" y=\"84.185531\"/>\n     <use style=\"fill:#1f77b4;stroke:#1f77b4;\" x=\"143.178905\" xlink:href=\"#mb80cc9e2fa\" y=\"69.943798\"/>\n     <use style=\"fill:#1f77b4;stroke:#1f77b4;\" x=\"146.665597\" xlink:href=\"#mb80cc9e2fa\" y=\"79.025219\"/>\n     <use style=\"fill:#1f77b4;stroke:#1f77b4;\" x=\"152.576834\" xlink:href=\"#mb80cc9e2fa\" y=\"80.932642\"/>\n     <use style=\"fill:#1f77b4;stroke:#1f77b4;\" x=\"126.533102\" xlink:href=\"#mb80cc9e2fa\" y=\"59.989732\"/>\n     <use style=\"fill:#1f77b4;stroke:#1f77b4;\" x=\"118.410556\" xlink:href=\"#mb80cc9e2fa\" y=\"66.577765\"/>\n     <use style=\"fill:#1f77b4;stroke:#1f77b4;\" x=\"144.390458\" xlink:href=\"#mb80cc9e2fa\" y=\"83.600316\"/>\n     <use style=\"fill:#1f77b4;stroke:#1f77b4;\" x=\"170.275837\" xlink:href=\"#mb80cc9e2fa\" y=\"94.879477\"/>\n     <use style=\"fill:#1f77b4;stroke:#1f77b4;\" x=\"121.99579\" xlink:href=\"#mb80cc9e2fa\" y=\"79.845838\"/>\n     <use style=\"fill:#1f77b4;stroke:#1f77b4;\" x=\"132.49845\" xlink:href=\"#mb80cc9e2fa\" y=\"74.735993\"/>\n     <use style=\"fill:#1f77b4;stroke:#1f77b4;\" x=\"125.191684\" xlink:href=\"#mb80cc9e2fa\" y=\"76.136834\"/>\n     <use style=\"fill:#1f77b4;stroke:#1f77b4;\" x=\"153.292451\" xlink:href=\"#mb80cc9e2fa\" y=\"87.571469\"/>\n     <use style=\"fill:#1f77b4;stroke:#1f77b4;\" x=\"142.834747\" xlink:href=\"#mb80cc9e2fa\" y=\"90.430519\"/>\n     <use style=\"fill:#1f77b4;stroke:#1f77b4;\" x=\"79.303196\" xlink:href=\"#mb80cc9e2fa\" y=\"48.269631\"/>\n     <use style=\"fill:#1f77b4;stroke:#1f77b4;\" x=\"136.410337\" xlink:href=\"#mb80cc9e2fa\" y=\"76.66771\"/>\n     <use style=\"fill:#1f77b4;stroke:#1f77b4;\" x=\"133.312021\" xlink:href=\"#mb80cc9e2fa\" y=\"71.94738\"/>\n     <use style=\"fill:#1f77b4;stroke:#1f77b4;\" x=\"125.348231\" xlink:href=\"#mb80cc9e2fa\" y=\"74.301352\"/>\n     <use style=\"fill:#1f77b4;stroke:#1f77b4;\" x=\"137.949102\" xlink:href=\"#mb80cc9e2fa\" y=\"86.950883\"/>\n     <use style=\"fill:#1f77b4;stroke:#1f77b4;\" x=\"159.300391\" xlink:href=\"#mb80cc9e2fa\" y=\"101.891513\"/>\n     <use style=\"fill:#1f77b4;stroke:#1f77b4;\" x=\"96.062349\" xlink:href=\"#mb80cc9e2fa\" y=\"48.151261\"/>\n     <use style=\"fill:#1f77b4;stroke:#1f77b4;\" x=\"162.065976\" xlink:href=\"#mb80cc9e2fa\" y=\"81.509596\"/>\n     <use style=\"fill:#1f77b4;stroke:#1f77b4;\" x=\"66.21129\" xlink:href=\"#mb80cc9e2fa\" y=\"50.415045\"/>\n     <use style=\"fill:#1f77b4;stroke:#1f77b4;\" x=\"135.125377\" xlink:href=\"#mb80cc9e2fa\" y=\"68.652659\"/>\n     <use style=\"fill:#1f77b4;stroke:#1f77b4;\" x=\"140.532095\" xlink:href=\"#mb80cc9e2fa\" y=\"54.520358\"/>\n     <use style=\"fill:#1f77b4;stroke:#1f77b4;\" x=\"130.610859\" xlink:href=\"#mb80cc9e2fa\" y=\"78.938285\"/>\n     <use style=\"fill:#1f77b4;stroke:#1f77b4;\" x=\"123.026957\" xlink:href=\"#mb80cc9e2fa\" y=\"87.298817\"/>\n     <use style=\"fill:#1f77b4;stroke:#1f77b4;\" x=\"117.806285\" xlink:href=\"#mb80cc9e2fa\" y=\"53.61749\"/>\n     <use style=\"fill:#1f77b4;stroke:#1f77b4;\" x=\"146.407704\" xlink:href=\"#mb80cc9e2fa\" y=\"68.655392\"/>\n     <use style=\"fill:#1f77b4;stroke:#1f77b4;\" x=\"133.56616\" xlink:href=\"#mb80cc9e2fa\" y=\"77.34304\"/>\n     <use style=\"fill:#1f77b4;stroke:#1f77b4;\" x=\"121.517664\" xlink:href=\"#mb80cc9e2fa\" y=\"74.859489\"/>\n     <use style=\"fill:#1f77b4;stroke:#1f77b4;\" x=\"133.16436\" xlink:href=\"#mb80cc9e2fa\" y=\"65.612747\"/>\n     <use style=\"fill:#1f77b4;stroke:#1f77b4;\" x=\"142.511594\" xlink:href=\"#mb80cc9e2fa\" y=\"74.133802\"/>\n     <use style=\"fill:#1f77b4;stroke:#1f77b4;\" x=\"107.552437\" xlink:href=\"#mb80cc9e2fa\" y=\"56.532192\"/>\n     <use style=\"fill:#1f77b4;stroke:#1f77b4;\" x=\"168.857493\" xlink:href=\"#mb80cc9e2fa\" y=\"102.885555\"/>\n     <use style=\"fill:#1f77b4;stroke:#1f77b4;\" x=\"120.237961\" xlink:href=\"#mb80cc9e2fa\" y=\"72.825355\"/>\n     <use style=\"fill:#1f77b4;stroke:#1f77b4;\" x=\"148.821093\" xlink:href=\"#mb80cc9e2fa\" y=\"95.310202\"/>\n     <use style=\"fill:#1f77b4;stroke:#1f77b4;\" x=\"164.922955\" xlink:href=\"#mb80cc9e2fa\" y=\"102.615465\"/>\n     <use style=\"fill:#1f77b4;stroke:#1f77b4;\" x=\"118.355986\" xlink:href=\"#mb80cc9e2fa\" y=\"57.391455\"/>\n     <use style=\"fill:#1f77b4;stroke:#1f77b4;\" x=\"123.424364\" xlink:href=\"#mb80cc9e2fa\" y=\"63.914156\"/>\n     <use style=\"fill:#1f77b4;stroke:#1f77b4;\" x=\"164.216532\" xlink:href=\"#mb80cc9e2fa\" y=\"98.639514\"/>\n     <use style=\"fill:#1f77b4;stroke:#1f77b4;\" x=\"175.133457\" xlink:href=\"#mb80cc9e2fa\" y=\"85.797103\"/>\n     <use style=\"fill:#1f77b4;stroke:#1f77b4;\" x=\"127.068894\" xlink:href=\"#mb80cc9e2fa\" y=\"73.048428\"/>\n     <use style=\"fill:#1f77b4;stroke:#1f77b4;\" x=\"169.602908\" xlink:href=\"#mb80cc9e2fa\" y=\"86.633248\"/>\n     <use style=\"fill:#1f77b4;stroke:#1f77b4;\" x=\"167.505061\" xlink:href=\"#mb80cc9e2fa\" y=\"83.488726\"/>\n     <use style=\"fill:#1f77b4;stroke:#1f77b4;\" x=\"117.957226\" xlink:href=\"#mb80cc9e2fa\" y=\"62.453818\"/>\n     <use style=\"fill:#1f77b4;stroke:#1f77b4;\" x=\"126.821324\" xlink:href=\"#mb80cc9e2fa\" y=\"71.60161\"/>\n     <use style=\"fill:#1f77b4;stroke:#1f77b4;\" x=\"86.934741\" xlink:href=\"#mb80cc9e2fa\" y=\"35.999715\"/>\n     <use style=\"fill:#1f77b4;stroke:#1f77b4;\" x=\"124.209475\" xlink:href=\"#mb80cc9e2fa\" y=\"70.098875\"/>\n     <use style=\"fill:#1f77b4;stroke:#1f77b4;\" x=\"196.347101\" xlink:href=\"#mb80cc9e2fa\" y=\"114.699865\"/>\n     <use style=\"fill:#1f77b4;stroke:#1f77b4;\" x=\"138.392492\" xlink:href=\"#mb80cc9e2fa\" y=\"77.62767\"/>\n     <use style=\"fill:#1f77b4;stroke:#1f77b4;\" x=\"138.688073\" xlink:href=\"#mb80cc9e2fa\" y=\"70.909039\"/>\n     <use style=\"fill:#1f77b4;stroke:#1f77b4;\" x=\"158.873665\" xlink:href=\"#mb80cc9e2fa\" y=\"95.515651\"/>\n     <use style=\"fill:#1f77b4;stroke:#1f77b4;\" x=\"146.239886\" xlink:href=\"#mb80cc9e2fa\" y=\"86.679897\"/>\n     <use style=\"fill:#1f77b4;stroke:#1f77b4;\" x=\"133.573034\" xlink:href=\"#mb80cc9e2fa\" y=\"79.745754\"/>\n     <use style=\"fill:#1f77b4;stroke:#1f77b4;\" x=\"115.075424\" xlink:href=\"#mb80cc9e2fa\" y=\"60.725409\"/>\n     <use style=\"fill:#1f77b4;stroke:#1f77b4;\" x=\"196.926918\" xlink:href=\"#mb80cc9e2fa\" y=\"106.534639\"/>\n     <use style=\"fill:#1f77b4;stroke:#1f77b4;\" x=\"120.18256\" xlink:href=\"#mb80cc9e2fa\" y=\"63.635019\"/>\n     <use style=\"fill:#1f77b4;stroke:#1f77b4;\" x=\"140.147973\" xlink:href=\"#mb80cc9e2fa\" y=\"87.245478\"/>\n     <use style=\"fill:#1f77b4;stroke:#1f77b4;\" x=\"158.217863\" xlink:href=\"#mb80cc9e2fa\" y=\"89.865363\"/>\n     <use style=\"fill:#1f77b4;stroke:#1f77b4;\" x=\"131.325132\" xlink:href=\"#mb80cc9e2fa\" y=\"79.929448\"/>\n     <use style=\"fill:#1f77b4;stroke:#1f77b4;\" x=\"165.154538\" xlink:href=\"#mb80cc9e2fa\" y=\"90.586257\"/>\n     <use style=\"fill:#1f77b4;stroke:#1f77b4;\" x=\"111.105775\" xlink:href=\"#mb80cc9e2fa\" y=\"76.79791\"/>\n     <use style=\"fill:#1f77b4;stroke:#1f77b4;\" x=\"99.168442\" xlink:href=\"#mb80cc9e2fa\" y=\"69.769326\"/>\n     <use style=\"fill:#1f77b4;stroke:#1f77b4;\" x=\"143.959003\" xlink:href=\"#mb80cc9e2fa\" y=\"92.612375\"/>\n     <use style=\"fill:#1f77b4;stroke:#1f77b4;\" x=\"202.894299\" xlink:href=\"#mb80cc9e2fa\" y=\"102.175895\"/>\n     <use style=\"fill:#1f77b4;stroke:#1f77b4;\" x=\"152.064618\" xlink:href=\"#mb80cc9e2fa\" y=\"81.287527\"/>\n     <use style=\"fill:#1f77b4;stroke:#1f77b4;\" x=\"109.132932\" xlink:href=\"#mb80cc9e2fa\" y=\"72.844842\"/>\n     <use style=\"fill:#1f77b4;stroke:#1f77b4;\" x=\"197.956133\" xlink:href=\"#mb80cc9e2fa\" y=\"103.410815\"/>\n     <use style=\"fill:#1f77b4;stroke:#1f77b4;\" x=\"150.833787\" xlink:href=\"#mb80cc9e2fa\" y=\"81.597825\"/>\n     <use style=\"fill:#1f77b4;stroke:#1f77b4;\" x=\"176.591984\" xlink:href=\"#mb80cc9e2fa\" y=\"110.604475\"/>\n     <use style=\"fill:#1f77b4;stroke:#1f77b4;\" x=\"179.53258\" xlink:href=\"#mb80cc9e2fa\" y=\"110.590106\"/>\n     <use style=\"fill:#1f77b4;stroke:#1f77b4;\" x=\"158.289357\" xlink:href=\"#mb80cc9e2fa\" y=\"78.26901\"/>\n     <use style=\"fill:#1f77b4;stroke:#1f77b4;\" x=\"140.674958\" xlink:href=\"#mb80cc9e2fa\" y=\"95.046356\"/>\n     <use style=\"fill:#1f77b4;stroke:#1f77b4;\" x=\"164.278302\" xlink:href=\"#mb80cc9e2fa\" y=\"94.35784\"/>\n     <use style=\"fill:#1f77b4;stroke:#1f77b4;\" x=\"144.532131\" xlink:href=\"#mb80cc9e2fa\" y=\"72.10901\"/>\n     <use style=\"fill:#1f77b4;stroke:#1f77b4;\" x=\"167.966853\" xlink:href=\"#mb80cc9e2fa\" y=\"90.202921\"/>\n     <use style=\"fill:#1f77b4;stroke:#1f77b4;\" x=\"193.785811\" xlink:href=\"#mb80cc9e2fa\" y=\"112.303154\"/>\n     <use style=\"fill:#1f77b4;stroke:#1f77b4;\" x=\"118.780839\" xlink:href=\"#mb80cc9e2fa\" y=\"71.6177\"/>\n     <use style=\"fill:#1f77b4;stroke:#1f77b4;\" x=\"134.886789\" xlink:href=\"#mb80cc9e2fa\" y=\"94.094955\"/>\n     <use style=\"fill:#1f77b4;stroke:#1f77b4;\" x=\"125.867895\" xlink:href=\"#mb80cc9e2fa\" y=\"83.79267\"/>\n     <use style=\"fill:#1f77b4;stroke:#1f77b4;\" x=\"154.051248\" xlink:href=\"#mb80cc9e2fa\" y=\"97.399926\"/>\n     <use style=\"fill:#1f77b4;stroke:#1f77b4;\" x=\"120.020801\" xlink:href=\"#mb80cc9e2fa\" y=\"59.155562\"/>\n     <use style=\"fill:#1f77b4;stroke:#1f77b4;\" x=\"171.660141\" xlink:href=\"#mb80cc9e2fa\" y=\"88.872979\"/>\n     <use style=\"fill:#1f77b4;stroke:#1f77b4;\" x=\"90.611668\" xlink:href=\"#mb80cc9e2fa\" y=\"49.731859\"/>\n     <use style=\"fill:#1f77b4;stroke:#1f77b4;\" x=\"174.177044\" xlink:href=\"#mb80cc9e2fa\" y=\"91.868385\"/>\n     <use style=\"fill:#1f77b4;stroke:#1f77b4;\" x=\"124.12358\" xlink:href=\"#mb80cc9e2fa\" y=\"67.649549\"/>\n     <use style=\"fill:#1f77b4;stroke:#1f77b4;\" x=\"127.898402\" xlink:href=\"#mb80cc9e2fa\" y=\"70.386412\"/>\n     <use style=\"fill:#1f77b4;stroke:#1f77b4;\" x=\"171.121324\" xlink:href=\"#mb80cc9e2fa\" y=\"98.117407\"/>\n     <use style=\"fill:#1f77b4;stroke:#1f77b4;\" x=\"102.078117\" xlink:href=\"#mb80cc9e2fa\" y=\"54.876831\"/>\n     <use style=\"fill:#1f77b4;stroke:#1f77b4;\" x=\"163.42457\" xlink:href=\"#mb80cc9e2fa\" y=\"86.996309\"/>\n     <use style=\"fill:#1f77b4;stroke:#1f77b4;\" x=\"127.365053\" xlink:href=\"#mb80cc9e2fa\" y=\"81.084432\"/>\n     <use style=\"fill:#1f77b4;stroke:#1f77b4;\" x=\"142.653445\" xlink:href=\"#mb80cc9e2fa\" y=\"87.103566\"/>\n     <use style=\"fill:#1f77b4;stroke:#1f77b4;\" x=\"144.650287\" xlink:href=\"#mb80cc9e2fa\" y=\"75.405384\"/>\n     <use style=\"fill:#1f77b4;stroke:#1f77b4;\" x=\"146.600366\" xlink:href=\"#mb80cc9e2fa\" y=\"93.794314\"/>\n     <use style=\"fill:#1f77b4;stroke:#1f77b4;\" x=\"122.53828\" xlink:href=\"#mb80cc9e2fa\" y=\"83.018822\"/>\n     <use style=\"fill:#1f77b4;stroke:#1f77b4;\" x=\"116.780594\" xlink:href=\"#mb80cc9e2fa\" y=\"62.535651\"/>\n     <use style=\"fill:#1f77b4;stroke:#1f77b4;\" x=\"134.225036\" xlink:href=\"#mb80cc9e2fa\" y=\"82.809886\"/>\n     <use style=\"fill:#1f77b4;stroke:#1f77b4;\" x=\"160.129381\" xlink:href=\"#mb80cc9e2fa\" y=\"91.26548\"/>\n     <use style=\"fill:#1f77b4;stroke:#1f77b4;\" x=\"130.155089\" xlink:href=\"#mb80cc9e2fa\" y=\"72.403148\"/>\n     <use style=\"fill:#1f77b4;stroke:#1f77b4;\" x=\"100.428074\" xlink:href=\"#mb80cc9e2fa\" y=\"58.700178\"/>\n     <use style=\"fill:#1f77b4;stroke:#1f77b4;\" x=\"165.31597\" xlink:href=\"#mb80cc9e2fa\" y=\"102.041999\"/>\n     <use style=\"fill:#1f77b4;stroke:#1f77b4;\" x=\"129.982799\" xlink:href=\"#mb80cc9e2fa\" y=\"81.407544\"/>\n     <use style=\"fill:#1f77b4;stroke:#1f77b4;\" x=\"161.999003\" xlink:href=\"#mb80cc9e2fa\" y=\"83.161859\"/>\n     <use style=\"fill:#1f77b4;stroke:#1f77b4;\" x=\"109.130316\" xlink:href=\"#mb80cc9e2fa\" y=\"62.300237\"/>\n     <use style=\"fill:#1f77b4;stroke:#1f77b4;\" x=\"138.300063\" xlink:href=\"#mb80cc9e2fa\" y=\"83.790622\"/>\n     <use style=\"fill:#1f77b4;stroke:#1f77b4;\" x=\"97.526826\" xlink:href=\"#mb80cc9e2fa\" y=\"48.597491\"/>\n     <use style=\"fill:#1f77b4;stroke:#1f77b4;\" x=\"96.8212\" xlink:href=\"#mb80cc9e2fa\" y=\"68.440164\"/>\n     <use style=\"fill:#1f77b4;stroke:#1f77b4;\" x=\"123.86247\" xlink:href=\"#mb80cc9e2fa\" y=\"75.264222\"/>\n     <use style=\"fill:#1f77b4;stroke:#1f77b4;\" x=\"136.832764\" xlink:href=\"#mb80cc9e2fa\" y=\"75.597064\"/>\n     <use style=\"fill:#1f77b4;stroke:#1f77b4;\" x=\"158.083293\" xlink:href=\"#mb80cc9e2fa\" y=\"79.247469\"/>\n     <use style=\"fill:#1f77b4;stroke:#1f77b4;\" x=\"144.340353\" xlink:href=\"#mb80cc9e2fa\" y=\"75.745966\"/>\n     <use style=\"fill:#1f77b4;stroke:#1f77b4;\" x=\"96.397536\" xlink:href=\"#mb80cc9e2fa\" y=\"66.265313\"/>\n     <use style=\"fill:#1f77b4;stroke:#1f77b4;\" x=\"118.381724\" xlink:href=\"#mb80cc9e2fa\" y=\"65.904676\"/>\n     <use style=\"fill:#1f77b4;stroke:#1f77b4;\" x=\"102.387501\" xlink:href=\"#mb80cc9e2fa\" y=\"58.980603\"/>\n     <use style=\"fill:#1f77b4;stroke:#1f77b4;\" x=\"108.690117\" xlink:href=\"#mb80cc9e2fa\" y=\"55.825662\"/>\n     <use style=\"fill:#1f77b4;stroke:#1f77b4;\" x=\"163.057715\" xlink:href=\"#mb80cc9e2fa\" y=\"88.595214\"/>\n     <use style=\"fill:#1f77b4;stroke:#1f77b4;\" x=\"146.792111\" xlink:href=\"#mb80cc9e2fa\" y=\"91.013672\"/>\n     <use style=\"fill:#1f77b4;stroke:#1f77b4;\" x=\"116.883217\" xlink:href=\"#mb80cc9e2fa\" y=\"67.107597\"/>\n     <use style=\"fill:#1f77b4;stroke:#1f77b4;\" x=\"129.211687\" xlink:href=\"#mb80cc9e2fa\" y=\"73.882492\"/>\n     <use style=\"fill:#1f77b4;stroke:#1f77b4;\" x=\"130.319346\" xlink:href=\"#mb80cc9e2fa\" y=\"70.866796\"/>\n     <use style=\"fill:#1f77b4;stroke:#1f77b4;\" x=\"92.75008\" xlink:href=\"#mb80cc9e2fa\" y=\"61.5253\"/>\n     <use style=\"fill:#1f77b4;stroke:#1f77b4;\" x=\"153.726469\" xlink:href=\"#mb80cc9e2fa\" y=\"84.657106\"/>\n     <use style=\"fill:#1f77b4;stroke:#1f77b4;\" x=\"162.176329\" xlink:href=\"#mb80cc9e2fa\" y=\"94.953897\"/>\n     <use style=\"fill:#1f77b4;stroke:#1f77b4;\" x=\"95.315726\" xlink:href=\"#mb80cc9e2fa\" y=\"43.470107\"/>\n     <use style=\"fill:#1f77b4;stroke:#1f77b4;\" x=\"86.946239\" xlink:href=\"#mb80cc9e2fa\" y=\"54.478249\"/>\n     <use style=\"fill:#1f77b4;stroke:#1f77b4;\" x=\"91.786496\" xlink:href=\"#mb80cc9e2fa\" y=\"44.181641\"/>\n     <use style=\"fill:#1f77b4;stroke:#1f77b4;\" x=\"151.763991\" xlink:href=\"#mb80cc9e2fa\" y=\"76.603974\"/>\n     <use style=\"fill:#1f77b4;stroke:#1f77b4;\" x=\"181.089539\" xlink:href=\"#mb80cc9e2fa\" y=\"98.867797\"/>\n     <use style=\"fill:#1f77b4;stroke:#1f77b4;\" x=\"155.206539\" xlink:href=\"#mb80cc9e2fa\" y=\"68.653564\"/>\n     <use style=\"fill:#1f77b4;stroke:#1f77b4;\" x=\"142.274049\" xlink:href=\"#mb80cc9e2fa\" y=\"89.633948\"/>\n     <use style=\"fill:#1f77b4;stroke:#1f77b4;\" x=\"192.414247\" xlink:href=\"#mb80cc9e2fa\" y=\"116.226794\"/>\n     <use style=\"fill:#1f77b4;stroke:#1f77b4;\" x=\"188.799736\" xlink:href=\"#mb80cc9e2fa\" y=\"100.652061\"/>\n     <use style=\"fill:#1f77b4;stroke:#1f77b4;\" x=\"143.63544\" xlink:href=\"#mb80cc9e2fa\" y=\"76.869243\"/>\n     <use style=\"fill:#1f77b4;stroke:#1f77b4;\" x=\"171.42615\" xlink:href=\"#mb80cc9e2fa\" y=\"96.706534\"/>\n     <use style=\"fill:#1f77b4;stroke:#1f77b4;\" x=\"110.225799\" xlink:href=\"#mb80cc9e2fa\" y=\"76.314415\"/>\n     <use style=\"fill:#1f77b4;stroke:#1f77b4;\" x=\"141.40788\" xlink:href=\"#mb80cc9e2fa\" y=\"73.096573\"/>\n     <use style=\"fill:#1f77b4;stroke:#1f77b4;\" x=\"142.050374\" xlink:href=\"#mb80cc9e2fa\" y=\"83.73019\"/>\n     <use style=\"fill:#1f77b4;stroke:#1f77b4;\" x=\"167.744615\" xlink:href=\"#mb80cc9e2fa\" y=\"90.562416\"/>\n     <use style=\"fill:#1f77b4;stroke:#1f77b4;\" x=\"163.595426\" xlink:href=\"#mb80cc9e2fa\" y=\"83.366607\"/>\n     <use style=\"fill:#1f77b4;stroke:#1f77b4;\" x=\"116.135131\" xlink:href=\"#mb80cc9e2fa\" y=\"77.616399\"/>\n     <use style=\"fill:#1f77b4;stroke:#1f77b4;\" x=\"140.751514\" xlink:href=\"#mb80cc9e2fa\" y=\"71.854329\"/>\n     <use style=\"fill:#1f77b4;stroke:#1f77b4;\" x=\"127.175776\" xlink:href=\"#mb80cc9e2fa\" y=\"70.21638\"/>\n     <use style=\"fill:#1f77b4;stroke:#1f77b4;\" x=\"152.023236\" xlink:href=\"#mb80cc9e2fa\" y=\"86.253815\"/>\n     <use style=\"fill:#1f77b4;stroke:#1f77b4;\" x=\"102.799935\" xlink:href=\"#mb80cc9e2fa\" y=\"33.011761\"/>\n     <use style=\"fill:#1f77b4;stroke:#1f77b4;\" x=\"134.589909\" xlink:href=\"#mb80cc9e2fa\" y=\"78.445437\"/>\n     <use style=\"fill:#1f77b4;stroke:#1f77b4;\" x=\"112.497374\" xlink:href=\"#mb80cc9e2fa\" y=\"64.266516\"/>\n     <use style=\"fill:#1f77b4;stroke:#1f77b4;\" x=\"170.174294\" xlink:href=\"#mb80cc9e2fa\" y=\"89.901567\"/>\n     <use style=\"fill:#1f77b4;stroke:#1f77b4;\" x=\"108.775243\" xlink:href=\"#mb80cc9e2fa\" y=\"58.786046\"/>\n     <use style=\"fill:#1f77b4;stroke:#1f77b4;\" x=\"119.753126\" xlink:href=\"#mb80cc9e2fa\" y=\"55.902144\"/>\n     <use style=\"fill:#1f77b4;stroke:#1f77b4;\" x=\"216.626997\" xlink:href=\"#mb80cc9e2fa\" y=\"122.084872\"/>\n     <use style=\"fill:#1f77b4;stroke:#1f77b4;\" x=\"141.675194\" xlink:href=\"#mb80cc9e2fa\" y=\"83.219126\"/>\n     <use style=\"fill:#1f77b4;stroke:#1f77b4;\" x=\"116.762846\" xlink:href=\"#mb80cc9e2fa\" y=\"62.879665\"/>\n     <use style=\"fill:#1f77b4;stroke:#1f77b4;\" x=\"106.468143\" xlink:href=\"#mb80cc9e2fa\" y=\"64.667021\"/>\n     <use style=\"fill:#1f77b4;stroke:#1f77b4;\" x=\"160.947055\" xlink:href=\"#mb80cc9e2fa\" y=\"98.964957\"/>\n     <use style=\"fill:#1f77b4;stroke:#1f77b4;\" x=\"127.225909\" xlink:href=\"#mb80cc9e2fa\" y=\"82.806883\"/>\n     <use style=\"fill:#1f77b4;stroke:#1f77b4;\" x=\"119.817966\" xlink:href=\"#mb80cc9e2fa\" y=\"61.813445\"/>\n     <use style=\"fill:#1f77b4;stroke:#1f77b4;\" x=\"124.386365\" xlink:href=\"#mb80cc9e2fa\" y=\"72.800383\"/>\n     <use style=\"fill:#1f77b4;stroke:#1f77b4;\" x=\"116.861165\" xlink:href=\"#mb80cc9e2fa\" y=\"51.179745\"/>\n     <use style=\"fill:#1f77b4;stroke:#1f77b4;\" x=\"153.787015\" xlink:href=\"#mb80cc9e2fa\" y=\"87.30483\"/>\n     <use style=\"fill:#1f77b4;stroke:#1f77b4;\" x=\"153.622588\" xlink:href=\"#mb80cc9e2fa\" y=\"95.963425\"/>\n     <use style=\"fill:#1f77b4;stroke:#1f77b4;\" x=\"149.536364\" xlink:href=\"#mb80cc9e2fa\" y=\"83.813962\"/>\n     <use style=\"fill:#1f77b4;stroke:#1f77b4;\" x=\"163.109239\" xlink:href=\"#mb80cc9e2fa\" y=\"100.610122\"/>\n     <use style=\"fill:#1f77b4;stroke:#1f77b4;\" x=\"130.705814\" xlink:href=\"#mb80cc9e2fa\" y=\"88.455721\"/>\n     <use style=\"fill:#1f77b4;stroke:#1f77b4;\" x=\"109.041159\" xlink:href=\"#mb80cc9e2fa\" y=\"49.958129\"/>\n     <use style=\"fill:#1f77b4;stroke:#1f77b4;\" x=\"123.010105\" xlink:href=\"#mb80cc9e2fa\" y=\"65.597581\"/>\n     <use style=\"fill:#1f77b4;stroke:#1f77b4;\" x=\"128.692191\" xlink:href=\"#mb80cc9e2fa\" y=\"58.320559\"/>\n     <use style=\"fill:#1f77b4;stroke:#1f77b4;\" x=\"111.770184\" xlink:href=\"#mb80cc9e2fa\" y=\"62.010502\"/>\n     <use style=\"fill:#1f77b4;stroke:#1f77b4;\" x=\"109.852609\" xlink:href=\"#mb80cc9e2fa\" y=\"56.11087\"/>\n     <use style=\"fill:#1f77b4;stroke:#1f77b4;\" x=\"92.939081\" xlink:href=\"#mb80cc9e2fa\" y=\"41.120411\"/>\n     <use style=\"fill:#1f77b4;stroke:#1f77b4;\" x=\"146.119932\" xlink:href=\"#mb80cc9e2fa\" y=\"80.697365\"/>\n     <use style=\"fill:#1f77b4;stroke:#1f77b4;\" x=\"124.133995\" xlink:href=\"#mb80cc9e2fa\" y=\"70.893355\"/>\n     <use style=\"fill:#1f77b4;stroke:#1f77b4;\" x=\"102.610706\" xlink:href=\"#mb80cc9e2fa\" y=\"55.565596\"/>\n     <use style=\"fill:#1f77b4;stroke:#1f77b4;\" x=\"125.056537\" xlink:href=\"#mb80cc9e2fa\" y=\"71.977221\"/>\n     <use style=\"fill:#1f77b4;stroke:#1f77b4;\" x=\"145.119927\" xlink:href=\"#mb80cc9e2fa\" y=\"75.555873\"/>\n     <use style=\"fill:#1f77b4;stroke:#1f77b4;\" x=\"155.402734\" xlink:href=\"#mb80cc9e2fa\" y=\"80.113594\"/>\n     <use style=\"fill:#1f77b4;stroke:#1f77b4;\" x=\"108.049145\" xlink:href=\"#mb80cc9e2fa\" y=\"83.972376\"/>\n     <use style=\"fill:#1f77b4;stroke:#1f77b4;\" x=\"124.783972\" xlink:href=\"#mb80cc9e2fa\" y=\"64.282891\"/>\n     <use style=\"fill:#1f77b4;stroke:#1f77b4;\" x=\"133.256245\" xlink:href=\"#mb80cc9e2fa\" y=\"72.20993\"/>\n     <use style=\"fill:#1f77b4;stroke:#1f77b4;\" x=\"155.73454\" xlink:href=\"#mb80cc9e2fa\" y=\"93.669158\"/>\n     <use style=\"fill:#1f77b4;stroke:#1f77b4;\" x=\"140.398355\" xlink:href=\"#mb80cc9e2fa\" y=\"103.152847\"/>\n     <use style=\"fill:#1f77b4;stroke:#1f77b4;\" x=\"151.694952\" xlink:href=\"#mb80cc9e2fa\" y=\"89.311435\"/>\n     <use style=\"fill:#1f77b4;stroke:#1f77b4;\" x=\"91.036454\" xlink:href=\"#mb80cc9e2fa\" y=\"46.649594\"/>\n     <use style=\"fill:#1f77b4;stroke:#1f77b4;\" x=\"161.151052\" xlink:href=\"#mb80cc9e2fa\" y=\"85.016529\"/>\n     <use style=\"fill:#1f77b4;stroke:#1f77b4;\" x=\"128.731028\" xlink:href=\"#mb80cc9e2fa\" y=\"71.159981\"/>\n     <use style=\"fill:#1f77b4;stroke:#1f77b4;\" x=\"107.33493\" xlink:href=\"#mb80cc9e2fa\" y=\"51.229983\"/>\n     <use style=\"fill:#1f77b4;stroke:#1f77b4;\" x=\"126.134746\" xlink:href=\"#mb80cc9e2fa\" y=\"80.93883\"/>\n     <use style=\"fill:#1f77b4;stroke:#1f77b4;\" x=\"116.907189\" xlink:href=\"#mb80cc9e2fa\" y=\"65.207772\"/>\n     <use style=\"fill:#1f77b4;stroke:#1f77b4;\" x=\"94.773392\" xlink:href=\"#mb80cc9e2fa\" y=\"64.734278\"/>\n     <use style=\"fill:#1f77b4;stroke:#1f77b4;\" x=\"120.268751\" xlink:href=\"#mb80cc9e2fa\" y=\"70.595599\"/>\n     <use style=\"fill:#1f77b4;stroke:#1f77b4;\" x=\"165.442404\" xlink:href=\"#mb80cc9e2fa\" y=\"100.079064\"/>\n     <use style=\"fill:#1f77b4;stroke:#1f77b4;\" x=\"155.158385\" xlink:href=\"#mb80cc9e2fa\" y=\"78.974906\"/>\n     <use style=\"fill:#1f77b4;stroke:#1f77b4;\" x=\"138.678952\" xlink:href=\"#mb80cc9e2fa\" y=\"75.077162\"/>\n     <use style=\"fill:#1f77b4;stroke:#1f77b4;\" x=\"87.483376\" xlink:href=\"#mb80cc9e2fa\" y=\"47.147623\"/>\n     <use style=\"fill:#1f77b4;stroke:#1f77b4;\" x=\"86.504023\" xlink:href=\"#mb80cc9e2fa\" y=\"40.222714\"/>\n     <use style=\"fill:#1f77b4;stroke:#1f77b4;\" x=\"145.046722\" xlink:href=\"#mb80cc9e2fa\" y=\"65.587337\"/>\n     <use style=\"fill:#1f77b4;stroke:#1f77b4;\" x=\"136.745323\" xlink:href=\"#mb80cc9e2fa\" y=\"84.597666\"/>\n     <use style=\"fill:#1f77b4;stroke:#1f77b4;\" x=\"138.003222\" xlink:href=\"#mb80cc9e2fa\" y=\"83.724997\"/>\n     <use style=\"fill:#1f77b4;stroke:#1f77b4;\" x=\"123.492628\" xlink:href=\"#mb80cc9e2fa\" y=\"75.6147\"/>\n     <use style=\"fill:#1f77b4;stroke:#1f77b4;\" x=\"168.487613\" xlink:href=\"#mb80cc9e2fa\" y=\"98.647348\"/>\n     <use style=\"fill:#1f77b4;stroke:#1f77b4;\" x=\"141.460297\" xlink:href=\"#mb80cc9e2fa\" y=\"79.789624\"/>\n     <use style=\"fill:#1f77b4;stroke:#1f77b4;\" x=\"78.248822\" xlink:href=\"#mb80cc9e2fa\" y=\"49.944808\"/>\n     <use style=\"fill:#1f77b4;stroke:#1f77b4;\" x=\"125.705911\" xlink:href=\"#mb80cc9e2fa\" y=\"71.034167\"/>\n     <use style=\"fill:#1f77b4;stroke:#1f77b4;\" x=\"93.004287\" xlink:href=\"#mb80cc9e2fa\" y=\"42.088781\"/>\n     <use style=\"fill:#1f77b4;stroke:#1f77b4;\" x=\"111.335886\" xlink:href=\"#mb80cc9e2fa\" y=\"66.580116\"/>\n     <use style=\"fill:#1f77b4;stroke:#1f77b4;\" x=\"141.8788\" xlink:href=\"#mb80cc9e2fa\" y=\"83.58612\"/>\n     <use style=\"fill:#1f77b4;stroke:#1f77b4;\" x=\"158.133893\" xlink:href=\"#mb80cc9e2fa\" y=\"94.110108\"/>\n     <use style=\"fill:#1f77b4;stroke:#1f77b4;\" x=\"152.478751\" xlink:href=\"#mb80cc9e2fa\" y=\"83.426568\"/>\n     <use style=\"fill:#1f77b4;stroke:#1f77b4;\" x=\"164.790933\" xlink:href=\"#mb80cc9e2fa\" y=\"85.202047\"/>\n     <use style=\"fill:#1f77b4;stroke:#1f77b4;\" x=\"155.138487\" xlink:href=\"#mb80cc9e2fa\" y=\"94.035853\"/>\n     <use style=\"fill:#1f77b4;stroke:#1f77b4;\" x=\"99.164738\" xlink:href=\"#mb80cc9e2fa\" y=\"41.645077\"/>\n     <use style=\"fill:#1f77b4;stroke:#1f77b4;\" x=\"142.382825\" xlink:href=\"#mb80cc9e2fa\" y=\"92.942558\"/>\n     <use style=\"fill:#1f77b4;stroke:#1f77b4;\" x=\"140.485223\" xlink:href=\"#mb80cc9e2fa\" y=\"93.830764\"/>\n     <use style=\"fill:#1f77b4;stroke:#1f77b4;\" x=\"154.999164\" xlink:href=\"#mb80cc9e2fa\" y=\"95.426706\"/>\n     <use style=\"fill:#1f77b4;stroke:#1f77b4;\" x=\"114.136075\" xlink:href=\"#mb80cc9e2fa\" y=\"80.019548\"/>\n     <use style=\"fill:#1f77b4;stroke:#1f77b4;\" x=\"144.272487\" xlink:href=\"#mb80cc9e2fa\" y=\"70.163999\"/>\n     <use style=\"fill:#1f77b4;stroke:#1f77b4;\" x=\"136.742708\" xlink:href=\"#mb80cc9e2fa\" y=\"73.851052\"/>\n     <use style=\"fill:#1f77b4;stroke:#1f77b4;\" x=\"136.84214\" xlink:href=\"#mb80cc9e2fa\" y=\"70.575656\"/>\n     <use style=\"fill:#1f77b4;stroke:#1f77b4;\" x=\"167.248906\" xlink:href=\"#mb80cc9e2fa\" y=\"105.04355\"/>\n     <use style=\"fill:#1f77b4;stroke:#1f77b4;\" x=\"115.14934\" xlink:href=\"#mb80cc9e2fa\" y=\"74.879052\"/>\n     <use style=\"fill:#1f77b4;stroke:#1f77b4;\" x=\"133.068384\" xlink:href=\"#mb80cc9e2fa\" y=\"82.155298\"/>\n     <use style=\"fill:#1f77b4;stroke:#1f77b4;\" x=\"116.045957\" xlink:href=\"#mb80cc9e2fa\" y=\"63.806046\"/>\n     <use style=\"fill:#1f77b4;stroke:#1f77b4;\" x=\"117.733673\" xlink:href=\"#mb80cc9e2fa\" y=\"67.960037\"/>\n     <use style=\"fill:#1f77b4;stroke:#1f77b4;\" x=\"91.679871\" xlink:href=\"#mb80cc9e2fa\" y=\"56.583862\"/>\n     <use style=\"fill:#1f77b4;stroke:#1f77b4;\" x=\"137.741329\" xlink:href=\"#mb80cc9e2fa\" y=\"92.436583\"/>\n     <use style=\"fill:#1f77b4;stroke:#1f77b4;\" x=\"102.212651\" xlink:href=\"#mb80cc9e2fa\" y=\"60.700497\"/>\n     <use style=\"fill:#1f77b4;stroke:#1f77b4;\" x=\"110.20613\" xlink:href=\"#mb80cc9e2fa\" y=\"66.922749\"/>\n     <use style=\"fill:#1f77b4;stroke:#1f77b4;\" x=\"131.278944\" xlink:href=\"#mb80cc9e2fa\" y=\"78.270432\"/>\n     <use style=\"fill:#1f77b4;stroke:#1f77b4;\" x=\"119.394535\" xlink:href=\"#mb80cc9e2fa\" y=\"64.790249\"/>\n     <use style=\"fill:#1f77b4;stroke:#1f77b4;\" x=\"143.679131\" xlink:href=\"#mb80cc9e2fa\" y=\"84.064063\"/>\n     <use style=\"fill:#1f77b4;stroke:#1f77b4;\" x=\"193.010251\" xlink:href=\"#mb80cc9e2fa\" y=\"96.472736\"/>\n     <use style=\"fill:#1f77b4;stroke:#1f77b4;\" x=\"81.149197\" xlink:href=\"#mb80cc9e2fa\" y=\"49.920974\"/>\n     <use style=\"fill:#1f77b4;stroke:#1f77b4;\" x=\"153.925586\" xlink:href=\"#mb80cc9e2fa\" y=\"91.444529\"/>\n     <use style=\"fill:#1f77b4;stroke:#1f77b4;\" x=\"175.177678\" xlink:href=\"#mb80cc9e2fa\" y=\"109.050187\"/>\n     <use style=\"fill:#1f77b4;stroke:#1f77b4;\" x=\"94.097607\" xlink:href=\"#mb80cc9e2fa\" y=\"54.285067\"/>\n     <use style=\"fill:#1f77b4;stroke:#1f77b4;\" x=\"134.826385\" xlink:href=\"#mb80cc9e2fa\" y=\"65.708202\"/>\n     <use style=\"fill:#1f77b4;stroke:#1f77b4;\" x=\"140.15709\" xlink:href=\"#mb80cc9e2fa\" y=\"80.69369\"/>\n     <use style=\"fill:#1f77b4;stroke:#1f77b4;\" x=\"144.184704\" xlink:href=\"#mb80cc9e2fa\" y=\"89.910702\"/>\n     <use style=\"fill:#1f77b4;stroke:#1f77b4;\" x=\"185.382252\" xlink:href=\"#mb80cc9e2fa\" y=\"114.784264\"/>\n     <use style=\"fill:#1f77b4;stroke:#1f77b4;\" x=\"144.962104\" xlink:href=\"#mb80cc9e2fa\" y=\"87.302808\"/>\n     <use style=\"fill:#1f77b4;stroke:#1f77b4;\" x=\"97.230703\" xlink:href=\"#mb80cc9e2fa\" y=\"50.790936\"/>\n     <use style=\"fill:#1f77b4;stroke:#1f77b4;\" x=\"128.031393\" xlink:href=\"#mb80cc9e2fa\" y=\"73.332924\"/>\n     <use style=\"fill:#1f77b4;stroke:#1f77b4;\" x=\"69.356646\" xlink:href=\"#mb80cc9e2fa\" y=\"41.252668\"/>\n     <use style=\"fill:#1f77b4;stroke:#1f77b4;\" x=\"142.35468\" xlink:href=\"#mb80cc9e2fa\" y=\"80.541931\"/>\n     <use style=\"fill:#1f77b4;stroke:#1f77b4;\" x=\"178.580002\" xlink:href=\"#mb80cc9e2fa\" y=\"85.186385\"/>\n     <use style=\"fill:#1f77b4;stroke:#1f77b4;\" x=\"120.277661\" xlink:href=\"#mb80cc9e2fa\" y=\"61.051161\"/>\n     <use style=\"fill:#1f77b4;stroke:#1f77b4;\" x=\"116.923328\" xlink:href=\"#mb80cc9e2fa\" y=\"62.673943\"/>\n     <use style=\"fill:#1f77b4;stroke:#1f77b4;\" x=\"170.196848\" xlink:href=\"#mb80cc9e2fa\" y=\"93.539685\"/>\n     <use style=\"fill:#1f77b4;stroke:#1f77b4;\" x=\"152.36625\" xlink:href=\"#mb80cc9e2fa\" y=\"91.894003\"/>\n     <use style=\"fill:#1f77b4;stroke:#1f77b4;\" x=\"146.375541\" xlink:href=\"#mb80cc9e2fa\" y=\"72.627536\"/>\n     <use style=\"fill:#1f77b4;stroke:#1f77b4;\" x=\"141.692014\" xlink:href=\"#mb80cc9e2fa\" y=\"77.420933\"/>\n     <use style=\"fill:#1f77b4;stroke:#1f77b4;\" x=\"140.678466\" xlink:href=\"#mb80cc9e2fa\" y=\"82.657463\"/>\n     <use style=\"fill:#1f77b4;stroke:#1f77b4;\" x=\"156.768136\" xlink:href=\"#mb80cc9e2fa\" y=\"90.871166\"/>\n     <use style=\"fill:#1f77b4;stroke:#1f77b4;\" x=\"156.187549\" xlink:href=\"#mb80cc9e2fa\" y=\"98.276354\"/>\n     <use style=\"fill:#1f77b4;stroke:#1f77b4;\" x=\"179.916981\" xlink:href=\"#mb80cc9e2fa\" y=\"102.713513\"/>\n     <use style=\"fill:#1f77b4;stroke:#1f77b4;\" x=\"158.63436\" xlink:href=\"#mb80cc9e2fa\" y=\"97.553665\"/>\n     <use style=\"fill:#1f77b4;stroke:#1f77b4;\" x=\"100.182487\" xlink:href=\"#mb80cc9e2fa\" y=\"67.099879\"/>\n     <use style=\"fill:#1f77b4;stroke:#1f77b4;\" x=\"132.548389\" xlink:href=\"#mb80cc9e2fa\" y=\"74.539678\"/>\n     <use style=\"fill:#1f77b4;stroke:#1f77b4;\" x=\"144.621793\" xlink:href=\"#mb80cc9e2fa\" y=\"86.29518\"/>\n     <use style=\"fill:#1f77b4;stroke:#1f77b4;\" x=\"166.009039\" xlink:href=\"#mb80cc9e2fa\" y=\"105.142879\"/>\n     <use style=\"fill:#1f77b4;stroke:#1f77b4;\" x=\"124.510189\" xlink:href=\"#mb80cc9e2fa\" y=\"60.037303\"/>\n     <use style=\"fill:#1f77b4;stroke:#1f77b4;\" x=\"106.296603\" xlink:href=\"#mb80cc9e2fa\" y=\"72.882577\"/>\n     <use style=\"fill:#1f77b4;stroke:#1f77b4;\" x=\"155.433032\" xlink:href=\"#mb80cc9e2fa\" y=\"90.494564\"/>\n     <use style=\"fill:#1f77b4;stroke:#1f77b4;\" x=\"157.586628\" xlink:href=\"#mb80cc9e2fa\" y=\"86.476867\"/>\n     <use style=\"fill:#1f77b4;stroke:#1f77b4;\" x=\"124.881312\" xlink:href=\"#mb80cc9e2fa\" y=\"63.963527\"/>\n     <use style=\"fill:#1f77b4;stroke:#1f77b4;\" x=\"152.986828\" xlink:href=\"#mb80cc9e2fa\" y=\"83.98402\"/>\n     <use style=\"fill:#1f77b4;stroke:#1f77b4;\" x=\"187.161077\" xlink:href=\"#mb80cc9e2fa\" y=\"109.713863\"/>\n     <use style=\"fill:#1f77b4;stroke:#1f77b4;\" x=\"124.617373\" xlink:href=\"#mb80cc9e2fa\" y=\"90.021537\"/>\n     <use style=\"fill:#1f77b4;stroke:#1f77b4;\" x=\"150.31439\" xlink:href=\"#mb80cc9e2fa\" y=\"96.317461\"/>\n     <use style=\"fill:#1f77b4;stroke:#1f77b4;\" x=\"163.476383\" xlink:href=\"#mb80cc9e2fa\" y=\"95.720245\"/>\n     <use style=\"fill:#1f77b4;stroke:#1f77b4;\" x=\"135.883034\" xlink:href=\"#mb80cc9e2fa\" y=\"81.495264\"/>\n     <use style=\"fill:#1f77b4;stroke:#1f77b4;\" x=\"155.950429\" xlink:href=\"#mb80cc9e2fa\" y=\"86.043877\"/>\n     <use style=\"fill:#1f77b4;stroke:#1f77b4;\" x=\"130.132835\" xlink:href=\"#mb80cc9e2fa\" y=\"71.935317\"/>\n     <use style=\"fill:#1f77b4;stroke:#1f77b4;\" x=\"154.492816\" xlink:href=\"#mb80cc9e2fa\" y=\"87.045613\"/>\n     <use style=\"fill:#1f77b4;stroke:#1f77b4;\" x=\"66.527598\" xlink:href=\"#mb80cc9e2fa\" y=\"48.189602\"/>\n     <use style=\"fill:#1f77b4;stroke:#1f77b4;\" x=\"75.579549\" xlink:href=\"#mb80cc9e2fa\" y=\"26.273567\"/>\n     <use style=\"fill:#1f77b4;stroke:#1f77b4;\" x=\"97.15497\" xlink:href=\"#mb80cc9e2fa\" y=\"55.42854\"/>\n     <use style=\"fill:#1f77b4;stroke:#1f77b4;\" x=\"116.782985\" xlink:href=\"#mb80cc9e2fa\" y=\"68.651464\"/>\n     <use style=\"fill:#1f77b4;stroke:#1f77b4;\" x=\"126.846692\" xlink:href=\"#mb80cc9e2fa\" y=\"79.935204\"/>\n     <use style=\"fill:#1f77b4;stroke:#1f77b4;\" x=\"105.497537\" xlink:href=\"#mb80cc9e2fa\" y=\"57.252401\"/>\n     <use style=\"fill:#1f77b4;stroke:#1f77b4;\" x=\"118.358789\" xlink:href=\"#mb80cc9e2fa\" y=\"68.626629\"/>\n    </g>\n   </g>\n   <g id=\"matplotlib.axis_1\">\n    <g id=\"xtick_1\">\n     <g id=\"line2d_1\">\n      <defs>\n       <path d=\"M 0 0 \nL 0 3.5 \n\" id=\"me8d3aff143\" style=\"stroke:#000000;stroke-width:0.8;\"/>\n      </defs>\n      <g>\n       <use style=\"stroke:#000000;stroke-width:0.8;\" x=\"82.738403\" xlink:href=\"#me8d3aff143\" y=\"144.079814\"/>\n      </g>\n     </g>\n     <g id=\"text_1\">\n      <!-- −2 -->\n      <defs>\n       <path d=\"M 10.59375 35.5 \nL 73.1875 35.5 \nL 73.1875 27.203125 \nL 10.59375 27.203125 \nz\n\" id=\"DejaVuSans-8722\"/>\n       <path d=\"M 19.1875 8.296875 \nL 53.609375 8.296875 \nL 53.609375 0 \nL 7.328125 0 \nL 7.328125 8.296875 \nQ 12.9375 14.109375 22.625 23.890625 \nQ 32.328125 33.6875 34.8125 36.53125 \nQ 39.546875 41.84375 41.421875 45.53125 \nQ 43.3125 49.21875 43.3125 52.78125 \nQ 43.3125 58.59375 39.234375 62.25 \nQ 35.15625 65.921875 28.609375 65.921875 \nQ 23.96875 65.921875 18.8125 64.3125 \nQ 13.671875 62.703125 7.8125 59.421875 \nL 7.8125 69.390625 \nQ 13.765625 71.78125 18.9375 73 \nQ 24.125 74.21875 28.421875 74.21875 \nQ 39.75 74.21875 46.484375 68.546875 \nQ 53.21875 62.890625 53.21875 53.421875 \nQ 53.21875 48.921875 51.53125 44.890625 \nQ 49.859375 40.875 45.40625 35.40625 \nQ 44.1875 33.984375 37.640625 27.21875 \nQ 31.109375 20.453125 19.1875 8.296875 \nz\n\" id=\"DejaVuSans-50\"/>\n      </defs>\n      <g transform=\"translate(75.367309 158.678251)scale(0.1 -0.1)\">\n       <use xlink:href=\"#DejaVuSans-8722\"/>\n       <use x=\"83.789062\" xlink:href=\"#DejaVuSans-50\"/>\n      </g>\n     </g>\n    </g>\n    <g id=\"xtick_2\">\n     <g id=\"line2d_2\">\n      <g>\n       <use style=\"stroke:#000000;stroke-width:0.8;\" x=\"135.617862\" xlink:href=\"#me8d3aff143\" y=\"144.079814\"/>\n      </g>\n     </g>\n     <g id=\"text_2\">\n      <!-- 0 -->\n      <defs>\n       <path d=\"M 31.78125 66.40625 \nQ 24.171875 66.40625 20.328125 58.90625 \nQ 16.5 51.421875 16.5 36.375 \nQ 16.5 21.390625 20.328125 13.890625 \nQ 24.171875 6.390625 31.78125 6.390625 \nQ 39.453125 6.390625 43.28125 13.890625 \nQ 47.125 21.390625 47.125 36.375 \nQ 47.125 51.421875 43.28125 58.90625 \nQ 39.453125 66.40625 31.78125 66.40625 \nz\nM 31.78125 74.21875 \nQ 44.046875 74.21875 50.515625 64.515625 \nQ 56.984375 54.828125 56.984375 36.375 \nQ 56.984375 17.96875 50.515625 8.265625 \nQ 44.046875 -1.421875 31.78125 -1.421875 \nQ 19.53125 -1.421875 13.0625 8.265625 \nQ 6.59375 17.96875 6.59375 36.375 \nQ 6.59375 54.828125 13.0625 64.515625 \nQ 19.53125 74.21875 31.78125 74.21875 \nz\n\" id=\"DejaVuSans-48\"/>\n      </defs>\n      <g transform=\"translate(132.436612 158.678251)scale(0.1 -0.1)\">\n       <use xlink:href=\"#DejaVuSans-48\"/>\n      </g>\n     </g>\n    </g>\n    <g id=\"xtick_3\">\n     <g id=\"line2d_3\">\n      <g>\n       <use style=\"stroke:#000000;stroke-width:0.8;\" x=\"188.497321\" xlink:href=\"#me8d3aff143\" y=\"144.079814\"/>\n      </g>\n     </g>\n     <g id=\"text_3\">\n      <!-- 2 -->\n      <g transform=\"translate(185.316071 158.678251)scale(0.1 -0.1)\">\n       <use xlink:href=\"#DejaVuSans-50\"/>\n      </g>\n     </g>\n    </g>\n   </g>\n   <g id=\"matplotlib.axis_2\">\n    <g id=\"ytick_1\">\n     <g id=\"line2d_4\">\n      <defs>\n       <path d=\"M 0 0 \nL -3.5 0 \n\" id=\"m7583b3b7e2\" style=\"stroke:#000000;stroke-width:0.8;\"/>\n      </defs>\n      <g>\n       <use style=\"stroke:#000000;stroke-width:0.8;\" x=\"35.304688\" xlink:href=\"#m7583b3b7e2\" y=\"137.518454\"/>\n      </g>\n     </g>\n     <g id=\"text_4\">\n      <!-- −10 -->\n      <defs>\n       <path d=\"M 12.40625 8.296875 \nL 28.515625 8.296875 \nL 28.515625 63.921875 \nL 10.984375 60.40625 \nL 10.984375 69.390625 \nL 28.421875 72.90625 \nL 38.28125 72.90625 \nL 38.28125 8.296875 \nL 54.390625 8.296875 \nL 54.390625 0 \nL 12.40625 0 \nz\n\" id=\"DejaVuSans-49\"/>\n      </defs>\n      <g transform=\"translate(7.2 141.317673)scale(0.1 -0.1)\">\n       <use xlink:href=\"#DejaVuSans-8722\"/>\n       <use x=\"83.789062\" xlink:href=\"#DejaVuSans-49\"/>\n       <use x=\"147.412109\" xlink:href=\"#DejaVuSans-48\"/>\n      </g>\n     </g>\n    </g>\n    <g id=\"ytick_2\">\n     <g id=\"line2d_5\">\n      <g>\n       <use style=\"stroke:#000000;stroke-width:0.8;\" x=\"35.304688\" xlink:href=\"#m7583b3b7e2\" y=\"95.345376\"/>\n      </g>\n     </g>\n     <g id=\"text_5\">\n      <!-- 0 -->\n      <g transform=\"translate(21.942187 99.144594)scale(0.1 -0.1)\">\n       <use xlink:href=\"#DejaVuSans-48\"/>\n      </g>\n     </g>\n    </g>\n    <g id=\"ytick_3\">\n     <g id=\"line2d_6\">\n      <g>\n       <use style=\"stroke:#000000;stroke-width:0.8;\" x=\"35.304688\" xlink:href=\"#m7583b3b7e2\" y=\"53.172297\"/>\n      </g>\n     </g>\n     <g id=\"text_6\">\n      <!-- 10 -->\n      <g transform=\"translate(15.579687 56.971516)scale(0.1 -0.1)\">\n       <use xlink:href=\"#DejaVuSans-49\"/>\n       <use x=\"63.623047\" xlink:href=\"#DejaVuSans-48\"/>\n      </g>\n     </g>\n    </g>\n    <g id=\"ytick_4\">\n     <g id=\"line2d_7\">\n      <g>\n       <use style=\"stroke:#000000;stroke-width:0.8;\" x=\"35.304688\" xlink:href=\"#m7583b3b7e2\" y=\"10.999219\"/>\n      </g>\n     </g>\n     <g id=\"text_7\">\n      <!-- 20 -->\n      <g transform=\"translate(15.579687 14.798437)scale(0.1 -0.1)\">\n       <use xlink:href=\"#DejaVuSans-50\"/>\n       <use x=\"63.623047\" xlink:href=\"#DejaVuSans-48\"/>\n      </g>\n     </g>\n    </g>\n   </g>\n   <g id=\"patch_3\">\n    <path d=\"M 35.304688 144.079814 \nL 35.304688 8.179814 \n\" style=\"fill:none;stroke:#000000;stroke-linecap:square;stroke-linejoin:miter;stroke-width:0.8;\"/>\n   </g>\n   <g id=\"patch_4\">\n    <path d=\"M 230.604688 144.079814 \nL 230.604688 8.179814 \n\" style=\"fill:none;stroke:#000000;stroke-linecap:square;stroke-linejoin:miter;stroke-width:0.8;\"/>\n   </g>\n   <g id=\"patch_5\">\n    <path d=\"M 35.304688 144.079814 \nL 230.604688 144.079814 \n\" style=\"fill:none;stroke:#000000;stroke-linecap:square;stroke-linejoin:miter;stroke-width:0.8;\"/>\n   </g>\n   <g id=\"patch_6\">\n    <path d=\"M 35.304688 8.179814 \nL 230.604688 8.179814 \n\" style=\"fill:none;stroke:#000000;stroke-linecap:square;stroke-linejoin:miter;stroke-width:0.8;\"/>\n   </g>\n  </g>\n </g>\n <defs>\n  <clipPath id=\"p75fe168eb2\">\n   <rect height=\"135.9\" width=\"195.3\" x=\"35.304688\" y=\"8.179814\"/>\n  </clipPath>\n </defs>\n</svg>\n",
            "text/plain": [
              "<Figure size 252x180 with 1 Axes>"
            ]
          },
          "metadata": {
            "needs_background": "light",
            "tags": []
          },
          "output_type": "display_data"
        }
      ],
      "source": [
        "d2l.set_figsize()\n",
        "#the semicolon is for displaying the plot only\n",
        "d2l.plt.scatter(features[:,(1)].detach().numpy(),labels.detach().numpy(),1);"
      ]
    },
    {
      "cell_type": "markdown",
      "metadata": {
        "id": "9g4yfzQtX62a"
      },
      "source": [
        "3.2.2. Reading the Dataset"
      ]
    },
    {
      "cell_type": "code",
      "execution_count": 27,
      "metadata": {
        "colab": {
          "base_uri": "https://localhost:8080/"
        },
        "id": "-4sf2J2dkoHh",
        "outputId": "07989fe3-73ba-4127-9a98-a9433d37f638"
      },
      "outputs": [
        {
          "data": {
            "text/plain": [
              "2000"
            ]
          },
          "execution_count": 27,
          "metadata": {
            "tags": []
          },
          "output_type": "execute_result"
        }
      ],
      "source": [
        "len(features)"
      ]
    },
    {
      "cell_type": "code",
      "execution_count": 29,
      "metadata": {
        "id": "Wz3wvqnjYHG1"
      },
      "outputs": [],
      "source": [
        "def data_iter(batch_size, features, labels): # n개의 데이터를 batchsize단위로 갖고오는 함수\n",
        "  num_examples = len(features)\n",
        "  indices = list(range(num_examples))\n",
        "  # The examples are read at random, in no particular order\n",
        "  random.shuffle(indices)\n",
        "  for i in range(0,num_examples,batch_size): # batchsize 단위로 끊어서loof를 돌림.\n",
        "    batch_indices = torch.tensor(indices[i:min(i+batch_size,num_examples)])\n",
        "    yield features[batch_indices], labels[batch_indices]"
      ]
    },
    {
      "cell_type": "code",
      "execution_count": 31,
      "metadata": {
        "colab": {
          "base_uri": "https://localhost:8080/"
        },
        "id": "s70KPs6JZggV",
        "outputId": "f62ac514-3a1b-4128-9537-2a9e6e4016b9"
      },
      "outputs": [
        {
          "name": "stdout",
          "output_type": "stream",
          "text": [
            "tensor([[-0.6025, -0.8051],\n",
            "        [ 0.5700, -0.3968],\n",
            "        [ 0.1900,  0.1378],\n",
            "        [-0.9476,  0.2808],\n",
            "        [ 0.2128, -0.1960],\n",
            "        [ 1.1572, -2.0441],\n",
            "        [-0.6113, -1.3105],\n",
            "        [ 1.2491, -1.1785],\n",
            "        [-0.5463, -1.5000],\n",
            "        [ 0.2775,  0.8921]]) \n",
            " tensor([[ 5.7197],\n",
            "        [ 6.6900],\n",
            "        [ 4.1221],\n",
            "        [ 1.3402],\n",
            "        [ 5.2836],\n",
            "        [13.4814],\n",
            "        [ 7.4487],\n",
            "        [10.6883],\n",
            "        [ 8.2029],\n",
            "        [ 1.7217]])\n"
          ]
        }
      ],
      "source": [
        "batch_size = 10\n",
        "\n",
        "for X,y in data_iter(batch_size, features, labels):\n",
        "  print(X,'\\n',y)\n",
        "  break"
      ]
    },
    {
      "cell_type": "markdown",
      "metadata": {
        "id": "WXQbcor3Z7Ek"
      },
      "source": [
        "3.2.3. Initializing Model Parameters"
      ]
    },
    {
      "cell_type": "code",
      "execution_count": 38,
      "metadata": {
        "id": "r1BrCvHqaITl"
      },
      "outputs": [],
      "source": [
        "w = torch.normal(0,0.01, size=(2,1), requires_grad=True) #w라고하는 matrix정의 평균이0이고 표준편차가 0.01인 랜덤variable생성\n",
        "b = torch.zeros(1,requires_grad=True) # 0으로 정의"
      ]
    },
    {
      "cell_type": "markdown",
      "metadata": {
        "id": "hDkpL44lcqYz"
      },
      "source": [
        "3.2.4. Defining the Model"
      ]
    },
    {
      "cell_type": "code",
      "execution_count": 39,
      "metadata": {
        "id": "108tWalecpqn"
      },
      "outputs": [],
      "source": [
        "def linreg(X,w,b):   #@save\n",
        "  \"\"\" The linear regression model.\"\"\"\n",
        "  return torch.matmul(X,w) + b"
      ]
    },
    {
      "cell_type": "markdown",
      "metadata": {
        "id": "rj7y8mrCdOPa"
      },
      "source": [
        "3.2.5. Defining the Loss Function"
      ]
    },
    {
      "cell_type": "code",
      "execution_count": 40,
      "metadata": {
        "id": "-kJvUZL3dcLT"
      },
      "outputs": [],
      "source": [
        "def squared_loss(y_hat,y):\n",
        "  \"\"\"Squared loss.\"\"\"\n",
        "  return (y_hat - y.reshape(y_hat.shape))**2/2 #(예측값-정답)**2 / 2"
      ]
    },
    {
      "cell_type": "markdown",
      "metadata": {
        "id": "ajbAfFRcdyJL"
      },
      "source": [
        "3.2.6. Defining the Optimization Algorithm"
      ]
    },
    {
      "cell_type": "code",
      "execution_count": 41,
      "metadata": {
        "id": "ZmWUWnGad84k"
      },
      "outputs": [],
      "source": [
        "def sgd(params,lr,batch_size):     #Stochastic Gradient Descent\n",
        "  \"\"\"Minibatch stochastic gradient descent.\"\"\"\n",
        "  with torch.no_grad():\n",
        "    for param in params:\n",
        "      param -= lr * param.grad / batch_size  #(parameter = parameter - learning rate * grad) /batchsize\n",
        "      param.grad.zero_()                     #위 parameter에 대한 gradient를 batchsize에 해당하는 데이터에 대해서 구한다음에그것을 batchsize로 정규화시켜줘서 러닝레이트곱해서 원래 parameter에 빼준다"
      ]
    },
    {
      "cell_type": "markdown",
      "metadata": {
        "id": "1OXLTyPnek3d"
      },
      "source": [
        "3.2.7. Training"
      ]
    },
    {
      "cell_type": "code",
      "execution_count": 56,
      "metadata": {
        "colab": {
          "base_uri": "https://localhost:8080/"
        },
        "id": "CvN5iTdpgZSH",
        "outputId": "b44a92dd-e627-4cb7-b217-6cd6db07c1b5"
      },
      "outputs": [
        {
          "name": "stdout",
          "output_type": "stream",
          "text": [
            "epoch 1, loss 0.000052\n",
            "epoch 2, loss 0.000052\n",
            "epoch 3, loss 0.000051\n"
          ]
        }
      ],
      "source": [
        "lr = 0.03\n",
        "num_epochs = 3\n",
        "net = linreg\n",
        "loss = squared_loss # 여기까지 hyperparameter들 정의함(batchsize는 위에서 정의함)\n",
        "\n",
        "# 학습 진행\n",
        "for epoch in range(num_epochs):\n",
        "    for X, y in data_iter(batch_size, features, labels):#우리가 만든데이터 이용해서 batchsize단위로 featuref랑 label가져옴. feature가 X로 label이 y로 들어갈거임.\n",
        "     y_hat = net(X,w,b)\n",
        "     l = loss(y_hat,y) #bactchsize 단위로 했으니까 batchsize개의 y_hat에 대한 lossfunction을 구하는거임\n",
        "        # Minibatch loss in `X` and `y`\n",
        "        # Compute gradient on `l` with respect to [`w`, `b`]\n",
        "     l.sum().backward()  #여기서 sum을 한 다음에 gradient가 계산함.(mean이나 sum 둘다 상관 없는데 sum을 했기 때문에 batchsize로 나중에 나눠줄거임, 나눠주는 것은 sgd함수에 정의 해놨음)\n",
        "     sgd([w, b], lr, batch_size) #여기서 parameter(w,b)가 바뀌게 됨(업데이트) # Update parameters using their gradient\n",
        "    with torch.no_grad():          #이 단계에서는 parameter업데이트하지 않으니까 gradient계산하지 않는 다는 것, 계산 안하고 Loss function 구해서 epoch마다 출력해주는것.\n",
        "        train_l = loss(net(features, w, b), labels)\n",
        "        print(f'epoch {epoch + 1}, loss {float(train_l.mean()):f}')"
      ]
    },
    {
      "cell_type": "code",
      "execution_count": 45,
      "metadata": {
        "colab": {
          "base_uri": "https://localhost:8080/"
        },
        "id": "aS_2InDrh65D",
        "outputId": "a1199ab8-1256-4afb-9810-72213eef803f"
      },
      "outputs": [
        {
          "name": "stdout",
          "output_type": "stream",
          "text": [
            "error in estimating w: tensor([-1.8454e-04,  3.9816e-05], grad_fn=<SubBackward0>)\n",
            "error in estimating b:tensor([-0.0001], grad_fn=<RsubBackward1>)\n"
          ]
        }
      ],
      "source": [
        "print(f'error in estimating w: {true_w - w.reshape(true_w.shape)}')\n",
        "print(f'error in estimating b:{true_b - b}')"
      ]
    },
    {
      "cell_type": "code",
      "execution_count": 57,
      "metadata": {
        "colab": {
          "base_uri": "https://localhost:8080/"
        },
        "id": "A5BgckUeAb1A",
        "outputId": "afe04edf-faca-4874-8227-0b53e0e23097"
      },
      "outputs": [
        {
          "name": "stdout",
          "output_type": "stream",
          "text": [
            "tensor([2.0001], grad_fn=<SelectBackward>) tensor([-3.3999], grad_fn=<SelectBackward>) tensor([4.2001], requires_grad=True)\n"
          ]
        }
      ],
      "source": [
        "print(w[0],w[1],b)"
      ]
    },
    {
      "cell_type": "markdown",
      "metadata": {
        "id": "_8W778e8An8Q"
      },
      "source": [
        "(2,-3.4,4.2)    w,b가 parameter로 정한 변수니까 w,b가 어떻게 변했는지"
      ]
    },
    {
      "cell_type": "markdown",
      "metadata": {
        "id": "QVvxOFlciRL-"
      },
      "source": [
        "3.2 단원 실습 예제를 통해 딥러닝 모델의 전체적인 구조에 대해 알 수 있었습니다. scratch이기 때문에 직접 구현된 함수들을 접하면서 한 번에 와닿지 않았지만 반복해서 보면서 러닝과정이 어떻게 코드를 통해 이루어지는지 알게 되었습니다. 함수 중에 reshape(-1,정수)로 구성된 것이 있었는데 이것은 정수에 따라서 열의 개수가 정수이면서 element들이 빠짐 없이 배치될 수 있도록 해주는 기능을 하는 것을 알게되었습니다. "
      ]
    },
    {
      "cell_type": "markdown",
      "metadata": {
        "id": "DC_0F1qoiR0k"
      },
      "source": [
        "3.3. Concise Implementation of Linear Regression"
      ]
    },
    {
      "cell_type": "markdown",
      "metadata": {
        "id": "iVm8u1u7i_Sq"
      },
      "source": []
    },
    {
      "cell_type": "markdown",
      "metadata": {
        "id": "fWp3VQmCjETb"
      },
      "source": [
        "3.3.1. Generating the Dataset"
      ]
    },
    {
      "cell_type": "code",
      "execution_count": 61,
      "metadata": {
        "id": "wdA6YdAKjJOR"
      },
      "outputs": [],
      "source": [
        "import numpy as np\n",
        "import torch\n",
        "from torch.utils import data\n",
        "from d2l import torch as d2l\n",
        "\n",
        "# load examples(synthetic) ( 데이터 생성) \n",
        "true_w = torch.tensor([2, -3.4])\n",
        "true_b = 4.2\n",
        "features, labels = d2l.synthetic_data(true_w, true_b, 1000)"
      ]
    },
    {
      "cell_type": "markdown",
      "metadata": {
        "id": "BlQ94FmSjaWL"
      },
      "source": [
        "3.3.2. Reading the Dataset"
      ]
    },
    {
      "cell_type": "code",
      "execution_count": 63,
      "metadata": {
        "id": "QhUEzYCwjc2a"
      },
      "outputs": [],
      "source": [
        "def load_array(data_arrays, batch_size, is_train=True):  #@save\n",
        "    \"\"\"Construct a PyTorch data iterator.\"\"\"\n",
        "    dataset = data.TensorDataset(*data_arrays)\n",
        "    return data.DataLoader(dataset, batch_size, shuffle=is_train)\n",
        "\n",
        "batch_size = 10\n",
        "data_iter = load_array((features, labels), batch_size)"
      ]
    },
    {
      "cell_type": "code",
      "execution_count": 68,
      "metadata": {
        "colab": {
          "base_uri": "https://localhost:8080/"
        },
        "id": "eRiU7Tu_ItNF",
        "outputId": "10713698-f774-414a-d3fd-52e93715f0c2"
      },
      "outputs": [
        {
          "data": {
            "text/plain": [
              "[tensor([[ 0.2357, -0.6027],\n",
              "         [ 0.7321, -0.7754],\n",
              "         [-0.8689, -1.6276],\n",
              "         [-0.0251, -0.5926],\n",
              "         [ 0.3372, -0.8326],\n",
              "         [-0.7335, -0.3300],\n",
              "         [ 0.4697, -0.2946],\n",
              "         [-0.2894, -0.7893],\n",
              "         [-0.3122,  0.9367],\n",
              "         [-0.6115,  1.0320]]), tensor([[ 6.7164],\n",
              "         [ 8.3034],\n",
              "         [ 7.9978],\n",
              "         [ 6.1708],\n",
              "         [ 7.7036],\n",
              "         [ 3.8623],\n",
              "         [ 6.1438],\n",
              "         [ 6.3060],\n",
              "         [ 0.3876],\n",
              "         [-0.5408]])]"
            ]
          },
          "execution_count": 68,
          "metadata": {
            "tags": []
          },
          "output_type": "execute_result"
        }
      ],
      "source": [
        "next(iter(data_iter)) #data loder(우리가 정한 batch단위로 입력과 label갖고옴.)"
      ]
    },
    {
      "cell_type": "markdown",
      "metadata": {
        "id": "aLFjvYoujfOx"
      },
      "source": [
        "3.3.3. Defining the Mode"
      ]
    },
    {
      "cell_type": "code",
      "execution_count": 64,
      "metadata": {
        "id": "LOp-w5NEjh7B"
      },
      "outputs": [],
      "source": [
        "# `nn` is an abbreviation for neural networks\n",
        "from torch import nn\n",
        "\n",
        "net = nn.Sequential(nn.Linear(2, 1)) #/ 2개의 숫자를 입력받아서 1개의 아웃풋을 만든 다는 것.\n",
        " # nn.Sequential()을 사용하게 되면 이 네트워크 안에 parameter가 자동으로 생성된다 (2개의 입력과 1개의 아웃풋에 대한 parameter)"
      ]
    },
    {
      "cell_type": "markdown",
      "metadata": {
        "id": "k9V7wpQ_jlRZ"
      },
      "source": [
        "3.3.4. Initializing Model Parameters"
      ]
    },
    {
      "cell_type": "code",
      "execution_count": 67,
      "metadata": {
        "colab": {
          "base_uri": "https://localhost:8080/"
        },
        "id": "yt1Pu7dxjoeL",
        "outputId": "788199c0-5b92-47e4-fa5e-792e0a8bc1ba"
      },
      "outputs": [
        {
          "name": "stdout",
          "output_type": "stream",
          "text": [
            "tensor([[0.0074, 0.0059]])\n",
            "tensor([0.])\n"
          ]
        }
      ],
      "source": [
        "net[0].weight.data.normal_(0, 0.01)\n",
        "net[0].bias.data.fill_(0)\n",
        "\n",
        "print(net[0].weight.data)\n",
        "print(net[0].bias.data)"
      ]
    },
    {
      "cell_type": "markdown",
      "metadata": {
        "id": "iHQoLwvWJziQ"
      },
      "source": [
        "Hyperparameters"
      ]
    },
    {
      "cell_type": "markdown",
      "metadata": {
        "id": "tt0iWUlNjrQ6"
      },
      "source": [
        "3.3.5. Defining the Loss Function"
      ]
    },
    {
      "cell_type": "code",
      "execution_count": 71,
      "metadata": {
        "id": "XCp6Odq1jr2d"
      },
      "outputs": [],
      "source": [
        "loss = nn.MSELoss()   #nn이 제공해주는 the mean of squared error 사용"
      ]
    },
    {
      "cell_type": "markdown",
      "metadata": {
        "id": "gMlmQ8GcjuN8"
      },
      "source": [
        "3.3.6. Defining the Optimization Algorithm"
      ]
    },
    {
      "cell_type": "code",
      "execution_count": 72,
      "metadata": {
        "id": "YgDfbp_Fjv-a"
      },
      "outputs": [],
      "source": [
        "trainer = torch.optim.SGD(net.parameters(), lr=0.03) # stochastic Gradient Descent"
      ]
    },
    {
      "cell_type": "code",
      "execution_count": 73,
      "metadata": {
        "id": "k731kuJpJ3Uw"
      },
      "outputs": [],
      "source": [
        "num_epochs = 20"
      ]
    },
    {
      "cell_type": "code",
      "execution_count": 83,
      "metadata": {
        "id": "39zb0UmGJ7x9"
      },
      "outputs": [],
      "source": [
        "batch_size = 5"
      ]
    },
    {
      "cell_type": "markdown",
      "metadata": {
        "id": "BRW25HajjxXg"
      },
      "source": [
        "3.3.7. Training"
      ]
    },
    {
      "cell_type": "code",
      "execution_count": 84,
      "metadata": {
        "colab": {
          "base_uri": "https://localhost:8080/"
        },
        "id": "MZMwYgTAj0Nz",
        "outputId": "80024aa3-f52a-4c29-bbaf-774a8d34250a"
      },
      "outputs": [
        {
          "name": "stdout",
          "output_type": "stream",
          "text": [
            "epoch 1, loss 0.000100\n",
            "epoch 2, loss 0.000102\n",
            "epoch 3, loss 0.000100\n",
            "epoch 4, loss 0.000101\n",
            "epoch 5, loss 0.000101\n"
          ]
        }
      ],
      "source": [
        "num_epochs = 5\n",
        "for epoch in range(num_epochs):\n",
        "    for X, y in data_iter:\n",
        "        l = loss(net(X), y)\n",
        "        trainer.zero_grad()\n",
        "        l.backward()\n",
        "        trainer.step()\n",
        "    l = loss(net(features), labels)\n",
        "    print(f'epoch {epoch + 1}, loss {l:f}')"
      ]
    },
    {
      "cell_type": "code",
      "execution_count": 85,
      "metadata": {
        "colab": {
          "base_uri": "https://localhost:8080/"
        },
        "id": "3c4tuyjnj21H",
        "outputId": "769fa594-ea1f-4b05-c95d-f14aa5543a77"
      },
      "outputs": [
        {
          "name": "stdout",
          "output_type": "stream",
          "text": [
            "error in estimating w: tensor([-0.0002, -0.0011])\n",
            "error in estimating b: tensor([0.0009])\n"
          ]
        }
      ],
      "source": [
        "w = net[0].weight.data\n",
        "print('error in estimating w:', true_w - w.reshape(true_w.shape))\n",
        "b = net[0].bias.data\n",
        "print('error in estimating b:', true_b - b)"
      ]
    },
    {
      "cell_type": "code",
      "execution_count": 86,
      "metadata": {
        "colab": {
          "base_uri": "https://localhost:8080/"
        },
        "id": "Qu2OKzU2MCvL",
        "outputId": "85ff76d0-203f-480e-82ee-093955f53eaf"
      },
      "outputs": [
        {
          "data": {
            "text/plain": [
              "<bound method Optimizer.zero_grad of SGD (\n",
              "Parameter Group 0\n",
              "    dampening: 0\n",
              "    lr: 0.03\n",
              "    momentum: 0\n",
              "    nesterov: False\n",
              "    weight_decay: 0\n",
              ")>"
            ]
          },
          "execution_count": 86,
          "metadata": {
            "tags": []
          },
          "output_type": "execute_result"
        }
      ],
      "source": [
        "trainer.zero_grad"
      ]
    },
    {
      "cell_type": "code",
      "execution_count": 87,
      "metadata": {
        "colab": {
          "base_uri": "https://localhost:8080/"
        },
        "id": "5_3JEddIMHmg",
        "outputId": "5b832bf0-71c4-45e0-99ab-ab0c9e46bfeb"
      },
      "outputs": [
        {
          "data": {
            "text/plain": [
              "<bound method SGD.step of SGD (\n",
              "Parameter Group 0\n",
              "    dampening: 0\n",
              "    lr: 0.03\n",
              "    momentum: 0\n",
              "    nesterov: False\n",
              "    weight_decay: 0\n",
              ")>"
            ]
          },
          "execution_count": 87,
          "metadata": {
            "tags": []
          },
          "output_type": "execute_result"
        }
      ],
      "source": [
        "trainer.step"
      ]
    },
    {
      "cell_type": "markdown",
      "metadata": {
        "id": "yKs0Z3tTj7xJ"
      },
      "source": [
        "scratch에서는 직접 구현했던 것들이 pytorch에서 제공하는 nn이라는 라이브러리에 들어있어서 필요에 따라 가져와서 모델을 construction 할 수 있다는 것을 알게되었습니다. 이론으로 공부할 때는 전반적인 Linear Regression에 내용들이 어느 정도 이해가 되었다고 생각했지만 실습을 하면서 아직 개념적으로 머릿속에 내용들이 잘 정리되지 않았다는 것을 느끼게 되었습니다. scratch와 concise에서 실습한 내용들이 앞으로도 계속 접하게 되는 틀이기 때문에 해당 실습내용에 익숙해져야겠다는 것을 느꼈습니다."
      ]
    },
    {
      "cell_type": "markdown",
      "metadata": {
        "id": "NTGTXY9wj8GW"
      },
      "source": [
        "3.6. Implementation of Softmax Regression from Scratch"
      ]
    },
    {
      "cell_type": "code",
      "execution_count": 88,
      "metadata": {
        "colab": {
          "base_uri": "https://localhost:8080/",
          "height": 651,
          "referenced_widgets": [
            "94b96a4098c0429583d1042c08d805b8",
            "96a10783f7494e57ba523953877409f7",
            "2c27fa0de2dd4c599995ae8608dd5b77",
            "19a97333a0064d6680d30c2ed207a6b2",
            "3da8183d7d3143f480d25394b5375bd7",
            "2685e3e7f36f45ae917d6cf0b9355064",
            "8f3673b367d74244b079edcfd433ab06",
            "6e762a9376484b04bdb6bbb3dc4c722c",
            "055f66095d4342f4ade6c5d4d4c7693d",
            "ed1c06cde87d470ab1b44e286458f781",
            "497ca3d11fad4b4daef99ba692f1e424",
            "c98fc1729c0f449cbbaa4fd221198eab",
            "5c32ac99ef7d4bdf81196dcf2536c3aa",
            "7619d547f75c40a58ed7e32e81aabfb4",
            "454cd7f54c2e4e30a6f44e4a5e369765",
            "61b57296be8943a298a5a721ab2e9aa1",
            "6c502cab92af4bd8b54ff538a903fe55",
            "1e0828cb688642fe8ae7a7de0a0fd393",
            "5b7d2050ecf745b08b820c561df1df32",
            "74d153dfa32749ce90d82cecd46274b0",
            "d17a8a3f89a941f4898499e7484f6ac3",
            "6f341665931a4896b9638e7c065593b1",
            "0fd4469210c748bd89db1d276c6fbfe3",
            "18c15e54527c4ada92780263a68b3c83",
            "2c80fd64443c4caea3d58df083dbbe9b",
            "781137e11b8c443eabaf3e9bbf2909d3",
            "58e6eabd61b44aac801884ca3a38ae2a",
            "eab927ce389d444887ae504bbabfb271",
            "f4ccb96ea5a94f6cbc2cb5822d2c8440",
            "df6a178abc4940ad870455bf1651f32b",
            "57c43d69442b43c7a2f9777537cb5561",
            "15b32d7af19542fa975a51d03ebf8b07"
          ]
        },
        "id": "MTJEk4P5khmB",
        "outputId": "3ff0a839-bf48-4462-ebec-e573ab26458b"
      },
      "outputs": [
        {
          "name": "stdout",
          "output_type": "stream",
          "text": [
            "Downloading http://fashion-mnist.s3-website.eu-central-1.amazonaws.com/train-images-idx3-ubyte.gz\n",
            "Downloading http://fashion-mnist.s3-website.eu-central-1.amazonaws.com/train-images-idx3-ubyte.gz to ../data/FashionMNIST/raw/train-images-idx3-ubyte.gz\n"
          ]
        },
        {
          "data": {
            "application/vnd.jupyter.widget-view+json": {
              "model_id": "94b96a4098c0429583d1042c08d805b8",
              "version_major": 2,
              "version_minor": 0
            },
            "text/plain": [
              "HBox(children=(FloatProgress(value=0.0, max=26421880.0), HTML(value='')))"
            ]
          },
          "metadata": {
            "tags": []
          },
          "output_type": "display_data"
        },
        {
          "name": "stdout",
          "output_type": "stream",
          "text": [
            "\n",
            "Extracting ../data/FashionMNIST/raw/train-images-idx3-ubyte.gz to ../data/FashionMNIST/raw\n",
            "\n",
            "Downloading http://fashion-mnist.s3-website.eu-central-1.amazonaws.com/train-labels-idx1-ubyte.gz\n",
            "Downloading http://fashion-mnist.s3-website.eu-central-1.amazonaws.com/train-labels-idx1-ubyte.gz to ../data/FashionMNIST/raw/train-labels-idx1-ubyte.gz\n"
          ]
        },
        {
          "data": {
            "application/vnd.jupyter.widget-view+json": {
              "model_id": "055f66095d4342f4ade6c5d4d4c7693d",
              "version_major": 2,
              "version_minor": 0
            },
            "text/plain": [
              "HBox(children=(FloatProgress(value=0.0, max=29515.0), HTML(value='')))"
            ]
          },
          "metadata": {
            "tags": []
          },
          "output_type": "display_data"
        },
        {
          "name": "stdout",
          "output_type": "stream",
          "text": [
            "\n",
            "Extracting ../data/FashionMNIST/raw/train-labels-idx1-ubyte.gz to ../data/FashionMNIST/raw\n",
            "\n",
            "Downloading http://fashion-mnist.s3-website.eu-central-1.amazonaws.com/t10k-images-idx3-ubyte.gz\n",
            "Downloading http://fashion-mnist.s3-website.eu-central-1.amazonaws.com/t10k-images-idx3-ubyte.gz to ../data/FashionMNIST/raw/t10k-images-idx3-ubyte.gz\n"
          ]
        },
        {
          "data": {
            "application/vnd.jupyter.widget-view+json": {
              "model_id": "6c502cab92af4bd8b54ff538a903fe55",
              "version_major": 2,
              "version_minor": 0
            },
            "text/plain": [
              "HBox(children=(FloatProgress(value=0.0, max=4422102.0), HTML(value='')))"
            ]
          },
          "metadata": {
            "tags": []
          },
          "output_type": "display_data"
        },
        {
          "name": "stdout",
          "output_type": "stream",
          "text": [
            "\n",
            "Extracting ../data/FashionMNIST/raw/t10k-images-idx3-ubyte.gz to ../data/FashionMNIST/raw\n",
            "\n",
            "Downloading http://fashion-mnist.s3-website.eu-central-1.amazonaws.com/t10k-labels-idx1-ubyte.gz\n",
            "Downloading http://fashion-mnist.s3-website.eu-central-1.amazonaws.com/t10k-labels-idx1-ubyte.gz to ../data/FashionMNIST/raw/t10k-labels-idx1-ubyte.gz\n"
          ]
        },
        {
          "data": {
            "application/vnd.jupyter.widget-view+json": {
              "model_id": "2c80fd64443c4caea3d58df083dbbe9b",
              "version_major": 2,
              "version_minor": 0
            },
            "text/plain": [
              "HBox(children=(FloatProgress(value=0.0, max=5148.0), HTML(value='')))"
            ]
          },
          "metadata": {
            "tags": []
          },
          "output_type": "display_data"
        },
        {
          "name": "stdout",
          "output_type": "stream",
          "text": [
            "\n",
            "Extracting ../data/FashionMNIST/raw/t10k-labels-idx1-ubyte.gz to ../data/FashionMNIST/raw\n",
            "\n",
            "Processing...\n"
          ]
        },
        {
          "name": "stderr",
          "output_type": "stream",
          "text": [
            "/usr/local/lib/python3.7/dist-packages/torchvision/datasets/mnist.py:502: UserWarning: The given NumPy array is not writeable, and PyTorch does not support non-writeable tensors. This means you can write to the underlying (supposedly non-writeable) NumPy array using the tensor. You may want to copy the array to protect its data or make it writeable before converting it to a tensor. This type of warning will be suppressed for the rest of this program. (Triggered internally at  /pytorch/torch/csrc/utils/tensor_numpy.cpp:143.)\n",
            "  return torch.from_numpy(parsed.astype(m[2], copy=False)).view(*s)\n"
          ]
        },
        {
          "name": "stdout",
          "output_type": "stream",
          "text": [
            "Done!\n"
          ]
        },
        {
          "name": "stderr",
          "output_type": "stream",
          "text": [
            "/usr/local/lib/python3.7/dist-packages/torch/utils/data/dataloader.py:477: UserWarning: This DataLoader will create 4 worker processes in total. Our suggested max number of worker in current system is 2, which is smaller than what this DataLoader is going to create. Please be aware that excessive worker creation might get DataLoader running slow or even freeze, lower the worker number to avoid potential slowness/freeze if necessary.\n",
            "  cpuset_checked))\n"
          ]
        }
      ],
      "source": [
        "import torch\n",
        "from IPython import display\n",
        "from d2l import torch as d2l\n",
        "\n",
        "batch_size = 256\n",
        "train_iter, test_iter = d2l.load_data_fashion_mnist(batch_size)"
      ]
    },
    {
      "cell_type": "markdown",
      "metadata": {
        "id": "BfHxsvUZlFeh"
      },
      "source": [
        "3.6.1. Initializing Model Parameters"
      ]
    },
    {
      "cell_type": "code",
      "execution_count": 108,
      "metadata": {
        "id": "E0EaIw0vlH2k"
      },
      "outputs": [],
      "source": [
        "num_inputs = 784\n",
        "num_outputs = 10\n",
        "\n",
        "W = torch.normal(0, 0.01, size=(num_inputs, num_outputs), requires_grad=True)\n",
        "b = torch.zeros(num_outputs, requires_grad=True)\n"
      ]
    },
    {
      "cell_type": "markdown",
      "metadata": {
        "id": "fKofWzsqlUAK"
      },
      "source": [
        "3.6.2. Defining the Softmax Operation"
      ]
    },
    {
      "cell_type": "code",
      "execution_count": 109,
      "metadata": {
        "colab": {
          "base_uri": "https://localhost:8080/"
        },
        "id": "4LSjLEDQlYla",
        "outputId": "27fd63cd-6625-41e9-fe01-0b4336903808"
      },
      "outputs": [
        {
          "data": {
            "text/plain": [
              "(tensor([[5., 7., 9.]]), tensor([[ 6.],\n",
              "         [15.]]))"
            ]
          },
          "execution_count": 109,
          "metadata": {
            "tags": []
          },
          "output_type": "execute_result"
        }
      ],
      "source": [
        "X = torch.tensor([[1.0, 2.0, 3.0], [4.0, 5.0, 6.0]])\n",
        "X.sum(0, keepdim=True), X.sum(1, keepdim=True)"
      ]
    },
    {
      "cell_type": "code",
      "execution_count": 131,
      "metadata": {
        "id": "nbtr_1tblZ9i"
      },
      "outputs": [],
      "source": [
        "def softmax(X):\n",
        "    X_exp = torch.exp(X)\n",
        "    partition = X_exp.sum(1, keepdim=True)\n",
        "    return X_exp / partition  # The broadcasting mechanism is applied here"
      ]
    },
    {
      "cell_type": "code",
      "execution_count": 132,
      "metadata": {
        "colab": {
          "base_uri": "https://localhost:8080/"
        },
        "id": "pZc1RVQalfBP",
        "outputId": "c81a7f18-2d0c-42e9-d62b-21728eee4ebf"
      },
      "outputs": [
        {
          "data": {
            "text/plain": [
              "(tensor([[0.0303, 0.2401, 0.3634, 0.2269, 0.1393],\n",
              "         [0.0440, 0.0873, 0.4626, 0.3809, 0.0253]]), tensor([1.0000, 1.0000]))"
            ]
          },
          "execution_count": 132,
          "metadata": {
            "tags": []
          },
          "output_type": "execute_result"
        }
      ],
      "source": [
        "X = torch.normal(0, 1, (2, 5))\n",
        "X_prob = softmax(X)\n",
        "X_prob, X_prob.sum(1)"
      ]
    },
    {
      "cell_type": "markdown",
      "metadata": {
        "id": "IvfOe_y0lgos"
      },
      "source": [
        "3.6.3. Defining the Model"
      ]
    },
    {
      "cell_type": "code",
      "execution_count": 133,
      "metadata": {
        "id": "V1eK3EIilk8J"
      },
      "outputs": [],
      "source": [
        "def net(X):\n",
        "    return softmax(torch.matmul(X.reshape((-1, W.shape[0])), W) + b)"
      ]
    },
    {
      "cell_type": "markdown",
      "metadata": {
        "id": "PC7aRFcolvbq"
      },
      "source": [
        "3.6.4. Defining the Loss Function"
      ]
    },
    {
      "cell_type": "code",
      "execution_count": 113,
      "metadata": {
        "colab": {
          "base_uri": "https://localhost:8080/"
        },
        "id": "hvQ58EZFlxlm",
        "outputId": "0398086a-fb80-4861-a7f0-f823814f4341"
      },
      "outputs": [
        {
          "data": {
            "text/plain": [
              "tensor([0.1000, 0.5000])"
            ]
          },
          "execution_count": 113,
          "metadata": {
            "tags": []
          },
          "output_type": "execute_result"
        }
      ],
      "source": [
        "y = torch.tensor([0, 2])\n",
        "y_hat = torch.tensor([[0.1, 0.3, 0.6], [0.3, 0.2, 0.5]])\n",
        "y_hat[[0, 1], y]"
      ]
    },
    {
      "cell_type": "code",
      "execution_count": 114,
      "metadata": {
        "colab": {
          "base_uri": "https://localhost:8080/"
        },
        "id": "5LuVqwVGlzrV",
        "outputId": "406416e4-f15f-4c4c-9cf9-1cc93e9d86e3"
      },
      "outputs": [
        {
          "data": {
            "text/plain": [
              "tensor([2.3026, 0.6931])"
            ]
          },
          "execution_count": 114,
          "metadata": {
            "tags": []
          },
          "output_type": "execute_result"
        }
      ],
      "source": [
        "def cross_entropy(y_hat, y):\n",
        "    return -torch.log(y_hat[range(len(y_hat)), y])\n",
        "\n",
        "cross_entropy(y_hat, y)"
      ]
    },
    {
      "cell_type": "code",
      "execution_count": 114,
      "metadata": {
        "id": "VJlH414KWeVQ"
      },
      "outputs": [],
      "source": []
    },
    {
      "cell_type": "markdown",
      "metadata": {
        "id": "1GYWBVggl4fz"
      },
      "source": [
        "3.6.5. Classification Accuracy"
      ]
    },
    {
      "cell_type": "code",
      "execution_count": 134,
      "metadata": {
        "id": "i4Z9Wn_ql6az"
      },
      "outputs": [],
      "source": [
        "def accuracy(y_hat, y):  #@save\n",
        "    \"\"\"Compute the number of correct predictions.\"\"\"\n",
        "    if len(y_hat.shape) > 1 and y_hat.shape[1] > 1:\n",
        "        y_hat = y_hat.argmax(axis=1)\n",
        "    cmp = y_hat.type(y.dtype) == y\n",
        "    return float(cmp.type(y.dtype).sum())"
      ]
    },
    {
      "cell_type": "code",
      "execution_count": 116,
      "metadata": {
        "colab": {
          "base_uri": "https://localhost:8080/"
        },
        "id": "E1qEELdWl9Ug",
        "outputId": "5e843632-e50b-41c8-9db9-5e84a3d1cfba"
      },
      "outputs": [
        {
          "data": {
            "text/plain": [
              "0.5"
            ]
          },
          "execution_count": 116,
          "metadata": {
            "tags": []
          },
          "output_type": "execute_result"
        }
      ],
      "source": [
        "accuracy(y_hat, y) / len(y)"
      ]
    },
    {
      "cell_type": "code",
      "execution_count": 117,
      "metadata": {
        "id": "OMmJunRCl_Uq"
      },
      "outputs": [],
      "source": [
        "def evaluate_accuracy(net, data_iter):  #@save\n",
        "    \"\"\"Compute the accuracy for a model on a dataset.\"\"\"\n",
        "    if isinstance(net, torch.nn.Module):\n",
        "        net.eval()  # Set the model to evaluation mode\n",
        "    metric = Accumulator(2)  # No. of correct predictions, no. of predictions\n",
        "    for X, y in data_iter:\n",
        "        metric.add(accuracy(net(X), y), y.numel())\n",
        "    return metric[0] / metric[1]"
      ]
    },
    {
      "cell_type": "code",
      "execution_count": 118,
      "metadata": {
        "id": "P7fZTn25mBnK"
      },
      "outputs": [],
      "source": [
        "class Accumulator:  #@save\n",
        "    \"\"\"For accumulating sums over `n` variables.\"\"\"\n",
        "    def __init__(self, n):\n",
        "        self.data = [0.0] * n\n",
        "\n",
        "    def add(self, *args):\n",
        "        self.data = [a + float(b) for a, b in zip(self.data, args)]\n",
        "\n",
        "    def reset(self):\n",
        "        self.data = [0.0] * len(self.data)\n",
        "\n",
        "    def __getitem__(self, idx):\n",
        "        return self.data[idx]"
      ]
    },
    {
      "cell_type": "code",
      "execution_count": 119,
      "metadata": {
        "colab": {
          "base_uri": "https://localhost:8080/"
        },
        "id": "hW90xd2xmErM",
        "outputId": "4c8aff83-848a-4b8d-cedf-86a69ecf8c07"
      },
      "outputs": [
        {
          "name": "stderr",
          "output_type": "stream",
          "text": [
            "/usr/local/lib/python3.7/dist-packages/torch/utils/data/dataloader.py:477: UserWarning: This DataLoader will create 4 worker processes in total. Our suggested max number of worker in current system is 2, which is smaller than what this DataLoader is going to create. Please be aware that excessive worker creation might get DataLoader running slow or even freeze, lower the worker number to avoid potential slowness/freeze if necessary.\n",
            "  cpuset_checked))\n"
          ]
        },
        {
          "data": {
            "text/plain": [
              "0.0556"
            ]
          },
          "execution_count": 119,
          "metadata": {
            "tags": []
          },
          "output_type": "execute_result"
        }
      ],
      "source": [
        "evaluate_accuracy(net, test_iter)"
      ]
    },
    {
      "cell_type": "markdown",
      "metadata": {
        "id": "gnP1VYYvmGVr"
      },
      "source": [
        "3.6.6. Training"
      ]
    },
    {
      "cell_type": "code",
      "execution_count": 120,
      "metadata": {
        "id": "ahhByolbmI-V"
      },
      "outputs": [],
      "source": [
        "def train_epoch_ch3(net, train_iter, loss, updater):  #@save\n",
        "    \"\"\"The training loop defined in Chapter 3.\"\"\"\n",
        "    # Set the model to training mode\n",
        "    if isinstance(net, torch.nn.Module):\n",
        "        net.train()\n",
        "    # Sum of training loss, sum of training accuracy, no. of examples\n",
        "    metric = Accumulator(3)\n",
        "    for X, y in train_iter:   # 트레이닝 데이터 가져오는 함수\n",
        "        # Compute gradients and update parameters\n",
        "        y_hat = net(X)      # 모델에 넣는것(예측값을 계산하는 것)\n",
        "        l = loss(y_hat, y)  # loss function 계산\n",
        "        if isinstance(updater, torch.optim.Optimizer):\n",
        "            # Using PyTorch in-built optimizer & loss criterion\n",
        "            updater.zero_grad()\n",
        "            l.backward()\n",
        "            updater.step()\n",
        "            metric.add(float(l) * len(y), accuracy(y_hat, y), y.numel())\n",
        "        else:\n",
        "            # Using custom built optimizer & loss criterion\n",
        "            l.sum().backward()  # gradient계산\n",
        "            updater(X.shape[0]) # 계산된 것을 업데이트\n",
        "            metric.add(float(l.sum()), accuracy(y_hat, y), y.numel())\n",
        "    # Return training loss and training accuracy\n",
        "    return metric[0] / metric[2], metric[1] / metric[2]"
      ]
    },
    {
      "cell_type": "code",
      "execution_count": 121,
      "metadata": {
        "id": "36NOa25zmMG4"
      },
      "outputs": [],
      "source": [
        "class Animator:  #@save\n",
        "    \"\"\"For plotting data in animation.\"\"\"\n",
        "    def __init__(self, xlabel=None, ylabel=None, legend=None, xlim=None,\n",
        "                 ylim=None, xscale='linear', yscale='linear',\n",
        "                 fmts=('-', 'm--', 'g-.', 'r:'), nrows=1, ncols=1,\n",
        "                 figsize=(3.5, 2.5)):\n",
        "        # Incrementally plot multiple lines\n",
        "        if legend is None:\n",
        "            legend = []\n",
        "        d2l.use_svg_display()\n",
        "        self.fig, self.axes = d2l.plt.subplots(nrows, ncols, figsize=figsize)\n",
        "        if nrows * ncols == 1:\n",
        "            self.axes = [self.axes,]\n",
        "        # Use a lambda function to capture arguments\n",
        "        self.config_axes = lambda: d2l.set_axes(self.axes[\n",
        "            0], xlabel, ylabel, xlim, ylim, xscale, yscale, legend)\n",
        "        self.X, self.Y, self.fmts = None, None, fmts\n",
        "\n",
        "    def add(self, x, y):\n",
        "        # Add multiple data points into the figure\n",
        "        if not hasattr(y, \"__len__\"):\n",
        "            y = [y]\n",
        "        n = len(y)\n",
        "        if not hasattr(x, \"__len__\"):\n",
        "            x = [x] * n\n",
        "        if not self.X:\n",
        "            self.X = [[] for _ in range(n)]\n",
        "        if not self.Y:\n",
        "            self.Y = [[] for _ in range(n)]\n",
        "        for i, (a, b) in enumerate(zip(x, y)):\n",
        "            if a is not None and b is not None:\n",
        "                self.X[i].append(a)\n",
        "                self.Y[i].append(b)\n",
        "        self.axes[0].cla()\n",
        "        for x, y, fmt in zip(self.X, self.Y, self.fmts):\n",
        "            self.axes[0].plot(x, y, fmt)\n",
        "        self.config_axes()\n",
        "        display.display(self.fig)\n",
        "        display.clear_output(wait=True)"
      ]
    },
    {
      "cell_type": "code",
      "execution_count": 122,
      "metadata": {
        "id": "EZVqt1ifmRe9"
      },
      "outputs": [],
      "source": [
        "def train_ch3(net, train_iter, test_iter, loss, num_epochs, updater):  #@save\n",
        "    \"\"\"Train a model (defined in Chapter 3).\"\"\"\n",
        "    animator = Animator(xlabel='epoch', xlim=[1, num_epochs], ylim=[0.3, 0.9],\n",
        "                        legend=['train loss', 'train acc', 'test acc'])\n",
        "    for epoch in range(num_epochs):\n",
        "        train_metrics = train_epoch_ch3(net, train_iter, loss, updater)\n",
        "        test_acc = evaluate_accuracy(net, test_iter)\n",
        "        animator.add(epoch + 1, train_metrics + (test_acc,))\n",
        "    train_loss, train_acc = train_metrics\n",
        "    assert train_loss < 0.5, train_loss\n",
        "    assert train_acc <= 1 and train_acc > 0.7, train_acc\n",
        "    assert test_acc <= 1 and test_acc > 0.7, test_acc"
      ]
    },
    {
      "cell_type": "code",
      "execution_count": 123,
      "metadata": {
        "id": "rX2_-zTfmSrJ"
      },
      "outputs": [],
      "source": [
        "lr = 0.1\n",
        "\n",
        "def updater(batch_size):\n",
        "    return d2l.sgd([W, b], lr, batch_size)"
      ]
    },
    {
      "cell_type": "code",
      "execution_count": 135,
      "metadata": {
        "colab": {
          "base_uri": "https://localhost:8080/",
          "height": 261
        },
        "id": "6GZxfSLZmUYH",
        "outputId": "1ef03032-430e-43db-b6c0-f6442c31a0df"
      },
      "outputs": [
        {
          "data": {
            "image/svg+xml": "<?xml version=\"1.0\" encoding=\"utf-8\" standalone=\"no\"?>\n<!DOCTYPE svg PUBLIC \"-//W3C//DTD SVG 1.1//EN\"\n  \"http://www.w3.org/Graphics/SVG/1.1/DTD/svg11.dtd\">\n<!-- Created with matplotlib (https://matplotlib.org/) -->\n<svg height=\"180.65625pt\" version=\"1.1\" viewBox=\"0 0 242.146875 180.65625\" width=\"242.146875pt\" xmlns=\"http://www.w3.org/2000/svg\" xmlns:xlink=\"http://www.w3.org/1999/xlink\">\n <defs>\n  <style type=\"text/css\">\n*{stroke-linecap:butt;stroke-linejoin:round;}\n  </style>\n </defs>\n <g id=\"figure_1\">\n  <g id=\"patch_1\">\n   <path d=\"M 0 180.65625 \nL 242.146875 180.65625 \nL 242.146875 0 \nL 0 0 \nz\n\" style=\"fill:none;\"/>\n  </g>\n  <g id=\"axes_1\">\n   <g id=\"patch_2\">\n    <path d=\"M 30.103125 143.1 \nL 225.403125 143.1 \nL 225.403125 7.2 \nL 30.103125 7.2 \nz\n\" style=\"fill:#ffffff;\"/>\n   </g>\n   <g id=\"matplotlib.axis_1\">\n    <g id=\"xtick_1\">\n     <g id=\"line2d_1\">\n      <path clip-path=\"url(#p58ec6ff2de)\" d=\"M 67.584943 143.1 \nL 67.584943 7.2 \n\" style=\"fill:none;stroke:#b0b0b0;stroke-linecap:square;stroke-width:0.8;\"/>\n     </g>\n     <g id=\"line2d_2\">\n      <defs>\n       <path d=\"M 0 0 \nL 0 3.5 \n\" id=\"mcfdb60f9f0\" style=\"stroke:#000000;stroke-width:0.8;\"/>\n      </defs>\n      <g>\n       <use style=\"stroke:#000000;stroke-width:0.8;\" x=\"67.584943\" xlink:href=\"#mcfdb60f9f0\" y=\"143.1\"/>\n      </g>\n     </g>\n     <g id=\"text_1\">\n      <!-- 20 -->\n      <defs>\n       <path d=\"M 19.1875 8.296875 \nL 53.609375 8.296875 \nL 53.609375 0 \nL 7.328125 0 \nL 7.328125 8.296875 \nQ 12.9375 14.109375 22.625 23.890625 \nQ 32.328125 33.6875 34.8125 36.53125 \nQ 39.546875 41.84375 41.421875 45.53125 \nQ 43.3125 49.21875 43.3125 52.78125 \nQ 43.3125 58.59375 39.234375 62.25 \nQ 35.15625 65.921875 28.609375 65.921875 \nQ 23.96875 65.921875 18.8125 64.3125 \nQ 13.671875 62.703125 7.8125 59.421875 \nL 7.8125 69.390625 \nQ 13.765625 71.78125 18.9375 73 \nQ 24.125 74.21875 28.421875 74.21875 \nQ 39.75 74.21875 46.484375 68.546875 \nQ 53.21875 62.890625 53.21875 53.421875 \nQ 53.21875 48.921875 51.53125 44.890625 \nQ 49.859375 40.875 45.40625 35.40625 \nQ 44.1875 33.984375 37.640625 27.21875 \nQ 31.109375 20.453125 19.1875 8.296875 \nz\n\" id=\"DejaVuSans-50\"/>\n       <path d=\"M 31.78125 66.40625 \nQ 24.171875 66.40625 20.328125 58.90625 \nQ 16.5 51.421875 16.5 36.375 \nQ 16.5 21.390625 20.328125 13.890625 \nQ 24.171875 6.390625 31.78125 6.390625 \nQ 39.453125 6.390625 43.28125 13.890625 \nQ 47.125 21.390625 47.125 36.375 \nQ 47.125 51.421875 43.28125 58.90625 \nQ 39.453125 66.40625 31.78125 66.40625 \nz\nM 31.78125 74.21875 \nQ 44.046875 74.21875 50.515625 64.515625 \nQ 56.984375 54.828125 56.984375 36.375 \nQ 56.984375 17.96875 50.515625 8.265625 \nQ 44.046875 -1.421875 31.78125 -1.421875 \nQ 19.53125 -1.421875 13.0625 8.265625 \nQ 6.59375 17.96875 6.59375 36.375 \nQ 6.59375 54.828125 13.0625 64.515625 \nQ 19.53125 74.21875 31.78125 74.21875 \nz\n\" id=\"DejaVuSans-48\"/>\n      </defs>\n      <g transform=\"translate(61.222443 157.698438)scale(0.1 -0.1)\">\n       <use xlink:href=\"#DejaVuSans-50\"/>\n       <use x=\"63.623047\" xlink:href=\"#DejaVuSans-48\"/>\n      </g>\n     </g>\n    </g>\n    <g id=\"xtick_2\">\n     <g id=\"line2d_3\">\n      <path clip-path=\"url(#p58ec6ff2de)\" d=\"M 107.039489 143.1 \nL 107.039489 7.2 \n\" style=\"fill:none;stroke:#b0b0b0;stroke-linecap:square;stroke-width:0.8;\"/>\n     </g>\n     <g id=\"line2d_4\">\n      <g>\n       <use style=\"stroke:#000000;stroke-width:0.8;\" x=\"107.039489\" xlink:href=\"#mcfdb60f9f0\" y=\"143.1\"/>\n      </g>\n     </g>\n     <g id=\"text_2\">\n      <!-- 40 -->\n      <defs>\n       <path d=\"M 37.796875 64.3125 \nL 12.890625 25.390625 \nL 37.796875 25.390625 \nz\nM 35.203125 72.90625 \nL 47.609375 72.90625 \nL 47.609375 25.390625 \nL 58.015625 25.390625 \nL 58.015625 17.1875 \nL 47.609375 17.1875 \nL 47.609375 0 \nL 37.796875 0 \nL 37.796875 17.1875 \nL 4.890625 17.1875 \nL 4.890625 26.703125 \nz\n\" id=\"DejaVuSans-52\"/>\n      </defs>\n      <g transform=\"translate(100.676989 157.698438)scale(0.1 -0.1)\">\n       <use xlink:href=\"#DejaVuSans-52\"/>\n       <use x=\"63.623047\" xlink:href=\"#DejaVuSans-48\"/>\n      </g>\n     </g>\n    </g>\n    <g id=\"xtick_3\">\n     <g id=\"line2d_5\">\n      <path clip-path=\"url(#p58ec6ff2de)\" d=\"M 146.494034 143.1 \nL 146.494034 7.2 \n\" style=\"fill:none;stroke:#b0b0b0;stroke-linecap:square;stroke-width:0.8;\"/>\n     </g>\n     <g id=\"line2d_6\">\n      <g>\n       <use style=\"stroke:#000000;stroke-width:0.8;\" x=\"146.494034\" xlink:href=\"#mcfdb60f9f0\" y=\"143.1\"/>\n      </g>\n     </g>\n     <g id=\"text_3\">\n      <!-- 60 -->\n      <defs>\n       <path d=\"M 33.015625 40.375 \nQ 26.375 40.375 22.484375 35.828125 \nQ 18.609375 31.296875 18.609375 23.390625 \nQ 18.609375 15.53125 22.484375 10.953125 \nQ 26.375 6.390625 33.015625 6.390625 \nQ 39.65625 6.390625 43.53125 10.953125 \nQ 47.40625 15.53125 47.40625 23.390625 \nQ 47.40625 31.296875 43.53125 35.828125 \nQ 39.65625 40.375 33.015625 40.375 \nz\nM 52.59375 71.296875 \nL 52.59375 62.3125 \nQ 48.875 64.0625 45.09375 64.984375 \nQ 41.3125 65.921875 37.59375 65.921875 \nQ 27.828125 65.921875 22.671875 59.328125 \nQ 17.53125 52.734375 16.796875 39.40625 \nQ 19.671875 43.65625 24.015625 45.921875 \nQ 28.375 48.1875 33.59375 48.1875 \nQ 44.578125 48.1875 50.953125 41.515625 \nQ 57.328125 34.859375 57.328125 23.390625 \nQ 57.328125 12.15625 50.6875 5.359375 \nQ 44.046875 -1.421875 33.015625 -1.421875 \nQ 20.359375 -1.421875 13.671875 8.265625 \nQ 6.984375 17.96875 6.984375 36.375 \nQ 6.984375 53.65625 15.1875 63.9375 \nQ 23.390625 74.21875 37.203125 74.21875 \nQ 40.921875 74.21875 44.703125 73.484375 \nQ 48.484375 72.75 52.59375 71.296875 \nz\n\" id=\"DejaVuSans-54\"/>\n      </defs>\n      <g transform=\"translate(140.131534 157.698438)scale(0.1 -0.1)\">\n       <use xlink:href=\"#DejaVuSans-54\"/>\n       <use x=\"63.623047\" xlink:href=\"#DejaVuSans-48\"/>\n      </g>\n     </g>\n    </g>\n    <g id=\"xtick_4\">\n     <g id=\"line2d_7\">\n      <path clip-path=\"url(#p58ec6ff2de)\" d=\"M 185.94858 143.1 \nL 185.94858 7.2 \n\" style=\"fill:none;stroke:#b0b0b0;stroke-linecap:square;stroke-width:0.8;\"/>\n     </g>\n     <g id=\"line2d_8\">\n      <g>\n       <use style=\"stroke:#000000;stroke-width:0.8;\" x=\"185.94858\" xlink:href=\"#mcfdb60f9f0\" y=\"143.1\"/>\n      </g>\n     </g>\n     <g id=\"text_4\">\n      <!-- 80 -->\n      <defs>\n       <path d=\"M 31.78125 34.625 \nQ 24.75 34.625 20.71875 30.859375 \nQ 16.703125 27.09375 16.703125 20.515625 \nQ 16.703125 13.921875 20.71875 10.15625 \nQ 24.75 6.390625 31.78125 6.390625 \nQ 38.8125 6.390625 42.859375 10.171875 \nQ 46.921875 13.96875 46.921875 20.515625 \nQ 46.921875 27.09375 42.890625 30.859375 \nQ 38.875 34.625 31.78125 34.625 \nz\nM 21.921875 38.8125 \nQ 15.578125 40.375 12.03125 44.71875 \nQ 8.5 49.078125 8.5 55.328125 \nQ 8.5 64.0625 14.71875 69.140625 \nQ 20.953125 74.21875 31.78125 74.21875 \nQ 42.671875 74.21875 48.875 69.140625 \nQ 55.078125 64.0625 55.078125 55.328125 \nQ 55.078125 49.078125 51.53125 44.71875 \nQ 48 40.375 41.703125 38.8125 \nQ 48.828125 37.15625 52.796875 32.3125 \nQ 56.78125 27.484375 56.78125 20.515625 \nQ 56.78125 9.90625 50.3125 4.234375 \nQ 43.84375 -1.421875 31.78125 -1.421875 \nQ 19.734375 -1.421875 13.25 4.234375 \nQ 6.78125 9.90625 6.78125 20.515625 \nQ 6.78125 27.484375 10.78125 32.3125 \nQ 14.796875 37.15625 21.921875 38.8125 \nz\nM 18.3125 54.390625 \nQ 18.3125 48.734375 21.84375 45.5625 \nQ 25.390625 42.390625 31.78125 42.390625 \nQ 38.140625 42.390625 41.71875 45.5625 \nQ 45.3125 48.734375 45.3125 54.390625 \nQ 45.3125 60.0625 41.71875 63.234375 \nQ 38.140625 66.40625 31.78125 66.40625 \nQ 25.390625 66.40625 21.84375 63.234375 \nQ 18.3125 60.0625 18.3125 54.390625 \nz\n\" id=\"DejaVuSans-56\"/>\n      </defs>\n      <g transform=\"translate(179.58608 157.698438)scale(0.1 -0.1)\">\n       <use xlink:href=\"#DejaVuSans-56\"/>\n       <use x=\"63.623047\" xlink:href=\"#DejaVuSans-48\"/>\n      </g>\n     </g>\n    </g>\n    <g id=\"xtick_5\">\n     <g id=\"line2d_9\">\n      <path clip-path=\"url(#p58ec6ff2de)\" d=\"M 225.403125 143.1 \nL 225.403125 7.2 \n\" style=\"fill:none;stroke:#b0b0b0;stroke-linecap:square;stroke-width:0.8;\"/>\n     </g>\n     <g id=\"line2d_10\">\n      <g>\n       <use style=\"stroke:#000000;stroke-width:0.8;\" x=\"225.403125\" xlink:href=\"#mcfdb60f9f0\" y=\"143.1\"/>\n      </g>\n     </g>\n     <g id=\"text_5\">\n      <!-- 100 -->\n      <defs>\n       <path d=\"M 12.40625 8.296875 \nL 28.515625 8.296875 \nL 28.515625 63.921875 \nL 10.984375 60.40625 \nL 10.984375 69.390625 \nL 28.421875 72.90625 \nL 38.28125 72.90625 \nL 38.28125 8.296875 \nL 54.390625 8.296875 \nL 54.390625 0 \nL 12.40625 0 \nz\n\" id=\"DejaVuSans-49\"/>\n      </defs>\n      <g transform=\"translate(215.859375 157.698438)scale(0.1 -0.1)\">\n       <use xlink:href=\"#DejaVuSans-49\"/>\n       <use x=\"63.623047\" xlink:href=\"#DejaVuSans-48\"/>\n       <use x=\"127.246094\" xlink:href=\"#DejaVuSans-48\"/>\n      </g>\n     </g>\n    </g>\n    <g id=\"text_6\">\n     <!-- epoch -->\n     <defs>\n      <path d=\"M 56.203125 29.59375 \nL 56.203125 25.203125 \nL 14.890625 25.203125 \nQ 15.484375 15.921875 20.484375 11.0625 \nQ 25.484375 6.203125 34.421875 6.203125 \nQ 39.59375 6.203125 44.453125 7.46875 \nQ 49.3125 8.734375 54.109375 11.28125 \nL 54.109375 2.78125 \nQ 49.265625 0.734375 44.1875 -0.34375 \nQ 39.109375 -1.421875 33.890625 -1.421875 \nQ 20.796875 -1.421875 13.15625 6.1875 \nQ 5.515625 13.8125 5.515625 26.8125 \nQ 5.515625 40.234375 12.765625 48.109375 \nQ 20.015625 56 32.328125 56 \nQ 43.359375 56 49.78125 48.890625 \nQ 56.203125 41.796875 56.203125 29.59375 \nz\nM 47.21875 32.234375 \nQ 47.125 39.59375 43.09375 43.984375 \nQ 39.0625 48.390625 32.421875 48.390625 \nQ 24.90625 48.390625 20.390625 44.140625 \nQ 15.875 39.890625 15.1875 32.171875 \nz\n\" id=\"DejaVuSans-101\"/>\n      <path d=\"M 18.109375 8.203125 \nL 18.109375 -20.796875 \nL 9.078125 -20.796875 \nL 9.078125 54.6875 \nL 18.109375 54.6875 \nL 18.109375 46.390625 \nQ 20.953125 51.265625 25.265625 53.625 \nQ 29.59375 56 35.59375 56 \nQ 45.5625 56 51.78125 48.09375 \nQ 58.015625 40.1875 58.015625 27.296875 \nQ 58.015625 14.40625 51.78125 6.484375 \nQ 45.5625 -1.421875 35.59375 -1.421875 \nQ 29.59375 -1.421875 25.265625 0.953125 \nQ 20.953125 3.328125 18.109375 8.203125 \nz\nM 48.6875 27.296875 \nQ 48.6875 37.203125 44.609375 42.84375 \nQ 40.53125 48.484375 33.40625 48.484375 \nQ 26.265625 48.484375 22.1875 42.84375 \nQ 18.109375 37.203125 18.109375 27.296875 \nQ 18.109375 17.390625 22.1875 11.75 \nQ 26.265625 6.109375 33.40625 6.109375 \nQ 40.53125 6.109375 44.609375 11.75 \nQ 48.6875 17.390625 48.6875 27.296875 \nz\n\" id=\"DejaVuSans-112\"/>\n      <path d=\"M 30.609375 48.390625 \nQ 23.390625 48.390625 19.1875 42.75 \nQ 14.984375 37.109375 14.984375 27.296875 \nQ 14.984375 17.484375 19.15625 11.84375 \nQ 23.34375 6.203125 30.609375 6.203125 \nQ 37.796875 6.203125 41.984375 11.859375 \nQ 46.1875 17.53125 46.1875 27.296875 \nQ 46.1875 37.015625 41.984375 42.703125 \nQ 37.796875 48.390625 30.609375 48.390625 \nz\nM 30.609375 56 \nQ 42.328125 56 49.015625 48.375 \nQ 55.71875 40.765625 55.71875 27.296875 \nQ 55.71875 13.875 49.015625 6.21875 \nQ 42.328125 -1.421875 30.609375 -1.421875 \nQ 18.84375 -1.421875 12.171875 6.21875 \nQ 5.515625 13.875 5.515625 27.296875 \nQ 5.515625 40.765625 12.171875 48.375 \nQ 18.84375 56 30.609375 56 \nz\n\" id=\"DejaVuSans-111\"/>\n      <path d=\"M 48.78125 52.59375 \nL 48.78125 44.1875 \nQ 44.96875 46.296875 41.140625 47.34375 \nQ 37.3125 48.390625 33.40625 48.390625 \nQ 24.65625 48.390625 19.8125 42.84375 \nQ 14.984375 37.3125 14.984375 27.296875 \nQ 14.984375 17.28125 19.8125 11.734375 \nQ 24.65625 6.203125 33.40625 6.203125 \nQ 37.3125 6.203125 41.140625 7.25 \nQ 44.96875 8.296875 48.78125 10.40625 \nL 48.78125 2.09375 \nQ 45.015625 0.34375 40.984375 -0.53125 \nQ 36.96875 -1.421875 32.421875 -1.421875 \nQ 20.0625 -1.421875 12.78125 6.34375 \nQ 5.515625 14.109375 5.515625 27.296875 \nQ 5.515625 40.671875 12.859375 48.328125 \nQ 20.21875 56 33.015625 56 \nQ 37.15625 56 41.109375 55.140625 \nQ 45.0625 54.296875 48.78125 52.59375 \nz\n\" id=\"DejaVuSans-99\"/>\n      <path d=\"M 54.890625 33.015625 \nL 54.890625 0 \nL 45.90625 0 \nL 45.90625 32.71875 \nQ 45.90625 40.484375 42.875 44.328125 \nQ 39.84375 48.1875 33.796875 48.1875 \nQ 26.515625 48.1875 22.3125 43.546875 \nQ 18.109375 38.921875 18.109375 30.90625 \nL 18.109375 0 \nL 9.078125 0 \nL 9.078125 75.984375 \nL 18.109375 75.984375 \nL 18.109375 46.1875 \nQ 21.34375 51.125 25.703125 53.5625 \nQ 30.078125 56 35.796875 56 \nQ 45.21875 56 50.046875 50.171875 \nQ 54.890625 44.34375 54.890625 33.015625 \nz\n\" id=\"DejaVuSans-104\"/>\n     </defs>\n     <g transform=\"translate(112.525 171.376563)scale(0.1 -0.1)\">\n      <use xlink:href=\"#DejaVuSans-101\"/>\n      <use x=\"61.523438\" xlink:href=\"#DejaVuSans-112\"/>\n      <use x=\"125\" xlink:href=\"#DejaVuSans-111\"/>\n      <use x=\"186.181641\" xlink:href=\"#DejaVuSans-99\"/>\n      <use x=\"241.162109\" xlink:href=\"#DejaVuSans-104\"/>\n     </g>\n    </g>\n   </g>\n   <g id=\"matplotlib.axis_2\">\n    <g id=\"ytick_1\">\n     <g id=\"line2d_11\">\n      <path clip-path=\"url(#p58ec6ff2de)\" d=\"M 30.103125 120.45 \nL 225.403125 120.45 \n\" style=\"fill:none;stroke:#b0b0b0;stroke-linecap:square;stroke-width:0.8;\"/>\n     </g>\n     <g id=\"line2d_12\">\n      <defs>\n       <path d=\"M 0 0 \nL -3.5 0 \n\" id=\"m0d91241093\" style=\"stroke:#000000;stroke-width:0.8;\"/>\n      </defs>\n      <g>\n       <use style=\"stroke:#000000;stroke-width:0.8;\" x=\"30.103125\" xlink:href=\"#m0d91241093\" y=\"120.45\"/>\n      </g>\n     </g>\n     <g id=\"text_7\">\n      <!-- 0.4 -->\n      <defs>\n       <path d=\"M 10.6875 12.40625 \nL 21 12.40625 \nL 21 0 \nL 10.6875 0 \nz\n\" id=\"DejaVuSans-46\"/>\n      </defs>\n      <g transform=\"translate(7.2 124.249219)scale(0.1 -0.1)\">\n       <use xlink:href=\"#DejaVuSans-48\"/>\n       <use x=\"63.623047\" xlink:href=\"#DejaVuSans-46\"/>\n       <use x=\"95.410156\" xlink:href=\"#DejaVuSans-52\"/>\n      </g>\n     </g>\n    </g>\n    <g id=\"ytick_2\">\n     <g id=\"line2d_13\">\n      <path clip-path=\"url(#p58ec6ff2de)\" d=\"M 30.103125 75.15 \nL 225.403125 75.15 \n\" style=\"fill:none;stroke:#b0b0b0;stroke-linecap:square;stroke-width:0.8;\"/>\n     </g>\n     <g id=\"line2d_14\">\n      <g>\n       <use style=\"stroke:#000000;stroke-width:0.8;\" x=\"30.103125\" xlink:href=\"#m0d91241093\" y=\"75.15\"/>\n      </g>\n     </g>\n     <g id=\"text_8\">\n      <!-- 0.6 -->\n      <g transform=\"translate(7.2 78.949219)scale(0.1 -0.1)\">\n       <use xlink:href=\"#DejaVuSans-48\"/>\n       <use x=\"63.623047\" xlink:href=\"#DejaVuSans-46\"/>\n       <use x=\"95.410156\" xlink:href=\"#DejaVuSans-54\"/>\n      </g>\n     </g>\n    </g>\n    <g id=\"ytick_3\">\n     <g id=\"line2d_15\">\n      <path clip-path=\"url(#p58ec6ff2de)\" d=\"M 30.103125 29.85 \nL 225.403125 29.85 \n\" style=\"fill:none;stroke:#b0b0b0;stroke-linecap:square;stroke-width:0.8;\"/>\n     </g>\n     <g id=\"line2d_16\">\n      <g>\n       <use style=\"stroke:#000000;stroke-width:0.8;\" x=\"30.103125\" xlink:href=\"#m0d91241093\" y=\"29.85\"/>\n      </g>\n     </g>\n     <g id=\"text_9\">\n      <!-- 0.8 -->\n      <g transform=\"translate(7.2 33.649219)scale(0.1 -0.1)\">\n       <use xlink:href=\"#DejaVuSans-48\"/>\n       <use x=\"63.623047\" xlink:href=\"#DejaVuSans-46\"/>\n       <use x=\"95.410156\" xlink:href=\"#DejaVuSans-56\"/>\n      </g>\n     </g>\n    </g>\n   </g>\n   <g id=\"line2d_17\">\n    <path clip-path=\"url(#p58ec6ff2de)\" d=\"M 30.103125 110.538012 \nL 32.075852 111.320598 \nL 34.04858 112.328209 \nL 36.021307 112.867273 \nL 37.994034 113.573444 \nL 39.966761 114.027258 \nL 41.939489 114.485421 \nL 43.912216 114.934046 \nL 45.884943 115.457902 \nL 47.85767 115.795418 \nL 49.830398 116.138262 \nL 51.803125 116.606097 \nL 53.775852 116.913561 \nL 55.74858 117.177785 \nL 57.721307 117.421605 \nL 59.694034 117.677223 \nL 61.666761 118.215932 \nL 63.639489 118.171601 \nL 65.612216 118.450499 \nL 67.584943 118.788454 \nL 69.55767 118.792559 \nL 71.530398 119.022372 \nL 73.503125 119.289091 \nL 75.475852 119.378165 \nL 77.44858 119.606477 \nL 79.421307 119.743278 \nL 81.394034 120.01991 \nL 83.366761 120.103015 \nL 85.339489 120.219616 \nL 87.312216 120.551722 \nL 89.284943 120.438688 \nL 91.25767 120.774561 \nL 93.230398 120.891598 \nL 95.203125 121.060794 \nL 97.175852 120.997679 \nL 99.14858 121.139399 \nL 101.121307 121.201687 \nL 103.094034 121.416127 \nL 105.066761 121.647253 \nL 107.039489 121.564897 \nL 109.012216 121.791384 \nL 110.984943 121.891915 \nL 112.95767 122.049409 \nL 114.930398 122.058936 \nL 116.903125 122.232776 \nL 118.875852 122.324178 \nL 120.84858 122.373323 \nL 122.821307 122.496588 \nL 124.794034 122.513774 \nL 126.766761 122.695219 \nL 128.739489 122.682305 \nL 130.712216 122.828825 \nL 132.684943 123.085936 \nL 134.65767 123.060532 \nL 136.630398 122.886708 \nL 138.603125 123.142773 \nL 140.575852 123.318605 \nL 142.54858 123.387207 \nL 144.521307 123.301706 \nL 146.494034 123.497222 \nL 148.466761 123.401618 \nL 150.439489 123.592705 \nL 152.412216 123.831127 \nL 154.384943 123.782988 \nL 156.35767 123.803605 \nL 158.330398 123.678378 \nL 160.303125 123.934904 \nL 162.275852 124.044521 \nL 164.24858 123.799883 \nL 166.221307 124.14251 \nL 168.194034 124.093964 \nL 170.166761 124.201701 \nL 172.139489 124.265298 \nL 174.112216 124.358971 \nL 176.084943 124.362125 \nL 178.05767 124.32865 \nL 180.030398 124.403066 \nL 182.003125 124.416616 \nL 183.975852 124.556349 \nL 185.94858 124.623993 \nL 187.921307 124.709687 \nL 189.894034 124.74053 \nL 191.866761 124.846806 \nL 193.839489 124.754699 \nL 195.812216 124.738361 \nL 197.784943 124.969998 \nL 199.75767 124.80003 \nL 201.730398 125.11981 \nL 203.703125 124.978797 \nL 205.675852 125.109689 \nL 207.64858 124.992662 \nL 209.621307 125.236421 \nL 211.594034 125.246586 \nL 213.566761 125.165462 \nL 215.539489 125.350453 \nL 217.512216 125.272346 \nL 219.484943 125.417671 \nL 221.45767 125.313264 \nL 223.430398 125.331749 \nL 225.403125 125.551316 \n\" style=\"fill:none;stroke:#1f77b4;stroke-linecap:square;stroke-width:1.5;\"/>\n   </g>\n   <g id=\"line2d_18\">\n    <path clip-path=\"url(#p58ec6ff2de)\" d=\"M 30.103125 18.9629 \nL 32.075852 18.521225 \nL 34.04858 18.355125 \nL 36.021307 17.8606 \nL 37.994034 17.849275 \nL 39.966761 17.751125 \nL 41.939489 17.456675 \nL 43.912216 17.411375 \nL 45.884943 17.1811 \nL 47.85767 16.85645 \nL 49.830398 16.913075 \nL 51.803125 16.716775 \nL 53.775852 16.777175 \nL 55.74858 16.694125 \nL 57.721307 16.611075 \nL 59.694034 16.47895 \nL 61.666761 16.112775 \nL 63.639489 16.218475 \nL 65.612216 16.13165 \nL 67.584943 16.1845 \nL 69.55767 16.1241 \nL 71.530398 16.0335 \nL 73.503125 16.0637 \nL 75.475852 16.0033 \nL 77.44858 15.848525 \nL 79.421307 15.79945 \nL 81.394034 15.773025 \nL 83.366761 15.561625 \nL 85.339489 15.7466 \nL 87.312216 15.765475 \nL 89.284943 15.7013 \nL 91.25767 15.357775 \nL 93.230398 15.34645 \nL 95.203125 15.4748 \nL 97.175852 15.5201 \nL 99.14858 15.478575 \nL 101.121307 15.34645 \nL 103.094034 15.206775 \nL 105.066761 15.3087 \nL 107.039489 15.304925 \nL 109.012216 15.116175 \nL 110.984943 15.236975 \nL 112.95767 15.05955 \nL 114.930398 15.131275 \nL 116.903125 15.244525 \nL 118.875852 15.1275 \nL 120.84858 15.153925 \nL 122.821307 15.1124 \nL 124.794034 14.8708 \nL 126.766761 15.01425 \nL 128.739489 15.116175 \nL 130.712216 14.897225 \nL 132.684943 14.7953 \nL 134.65767 14.957625 \nL 136.630398 14.859475 \nL 138.603125 14.768875 \nL 140.575852 14.89345 \nL 142.54858 14.783975 \nL 144.521307 14.859475 \nL 146.494034 14.71225 \nL 148.466761 14.738675 \nL 150.439489 14.5386 \nL 152.412216 14.700925 \nL 154.384943 14.68205 \nL 156.35767 14.7349 \nL 158.330398 14.829275 \nL 160.303125 14.6745 \nL 162.275852 14.6745 \nL 164.24858 14.8255 \nL 166.221307 14.59145 \nL 168.194034 14.436675 \nL 170.166761 14.71225 \nL 172.139489 14.406475 \nL 174.112216 14.625425 \nL 176.084943 14.60655 \nL 178.05767 14.53105 \nL 180.030398 14.444225 \nL 182.003125 14.738675 \nL 183.975852 14.4329 \nL 185.94858 14.640525 \nL 187.921307 14.474425 \nL 189.894034 14.66695 \nL 191.866761 14.36495 \nL 193.839489 14.278125 \nL 195.812216 14.315875 \nL 197.784943 14.38005 \nL 199.75767 14.54615 \nL 201.730398 14.3121 \nL 203.703125 14.300775 \nL 205.675852 14.30455 \nL 207.64858 14.580125 \nL 209.621307 14.297 \nL 211.594034 14.27435 \nL 213.566761 14.368725 \nL 215.539489 14.330975 \nL 217.512216 14.315875 \nL 219.484943 14.278125 \nL 221.45767 14.263025 \nL 223.430398 14.34985 \nL 225.403125 14.21395 \n\" style=\"fill:none;stroke:#bf00bf;stroke-dasharray:5.55,2.4;stroke-dashoffset:0;stroke-width:1.5;\"/>\n   </g>\n   <g id=\"line2d_19\">\n    <path clip-path=\"url(#p58ec6ff2de)\" d=\"M 30.103125 22.0131 \nL 32.075852 22.44345 \nL 34.04858 22.6926 \nL 36.021307 22.0584 \nL 37.994034 21.99045 \nL 39.966761 21.5601 \nL 41.939489 21.22035 \nL 43.912216 21.94515 \nL 45.884943 21.08445 \nL 47.85767 23.0097 \nL 49.830398 20.7447 \nL 51.803125 20.81265 \nL 53.775852 22.44345 \nL 55.74858 20.8806 \nL 57.721307 20.76735 \nL 59.694034 20.54085 \nL 61.666761 20.76735 \nL 63.639489 20.54085 \nL 65.612216 20.49555 \nL 67.584943 20.9712 \nL 69.55767 20.5635 \nL 71.530398 20.04255 \nL 73.503125 20.0652 \nL 75.475852 21.26565 \nL 77.44858 20.35965 \nL 79.421307 20.4729 \nL 81.394034 21.6507 \nL 83.366761 25.1388 \nL 85.339489 20.2011 \nL 87.312216 20.08785 \nL 89.284943 21.0618 \nL 91.25767 20.6541 \nL 93.230398 20.08785 \nL 95.203125 20.04255 \nL 97.175852 20.2464 \nL 99.14858 19.6575 \nL 101.121307 20.35965 \nL 103.094034 19.8387 \nL 105.066761 19.68015 \nL 107.039489 20.0652 \nL 109.012216 20.58615 \nL 110.984943 24.3687 \nL 112.95767 23.71185 \nL 114.930398 20.22375 \nL 116.903125 20.31435 \nL 118.875852 20.90325 \nL 120.84858 21.49215 \nL 122.821307 19.6575 \nL 124.794034 20.31435 \nL 126.766761 21.4242 \nL 128.739489 19.68015 \nL 130.712216 19.90665 \nL 132.684943 20.31435 \nL 134.65767 20.49555 \nL 136.630398 20.54085 \nL 138.603125 20.17845 \nL 140.575852 20.17845 \nL 142.54858 20.13315 \nL 144.521307 21.243 \nL 146.494034 20.2464 \nL 148.466761 20.2464 \nL 150.439489 20.72205 \nL 152.412216 20.22375 \nL 154.384943 20.13315 \nL 156.35767 20.79 \nL 158.330398 19.81605 \nL 160.303125 19.9293 \nL 162.275852 19.9746 \nL 164.24858 20.54085 \nL 166.221307 20.81265 \nL 168.194034 21.58275 \nL 170.166761 20.0199 \nL 172.139489 20.31435 \nL 174.112216 19.58955 \nL 176.084943 19.5669 \nL 178.05767 21.26565 \nL 180.030398 21.7413 \nL 182.003125 20.2011 \nL 183.975852 20.04255 \nL 185.94858 20.4276 \nL 187.921307 20.49555 \nL 189.894034 19.6575 \nL 191.866761 20.8806 \nL 193.839489 20.72205 \nL 195.812216 20.35965 \nL 197.784943 21.0618 \nL 199.75767 19.86135 \nL 201.730398 19.6122 \nL 203.703125 20.5635 \nL 205.675852 20.2011 \nL 207.64858 19.63485 \nL 209.621307 20.26905 \nL 211.594034 19.58955 \nL 213.566761 19.6122 \nL 215.539489 19.9293 \nL 217.512216 20.90325 \nL 219.484943 20.04255 \nL 221.45767 20.1105 \nL 223.430398 20.22375 \nL 225.403125 19.7028 \n\" style=\"fill:none;stroke:#008000;stroke-dasharray:9.6,2.4,1.5,2.4;stroke-dashoffset:0;stroke-width:1.5;\"/>\n   </g>\n   <g id=\"patch_3\">\n    <path d=\"M 30.103125 143.1 \nL 30.103125 7.2 \n\" style=\"fill:none;stroke:#000000;stroke-linecap:square;stroke-linejoin:miter;stroke-width:0.8;\"/>\n   </g>\n   <g id=\"patch_4\">\n    <path d=\"M 225.403125 143.1 \nL 225.403125 7.2 \n\" style=\"fill:none;stroke:#000000;stroke-linecap:square;stroke-linejoin:miter;stroke-width:0.8;\"/>\n   </g>\n   <g id=\"patch_5\">\n    <path d=\"M 30.103125 143.1 \nL 225.403125 143.1 \n\" style=\"fill:none;stroke:#000000;stroke-linecap:square;stroke-linejoin:miter;stroke-width:0.8;\"/>\n   </g>\n   <g id=\"patch_6\">\n    <path d=\"M 30.103125 7.2 \nL 225.403125 7.2 \n\" style=\"fill:none;stroke:#000000;stroke-linecap:square;stroke-linejoin:miter;stroke-width:0.8;\"/>\n   </g>\n   <g id=\"legend_1\">\n    <g id=\"patch_7\">\n     <path d=\"M 140.634375 98.667187 \nL 218.403125 98.667187 \nQ 220.403125 98.667187 220.403125 96.667187 \nL 220.403125 53.632812 \nQ 220.403125 51.632812 218.403125 51.632812 \nL 140.634375 51.632812 \nQ 138.634375 51.632812 138.634375 53.632812 \nL 138.634375 96.667187 \nQ 138.634375 98.667187 140.634375 98.667187 \nz\n\" style=\"fill:#ffffff;opacity:0.8;stroke:#cccccc;stroke-linejoin:miter;\"/>\n    </g>\n    <g id=\"line2d_20\">\n     <path d=\"M 142.634375 59.73125 \nL 162.634375 59.73125 \n\" style=\"fill:none;stroke:#1f77b4;stroke-linecap:square;stroke-width:1.5;\"/>\n    </g>\n    <g id=\"line2d_21\"/>\n    <g id=\"text_10\">\n     <!-- train loss -->\n     <defs>\n      <path d=\"M 18.3125 70.21875 \nL 18.3125 54.6875 \nL 36.8125 54.6875 \nL 36.8125 47.703125 \nL 18.3125 47.703125 \nL 18.3125 18.015625 \nQ 18.3125 11.328125 20.140625 9.421875 \nQ 21.96875 7.515625 27.59375 7.515625 \nL 36.8125 7.515625 \nL 36.8125 0 \nL 27.59375 0 \nQ 17.1875 0 13.234375 3.875 \nQ 9.28125 7.765625 9.28125 18.015625 \nL 9.28125 47.703125 \nL 2.6875 47.703125 \nL 2.6875 54.6875 \nL 9.28125 54.6875 \nL 9.28125 70.21875 \nz\n\" id=\"DejaVuSans-116\"/>\n      <path d=\"M 41.109375 46.296875 \nQ 39.59375 47.171875 37.8125 47.578125 \nQ 36.03125 48 33.890625 48 \nQ 26.265625 48 22.1875 43.046875 \nQ 18.109375 38.09375 18.109375 28.8125 \nL 18.109375 0 \nL 9.078125 0 \nL 9.078125 54.6875 \nL 18.109375 54.6875 \nL 18.109375 46.1875 \nQ 20.953125 51.171875 25.484375 53.578125 \nQ 30.03125 56 36.53125 56 \nQ 37.453125 56 38.578125 55.875 \nQ 39.703125 55.765625 41.0625 55.515625 \nz\n\" id=\"DejaVuSans-114\"/>\n      <path d=\"M 34.28125 27.484375 \nQ 23.390625 27.484375 19.1875 25 \nQ 14.984375 22.515625 14.984375 16.5 \nQ 14.984375 11.71875 18.140625 8.90625 \nQ 21.296875 6.109375 26.703125 6.109375 \nQ 34.1875 6.109375 38.703125 11.40625 \nQ 43.21875 16.703125 43.21875 25.484375 \nL 43.21875 27.484375 \nz\nM 52.203125 31.203125 \nL 52.203125 0 \nL 43.21875 0 \nL 43.21875 8.296875 \nQ 40.140625 3.328125 35.546875 0.953125 \nQ 30.953125 -1.421875 24.3125 -1.421875 \nQ 15.921875 -1.421875 10.953125 3.296875 \nQ 6 8.015625 6 15.921875 \nQ 6 25.140625 12.171875 29.828125 \nQ 18.359375 34.515625 30.609375 34.515625 \nL 43.21875 34.515625 \nL 43.21875 35.40625 \nQ 43.21875 41.609375 39.140625 45 \nQ 35.0625 48.390625 27.6875 48.390625 \nQ 23 48.390625 18.546875 47.265625 \nQ 14.109375 46.140625 10.015625 43.890625 \nL 10.015625 52.203125 \nQ 14.9375 54.109375 19.578125 55.046875 \nQ 24.21875 56 28.609375 56 \nQ 40.484375 56 46.34375 49.84375 \nQ 52.203125 43.703125 52.203125 31.203125 \nz\n\" id=\"DejaVuSans-97\"/>\n      <path d=\"M 9.421875 54.6875 \nL 18.40625 54.6875 \nL 18.40625 0 \nL 9.421875 0 \nz\nM 9.421875 75.984375 \nL 18.40625 75.984375 \nL 18.40625 64.59375 \nL 9.421875 64.59375 \nz\n\" id=\"DejaVuSans-105\"/>\n      <path d=\"M 54.890625 33.015625 \nL 54.890625 0 \nL 45.90625 0 \nL 45.90625 32.71875 \nQ 45.90625 40.484375 42.875 44.328125 \nQ 39.84375 48.1875 33.796875 48.1875 \nQ 26.515625 48.1875 22.3125 43.546875 \nQ 18.109375 38.921875 18.109375 30.90625 \nL 18.109375 0 \nL 9.078125 0 \nL 9.078125 54.6875 \nL 18.109375 54.6875 \nL 18.109375 46.1875 \nQ 21.34375 51.125 25.703125 53.5625 \nQ 30.078125 56 35.796875 56 \nQ 45.21875 56 50.046875 50.171875 \nQ 54.890625 44.34375 54.890625 33.015625 \nz\n\" id=\"DejaVuSans-110\"/>\n      <path id=\"DejaVuSans-32\"/>\n      <path d=\"M 9.421875 75.984375 \nL 18.40625 75.984375 \nL 18.40625 0 \nL 9.421875 0 \nz\n\" id=\"DejaVuSans-108\"/>\n      <path d=\"M 44.28125 53.078125 \nL 44.28125 44.578125 \nQ 40.484375 46.53125 36.375 47.5 \nQ 32.28125 48.484375 27.875 48.484375 \nQ 21.1875 48.484375 17.84375 46.4375 \nQ 14.5 44.390625 14.5 40.28125 \nQ 14.5 37.15625 16.890625 35.375 \nQ 19.28125 33.59375 26.515625 31.984375 \nL 29.59375 31.296875 \nQ 39.15625 29.25 43.1875 25.515625 \nQ 47.21875 21.78125 47.21875 15.09375 \nQ 47.21875 7.46875 41.1875 3.015625 \nQ 35.15625 -1.421875 24.609375 -1.421875 \nQ 20.21875 -1.421875 15.453125 -0.5625 \nQ 10.6875 0.296875 5.421875 2 \nL 5.421875 11.28125 \nQ 10.40625 8.6875 15.234375 7.390625 \nQ 20.0625 6.109375 24.8125 6.109375 \nQ 31.15625 6.109375 34.5625 8.28125 \nQ 37.984375 10.453125 37.984375 14.40625 \nQ 37.984375 18.0625 35.515625 20.015625 \nQ 33.0625 21.96875 24.703125 23.78125 \nL 21.578125 24.515625 \nQ 13.234375 26.265625 9.515625 29.90625 \nQ 5.8125 33.546875 5.8125 39.890625 \nQ 5.8125 47.609375 11.28125 51.796875 \nQ 16.75 56 26.8125 56 \nQ 31.78125 56 36.171875 55.265625 \nQ 40.578125 54.546875 44.28125 53.078125 \nz\n\" id=\"DejaVuSans-115\"/>\n     </defs>\n     <g transform=\"translate(170.634375 63.23125)scale(0.1 -0.1)\">\n      <use xlink:href=\"#DejaVuSans-116\"/>\n      <use x=\"39.208984\" xlink:href=\"#DejaVuSans-114\"/>\n      <use x=\"80.322266\" xlink:href=\"#DejaVuSans-97\"/>\n      <use x=\"141.601562\" xlink:href=\"#DejaVuSans-105\"/>\n      <use x=\"169.384766\" xlink:href=\"#DejaVuSans-110\"/>\n      <use x=\"232.763672\" xlink:href=\"#DejaVuSans-32\"/>\n      <use x=\"264.550781\" xlink:href=\"#DejaVuSans-108\"/>\n      <use x=\"292.333984\" xlink:href=\"#DejaVuSans-111\"/>\n      <use x=\"353.515625\" xlink:href=\"#DejaVuSans-115\"/>\n      <use x=\"405.615234\" xlink:href=\"#DejaVuSans-115\"/>\n     </g>\n    </g>\n    <g id=\"line2d_22\">\n     <path d=\"M 142.634375 74.409375 \nL 162.634375 74.409375 \n\" style=\"fill:none;stroke:#bf00bf;stroke-dasharray:5.55,2.4;stroke-dashoffset:0;stroke-width:1.5;\"/>\n    </g>\n    <g id=\"line2d_23\"/>\n    <g id=\"text_11\">\n     <!-- train acc -->\n     <g transform=\"translate(170.634375 77.909375)scale(0.1 -0.1)\">\n      <use xlink:href=\"#DejaVuSans-116\"/>\n      <use x=\"39.208984\" xlink:href=\"#DejaVuSans-114\"/>\n      <use x=\"80.322266\" xlink:href=\"#DejaVuSans-97\"/>\n      <use x=\"141.601562\" xlink:href=\"#DejaVuSans-105\"/>\n      <use x=\"169.384766\" xlink:href=\"#DejaVuSans-110\"/>\n      <use x=\"232.763672\" xlink:href=\"#DejaVuSans-32\"/>\n      <use x=\"264.550781\" xlink:href=\"#DejaVuSans-97\"/>\n      <use x=\"325.830078\" xlink:href=\"#DejaVuSans-99\"/>\n      <use x=\"380.810547\" xlink:href=\"#DejaVuSans-99\"/>\n     </g>\n    </g>\n    <g id=\"line2d_24\">\n     <path d=\"M 142.634375 89.0875 \nL 162.634375 89.0875 \n\" style=\"fill:none;stroke:#008000;stroke-dasharray:9.6,2.4,1.5,2.4;stroke-dashoffset:0;stroke-width:1.5;\"/>\n    </g>\n    <g id=\"line2d_25\"/>\n    <g id=\"text_12\">\n     <!-- test acc -->\n     <g transform=\"translate(170.634375 92.5875)scale(0.1 -0.1)\">\n      <use xlink:href=\"#DejaVuSans-116\"/>\n      <use x=\"39.208984\" xlink:href=\"#DejaVuSans-101\"/>\n      <use x=\"100.732422\" xlink:href=\"#DejaVuSans-115\"/>\n      <use x=\"152.832031\" xlink:href=\"#DejaVuSans-116\"/>\n      <use x=\"192.041016\" xlink:href=\"#DejaVuSans-32\"/>\n      <use x=\"223.828125\" xlink:href=\"#DejaVuSans-97\"/>\n      <use x=\"285.107422\" xlink:href=\"#DejaVuSans-99\"/>\n      <use x=\"340.087891\" xlink:href=\"#DejaVuSans-99\"/>\n     </g>\n    </g>\n   </g>\n  </g>\n </g>\n <defs>\n  <clipPath id=\"p58ec6ff2de\">\n   <rect height=\"135.9\" width=\"195.3\" x=\"30.103125\" y=\"7.2\"/>\n  </clipPath>\n </defs>\n</svg>\n",
            "text/plain": [
              "<Figure size 252x180 with 1 Axes>"
            ]
          },
          "metadata": {
            "needs_background": "light",
            "tags": []
          },
          "output_type": "display_data"
        }
      ],
      "source": [
        "num_epochs = 100\n",
        "train_ch3(net, train_iter, test_iter, cross_entropy, num_epochs, updater)"
      ]
    },
    {
      "cell_type": "markdown",
      "metadata": {
        "id": "KL-Xj6EImYnQ"
      },
      "source": [
        "3.6.7. Prediction"
      ]
    },
    {
      "cell_type": "code",
      "execution_count": 125,
      "metadata": {
        "colab": {
          "base_uri": "https://localhost:8080/",
          "height": 235
        },
        "id": "6rk7b2aZmX5D",
        "outputId": "202ae6b7-04df-4e46-e4e5-0086ad6af5f1"
      },
      "outputs": [
        {
          "name": "stderr",
          "output_type": "stream",
          "text": [
            "/usr/local/lib/python3.7/dist-packages/torch/utils/data/dataloader.py:477: UserWarning: This DataLoader will create 4 worker processes in total. Our suggested max number of worker in current system is 2, which is smaller than what this DataLoader is going to create. Please be aware that excessive worker creation might get DataLoader running slow or even freeze, lower the worker number to avoid potential slowness/freeze if necessary.\n",
            "  cpuset_checked))\n"
          ]
        },
        {
          "data": {
            "image/svg+xml": "<?xml version=\"1.0\" encoding=\"utf-8\" standalone=\"no\"?>\n<!DOCTYPE svg PUBLIC \"-//W3C//DTD SVG 1.1//EN\"\n  \"http://www.w3.org/Graphics/SVG/1.1/DTD/svg11.dtd\">\n<!-- Created with matplotlib (https://matplotlib.org/) -->\n<svg height=\"118.198357pt\" version=\"1.1\" viewBox=\"0 0 520.1 118.198357\" width=\"520.1pt\" xmlns=\"http://www.w3.org/2000/svg\" xmlns:xlink=\"http://www.w3.org/1999/xlink\">\n <defs>\n  <style type=\"text/css\">\n*{stroke-linecap:butt;stroke-linejoin:round;}\n  </style>\n </defs>\n <g id=\"figure_1\">\n  <g id=\"patch_1\">\n   <path d=\"M 0 118.198357 \nL 520.1 118.198357 \nL 520.1 0 \nL 0 0 \nz\n\" style=\"fill:none;\"/>\n  </g>\n  <g id=\"axes_1\">\n   <g id=\"patch_2\">\n    <path d=\"M 10.7 107.498357 \nL 82.442857 107.498357 \nL 82.442857 35.7555 \nL 10.7 35.7555 \nz\n\" style=\"fill:#ffffff;\"/>\n   </g>\n   <g clip-path=\"url(#p1c9b82d5dc)\">\n    <image height=\"72\" id=\"image5df475ee3b\" transform=\"scale(1 -1)translate(0 -72)\" width=\"72\" x=\"10.7\" xlink:href=\"data:image/png;base64,\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\" y=\"-35.498357\"/>\n   </g>\n   <g id=\"patch_3\">\n    <path d=\"M 10.7 107.498357 \nL 10.7 35.7555 \n\" style=\"fill:none;stroke:#000000;stroke-linecap:square;stroke-linejoin:miter;stroke-width:0.8;\"/>\n   </g>\n   <g id=\"patch_4\">\n    <path d=\"M 82.442857 107.498357 \nL 82.442857 35.7555 \n\" style=\"fill:none;stroke:#000000;stroke-linecap:square;stroke-linejoin:miter;stroke-width:0.8;\"/>\n   </g>\n   <g id=\"patch_5\">\n    <path d=\"M 10.7 107.498357 \nL 82.442857 107.498357 \n\" style=\"fill:none;stroke:#000000;stroke-linecap:square;stroke-linejoin:miter;stroke-width:0.8;\"/>\n   </g>\n   <g id=\"patch_6\">\n    <path d=\"M 10.7 35.7555 \nL 82.442857 35.7555 \n\" style=\"fill:none;stroke:#000000;stroke-linecap:square;stroke-linejoin:miter;stroke-width:0.8;\"/>\n   </g>\n   <g id=\"text_1\">\n    <!-- ankle boot -->\n    <defs>\n     <path d=\"M 34.28125 27.484375 \nQ 23.390625 27.484375 19.1875 25 \nQ 14.984375 22.515625 14.984375 16.5 \nQ 14.984375 11.71875 18.140625 8.90625 \nQ 21.296875 6.109375 26.703125 6.109375 \nQ 34.1875 6.109375 38.703125 11.40625 \nQ 43.21875 16.703125 43.21875 25.484375 \nL 43.21875 27.484375 \nz\nM 52.203125 31.203125 \nL 52.203125 0 \nL 43.21875 0 \nL 43.21875 8.296875 \nQ 40.140625 3.328125 35.546875 0.953125 \nQ 30.953125 -1.421875 24.3125 -1.421875 \nQ 15.921875 -1.421875 10.953125 3.296875 \nQ 6 8.015625 6 15.921875 \nQ 6 25.140625 12.171875 29.828125 \nQ 18.359375 34.515625 30.609375 34.515625 \nL 43.21875 34.515625 \nL 43.21875 35.40625 \nQ 43.21875 41.609375 39.140625 45 \nQ 35.0625 48.390625 27.6875 48.390625 \nQ 23 48.390625 18.546875 47.265625 \nQ 14.109375 46.140625 10.015625 43.890625 \nL 10.015625 52.203125 \nQ 14.9375 54.109375 19.578125 55.046875 \nQ 24.21875 56 28.609375 56 \nQ 40.484375 56 46.34375 49.84375 \nQ 52.203125 43.703125 52.203125 31.203125 \nz\n\" id=\"DejaVuSans-97\"/>\n     <path d=\"M 54.890625 33.015625 \nL 54.890625 0 \nL 45.90625 0 \nL 45.90625 32.71875 \nQ 45.90625 40.484375 42.875 44.328125 \nQ 39.84375 48.1875 33.796875 48.1875 \nQ 26.515625 48.1875 22.3125 43.546875 \nQ 18.109375 38.921875 18.109375 30.90625 \nL 18.109375 0 \nL 9.078125 0 \nL 9.078125 54.6875 \nL 18.109375 54.6875 \nL 18.109375 46.1875 \nQ 21.34375 51.125 25.703125 53.5625 \nQ 30.078125 56 35.796875 56 \nQ 45.21875 56 50.046875 50.171875 \nQ 54.890625 44.34375 54.890625 33.015625 \nz\n\" id=\"DejaVuSans-110\"/>\n     <path d=\"M 9.078125 75.984375 \nL 18.109375 75.984375 \nL 18.109375 31.109375 \nL 44.921875 54.6875 \nL 56.390625 54.6875 \nL 27.390625 29.109375 \nL 57.625 0 \nL 45.90625 0 \nL 18.109375 26.703125 \nL 18.109375 0 \nL 9.078125 0 \nz\n\" id=\"DejaVuSans-107\"/>\n     <path d=\"M 9.421875 75.984375 \nL 18.40625 75.984375 \nL 18.40625 0 \nL 9.421875 0 \nz\n\" id=\"DejaVuSans-108\"/>\n     <path d=\"M 56.203125 29.59375 \nL 56.203125 25.203125 \nL 14.890625 25.203125 \nQ 15.484375 15.921875 20.484375 11.0625 \nQ 25.484375 6.203125 34.421875 6.203125 \nQ 39.59375 6.203125 44.453125 7.46875 \nQ 49.3125 8.734375 54.109375 11.28125 \nL 54.109375 2.78125 \nQ 49.265625 0.734375 44.1875 -0.34375 \nQ 39.109375 -1.421875 33.890625 -1.421875 \nQ 20.796875 -1.421875 13.15625 6.1875 \nQ 5.515625 13.8125 5.515625 26.8125 \nQ 5.515625 40.234375 12.765625 48.109375 \nQ 20.015625 56 32.328125 56 \nQ 43.359375 56 49.78125 48.890625 \nQ 56.203125 41.796875 56.203125 29.59375 \nz\nM 47.21875 32.234375 \nQ 47.125 39.59375 43.09375 43.984375 \nQ 39.0625 48.390625 32.421875 48.390625 \nQ 24.90625 48.390625 20.390625 44.140625 \nQ 15.875 39.890625 15.1875 32.171875 \nz\n\" id=\"DejaVuSans-101\"/>\n     <path id=\"DejaVuSans-32\"/>\n     <path d=\"M 48.6875 27.296875 \nQ 48.6875 37.203125 44.609375 42.84375 \nQ 40.53125 48.484375 33.40625 48.484375 \nQ 26.265625 48.484375 22.1875 42.84375 \nQ 18.109375 37.203125 18.109375 27.296875 \nQ 18.109375 17.390625 22.1875 11.75 \nQ 26.265625 6.109375 33.40625 6.109375 \nQ 40.53125 6.109375 44.609375 11.75 \nQ 48.6875 17.390625 48.6875 27.296875 \nz\nM 18.109375 46.390625 \nQ 20.953125 51.265625 25.265625 53.625 \nQ 29.59375 56 35.59375 56 \nQ 45.5625 56 51.78125 48.09375 \nQ 58.015625 40.1875 58.015625 27.296875 \nQ 58.015625 14.40625 51.78125 6.484375 \nQ 45.5625 -1.421875 35.59375 -1.421875 \nQ 29.59375 -1.421875 25.265625 0.953125 \nQ 20.953125 3.328125 18.109375 8.203125 \nL 18.109375 0 \nL 9.078125 0 \nL 9.078125 75.984375 \nL 18.109375 75.984375 \nz\n\" id=\"DejaVuSans-98\"/>\n     <path d=\"M 30.609375 48.390625 \nQ 23.390625 48.390625 19.1875 42.75 \nQ 14.984375 37.109375 14.984375 27.296875 \nQ 14.984375 17.484375 19.15625 11.84375 \nQ 23.34375 6.203125 30.609375 6.203125 \nQ 37.796875 6.203125 41.984375 11.859375 \nQ 46.1875 17.53125 46.1875 27.296875 \nQ 46.1875 37.015625 41.984375 42.703125 \nQ 37.796875 48.390625 30.609375 48.390625 \nz\nM 30.609375 56 \nQ 42.328125 56 49.015625 48.375 \nQ 55.71875 40.765625 55.71875 27.296875 \nQ 55.71875 13.875 49.015625 6.21875 \nQ 42.328125 -1.421875 30.609375 -1.421875 \nQ 18.84375 -1.421875 12.171875 6.21875 \nQ 5.515625 13.875 5.515625 27.296875 \nQ 5.515625 40.765625 12.171875 48.375 \nQ 18.84375 56 30.609375 56 \nz\n\" id=\"DejaVuSans-111\"/>\n     <path d=\"M 18.3125 70.21875 \nL 18.3125 54.6875 \nL 36.8125 54.6875 \nL 36.8125 47.703125 \nL 18.3125 47.703125 \nL 18.3125 18.015625 \nQ 18.3125 11.328125 20.140625 9.421875 \nQ 21.96875 7.515625 27.59375 7.515625 \nL 36.8125 7.515625 \nL 36.8125 0 \nL 27.59375 0 \nQ 17.1875 0 13.234375 3.875 \nQ 9.28125 7.765625 9.28125 18.015625 \nL 9.28125 47.703125 \nL 2.6875 47.703125 \nL 2.6875 54.6875 \nL 9.28125 54.6875 \nL 9.28125 70.21875 \nz\n\" id=\"DejaVuSans-116\"/>\n    </defs>\n    <g transform=\"translate(14.848304 16.318125)scale(0.12 -0.12)\">\n     <use xlink:href=\"#DejaVuSans-97\"/>\n     <use x=\"61.279297\" xlink:href=\"#DejaVuSans-110\"/>\n     <use x=\"124.658203\" xlink:href=\"#DejaVuSans-107\"/>\n     <use x=\"182.568359\" xlink:href=\"#DejaVuSans-108\"/>\n     <use x=\"210.351562\" xlink:href=\"#DejaVuSans-101\"/>\n     <use x=\"271.875\" xlink:href=\"#DejaVuSans-32\"/>\n     <use x=\"303.662109\" xlink:href=\"#DejaVuSans-98\"/>\n     <use x=\"367.138672\" xlink:href=\"#DejaVuSans-111\"/>\n     <use x=\"428.320312\" xlink:href=\"#DejaVuSans-111\"/>\n     <use x=\"489.501953\" xlink:href=\"#DejaVuSans-116\"/>\n    </g>\n    <!-- ankle boot -->\n    <g transform=\"translate(14.848304 29.7555)scale(0.12 -0.12)\">\n     <use xlink:href=\"#DejaVuSans-97\"/>\n     <use x=\"61.279297\" xlink:href=\"#DejaVuSans-110\"/>\n     <use x=\"124.658203\" xlink:href=\"#DejaVuSans-107\"/>\n     <use x=\"182.568359\" xlink:href=\"#DejaVuSans-108\"/>\n     <use x=\"210.351562\" xlink:href=\"#DejaVuSans-101\"/>\n     <use x=\"271.875\" xlink:href=\"#DejaVuSans-32\"/>\n     <use x=\"303.662109\" xlink:href=\"#DejaVuSans-98\"/>\n     <use x=\"367.138672\" xlink:href=\"#DejaVuSans-111\"/>\n     <use x=\"428.320312\" xlink:href=\"#DejaVuSans-111\"/>\n     <use x=\"489.501953\" xlink:href=\"#DejaVuSans-116\"/>\n    </g>\n   </g>\n  </g>\n  <g id=\"axes_2\">\n   <g id=\"patch_7\">\n    <path d=\"M 96.791429 107.498357 \nL 168.534286 107.498357 \nL 168.534286 35.7555 \nL 96.791429 35.7555 \nz\n\" style=\"fill:#ffffff;\"/>\n   </g>\n   <g clip-path=\"url(#pd74e8c4d1e)\">\n    <image height=\"72\" id=\"imagee0df66899c\" transform=\"scale(1 -1)translate(0 -72)\" width=\"72\" x=\"96.791429\" xlink:href=\"data:image/png;base64,\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\" y=\"-35.498357\"/>\n   </g>\n   <g id=\"patch_8\">\n    <path d=\"M 96.791429 107.498357 \nL 96.791429 35.7555 \n\" style=\"fill:none;stroke:#000000;stroke-linecap:square;stroke-linejoin:miter;stroke-width:0.8;\"/>\n   </g>\n   <g id=\"patch_9\">\n    <path d=\"M 168.534286 107.498357 \nL 168.534286 35.7555 \n\" style=\"fill:none;stroke:#000000;stroke-linecap:square;stroke-linejoin:miter;stroke-width:0.8;\"/>\n   </g>\n   <g id=\"patch_10\">\n    <path d=\"M 96.791429 107.498357 \nL 168.534286 107.498357 \n\" style=\"fill:none;stroke:#000000;stroke-linecap:square;stroke-linejoin:miter;stroke-width:0.8;\"/>\n   </g>\n   <g id=\"patch_11\">\n    <path d=\"M 96.791429 35.7555 \nL 168.534286 35.7555 \n\" style=\"fill:none;stroke:#000000;stroke-linecap:square;stroke-linejoin:miter;stroke-width:0.8;\"/>\n   </g>\n   <g id=\"text_2\">\n    <!-- pullover -->\n    <defs>\n     <path d=\"M 18.109375 8.203125 \nL 18.109375 -20.796875 \nL 9.078125 -20.796875 \nL 9.078125 54.6875 \nL 18.109375 54.6875 \nL 18.109375 46.390625 \nQ 20.953125 51.265625 25.265625 53.625 \nQ 29.59375 56 35.59375 56 \nQ 45.5625 56 51.78125 48.09375 \nQ 58.015625 40.1875 58.015625 27.296875 \nQ 58.015625 14.40625 51.78125 6.484375 \nQ 45.5625 -1.421875 35.59375 -1.421875 \nQ 29.59375 -1.421875 25.265625 0.953125 \nQ 20.953125 3.328125 18.109375 8.203125 \nz\nM 48.6875 27.296875 \nQ 48.6875 37.203125 44.609375 42.84375 \nQ 40.53125 48.484375 33.40625 48.484375 \nQ 26.265625 48.484375 22.1875 42.84375 \nQ 18.109375 37.203125 18.109375 27.296875 \nQ 18.109375 17.390625 22.1875 11.75 \nQ 26.265625 6.109375 33.40625 6.109375 \nQ 40.53125 6.109375 44.609375 11.75 \nQ 48.6875 17.390625 48.6875 27.296875 \nz\n\" id=\"DejaVuSans-112\"/>\n     <path d=\"M 8.5 21.578125 \nL 8.5 54.6875 \nL 17.484375 54.6875 \nL 17.484375 21.921875 \nQ 17.484375 14.15625 20.5 10.265625 \nQ 23.53125 6.390625 29.59375 6.390625 \nQ 36.859375 6.390625 41.078125 11.03125 \nQ 45.3125 15.671875 45.3125 23.6875 \nL 45.3125 54.6875 \nL 54.296875 54.6875 \nL 54.296875 0 \nL 45.3125 0 \nL 45.3125 8.40625 \nQ 42.046875 3.421875 37.71875 1 \nQ 33.40625 -1.421875 27.6875 -1.421875 \nQ 18.265625 -1.421875 13.375 4.4375 \nQ 8.5 10.296875 8.5 21.578125 \nz\nM 31.109375 56 \nz\n\" id=\"DejaVuSans-117\"/>\n     <path d=\"M 2.984375 54.6875 \nL 12.5 54.6875 \nL 29.59375 8.796875 \nL 46.6875 54.6875 \nL 56.203125 54.6875 \nL 35.6875 0 \nL 23.484375 0 \nz\n\" id=\"DejaVuSans-118\"/>\n     <path d=\"M 41.109375 46.296875 \nQ 39.59375 47.171875 37.8125 47.578125 \nQ 36.03125 48 33.890625 48 \nQ 26.265625 48 22.1875 43.046875 \nQ 18.109375 38.09375 18.109375 28.8125 \nL 18.109375 0 \nL 9.078125 0 \nL 9.078125 54.6875 \nL 18.109375 54.6875 \nL 18.109375 46.1875 \nQ 20.953125 51.171875 25.484375 53.578125 \nQ 30.03125 56 36.53125 56 \nQ 37.453125 56 38.578125 55.875 \nQ 39.703125 55.765625 41.0625 55.515625 \nz\n\" id=\"DejaVuSans-114\"/>\n    </defs>\n    <g transform=\"translate(108.336607 16.318125)scale(0.12 -0.12)\">\n     <use xlink:href=\"#DejaVuSans-112\"/>\n     <use x=\"63.476562\" xlink:href=\"#DejaVuSans-117\"/>\n     <use x=\"126.855469\" xlink:href=\"#DejaVuSans-108\"/>\n     <use x=\"154.638672\" xlink:href=\"#DejaVuSans-108\"/>\n     <use x=\"182.421875\" xlink:href=\"#DejaVuSans-111\"/>\n     <use x=\"243.603516\" xlink:href=\"#DejaVuSans-118\"/>\n     <use x=\"302.783203\" xlink:href=\"#DejaVuSans-101\"/>\n     <use x=\"364.306641\" xlink:href=\"#DejaVuSans-114\"/>\n    </g>\n    <!-- pullover -->\n    <g transform=\"translate(108.336607 29.7555)scale(0.12 -0.12)\">\n     <use xlink:href=\"#DejaVuSans-112\"/>\n     <use x=\"63.476562\" xlink:href=\"#DejaVuSans-117\"/>\n     <use x=\"126.855469\" xlink:href=\"#DejaVuSans-108\"/>\n     <use x=\"154.638672\" xlink:href=\"#DejaVuSans-108\"/>\n     <use x=\"182.421875\" xlink:href=\"#DejaVuSans-111\"/>\n     <use x=\"243.603516\" xlink:href=\"#DejaVuSans-118\"/>\n     <use x=\"302.783203\" xlink:href=\"#DejaVuSans-101\"/>\n     <use x=\"364.306641\" xlink:href=\"#DejaVuSans-114\"/>\n    </g>\n   </g>\n  </g>\n  <g id=\"axes_3\">\n   <g id=\"patch_12\">\n    <path d=\"M 182.882857 107.498357 \nL 254.625714 107.498357 \nL 254.625714 35.7555 \nL 182.882857 35.7555 \nz\n\" style=\"fill:#ffffff;\"/>\n   </g>\n   <g clip-path=\"url(#p034a821e7e)\">\n    <image height=\"72\" id=\"imagec6f7b5945c\" transform=\"scale(1 -1)translate(0 -72)\" width=\"72\" x=\"182.882857\" xlink:href=\"data:image/png;base64,\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\" y=\"-35.498357\"/>\n   </g>\n   <g id=\"patch_13\">\n    <path d=\"M 182.882857 107.498357 \nL 182.882857 35.7555 \n\" style=\"fill:none;stroke:#000000;stroke-linecap:square;stroke-linejoin:miter;stroke-width:0.8;\"/>\n   </g>\n   <g id=\"patch_14\">\n    <path d=\"M 254.625714 107.498357 \nL 254.625714 35.7555 \n\" style=\"fill:none;stroke:#000000;stroke-linecap:square;stroke-linejoin:miter;stroke-width:0.8;\"/>\n   </g>\n   <g id=\"patch_15\">\n    <path d=\"M 182.882857 107.498357 \nL 254.625714 107.498357 \n\" style=\"fill:none;stroke:#000000;stroke-linecap:square;stroke-linejoin:miter;stroke-width:0.8;\"/>\n   </g>\n   <g id=\"patch_16\">\n    <path d=\"M 182.882857 35.7555 \nL 254.625714 35.7555 \n\" style=\"fill:none;stroke:#000000;stroke-linecap:square;stroke-linejoin:miter;stroke-width:0.8;\"/>\n   </g>\n   <g id=\"text_3\">\n    <!-- trouser -->\n    <defs>\n     <path d=\"M 44.28125 53.078125 \nL 44.28125 44.578125 \nQ 40.484375 46.53125 36.375 47.5 \nQ 32.28125 48.484375 27.875 48.484375 \nQ 21.1875 48.484375 17.84375 46.4375 \nQ 14.5 44.390625 14.5 40.28125 \nQ 14.5 37.15625 16.890625 35.375 \nQ 19.28125 33.59375 26.515625 31.984375 \nL 29.59375 31.296875 \nQ 39.15625 29.25 43.1875 25.515625 \nQ 47.21875 21.78125 47.21875 15.09375 \nQ 47.21875 7.46875 41.1875 3.015625 \nQ 35.15625 -1.421875 24.609375 -1.421875 \nQ 20.21875 -1.421875 15.453125 -0.5625 \nQ 10.6875 0.296875 5.421875 2 \nL 5.421875 11.28125 \nQ 10.40625 8.6875 15.234375 7.390625 \nQ 20.0625 6.109375 24.8125 6.109375 \nQ 31.15625 6.109375 34.5625 8.28125 \nQ 37.984375 10.453125 37.984375 14.40625 \nQ 37.984375 18.0625 35.515625 20.015625 \nQ 33.0625 21.96875 24.703125 23.78125 \nL 21.578125 24.515625 \nQ 13.234375 26.265625 9.515625 29.90625 \nQ 5.8125 33.546875 5.8125 39.890625 \nQ 5.8125 47.609375 11.28125 51.796875 \nQ 16.75 56 26.8125 56 \nQ 31.78125 56 36.171875 55.265625 \nQ 40.578125 54.546875 44.28125 53.078125 \nz\n\" id=\"DejaVuSans-115\"/>\n    </defs>\n    <g transform=\"translate(197.312723 16.318125)scale(0.12 -0.12)\">\n     <use xlink:href=\"#DejaVuSans-116\"/>\n     <use x=\"39.208984\" xlink:href=\"#DejaVuSans-114\"/>\n     <use x=\"78.072266\" xlink:href=\"#DejaVuSans-111\"/>\n     <use x=\"139.253906\" xlink:href=\"#DejaVuSans-117\"/>\n     <use x=\"202.632812\" xlink:href=\"#DejaVuSans-115\"/>\n     <use x=\"254.732422\" xlink:href=\"#DejaVuSans-101\"/>\n     <use x=\"316.255859\" xlink:href=\"#DejaVuSans-114\"/>\n    </g>\n    <!-- trouser -->\n    <g transform=\"translate(197.312723 29.7555)scale(0.12 -0.12)\">\n     <use xlink:href=\"#DejaVuSans-116\"/>\n     <use x=\"39.208984\" xlink:href=\"#DejaVuSans-114\"/>\n     <use x=\"78.072266\" xlink:href=\"#DejaVuSans-111\"/>\n     <use x=\"139.253906\" xlink:href=\"#DejaVuSans-117\"/>\n     <use x=\"202.632812\" xlink:href=\"#DejaVuSans-115\"/>\n     <use x=\"254.732422\" xlink:href=\"#DejaVuSans-101\"/>\n     <use x=\"316.255859\" xlink:href=\"#DejaVuSans-114\"/>\n    </g>\n   </g>\n  </g>\n  <g id=\"axes_4\">\n   <g id=\"patch_17\">\n    <path d=\"M 268.974286 107.498357 \nL 340.717143 107.498357 \nL 340.717143 35.7555 \nL 268.974286 35.7555 \nz\n\" style=\"fill:#ffffff;\"/>\n   </g>\n   <g clip-path=\"url(#p3d6b6171dd)\">\n    <image height=\"72\" id=\"imagecbc37301d4\" transform=\"scale(1 -1)translate(0 -72)\" width=\"72\" x=\"268.974286\" xlink:href=\"data:image/png;base64,\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\" y=\"-35.498357\"/>\n   </g>\n   <g id=\"patch_18\">\n    <path d=\"M 268.974286 107.498357 \nL 268.974286 35.7555 \n\" style=\"fill:none;stroke:#000000;stroke-linecap:square;stroke-linejoin:miter;stroke-width:0.8;\"/>\n   </g>\n   <g id=\"patch_19\">\n    <path d=\"M 340.717143 107.498357 \nL 340.717143 35.7555 \n\" style=\"fill:none;stroke:#000000;stroke-linecap:square;stroke-linejoin:miter;stroke-width:0.8;\"/>\n   </g>\n   <g id=\"patch_20\">\n    <path d=\"M 268.974286 107.498357 \nL 340.717143 107.498357 \n\" style=\"fill:none;stroke:#000000;stroke-linecap:square;stroke-linejoin:miter;stroke-width:0.8;\"/>\n   </g>\n   <g id=\"patch_21\">\n    <path d=\"M 268.974286 35.7555 \nL 340.717143 35.7555 \n\" style=\"fill:none;stroke:#000000;stroke-linecap:square;stroke-linejoin:miter;stroke-width:0.8;\"/>\n   </g>\n   <g id=\"text_4\">\n    <!-- trouser -->\n    <g transform=\"translate(283.404152 16.318125)scale(0.12 -0.12)\">\n     <use xlink:href=\"#DejaVuSans-116\"/>\n     <use x=\"39.208984\" xlink:href=\"#DejaVuSans-114\"/>\n     <use x=\"78.072266\" xlink:href=\"#DejaVuSans-111\"/>\n     <use x=\"139.253906\" xlink:href=\"#DejaVuSans-117\"/>\n     <use x=\"202.632812\" xlink:href=\"#DejaVuSans-115\"/>\n     <use x=\"254.732422\" xlink:href=\"#DejaVuSans-101\"/>\n     <use x=\"316.255859\" xlink:href=\"#DejaVuSans-114\"/>\n    </g>\n    <!-- trouser -->\n    <g transform=\"translate(283.404152 29.7555)scale(0.12 -0.12)\">\n     <use xlink:href=\"#DejaVuSans-116\"/>\n     <use x=\"39.208984\" xlink:href=\"#DejaVuSans-114\"/>\n     <use x=\"78.072266\" xlink:href=\"#DejaVuSans-111\"/>\n     <use x=\"139.253906\" xlink:href=\"#DejaVuSans-117\"/>\n     <use x=\"202.632812\" xlink:href=\"#DejaVuSans-115\"/>\n     <use x=\"254.732422\" xlink:href=\"#DejaVuSans-101\"/>\n     <use x=\"316.255859\" xlink:href=\"#DejaVuSans-114\"/>\n    </g>\n   </g>\n  </g>\n  <g id=\"axes_5\">\n   <g id=\"patch_22\">\n    <path d=\"M 355.065714 107.498357 \nL 426.808571 107.498357 \nL 426.808571 35.7555 \nL 355.065714 35.7555 \nz\n\" style=\"fill:#ffffff;\"/>\n   </g>\n   <g clip-path=\"url(#pd6e3e5bc12)\">\n    <image height=\"72\" id=\"image1f9612125e\" transform=\"scale(1 -1)translate(0 -72)\" width=\"72\" x=\"355.065714\" xlink:href=\"data:image/png;base64,\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\" y=\"-35.498357\"/>\n   </g>\n   <g id=\"patch_23\">\n    <path d=\"M 355.065714 107.498357 \nL 355.065714 35.7555 \n\" style=\"fill:none;stroke:#000000;stroke-linecap:square;stroke-linejoin:miter;stroke-width:0.8;\"/>\n   </g>\n   <g id=\"patch_24\">\n    <path d=\"M 426.808571 107.498357 \nL 426.808571 35.7555 \n\" style=\"fill:none;stroke:#000000;stroke-linecap:square;stroke-linejoin:miter;stroke-width:0.8;\"/>\n   </g>\n   <g id=\"patch_25\">\n    <path d=\"M 355.065714 107.498357 \nL 426.808571 107.498357 \n\" style=\"fill:none;stroke:#000000;stroke-linecap:square;stroke-linejoin:miter;stroke-width:0.8;\"/>\n   </g>\n   <g id=\"patch_26\">\n    <path d=\"M 355.065714 35.7555 \nL 426.808571 35.7555 \n\" style=\"fill:none;stroke:#000000;stroke-linecap:square;stroke-linejoin:miter;stroke-width:0.8;\"/>\n   </g>\n   <g id=\"text_5\">\n    <!-- shirt -->\n    <defs>\n     <path d=\"M 54.890625 33.015625 \nL 54.890625 0 \nL 45.90625 0 \nL 45.90625 32.71875 \nQ 45.90625 40.484375 42.875 44.328125 \nQ 39.84375 48.1875 33.796875 48.1875 \nQ 26.515625 48.1875 22.3125 43.546875 \nQ 18.109375 38.921875 18.109375 30.90625 \nL 18.109375 0 \nL 9.078125 0 \nL 9.078125 75.984375 \nL 18.109375 75.984375 \nL 18.109375 46.1875 \nQ 21.34375 51.125 25.703125 53.5625 \nQ 30.078125 56 35.796875 56 \nQ 45.21875 56 50.046875 50.171875 \nQ 54.890625 44.34375 54.890625 33.015625 \nz\n\" id=\"DejaVuSans-104\"/>\n     <path d=\"M 9.421875 54.6875 \nL 18.40625 54.6875 \nL 18.40625 0 \nL 9.421875 0 \nz\nM 9.421875 75.984375 \nL 18.40625 75.984375 \nL 18.40625 64.59375 \nL 9.421875 64.59375 \nz\n\" id=\"DejaVuSans-105\"/>\n    </defs>\n    <g transform=\"translate(377.523393 16.318125)scale(0.12 -0.12)\">\n     <use xlink:href=\"#DejaVuSans-115\"/>\n     <use x=\"52.099609\" xlink:href=\"#DejaVuSans-104\"/>\n     <use x=\"115.478516\" xlink:href=\"#DejaVuSans-105\"/>\n     <use x=\"143.261719\" xlink:href=\"#DejaVuSans-114\"/>\n     <use x=\"184.375\" xlink:href=\"#DejaVuSans-116\"/>\n    </g>\n    <!-- shirt -->\n    <g transform=\"translate(377.523393 29.7555)scale(0.12 -0.12)\">\n     <use xlink:href=\"#DejaVuSans-115\"/>\n     <use x=\"52.099609\" xlink:href=\"#DejaVuSans-104\"/>\n     <use x=\"115.478516\" xlink:href=\"#DejaVuSans-105\"/>\n     <use x=\"143.261719\" xlink:href=\"#DejaVuSans-114\"/>\n     <use x=\"184.375\" xlink:href=\"#DejaVuSans-116\"/>\n    </g>\n   </g>\n  </g>\n  <g id=\"axes_6\">\n   <g id=\"patch_27\">\n    <path d=\"M 441.157143 107.498357 \nL 512.9 107.498357 \nL 512.9 35.7555 \nL 441.157143 35.7555 \nz\n\" style=\"fill:#ffffff;\"/>\n   </g>\n   <g clip-path=\"url(#p7a5c15f630)\">\n    <image height=\"72\" id=\"image865a171be6\" transform=\"scale(1 -1)translate(0 -72)\" width=\"72\" x=\"441.157143\" xlink:href=\"data:image/png;base64,\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\" y=\"-35.498357\"/>\n   </g>\n   <g id=\"patch_28\">\n    <path d=\"M 441.157143 107.498357 \nL 441.157143 35.7555 \n\" style=\"fill:none;stroke:#000000;stroke-linecap:square;stroke-linejoin:miter;stroke-width:0.8;\"/>\n   </g>\n   <g id=\"patch_29\">\n    <path d=\"M 512.9 107.498357 \nL 512.9 35.7555 \n\" style=\"fill:none;stroke:#000000;stroke-linecap:square;stroke-linejoin:miter;stroke-width:0.8;\"/>\n   </g>\n   <g id=\"patch_30\">\n    <path d=\"M 441.157143 107.498357 \nL 512.9 107.498357 \n\" style=\"fill:none;stroke:#000000;stroke-linecap:square;stroke-linejoin:miter;stroke-width:0.8;\"/>\n   </g>\n   <g id=\"patch_31\">\n    <path d=\"M 441.157143 35.7555 \nL 512.9 35.7555 \n\" style=\"fill:none;stroke:#000000;stroke-linecap:square;stroke-linejoin:miter;stroke-width:0.8;\"/>\n   </g>\n   <g id=\"text_6\">\n    <!-- trouser -->\n    <g transform=\"translate(455.587009 16.318125)scale(0.12 -0.12)\">\n     <use xlink:href=\"#DejaVuSans-116\"/>\n     <use x=\"39.208984\" xlink:href=\"#DejaVuSans-114\"/>\n     <use x=\"78.072266\" xlink:href=\"#DejaVuSans-111\"/>\n     <use x=\"139.253906\" xlink:href=\"#DejaVuSans-117\"/>\n     <use x=\"202.632812\" xlink:href=\"#DejaVuSans-115\"/>\n     <use x=\"254.732422\" xlink:href=\"#DejaVuSans-101\"/>\n     <use x=\"316.255859\" xlink:href=\"#DejaVuSans-114\"/>\n    </g>\n    <!-- trouser -->\n    <g transform=\"translate(455.587009 29.7555)scale(0.12 -0.12)\">\n     <use xlink:href=\"#DejaVuSans-116\"/>\n     <use x=\"39.208984\" xlink:href=\"#DejaVuSans-114\"/>\n     <use x=\"78.072266\" xlink:href=\"#DejaVuSans-111\"/>\n     <use x=\"139.253906\" xlink:href=\"#DejaVuSans-117\"/>\n     <use x=\"202.632812\" xlink:href=\"#DejaVuSans-115\"/>\n     <use x=\"254.732422\" xlink:href=\"#DejaVuSans-101\"/>\n     <use x=\"316.255859\" xlink:href=\"#DejaVuSans-114\"/>\n    </g>\n   </g>\n  </g>\n </g>\n <defs>\n  <clipPath id=\"p1c9b82d5dc\">\n   <rect height=\"71.742857\" width=\"71.742857\" x=\"10.7\" y=\"35.7555\"/>\n  </clipPath>\n  <clipPath id=\"pd74e8c4d1e\">\n   <rect height=\"71.742857\" width=\"71.742857\" x=\"96.791429\" y=\"35.7555\"/>\n  </clipPath>\n  <clipPath id=\"p034a821e7e\">\n   <rect height=\"71.742857\" width=\"71.742857\" x=\"182.882857\" y=\"35.7555\"/>\n  </clipPath>\n  <clipPath id=\"p3d6b6171dd\">\n   <rect height=\"71.742857\" width=\"71.742857\" x=\"268.974286\" y=\"35.7555\"/>\n  </clipPath>\n  <clipPath id=\"pd6e3e5bc12\">\n   <rect height=\"71.742857\" width=\"71.742857\" x=\"355.065714\" y=\"35.7555\"/>\n  </clipPath>\n  <clipPath id=\"p7a5c15f630\">\n   <rect height=\"71.742857\" width=\"71.742857\" x=\"441.157143\" y=\"35.7555\"/>\n  </clipPath>\n </defs>\n</svg>\n",
            "text/plain": [
              "<Figure size 648x108 with 6 Axes>"
            ]
          },
          "metadata": {
            "needs_background": "light",
            "tags": []
          },
          "output_type": "display_data"
        }
      ],
      "source": [
        "def predict_ch3(net, test_iter, n=6):  #@save\n",
        "    \"\"\"Predict labels (defined in Chapter 3).\"\"\"\n",
        "    for X, y in test_iter:\n",
        "        break\n",
        "    trues = d2l.get_fashion_mnist_labels(y)\n",
        "    preds = d2l.get_fashion_mnist_labels(net(X).argmax(axis=1))\n",
        "    titles = [true + '\\n' + pred for true, pred in zip(trues, preds)]\n",
        "    d2l.show_images(X[0:n].reshape((n, 28, 28)), 1, n, titles=titles[0:n])\n",
        "\n",
        "predict_ch3(net, test_iter)"
      ]
    },
    {
      "cell_type": "markdown",
      "metadata": {
        "id": "U8cVdLKUmfaE"
      },
      "source": [
        "softmax Regression의 모델을 정의하고 training 하는 과정이 실제로 크게 for loop를 통해 이뤄지고 정의해준 epoch수 만큼 train_epoch_ch3로 정의한 함수를 통해 훈련이 이뤄지는 것을 알게되었습니다. 또한 training 후에 실제로 모델이 Classfication 문제를 맞추는 것을 실제로 확인해보았습니다.softmax 모델을 정의할 때 softmax(torch.matmul(X.reshape((-1, W.shape[0])), W) + b) 에서 matmul에서 X의 shape을 W의 column개수와 맞춰주기 위해 (-1,W.shape)을 사용한 것을 알게 되었습니다. 이론에서 배운내용에 대해 필기한 것을 같이 보면서 실습 을 해봤는데 이해가 가지 않는 코드들이 있어서 다소 어려움이 있었지만 앞으로 sofmax Regression을 통해 classification 하는 모델을 만드는 것에 잘 활용할 수 있도록 계속 복습해야겠다고 생각했습니다."
      ]
    },
    {
      "cell_type": "markdown",
      "metadata": {
        "id": "OKsA1c0omfy5"
      },
      "source": [
        "3.7. Concise Implementation of Softmax Regression"
      ]
    },
    {
      "cell_type": "code",
      "execution_count": 157,
      "metadata": {
        "colab": {
          "base_uri": "https://localhost:8080/"
        },
        "id": "YCXPRbvvmypj",
        "outputId": "d2c78106-e1f7-46f7-a899-2af80ab90762"
      },
      "outputs": [
        {
          "name": "stderr",
          "output_type": "stream",
          "text": [
            "/usr/local/lib/python3.7/dist-packages/torch/utils/data/dataloader.py:477: UserWarning: This DataLoader will create 4 worker processes in total. Our suggested max number of worker in current system is 2, which is smaller than what this DataLoader is going to create. Please be aware that excessive worker creation might get DataLoader running slow or even freeze, lower the worker number to avoid potential slowness/freeze if necessary.\n",
            "  cpuset_checked))\n"
          ]
        }
      ],
      "source": [
        "import torch\n",
        "from torch import nn\n",
        "from d2l import torch as d2l\n",
        "\n",
        "batch_size = 300\n",
        "train_iter, test_iter = d2l.load_data_fashion_mnist(batch_size)"
      ]
    },
    {
      "cell_type": "markdown",
      "metadata": {
        "id": "P5DHyXQkmzuV"
      },
      "source": [
        "3.7.1. Initializing Model Parameters"
      ]
    },
    {
      "cell_type": "code",
      "execution_count": 158,
      "metadata": {
        "id": "Sodt8gt-m14s"
      },
      "outputs": [],
      "source": [
        "# PyTorch does not implicitly reshape the inputs. Thus we define the flatten\n",
        "# layer to reshape the inputs before the linear layer in our network\n",
        "net = nn.Sequential(nn.Flatten(), nn.Linear(784, 10))\n",
        "\n",
        "def init_weights(m):\n",
        "    if type(m) == nn.Linear:\n",
        "        nn.init.normal_(m.weight, std=0.01)\n",
        "\n",
        "net.apply(init_weights);"
      ]
    },
    {
      "cell_type": "markdown",
      "metadata": {
        "id": "aeeASYuIm4Av"
      },
      "source": [
        "3.7.2. Softmax Implementation Revisited"
      ]
    },
    {
      "cell_type": "code",
      "execution_count": 159,
      "metadata": {
        "id": "xfqY-wojm7u7"
      },
      "outputs": [],
      "source": [
        "loss = nn.CrossEntropyLoss()"
      ]
    },
    {
      "cell_type": "markdown",
      "metadata": {
        "id": "tbSOiOMrm9qg"
      },
      "source": [
        "3.7.3. Optimization Algorithm"
      ]
    },
    {
      "cell_type": "code",
      "execution_count": 160,
      "metadata": {
        "id": "r31M0RSKm_bR"
      },
      "outputs": [],
      "source": [
        "trainer = torch.optim.SGD(net.parameters(), lr=0.2)"
      ]
    },
    {
      "cell_type": "markdown",
      "metadata": {
        "id": "JpZ-OONMnCCO"
      },
      "source": [
        "3.7.4. Training"
      ]
    },
    {
      "cell_type": "code",
      "execution_count": 161,
      "metadata": {
        "colab": {
          "base_uri": "https://localhost:8080/",
          "height": 261
        },
        "id": "C_CJcPRdnEka",
        "outputId": "926dd11f-1b43-431e-b923-bfb55a0e9d4f"
      },
      "outputs": [
        {
          "data": {
            "image/svg+xml": "<?xml version=\"1.0\" encoding=\"utf-8\" standalone=\"no\"?>\n<!DOCTYPE svg PUBLIC \"-//W3C//DTD SVG 1.1//EN\"\n  \"http://www.w3.org/Graphics/SVG/1.1/DTD/svg11.dtd\">\n<!-- Created with matplotlib (https://matplotlib.org/) -->\n<svg height=\"180.65625pt\" version=\"1.1\" viewBox=\"0 0 243.735938 180.65625\" width=\"243.735938pt\" xmlns=\"http://www.w3.org/2000/svg\" xmlns:xlink=\"http://www.w3.org/1999/xlink\">\n <defs>\n  <style type=\"text/css\">\n*{stroke-linecap:butt;stroke-linejoin:round;}\n  </style>\n </defs>\n <g id=\"figure_1\">\n  <g id=\"patch_1\">\n   <path d=\"M 0 180.65625 \nL 243.735938 180.65625 \nL 243.735938 0 \nL 0 0 \nz\n\" style=\"fill:none;\"/>\n  </g>\n  <g id=\"axes_1\">\n   <g id=\"patch_2\">\n    <path d=\"M 30.103125 143.1 \nL 225.403125 143.1 \nL 225.403125 7.2 \nL 30.103125 7.2 \nz\n\" style=\"fill:#ffffff;\"/>\n   </g>\n   <g id=\"matplotlib.axis_1\">\n    <g id=\"xtick_1\">\n     <g id=\"line2d_1\">\n      <path clip-path=\"url(#pd4ca4b5a82)\" d=\"M 51.028125 143.1 \nL 51.028125 7.2 \n\" style=\"fill:none;stroke:#b0b0b0;stroke-linecap:square;stroke-width:0.8;\"/>\n     </g>\n     <g id=\"line2d_2\">\n      <defs>\n       <path d=\"M 0 0 \nL 0 3.5 \n\" id=\"mf797e3d5ca\" style=\"stroke:#000000;stroke-width:0.8;\"/>\n      </defs>\n      <g>\n       <use style=\"stroke:#000000;stroke-width:0.8;\" x=\"51.028125\" xlink:href=\"#mf797e3d5ca\" y=\"143.1\"/>\n      </g>\n     </g>\n     <g id=\"text_1\">\n      <!-- 2.5 -->\n      <defs>\n       <path d=\"M 19.1875 8.296875 \nL 53.609375 8.296875 \nL 53.609375 0 \nL 7.328125 0 \nL 7.328125 8.296875 \nQ 12.9375 14.109375 22.625 23.890625 \nQ 32.328125 33.6875 34.8125 36.53125 \nQ 39.546875 41.84375 41.421875 45.53125 \nQ 43.3125 49.21875 43.3125 52.78125 \nQ 43.3125 58.59375 39.234375 62.25 \nQ 35.15625 65.921875 28.609375 65.921875 \nQ 23.96875 65.921875 18.8125 64.3125 \nQ 13.671875 62.703125 7.8125 59.421875 \nL 7.8125 69.390625 \nQ 13.765625 71.78125 18.9375 73 \nQ 24.125 74.21875 28.421875 74.21875 \nQ 39.75 74.21875 46.484375 68.546875 \nQ 53.21875 62.890625 53.21875 53.421875 \nQ 53.21875 48.921875 51.53125 44.890625 \nQ 49.859375 40.875 45.40625 35.40625 \nQ 44.1875 33.984375 37.640625 27.21875 \nQ 31.109375 20.453125 19.1875 8.296875 \nz\n\" id=\"DejaVuSans-50\"/>\n       <path d=\"M 10.6875 12.40625 \nL 21 12.40625 \nL 21 0 \nL 10.6875 0 \nz\n\" id=\"DejaVuSans-46\"/>\n       <path d=\"M 10.796875 72.90625 \nL 49.515625 72.90625 \nL 49.515625 64.59375 \nL 19.828125 64.59375 \nL 19.828125 46.734375 \nQ 21.96875 47.46875 24.109375 47.828125 \nQ 26.265625 48.1875 28.421875 48.1875 \nQ 40.625 48.1875 47.75 41.5 \nQ 54.890625 34.8125 54.890625 23.390625 \nQ 54.890625 11.625 47.5625 5.09375 \nQ 40.234375 -1.421875 26.90625 -1.421875 \nQ 22.3125 -1.421875 17.546875 -0.640625 \nQ 12.796875 0.140625 7.71875 1.703125 \nL 7.71875 11.625 \nQ 12.109375 9.234375 16.796875 8.0625 \nQ 21.484375 6.890625 26.703125 6.890625 \nQ 35.15625 6.890625 40.078125 11.328125 \nQ 45.015625 15.765625 45.015625 23.390625 \nQ 45.015625 31 40.078125 35.4375 \nQ 35.15625 39.890625 26.703125 39.890625 \nQ 22.75 39.890625 18.8125 39.015625 \nQ 14.890625 38.140625 10.796875 36.28125 \nz\n\" id=\"DejaVuSans-53\"/>\n      </defs>\n      <g transform=\"translate(43.076563 157.698438)scale(0.1 -0.1)\">\n       <use xlink:href=\"#DejaVuSans-50\"/>\n       <use x=\"63.623047\" xlink:href=\"#DejaVuSans-46\"/>\n       <use x=\"95.410156\" xlink:href=\"#DejaVuSans-53\"/>\n      </g>\n     </g>\n    </g>\n    <g id=\"xtick_2\">\n     <g id=\"line2d_3\">\n      <path clip-path=\"url(#pd4ca4b5a82)\" d=\"M 85.903125 143.1 \nL 85.903125 7.2 \n\" style=\"fill:none;stroke:#b0b0b0;stroke-linecap:square;stroke-width:0.8;\"/>\n     </g>\n     <g id=\"line2d_4\">\n      <g>\n       <use style=\"stroke:#000000;stroke-width:0.8;\" x=\"85.903125\" xlink:href=\"#mf797e3d5ca\" y=\"143.1\"/>\n      </g>\n     </g>\n     <g id=\"text_2\">\n      <!-- 5.0 -->\n      <defs>\n       <path d=\"M 31.78125 66.40625 \nQ 24.171875 66.40625 20.328125 58.90625 \nQ 16.5 51.421875 16.5 36.375 \nQ 16.5 21.390625 20.328125 13.890625 \nQ 24.171875 6.390625 31.78125 6.390625 \nQ 39.453125 6.390625 43.28125 13.890625 \nQ 47.125 21.390625 47.125 36.375 \nQ 47.125 51.421875 43.28125 58.90625 \nQ 39.453125 66.40625 31.78125 66.40625 \nz\nM 31.78125 74.21875 \nQ 44.046875 74.21875 50.515625 64.515625 \nQ 56.984375 54.828125 56.984375 36.375 \nQ 56.984375 17.96875 50.515625 8.265625 \nQ 44.046875 -1.421875 31.78125 -1.421875 \nQ 19.53125 -1.421875 13.0625 8.265625 \nQ 6.59375 17.96875 6.59375 36.375 \nQ 6.59375 54.828125 13.0625 64.515625 \nQ 19.53125 74.21875 31.78125 74.21875 \nz\n\" id=\"DejaVuSans-48\"/>\n      </defs>\n      <g transform=\"translate(77.951563 157.698438)scale(0.1 -0.1)\">\n       <use xlink:href=\"#DejaVuSans-53\"/>\n       <use x=\"63.623047\" xlink:href=\"#DejaVuSans-46\"/>\n       <use x=\"95.410156\" xlink:href=\"#DejaVuSans-48\"/>\n      </g>\n     </g>\n    </g>\n    <g id=\"xtick_3\">\n     <g id=\"line2d_5\">\n      <path clip-path=\"url(#pd4ca4b5a82)\" d=\"M 120.778125 143.1 \nL 120.778125 7.2 \n\" style=\"fill:none;stroke:#b0b0b0;stroke-linecap:square;stroke-width:0.8;\"/>\n     </g>\n     <g id=\"line2d_6\">\n      <g>\n       <use style=\"stroke:#000000;stroke-width:0.8;\" x=\"120.778125\" xlink:href=\"#mf797e3d5ca\" y=\"143.1\"/>\n      </g>\n     </g>\n     <g id=\"text_3\">\n      <!-- 7.5 -->\n      <defs>\n       <path d=\"M 8.203125 72.90625 \nL 55.078125 72.90625 \nL 55.078125 68.703125 \nL 28.609375 0 \nL 18.3125 0 \nL 43.21875 64.59375 \nL 8.203125 64.59375 \nz\n\" id=\"DejaVuSans-55\"/>\n      </defs>\n      <g transform=\"translate(112.826563 157.698438)scale(0.1 -0.1)\">\n       <use xlink:href=\"#DejaVuSans-55\"/>\n       <use x=\"63.623047\" xlink:href=\"#DejaVuSans-46\"/>\n       <use x=\"95.410156\" xlink:href=\"#DejaVuSans-53\"/>\n      </g>\n     </g>\n    </g>\n    <g id=\"xtick_4\">\n     <g id=\"line2d_7\">\n      <path clip-path=\"url(#pd4ca4b5a82)\" d=\"M 155.653125 143.1 \nL 155.653125 7.2 \n\" style=\"fill:none;stroke:#b0b0b0;stroke-linecap:square;stroke-width:0.8;\"/>\n     </g>\n     <g id=\"line2d_8\">\n      <g>\n       <use style=\"stroke:#000000;stroke-width:0.8;\" x=\"155.653125\" xlink:href=\"#mf797e3d5ca\" y=\"143.1\"/>\n      </g>\n     </g>\n     <g id=\"text_4\">\n      <!-- 10.0 -->\n      <defs>\n       <path d=\"M 12.40625 8.296875 \nL 28.515625 8.296875 \nL 28.515625 63.921875 \nL 10.984375 60.40625 \nL 10.984375 69.390625 \nL 28.421875 72.90625 \nL 38.28125 72.90625 \nL 38.28125 8.296875 \nL 54.390625 8.296875 \nL 54.390625 0 \nL 12.40625 0 \nz\n\" id=\"DejaVuSans-49\"/>\n      </defs>\n      <g transform=\"translate(144.520312 157.698438)scale(0.1 -0.1)\">\n       <use xlink:href=\"#DejaVuSans-49\"/>\n       <use x=\"63.623047\" xlink:href=\"#DejaVuSans-48\"/>\n       <use x=\"127.246094\" xlink:href=\"#DejaVuSans-46\"/>\n       <use x=\"159.033203\" xlink:href=\"#DejaVuSans-48\"/>\n      </g>\n     </g>\n    </g>\n    <g id=\"xtick_5\">\n     <g id=\"line2d_9\">\n      <path clip-path=\"url(#pd4ca4b5a82)\" d=\"M 190.528125 143.1 \nL 190.528125 7.2 \n\" style=\"fill:none;stroke:#b0b0b0;stroke-linecap:square;stroke-width:0.8;\"/>\n     </g>\n     <g id=\"line2d_10\">\n      <g>\n       <use style=\"stroke:#000000;stroke-width:0.8;\" x=\"190.528125\" xlink:href=\"#mf797e3d5ca\" y=\"143.1\"/>\n      </g>\n     </g>\n     <g id=\"text_5\">\n      <!-- 12.5 -->\n      <g transform=\"translate(179.395312 157.698438)scale(0.1 -0.1)\">\n       <use xlink:href=\"#DejaVuSans-49\"/>\n       <use x=\"63.623047\" xlink:href=\"#DejaVuSans-50\"/>\n       <use x=\"127.246094\" xlink:href=\"#DejaVuSans-46\"/>\n       <use x=\"159.033203\" xlink:href=\"#DejaVuSans-53\"/>\n      </g>\n     </g>\n    </g>\n    <g id=\"xtick_6\">\n     <g id=\"line2d_11\">\n      <path clip-path=\"url(#pd4ca4b5a82)\" d=\"M 225.403125 143.1 \nL 225.403125 7.2 \n\" style=\"fill:none;stroke:#b0b0b0;stroke-linecap:square;stroke-width:0.8;\"/>\n     </g>\n     <g id=\"line2d_12\">\n      <g>\n       <use style=\"stroke:#000000;stroke-width:0.8;\" x=\"225.403125\" xlink:href=\"#mf797e3d5ca\" y=\"143.1\"/>\n      </g>\n     </g>\n     <g id=\"text_6\">\n      <!-- 15.0 -->\n      <g transform=\"translate(214.270312 157.698438)scale(0.1 -0.1)\">\n       <use xlink:href=\"#DejaVuSans-49\"/>\n       <use x=\"63.623047\" xlink:href=\"#DejaVuSans-53\"/>\n       <use x=\"127.246094\" xlink:href=\"#DejaVuSans-46\"/>\n       <use x=\"159.033203\" xlink:href=\"#DejaVuSans-48\"/>\n      </g>\n     </g>\n    </g>\n    <g id=\"text_7\">\n     <!-- epoch -->\n     <defs>\n      <path d=\"M 56.203125 29.59375 \nL 56.203125 25.203125 \nL 14.890625 25.203125 \nQ 15.484375 15.921875 20.484375 11.0625 \nQ 25.484375 6.203125 34.421875 6.203125 \nQ 39.59375 6.203125 44.453125 7.46875 \nQ 49.3125 8.734375 54.109375 11.28125 \nL 54.109375 2.78125 \nQ 49.265625 0.734375 44.1875 -0.34375 \nQ 39.109375 -1.421875 33.890625 -1.421875 \nQ 20.796875 -1.421875 13.15625 6.1875 \nQ 5.515625 13.8125 5.515625 26.8125 \nQ 5.515625 40.234375 12.765625 48.109375 \nQ 20.015625 56 32.328125 56 \nQ 43.359375 56 49.78125 48.890625 \nQ 56.203125 41.796875 56.203125 29.59375 \nz\nM 47.21875 32.234375 \nQ 47.125 39.59375 43.09375 43.984375 \nQ 39.0625 48.390625 32.421875 48.390625 \nQ 24.90625 48.390625 20.390625 44.140625 \nQ 15.875 39.890625 15.1875 32.171875 \nz\n\" id=\"DejaVuSans-101\"/>\n      <path d=\"M 18.109375 8.203125 \nL 18.109375 -20.796875 \nL 9.078125 -20.796875 \nL 9.078125 54.6875 \nL 18.109375 54.6875 \nL 18.109375 46.390625 \nQ 20.953125 51.265625 25.265625 53.625 \nQ 29.59375 56 35.59375 56 \nQ 45.5625 56 51.78125 48.09375 \nQ 58.015625 40.1875 58.015625 27.296875 \nQ 58.015625 14.40625 51.78125 6.484375 \nQ 45.5625 -1.421875 35.59375 -1.421875 \nQ 29.59375 -1.421875 25.265625 0.953125 \nQ 20.953125 3.328125 18.109375 8.203125 \nz\nM 48.6875 27.296875 \nQ 48.6875 37.203125 44.609375 42.84375 \nQ 40.53125 48.484375 33.40625 48.484375 \nQ 26.265625 48.484375 22.1875 42.84375 \nQ 18.109375 37.203125 18.109375 27.296875 \nQ 18.109375 17.390625 22.1875 11.75 \nQ 26.265625 6.109375 33.40625 6.109375 \nQ 40.53125 6.109375 44.609375 11.75 \nQ 48.6875 17.390625 48.6875 27.296875 \nz\n\" id=\"DejaVuSans-112\"/>\n      <path d=\"M 30.609375 48.390625 \nQ 23.390625 48.390625 19.1875 42.75 \nQ 14.984375 37.109375 14.984375 27.296875 \nQ 14.984375 17.484375 19.15625 11.84375 \nQ 23.34375 6.203125 30.609375 6.203125 \nQ 37.796875 6.203125 41.984375 11.859375 \nQ 46.1875 17.53125 46.1875 27.296875 \nQ 46.1875 37.015625 41.984375 42.703125 \nQ 37.796875 48.390625 30.609375 48.390625 \nz\nM 30.609375 56 \nQ 42.328125 56 49.015625 48.375 \nQ 55.71875 40.765625 55.71875 27.296875 \nQ 55.71875 13.875 49.015625 6.21875 \nQ 42.328125 -1.421875 30.609375 -1.421875 \nQ 18.84375 -1.421875 12.171875 6.21875 \nQ 5.515625 13.875 5.515625 27.296875 \nQ 5.515625 40.765625 12.171875 48.375 \nQ 18.84375 56 30.609375 56 \nz\n\" id=\"DejaVuSans-111\"/>\n      <path d=\"M 48.78125 52.59375 \nL 48.78125 44.1875 \nQ 44.96875 46.296875 41.140625 47.34375 \nQ 37.3125 48.390625 33.40625 48.390625 \nQ 24.65625 48.390625 19.8125 42.84375 \nQ 14.984375 37.3125 14.984375 27.296875 \nQ 14.984375 17.28125 19.8125 11.734375 \nQ 24.65625 6.203125 33.40625 6.203125 \nQ 37.3125 6.203125 41.140625 7.25 \nQ 44.96875 8.296875 48.78125 10.40625 \nL 48.78125 2.09375 \nQ 45.015625 0.34375 40.984375 -0.53125 \nQ 36.96875 -1.421875 32.421875 -1.421875 \nQ 20.0625 -1.421875 12.78125 6.34375 \nQ 5.515625 14.109375 5.515625 27.296875 \nQ 5.515625 40.671875 12.859375 48.328125 \nQ 20.21875 56 33.015625 56 \nQ 37.15625 56 41.109375 55.140625 \nQ 45.0625 54.296875 48.78125 52.59375 \nz\n\" id=\"DejaVuSans-99\"/>\n      <path d=\"M 54.890625 33.015625 \nL 54.890625 0 \nL 45.90625 0 \nL 45.90625 32.71875 \nQ 45.90625 40.484375 42.875 44.328125 \nQ 39.84375 48.1875 33.796875 48.1875 \nQ 26.515625 48.1875 22.3125 43.546875 \nQ 18.109375 38.921875 18.109375 30.90625 \nL 18.109375 0 \nL 9.078125 0 \nL 9.078125 75.984375 \nL 18.109375 75.984375 \nL 18.109375 46.1875 \nQ 21.34375 51.125 25.703125 53.5625 \nQ 30.078125 56 35.796875 56 \nQ 45.21875 56 50.046875 50.171875 \nQ 54.890625 44.34375 54.890625 33.015625 \nz\n\" id=\"DejaVuSans-104\"/>\n     </defs>\n     <g transform=\"translate(112.525 171.376563)scale(0.1 -0.1)\">\n      <use xlink:href=\"#DejaVuSans-101\"/>\n      <use x=\"61.523438\" xlink:href=\"#DejaVuSans-112\"/>\n      <use x=\"125\" xlink:href=\"#DejaVuSans-111\"/>\n      <use x=\"186.181641\" xlink:href=\"#DejaVuSans-99\"/>\n      <use x=\"241.162109\" xlink:href=\"#DejaVuSans-104\"/>\n     </g>\n    </g>\n   </g>\n   <g id=\"matplotlib.axis_2\">\n    <g id=\"ytick_1\">\n     <g id=\"line2d_13\">\n      <path clip-path=\"url(#pd4ca4b5a82)\" d=\"M 30.103125 120.45 \nL 225.403125 120.45 \n\" style=\"fill:none;stroke:#b0b0b0;stroke-linecap:square;stroke-width:0.8;\"/>\n     </g>\n     <g id=\"line2d_14\">\n      <defs>\n       <path d=\"M 0 0 \nL -3.5 0 \n\" id=\"m6acb81c130\" style=\"stroke:#000000;stroke-width:0.8;\"/>\n      </defs>\n      <g>\n       <use style=\"stroke:#000000;stroke-width:0.8;\" x=\"30.103125\" xlink:href=\"#m6acb81c130\" y=\"120.45\"/>\n      </g>\n     </g>\n     <g id=\"text_8\">\n      <!-- 0.4 -->\n      <defs>\n       <path d=\"M 37.796875 64.3125 \nL 12.890625 25.390625 \nL 37.796875 25.390625 \nz\nM 35.203125 72.90625 \nL 47.609375 72.90625 \nL 47.609375 25.390625 \nL 58.015625 25.390625 \nL 58.015625 17.1875 \nL 47.609375 17.1875 \nL 47.609375 0 \nL 37.796875 0 \nL 37.796875 17.1875 \nL 4.890625 17.1875 \nL 4.890625 26.703125 \nz\n\" id=\"DejaVuSans-52\"/>\n      </defs>\n      <g transform=\"translate(7.2 124.249219)scale(0.1 -0.1)\">\n       <use xlink:href=\"#DejaVuSans-48\"/>\n       <use x=\"63.623047\" xlink:href=\"#DejaVuSans-46\"/>\n       <use x=\"95.410156\" xlink:href=\"#DejaVuSans-52\"/>\n      </g>\n     </g>\n    </g>\n    <g id=\"ytick_2\">\n     <g id=\"line2d_15\">\n      <path clip-path=\"url(#pd4ca4b5a82)\" d=\"M 30.103125 75.15 \nL 225.403125 75.15 \n\" style=\"fill:none;stroke:#b0b0b0;stroke-linecap:square;stroke-width:0.8;\"/>\n     </g>\n     <g id=\"line2d_16\">\n      <g>\n       <use style=\"stroke:#000000;stroke-width:0.8;\" x=\"30.103125\" xlink:href=\"#m6acb81c130\" y=\"75.15\"/>\n      </g>\n     </g>\n     <g id=\"text_9\">\n      <!-- 0.6 -->\n      <defs>\n       <path d=\"M 33.015625 40.375 \nQ 26.375 40.375 22.484375 35.828125 \nQ 18.609375 31.296875 18.609375 23.390625 \nQ 18.609375 15.53125 22.484375 10.953125 \nQ 26.375 6.390625 33.015625 6.390625 \nQ 39.65625 6.390625 43.53125 10.953125 \nQ 47.40625 15.53125 47.40625 23.390625 \nQ 47.40625 31.296875 43.53125 35.828125 \nQ 39.65625 40.375 33.015625 40.375 \nz\nM 52.59375 71.296875 \nL 52.59375 62.3125 \nQ 48.875 64.0625 45.09375 64.984375 \nQ 41.3125 65.921875 37.59375 65.921875 \nQ 27.828125 65.921875 22.671875 59.328125 \nQ 17.53125 52.734375 16.796875 39.40625 \nQ 19.671875 43.65625 24.015625 45.921875 \nQ 28.375 48.1875 33.59375 48.1875 \nQ 44.578125 48.1875 50.953125 41.515625 \nQ 57.328125 34.859375 57.328125 23.390625 \nQ 57.328125 12.15625 50.6875 5.359375 \nQ 44.046875 -1.421875 33.015625 -1.421875 \nQ 20.359375 -1.421875 13.671875 8.265625 \nQ 6.984375 17.96875 6.984375 36.375 \nQ 6.984375 53.65625 15.1875 63.9375 \nQ 23.390625 74.21875 37.203125 74.21875 \nQ 40.921875 74.21875 44.703125 73.484375 \nQ 48.484375 72.75 52.59375 71.296875 \nz\n\" id=\"DejaVuSans-54\"/>\n      </defs>\n      <g transform=\"translate(7.2 78.949219)scale(0.1 -0.1)\">\n       <use xlink:href=\"#DejaVuSans-48\"/>\n       <use x=\"63.623047\" xlink:href=\"#DejaVuSans-46\"/>\n       <use x=\"95.410156\" xlink:href=\"#DejaVuSans-54\"/>\n      </g>\n     </g>\n    </g>\n    <g id=\"ytick_3\">\n     <g id=\"line2d_17\">\n      <path clip-path=\"url(#pd4ca4b5a82)\" d=\"M 30.103125 29.85 \nL 225.403125 29.85 \n\" style=\"fill:none;stroke:#b0b0b0;stroke-linecap:square;stroke-width:0.8;\"/>\n     </g>\n     <g id=\"line2d_18\">\n      <g>\n       <use style=\"stroke:#000000;stroke-width:0.8;\" x=\"30.103125\" xlink:href=\"#m6acb81c130\" y=\"29.85\"/>\n      </g>\n     </g>\n     <g id=\"text_10\">\n      <!-- 0.8 -->\n      <defs>\n       <path d=\"M 31.78125 34.625 \nQ 24.75 34.625 20.71875 30.859375 \nQ 16.703125 27.09375 16.703125 20.515625 \nQ 16.703125 13.921875 20.71875 10.15625 \nQ 24.75 6.390625 31.78125 6.390625 \nQ 38.8125 6.390625 42.859375 10.171875 \nQ 46.921875 13.96875 46.921875 20.515625 \nQ 46.921875 27.09375 42.890625 30.859375 \nQ 38.875 34.625 31.78125 34.625 \nz\nM 21.921875 38.8125 \nQ 15.578125 40.375 12.03125 44.71875 \nQ 8.5 49.078125 8.5 55.328125 \nQ 8.5 64.0625 14.71875 69.140625 \nQ 20.953125 74.21875 31.78125 74.21875 \nQ 42.671875 74.21875 48.875 69.140625 \nQ 55.078125 64.0625 55.078125 55.328125 \nQ 55.078125 49.078125 51.53125 44.71875 \nQ 48 40.375 41.703125 38.8125 \nQ 48.828125 37.15625 52.796875 32.3125 \nQ 56.78125 27.484375 56.78125 20.515625 \nQ 56.78125 9.90625 50.3125 4.234375 \nQ 43.84375 -1.421875 31.78125 -1.421875 \nQ 19.734375 -1.421875 13.25 4.234375 \nQ 6.78125 9.90625 6.78125 20.515625 \nQ 6.78125 27.484375 10.78125 32.3125 \nQ 14.796875 37.15625 21.921875 38.8125 \nz\nM 18.3125 54.390625 \nQ 18.3125 48.734375 21.84375 45.5625 \nQ 25.390625 42.390625 31.78125 42.390625 \nQ 38.140625 42.390625 41.71875 45.5625 \nQ 45.3125 48.734375 45.3125 54.390625 \nQ 45.3125 60.0625 41.71875 63.234375 \nQ 38.140625 66.40625 31.78125 66.40625 \nQ 25.390625 66.40625 21.84375 63.234375 \nQ 18.3125 60.0625 18.3125 54.390625 \nz\n\" id=\"DejaVuSans-56\"/>\n      </defs>\n      <g transform=\"translate(7.2 33.649219)scale(0.1 -0.1)\">\n       <use xlink:href=\"#DejaVuSans-48\"/>\n       <use x=\"63.623047\" xlink:href=\"#DejaVuSans-46\"/>\n       <use x=\"95.410156\" xlink:href=\"#DejaVuSans-56\"/>\n      </g>\n     </g>\n    </g>\n   </g>\n   <g id=\"line2d_19\">\n    <path clip-path=\"url(#pd4ca4b5a82)\" d=\"M 30.103125 23.840021 \nL 44.053125 80.56724 \nL 58.003125 92.522517 \nL 71.953125 97.596876 \nL 85.903125 99.680854 \nL 99.853125 103.48038 \nL 113.803125 106.544559 \nL 127.753125 107.108313 \nL 141.703125 107.137774 \nL 155.653125 109.421056 \nL 169.603125 109.836413 \nL 183.553125 111.064543 \nL 197.503125 112.777401 \nL 211.453125 113.468813 \nL 225.403125 113.150629 \n\" style=\"fill:none;stroke:#1f77b4;stroke-linecap:square;stroke-width:1.5;\"/>\n   </g>\n   <g id=\"line2d_20\">\n    <path clip-path=\"url(#pd4ca4b5a82)\" d=\"M 30.103125 45.051925 \nL 44.053125 28.494775 \nL 58.003125 24.6556 \nL 71.953125 23.5684 \nL 85.903125 22.552925 \nL 99.853125 21.375125 \nL 113.803125 20.16335 \nL 127.753125 20.04255 \nL 141.703125 20.106725 \nL 155.653125 19.298875 \nL 169.603125 19.48385 \nL 183.553125 18.732625 \nL 197.503125 18.317375 \nL 211.453125 18.060675 \nL 225.403125 18.2985 \n\" style=\"fill:none;stroke:#bf00bf;stroke-dasharray:5.55,2.4;stroke-dashoffset:0;stroke-width:1.5;\"/>\n   </g>\n   <g id=\"line2d_21\">\n    <path clip-path=\"url(#pd4ca4b5a82)\" d=\"M 30.103125 30.05385 \nL 44.053125 26.0901 \nL 58.003125 27.51705 \nL 71.953125 25.9089 \nL 85.903125 25.88625 \nL 99.853125 23.9157 \nL 113.803125 22.21695 \nL 127.753125 23.055 \nL 141.703125 22.0131 \nL 155.653125 24.4593 \nL 169.603125 20.90325 \nL 183.553125 20.8806 \nL 197.503125 21.80925 \nL 211.453125 20.76735 \nL 225.403125 21.76395 \n\" style=\"fill:none;stroke:#008000;stroke-dasharray:9.6,2.4,1.5,2.4;stroke-dashoffset:0;stroke-width:1.5;\"/>\n   </g>\n   <g id=\"patch_3\">\n    <path d=\"M 30.103125 143.1 \nL 30.103125 7.2 \n\" style=\"fill:none;stroke:#000000;stroke-linecap:square;stroke-linejoin:miter;stroke-width:0.8;\"/>\n   </g>\n   <g id=\"patch_4\">\n    <path d=\"M 225.403125 143.1 \nL 225.403125 7.2 \n\" style=\"fill:none;stroke:#000000;stroke-linecap:square;stroke-linejoin:miter;stroke-width:0.8;\"/>\n   </g>\n   <g id=\"patch_5\">\n    <path d=\"M 30.103125 143.1 \nL 225.403125 143.1 \n\" style=\"fill:none;stroke:#000000;stroke-linecap:square;stroke-linejoin:miter;stroke-width:0.8;\"/>\n   </g>\n   <g id=\"patch_6\">\n    <path d=\"M 30.103125 7.2 \nL 225.403125 7.2 \n\" style=\"fill:none;stroke:#000000;stroke-linecap:square;stroke-linejoin:miter;stroke-width:0.8;\"/>\n   </g>\n   <g id=\"legend_1\">\n    <g id=\"patch_7\">\n     <path d=\"M 140.634375 98.667187 \nL 218.403125 98.667187 \nQ 220.403125 98.667187 220.403125 96.667187 \nL 220.403125 53.632812 \nQ 220.403125 51.632812 218.403125 51.632812 \nL 140.634375 51.632812 \nQ 138.634375 51.632812 138.634375 53.632812 \nL 138.634375 96.667187 \nQ 138.634375 98.667187 140.634375 98.667187 \nz\n\" style=\"fill:#ffffff;opacity:0.8;stroke:#cccccc;stroke-linejoin:miter;\"/>\n    </g>\n    <g id=\"line2d_22\">\n     <path d=\"M 142.634375 59.73125 \nL 162.634375 59.73125 \n\" style=\"fill:none;stroke:#1f77b4;stroke-linecap:square;stroke-width:1.5;\"/>\n    </g>\n    <g id=\"line2d_23\"/>\n    <g id=\"text_11\">\n     <!-- train loss -->\n     <defs>\n      <path d=\"M 18.3125 70.21875 \nL 18.3125 54.6875 \nL 36.8125 54.6875 \nL 36.8125 47.703125 \nL 18.3125 47.703125 \nL 18.3125 18.015625 \nQ 18.3125 11.328125 20.140625 9.421875 \nQ 21.96875 7.515625 27.59375 7.515625 \nL 36.8125 7.515625 \nL 36.8125 0 \nL 27.59375 0 \nQ 17.1875 0 13.234375 3.875 \nQ 9.28125 7.765625 9.28125 18.015625 \nL 9.28125 47.703125 \nL 2.6875 47.703125 \nL 2.6875 54.6875 \nL 9.28125 54.6875 \nL 9.28125 70.21875 \nz\n\" id=\"DejaVuSans-116\"/>\n      <path d=\"M 41.109375 46.296875 \nQ 39.59375 47.171875 37.8125 47.578125 \nQ 36.03125 48 33.890625 48 \nQ 26.265625 48 22.1875 43.046875 \nQ 18.109375 38.09375 18.109375 28.8125 \nL 18.109375 0 \nL 9.078125 0 \nL 9.078125 54.6875 \nL 18.109375 54.6875 \nL 18.109375 46.1875 \nQ 20.953125 51.171875 25.484375 53.578125 \nQ 30.03125 56 36.53125 56 \nQ 37.453125 56 38.578125 55.875 \nQ 39.703125 55.765625 41.0625 55.515625 \nz\n\" id=\"DejaVuSans-114\"/>\n      <path d=\"M 34.28125 27.484375 \nQ 23.390625 27.484375 19.1875 25 \nQ 14.984375 22.515625 14.984375 16.5 \nQ 14.984375 11.71875 18.140625 8.90625 \nQ 21.296875 6.109375 26.703125 6.109375 \nQ 34.1875 6.109375 38.703125 11.40625 \nQ 43.21875 16.703125 43.21875 25.484375 \nL 43.21875 27.484375 \nz\nM 52.203125 31.203125 \nL 52.203125 0 \nL 43.21875 0 \nL 43.21875 8.296875 \nQ 40.140625 3.328125 35.546875 0.953125 \nQ 30.953125 -1.421875 24.3125 -1.421875 \nQ 15.921875 -1.421875 10.953125 3.296875 \nQ 6 8.015625 6 15.921875 \nQ 6 25.140625 12.171875 29.828125 \nQ 18.359375 34.515625 30.609375 34.515625 \nL 43.21875 34.515625 \nL 43.21875 35.40625 \nQ 43.21875 41.609375 39.140625 45 \nQ 35.0625 48.390625 27.6875 48.390625 \nQ 23 48.390625 18.546875 47.265625 \nQ 14.109375 46.140625 10.015625 43.890625 \nL 10.015625 52.203125 \nQ 14.9375 54.109375 19.578125 55.046875 \nQ 24.21875 56 28.609375 56 \nQ 40.484375 56 46.34375 49.84375 \nQ 52.203125 43.703125 52.203125 31.203125 \nz\n\" id=\"DejaVuSans-97\"/>\n      <path d=\"M 9.421875 54.6875 \nL 18.40625 54.6875 \nL 18.40625 0 \nL 9.421875 0 \nz\nM 9.421875 75.984375 \nL 18.40625 75.984375 \nL 18.40625 64.59375 \nL 9.421875 64.59375 \nz\n\" id=\"DejaVuSans-105\"/>\n      <path d=\"M 54.890625 33.015625 \nL 54.890625 0 \nL 45.90625 0 \nL 45.90625 32.71875 \nQ 45.90625 40.484375 42.875 44.328125 \nQ 39.84375 48.1875 33.796875 48.1875 \nQ 26.515625 48.1875 22.3125 43.546875 \nQ 18.109375 38.921875 18.109375 30.90625 \nL 18.109375 0 \nL 9.078125 0 \nL 9.078125 54.6875 \nL 18.109375 54.6875 \nL 18.109375 46.1875 \nQ 21.34375 51.125 25.703125 53.5625 \nQ 30.078125 56 35.796875 56 \nQ 45.21875 56 50.046875 50.171875 \nQ 54.890625 44.34375 54.890625 33.015625 \nz\n\" id=\"DejaVuSans-110\"/>\n      <path id=\"DejaVuSans-32\"/>\n      <path d=\"M 9.421875 75.984375 \nL 18.40625 75.984375 \nL 18.40625 0 \nL 9.421875 0 \nz\n\" id=\"DejaVuSans-108\"/>\n      <path d=\"M 44.28125 53.078125 \nL 44.28125 44.578125 \nQ 40.484375 46.53125 36.375 47.5 \nQ 32.28125 48.484375 27.875 48.484375 \nQ 21.1875 48.484375 17.84375 46.4375 \nQ 14.5 44.390625 14.5 40.28125 \nQ 14.5 37.15625 16.890625 35.375 \nQ 19.28125 33.59375 26.515625 31.984375 \nL 29.59375 31.296875 \nQ 39.15625 29.25 43.1875 25.515625 \nQ 47.21875 21.78125 47.21875 15.09375 \nQ 47.21875 7.46875 41.1875 3.015625 \nQ 35.15625 -1.421875 24.609375 -1.421875 \nQ 20.21875 -1.421875 15.453125 -0.5625 \nQ 10.6875 0.296875 5.421875 2 \nL 5.421875 11.28125 \nQ 10.40625 8.6875 15.234375 7.390625 \nQ 20.0625 6.109375 24.8125 6.109375 \nQ 31.15625 6.109375 34.5625 8.28125 \nQ 37.984375 10.453125 37.984375 14.40625 \nQ 37.984375 18.0625 35.515625 20.015625 \nQ 33.0625 21.96875 24.703125 23.78125 \nL 21.578125 24.515625 \nQ 13.234375 26.265625 9.515625 29.90625 \nQ 5.8125 33.546875 5.8125 39.890625 \nQ 5.8125 47.609375 11.28125 51.796875 \nQ 16.75 56 26.8125 56 \nQ 31.78125 56 36.171875 55.265625 \nQ 40.578125 54.546875 44.28125 53.078125 \nz\n\" id=\"DejaVuSans-115\"/>\n     </defs>\n     <g transform=\"translate(170.634375 63.23125)scale(0.1 -0.1)\">\n      <use xlink:href=\"#DejaVuSans-116\"/>\n      <use x=\"39.208984\" xlink:href=\"#DejaVuSans-114\"/>\n      <use x=\"80.322266\" xlink:href=\"#DejaVuSans-97\"/>\n      <use x=\"141.601562\" xlink:href=\"#DejaVuSans-105\"/>\n      <use x=\"169.384766\" xlink:href=\"#DejaVuSans-110\"/>\n      <use x=\"232.763672\" xlink:href=\"#DejaVuSans-32\"/>\n      <use x=\"264.550781\" xlink:href=\"#DejaVuSans-108\"/>\n      <use x=\"292.333984\" xlink:href=\"#DejaVuSans-111\"/>\n      <use x=\"353.515625\" xlink:href=\"#DejaVuSans-115\"/>\n      <use x=\"405.615234\" xlink:href=\"#DejaVuSans-115\"/>\n     </g>\n    </g>\n    <g id=\"line2d_24\">\n     <path d=\"M 142.634375 74.409375 \nL 162.634375 74.409375 \n\" style=\"fill:none;stroke:#bf00bf;stroke-dasharray:5.55,2.4;stroke-dashoffset:0;stroke-width:1.5;\"/>\n    </g>\n    <g id=\"line2d_25\"/>\n    <g id=\"text_12\">\n     <!-- train acc -->\n     <g transform=\"translate(170.634375 77.909375)scale(0.1 -0.1)\">\n      <use xlink:href=\"#DejaVuSans-116\"/>\n      <use x=\"39.208984\" xlink:href=\"#DejaVuSans-114\"/>\n      <use x=\"80.322266\" xlink:href=\"#DejaVuSans-97\"/>\n      <use x=\"141.601562\" xlink:href=\"#DejaVuSans-105\"/>\n      <use x=\"169.384766\" xlink:href=\"#DejaVuSans-110\"/>\n      <use x=\"232.763672\" xlink:href=\"#DejaVuSans-32\"/>\n      <use x=\"264.550781\" xlink:href=\"#DejaVuSans-97\"/>\n      <use x=\"325.830078\" xlink:href=\"#DejaVuSans-99\"/>\n      <use x=\"380.810547\" xlink:href=\"#DejaVuSans-99\"/>\n     </g>\n    </g>\n    <g id=\"line2d_26\">\n     <path d=\"M 142.634375 89.0875 \nL 162.634375 89.0875 \n\" style=\"fill:none;stroke:#008000;stroke-dasharray:9.6,2.4,1.5,2.4;stroke-dashoffset:0;stroke-width:1.5;\"/>\n    </g>\n    <g id=\"line2d_27\"/>\n    <g id=\"text_13\">\n     <!-- test acc -->\n     <g transform=\"translate(170.634375 92.5875)scale(0.1 -0.1)\">\n      <use xlink:href=\"#DejaVuSans-116\"/>\n      <use x=\"39.208984\" xlink:href=\"#DejaVuSans-101\"/>\n      <use x=\"100.732422\" xlink:href=\"#DejaVuSans-115\"/>\n      <use x=\"152.832031\" xlink:href=\"#DejaVuSans-116\"/>\n      <use x=\"192.041016\" xlink:href=\"#DejaVuSans-32\"/>\n      <use x=\"223.828125\" xlink:href=\"#DejaVuSans-97\"/>\n      <use x=\"285.107422\" xlink:href=\"#DejaVuSans-99\"/>\n      <use x=\"340.087891\" xlink:href=\"#DejaVuSans-99\"/>\n     </g>\n    </g>\n   </g>\n  </g>\n </g>\n <defs>\n  <clipPath id=\"pd4ca4b5a82\">\n   <rect height=\"135.9\" width=\"195.3\" x=\"30.103125\" y=\"7.2\"/>\n  </clipPath>\n </defs>\n</svg>\n",
            "text/plain": [
              "<Figure size 252x180 with 1 Axes>"
            ]
          },
          "metadata": {
            "needs_background": "light",
            "tags": []
          },
          "output_type": "display_data"
        }
      ],
      "source": [
        "num_epochs = 15\n",
        "d2l.train_ch3(net, train_iter, test_iter, loss, num_epochs, trainer)"
      ]
    },
    {
      "cell_type": "markdown",
      "metadata": {
        "id": "drZJeuErnJXc"
      },
      "source": [
        "앞서 3.3과 3.2단원에서 다뤘던 것처럼 모델을 정의하거나 training을 위한 코드를 작성하는 것에 있어서 scratch와 concise간의 편리함과 간결함의 차이를 많이 느낄 수 있었습니다.3.6단원 실습에서 epoch의 수를 10에서 100으로 증가시킨 후 실행 시켰을 때 굉장히 오랜시간이 소요된 것을 느꼈기 때문에 epoch수를 변경시킬 때 급격하게 변화된 숫자를 대입하지 않았고 learning rate와 batch사이즈 등 여러가지 hyperparameter들을 변경하여 실행시켰을때 assert error가 나는 것도 확인할 수 있었는데 train_ch3에 assert라는 명령어가 실행되어 assert train_loss < 0.5, train_loss 조건식이 True가 아니었기 때문에 더이상 프로그램이 실행되지 않고 종료된 것을 알 수 있었습니다. 만약 조건식이 True라면 다음명령어로 문제없이 진행되게 된다는 것을 알게되었습니다."
      ]
    }
  ],
  "metadata": {
    "colab": {
      "name": "Untitled1.ipynb",
      "provenance": []
    },
    "kernelspec": {
      "display_name": "Python 3",
      "name": "python3"
    },
    "language_info": {
      "name": "python"
    },
    "widgets": {
      "application/vnd.jupyter.widget-state+json": {
        "055f66095d4342f4ade6c5d4d4c7693d": {
          "model_module": "@jupyter-widgets/controls",
          "model_name": "HBoxModel",
          "state": {
            "_dom_classes": [],
            "_model_module": "@jupyter-widgets/controls",
            "_model_module_version": "1.5.0",
            "_model_name": "HBoxModel",
            "_view_count": null,
            "_view_module": "@jupyter-widgets/controls",
            "_view_module_version": "1.5.0",
            "_view_name": "HBoxView",
            "box_style": "",
            "children": [
              "IPY_MODEL_497ca3d11fad4b4daef99ba692f1e424",
              "IPY_MODEL_c98fc1729c0f449cbbaa4fd221198eab"
            ],
            "layout": "IPY_MODEL_ed1c06cde87d470ab1b44e286458f781"
          }
        },
        "0fd4469210c748bd89db1d276c6fbfe3": {
          "model_module": "@jupyter-widgets/controls",
          "model_name": "DescriptionStyleModel",
          "state": {
            "_model_module": "@jupyter-widgets/controls",
            "_model_module_version": "1.5.0",
            "_model_name": "DescriptionStyleModel",
            "_view_count": null,
            "_view_module": "@jupyter-widgets/base",
            "_view_module_version": "1.2.0",
            "_view_name": "StyleView",
            "description_width": ""
          }
        },
        "15b32d7af19542fa975a51d03ebf8b07": {
          "model_module": "@jupyter-widgets/base",
          "model_name": "LayoutModel",
          "state": {
            "_model_module": "@jupyter-widgets/base",
            "_model_module_version": "1.2.0",
            "_model_name": "LayoutModel",
            "_view_count": null,
            "_view_module": "@jupyter-widgets/base",
            "_view_module_version": "1.2.0",
            "_view_name": "LayoutView",
            "align_content": null,
            "align_items": null,
            "align_self": null,
            "border": null,
            "bottom": null,
            "display": null,
            "flex": null,
            "flex_flow": null,
            "grid_area": null,
            "grid_auto_columns": null,
            "grid_auto_flow": null,
            "grid_auto_rows": null,
            "grid_column": null,
            "grid_gap": null,
            "grid_row": null,
            "grid_template_areas": null,
            "grid_template_columns": null,
            "grid_template_rows": null,
            "height": null,
            "justify_content": null,
            "justify_items": null,
            "left": null,
            "margin": null,
            "max_height": null,
            "max_width": null,
            "min_height": null,
            "min_width": null,
            "object_fit": null,
            "object_position": null,
            "order": null,
            "overflow": null,
            "overflow_x": null,
            "overflow_y": null,
            "padding": null,
            "right": null,
            "top": null,
            "visibility": null,
            "width": null
          }
        },
        "18c15e54527c4ada92780263a68b3c83": {
          "model_module": "@jupyter-widgets/base",
          "model_name": "LayoutModel",
          "state": {
            "_model_module": "@jupyter-widgets/base",
            "_model_module_version": "1.2.0",
            "_model_name": "LayoutModel",
            "_view_count": null,
            "_view_module": "@jupyter-widgets/base",
            "_view_module_version": "1.2.0",
            "_view_name": "LayoutView",
            "align_content": null,
            "align_items": null,
            "align_self": null,
            "border": null,
            "bottom": null,
            "display": null,
            "flex": null,
            "flex_flow": null,
            "grid_area": null,
            "grid_auto_columns": null,
            "grid_auto_flow": null,
            "grid_auto_rows": null,
            "grid_column": null,
            "grid_gap": null,
            "grid_row": null,
            "grid_template_areas": null,
            "grid_template_columns": null,
            "grid_template_rows": null,
            "height": null,
            "justify_content": null,
            "justify_items": null,
            "left": null,
            "margin": null,
            "max_height": null,
            "max_width": null,
            "min_height": null,
            "min_width": null,
            "object_fit": null,
            "object_position": null,
            "order": null,
            "overflow": null,
            "overflow_x": null,
            "overflow_y": null,
            "padding": null,
            "right": null,
            "top": null,
            "visibility": null,
            "width": null
          }
        },
        "19a97333a0064d6680d30c2ed207a6b2": {
          "model_module": "@jupyter-widgets/controls",
          "model_name": "HTMLModel",
          "state": {
            "_dom_classes": [],
            "_model_module": "@jupyter-widgets/controls",
            "_model_module_version": "1.5.0",
            "_model_name": "HTMLModel",
            "_view_count": null,
            "_view_module": "@jupyter-widgets/controls",
            "_view_module_version": "1.5.0",
            "_view_name": "HTMLView",
            "description": "",
            "description_tooltip": null,
            "layout": "IPY_MODEL_6e762a9376484b04bdb6bbb3dc4c722c",
            "placeholder": "​",
            "style": "IPY_MODEL_8f3673b367d74244b079edcfd433ab06",
            "value": " 26422272/? [00:03&lt;00:00, 7589949.16it/s]"
          }
        },
        "1e0828cb688642fe8ae7a7de0a0fd393": {
          "model_module": "@jupyter-widgets/base",
          "model_name": "LayoutModel",
          "state": {
            "_model_module": "@jupyter-widgets/base",
            "_model_module_version": "1.2.0",
            "_model_name": "LayoutModel",
            "_view_count": null,
            "_view_module": "@jupyter-widgets/base",
            "_view_module_version": "1.2.0",
            "_view_name": "LayoutView",
            "align_content": null,
            "align_items": null,
            "align_self": null,
            "border": null,
            "bottom": null,
            "display": null,
            "flex": null,
            "flex_flow": null,
            "grid_area": null,
            "grid_auto_columns": null,
            "grid_auto_flow": null,
            "grid_auto_rows": null,
            "grid_column": null,
            "grid_gap": null,
            "grid_row": null,
            "grid_template_areas": null,
            "grid_template_columns": null,
            "grid_template_rows": null,
            "height": null,
            "justify_content": null,
            "justify_items": null,
            "left": null,
            "margin": null,
            "max_height": null,
            "max_width": null,
            "min_height": null,
            "min_width": null,
            "object_fit": null,
            "object_position": null,
            "order": null,
            "overflow": null,
            "overflow_x": null,
            "overflow_y": null,
            "padding": null,
            "right": null,
            "top": null,
            "visibility": null,
            "width": null
          }
        },
        "2685e3e7f36f45ae917d6cf0b9355064": {
          "model_module": "@jupyter-widgets/base",
          "model_name": "LayoutModel",
          "state": {
            "_model_module": "@jupyter-widgets/base",
            "_model_module_version": "1.2.0",
            "_model_name": "LayoutModel",
            "_view_count": null,
            "_view_module": "@jupyter-widgets/base",
            "_view_module_version": "1.2.0",
            "_view_name": "LayoutView",
            "align_content": null,
            "align_items": null,
            "align_self": null,
            "border": null,
            "bottom": null,
            "display": null,
            "flex": null,
            "flex_flow": null,
            "grid_area": null,
            "grid_auto_columns": null,
            "grid_auto_flow": null,
            "grid_auto_rows": null,
            "grid_column": null,
            "grid_gap": null,
            "grid_row": null,
            "grid_template_areas": null,
            "grid_template_columns": null,
            "grid_template_rows": null,
            "height": null,
            "justify_content": null,
            "justify_items": null,
            "left": null,
            "margin": null,
            "max_height": null,
            "max_width": null,
            "min_height": null,
            "min_width": null,
            "object_fit": null,
            "object_position": null,
            "order": null,
            "overflow": null,
            "overflow_x": null,
            "overflow_y": null,
            "padding": null,
            "right": null,
            "top": null,
            "visibility": null,
            "width": null
          }
        },
        "2c27fa0de2dd4c599995ae8608dd5b77": {
          "model_module": "@jupyter-widgets/controls",
          "model_name": "FloatProgressModel",
          "state": {
            "_dom_classes": [],
            "_model_module": "@jupyter-widgets/controls",
            "_model_module_version": "1.5.0",
            "_model_name": "FloatProgressModel",
            "_view_count": null,
            "_view_module": "@jupyter-widgets/controls",
            "_view_module_version": "1.5.0",
            "_view_name": "ProgressView",
            "bar_style": "success",
            "description": "",
            "description_tooltip": null,
            "layout": "IPY_MODEL_2685e3e7f36f45ae917d6cf0b9355064",
            "max": 26421880,
            "min": 0,
            "orientation": "horizontal",
            "style": "IPY_MODEL_3da8183d7d3143f480d25394b5375bd7",
            "value": 26421880
          }
        },
        "2c80fd64443c4caea3d58df083dbbe9b": {
          "model_module": "@jupyter-widgets/controls",
          "model_name": "HBoxModel",
          "state": {
            "_dom_classes": [],
            "_model_module": "@jupyter-widgets/controls",
            "_model_module_version": "1.5.0",
            "_model_name": "HBoxModel",
            "_view_count": null,
            "_view_module": "@jupyter-widgets/controls",
            "_view_module_version": "1.5.0",
            "_view_name": "HBoxView",
            "box_style": "",
            "children": [
              "IPY_MODEL_58e6eabd61b44aac801884ca3a38ae2a",
              "IPY_MODEL_eab927ce389d444887ae504bbabfb271"
            ],
            "layout": "IPY_MODEL_781137e11b8c443eabaf3e9bbf2909d3"
          }
        },
        "3da8183d7d3143f480d25394b5375bd7": {
          "model_module": "@jupyter-widgets/controls",
          "model_name": "ProgressStyleModel",
          "state": {
            "_model_module": "@jupyter-widgets/controls",
            "_model_module_version": "1.5.0",
            "_model_name": "ProgressStyleModel",
            "_view_count": null,
            "_view_module": "@jupyter-widgets/base",
            "_view_module_version": "1.2.0",
            "_view_name": "StyleView",
            "bar_color": null,
            "description_width": "initial"
          }
        },
        "454cd7f54c2e4e30a6f44e4a5e369765": {
          "model_module": "@jupyter-widgets/controls",
          "model_name": "DescriptionStyleModel",
          "state": {
            "_model_module": "@jupyter-widgets/controls",
            "_model_module_version": "1.5.0",
            "_model_name": "DescriptionStyleModel",
            "_view_count": null,
            "_view_module": "@jupyter-widgets/base",
            "_view_module_version": "1.2.0",
            "_view_name": "StyleView",
            "description_width": ""
          }
        },
        "497ca3d11fad4b4daef99ba692f1e424": {
          "model_module": "@jupyter-widgets/controls",
          "model_name": "FloatProgressModel",
          "state": {
            "_dom_classes": [],
            "_model_module": "@jupyter-widgets/controls",
            "_model_module_version": "1.5.0",
            "_model_name": "FloatProgressModel",
            "_view_count": null,
            "_view_module": "@jupyter-widgets/controls",
            "_view_module_version": "1.5.0",
            "_view_name": "ProgressView",
            "bar_style": "success",
            "description": "",
            "description_tooltip": null,
            "layout": "IPY_MODEL_7619d547f75c40a58ed7e32e81aabfb4",
            "max": 29515,
            "min": 0,
            "orientation": "horizontal",
            "style": "IPY_MODEL_5c32ac99ef7d4bdf81196dcf2536c3aa",
            "value": 29515
          }
        },
        "57c43d69442b43c7a2f9777537cb5561": {
          "model_module": "@jupyter-widgets/controls",
          "model_name": "DescriptionStyleModel",
          "state": {
            "_model_module": "@jupyter-widgets/controls",
            "_model_module_version": "1.5.0",
            "_model_name": "DescriptionStyleModel",
            "_view_count": null,
            "_view_module": "@jupyter-widgets/base",
            "_view_module_version": "1.2.0",
            "_view_name": "StyleView",
            "description_width": ""
          }
        },
        "58e6eabd61b44aac801884ca3a38ae2a": {
          "model_module": "@jupyter-widgets/controls",
          "model_name": "FloatProgressModel",
          "state": {
            "_dom_classes": [],
            "_model_module": "@jupyter-widgets/controls",
            "_model_module_version": "1.5.0",
            "_model_name": "FloatProgressModel",
            "_view_count": null,
            "_view_module": "@jupyter-widgets/controls",
            "_view_module_version": "1.5.0",
            "_view_name": "ProgressView",
            "bar_style": "success",
            "description": "",
            "description_tooltip": null,
            "layout": "IPY_MODEL_df6a178abc4940ad870455bf1651f32b",
            "max": 5148,
            "min": 0,
            "orientation": "horizontal",
            "style": "IPY_MODEL_f4ccb96ea5a94f6cbc2cb5822d2c8440",
            "value": 5148
          }
        },
        "5b7d2050ecf745b08b820c561df1df32": {
          "model_module": "@jupyter-widgets/controls",
          "model_name": "FloatProgressModel",
          "state": {
            "_dom_classes": [],
            "_model_module": "@jupyter-widgets/controls",
            "_model_module_version": "1.5.0",
            "_model_name": "FloatProgressModel",
            "_view_count": null,
            "_view_module": "@jupyter-widgets/controls",
            "_view_module_version": "1.5.0",
            "_view_name": "ProgressView",
            "bar_style": "success",
            "description": "",
            "description_tooltip": null,
            "layout": "IPY_MODEL_6f341665931a4896b9638e7c065593b1",
            "max": 4422102,
            "min": 0,
            "orientation": "horizontal",
            "style": "IPY_MODEL_d17a8a3f89a941f4898499e7484f6ac3",
            "value": 4422102
          }
        },
        "5c32ac99ef7d4bdf81196dcf2536c3aa": {
          "model_module": "@jupyter-widgets/controls",
          "model_name": "ProgressStyleModel",
          "state": {
            "_model_module": "@jupyter-widgets/controls",
            "_model_module_version": "1.5.0",
            "_model_name": "ProgressStyleModel",
            "_view_count": null,
            "_view_module": "@jupyter-widgets/base",
            "_view_module_version": "1.2.0",
            "_view_name": "StyleView",
            "bar_color": null,
            "description_width": "initial"
          }
        },
        "61b57296be8943a298a5a721ab2e9aa1": {
          "model_module": "@jupyter-widgets/base",
          "model_name": "LayoutModel",
          "state": {
            "_model_module": "@jupyter-widgets/base",
            "_model_module_version": "1.2.0",
            "_model_name": "LayoutModel",
            "_view_count": null,
            "_view_module": "@jupyter-widgets/base",
            "_view_module_version": "1.2.0",
            "_view_name": "LayoutView",
            "align_content": null,
            "align_items": null,
            "align_self": null,
            "border": null,
            "bottom": null,
            "display": null,
            "flex": null,
            "flex_flow": null,
            "grid_area": null,
            "grid_auto_columns": null,
            "grid_auto_flow": null,
            "grid_auto_rows": null,
            "grid_column": null,
            "grid_gap": null,
            "grid_row": null,
            "grid_template_areas": null,
            "grid_template_columns": null,
            "grid_template_rows": null,
            "height": null,
            "justify_content": null,
            "justify_items": null,
            "left": null,
            "margin": null,
            "max_height": null,
            "max_width": null,
            "min_height": null,
            "min_width": null,
            "object_fit": null,
            "object_position": null,
            "order": null,
            "overflow": null,
            "overflow_x": null,
            "overflow_y": null,
            "padding": null,
            "right": null,
            "top": null,
            "visibility": null,
            "width": null
          }
        },
        "6c502cab92af4bd8b54ff538a903fe55": {
          "model_module": "@jupyter-widgets/controls",
          "model_name": "HBoxModel",
          "state": {
            "_dom_classes": [],
            "_model_module": "@jupyter-widgets/controls",
            "_model_module_version": "1.5.0",
            "_model_name": "HBoxModel",
            "_view_count": null,
            "_view_module": "@jupyter-widgets/controls",
            "_view_module_version": "1.5.0",
            "_view_name": "HBoxView",
            "box_style": "",
            "children": [
              "IPY_MODEL_5b7d2050ecf745b08b820c561df1df32",
              "IPY_MODEL_74d153dfa32749ce90d82cecd46274b0"
            ],
            "layout": "IPY_MODEL_1e0828cb688642fe8ae7a7de0a0fd393"
          }
        },
        "6e762a9376484b04bdb6bbb3dc4c722c": {
          "model_module": "@jupyter-widgets/base",
          "model_name": "LayoutModel",
          "state": {
            "_model_module": "@jupyter-widgets/base",
            "_model_module_version": "1.2.0",
            "_model_name": "LayoutModel",
            "_view_count": null,
            "_view_module": "@jupyter-widgets/base",
            "_view_module_version": "1.2.0",
            "_view_name": "LayoutView",
            "align_content": null,
            "align_items": null,
            "align_self": null,
            "border": null,
            "bottom": null,
            "display": null,
            "flex": null,
            "flex_flow": null,
            "grid_area": null,
            "grid_auto_columns": null,
            "grid_auto_flow": null,
            "grid_auto_rows": null,
            "grid_column": null,
            "grid_gap": null,
            "grid_row": null,
            "grid_template_areas": null,
            "grid_template_columns": null,
            "grid_template_rows": null,
            "height": null,
            "justify_content": null,
            "justify_items": null,
            "left": null,
            "margin": null,
            "max_height": null,
            "max_width": null,
            "min_height": null,
            "min_width": null,
            "object_fit": null,
            "object_position": null,
            "order": null,
            "overflow": null,
            "overflow_x": null,
            "overflow_y": null,
            "padding": null,
            "right": null,
            "top": null,
            "visibility": null,
            "width": null
          }
        },
        "6f341665931a4896b9638e7c065593b1": {
          "model_module": "@jupyter-widgets/base",
          "model_name": "LayoutModel",
          "state": {
            "_model_module": "@jupyter-widgets/base",
            "_model_module_version": "1.2.0",
            "_model_name": "LayoutModel",
            "_view_count": null,
            "_view_module": "@jupyter-widgets/base",
            "_view_module_version": "1.2.0",
            "_view_name": "LayoutView",
            "align_content": null,
            "align_items": null,
            "align_self": null,
            "border": null,
            "bottom": null,
            "display": null,
            "flex": null,
            "flex_flow": null,
            "grid_area": null,
            "grid_auto_columns": null,
            "grid_auto_flow": null,
            "grid_auto_rows": null,
            "grid_column": null,
            "grid_gap": null,
            "grid_row": null,
            "grid_template_areas": null,
            "grid_template_columns": null,
            "grid_template_rows": null,
            "height": null,
            "justify_content": null,
            "justify_items": null,
            "left": null,
            "margin": null,
            "max_height": null,
            "max_width": null,
            "min_height": null,
            "min_width": null,
            "object_fit": null,
            "object_position": null,
            "order": null,
            "overflow": null,
            "overflow_x": null,
            "overflow_y": null,
            "padding": null,
            "right": null,
            "top": null,
            "visibility": null,
            "width": null
          }
        },
        "74d153dfa32749ce90d82cecd46274b0": {
          "model_module": "@jupyter-widgets/controls",
          "model_name": "HTMLModel",
          "state": {
            "_dom_classes": [],
            "_model_module": "@jupyter-widgets/controls",
            "_model_module_version": "1.5.0",
            "_model_name": "HTMLModel",
            "_view_count": null,
            "_view_module": "@jupyter-widgets/controls",
            "_view_module_version": "1.5.0",
            "_view_name": "HTMLView",
            "description": "",
            "description_tooltip": null,
            "layout": "IPY_MODEL_18c15e54527c4ada92780263a68b3c83",
            "placeholder": "​",
            "style": "IPY_MODEL_0fd4469210c748bd89db1d276c6fbfe3",
            "value": " 4422656/? [32:17&lt;00:00, 2283.17it/s]"
          }
        },
        "7619d547f75c40a58ed7e32e81aabfb4": {
          "model_module": "@jupyter-widgets/base",
          "model_name": "LayoutModel",
          "state": {
            "_model_module": "@jupyter-widgets/base",
            "_model_module_version": "1.2.0",
            "_model_name": "LayoutModel",
            "_view_count": null,
            "_view_module": "@jupyter-widgets/base",
            "_view_module_version": "1.2.0",
            "_view_name": "LayoutView",
            "align_content": null,
            "align_items": null,
            "align_self": null,
            "border": null,
            "bottom": null,
            "display": null,
            "flex": null,
            "flex_flow": null,
            "grid_area": null,
            "grid_auto_columns": null,
            "grid_auto_flow": null,
            "grid_auto_rows": null,
            "grid_column": null,
            "grid_gap": null,
            "grid_row": null,
            "grid_template_areas": null,
            "grid_template_columns": null,
            "grid_template_rows": null,
            "height": null,
            "justify_content": null,
            "justify_items": null,
            "left": null,
            "margin": null,
            "max_height": null,
            "max_width": null,
            "min_height": null,
            "min_width": null,
            "object_fit": null,
            "object_position": null,
            "order": null,
            "overflow": null,
            "overflow_x": null,
            "overflow_y": null,
            "padding": null,
            "right": null,
            "top": null,
            "visibility": null,
            "width": null
          }
        },
        "781137e11b8c443eabaf3e9bbf2909d3": {
          "model_module": "@jupyter-widgets/base",
          "model_name": "LayoutModel",
          "state": {
            "_model_module": "@jupyter-widgets/base",
            "_model_module_version": "1.2.0",
            "_model_name": "LayoutModel",
            "_view_count": null,
            "_view_module": "@jupyter-widgets/base",
            "_view_module_version": "1.2.0",
            "_view_name": "LayoutView",
            "align_content": null,
            "align_items": null,
            "align_self": null,
            "border": null,
            "bottom": null,
            "display": null,
            "flex": null,
            "flex_flow": null,
            "grid_area": null,
            "grid_auto_columns": null,
            "grid_auto_flow": null,
            "grid_auto_rows": null,
            "grid_column": null,
            "grid_gap": null,
            "grid_row": null,
            "grid_template_areas": null,
            "grid_template_columns": null,
            "grid_template_rows": null,
            "height": null,
            "justify_content": null,
            "justify_items": null,
            "left": null,
            "margin": null,
            "max_height": null,
            "max_width": null,
            "min_height": null,
            "min_width": null,
            "object_fit": null,
            "object_position": null,
            "order": null,
            "overflow": null,
            "overflow_x": null,
            "overflow_y": null,
            "padding": null,
            "right": null,
            "top": null,
            "visibility": null,
            "width": null
          }
        },
        "8f3673b367d74244b079edcfd433ab06": {
          "model_module": "@jupyter-widgets/controls",
          "model_name": "DescriptionStyleModel",
          "state": {
            "_model_module": "@jupyter-widgets/controls",
            "_model_module_version": "1.5.0",
            "_model_name": "DescriptionStyleModel",
            "_view_count": null,
            "_view_module": "@jupyter-widgets/base",
            "_view_module_version": "1.2.0",
            "_view_name": "StyleView",
            "description_width": ""
          }
        },
        "94b96a4098c0429583d1042c08d805b8": {
          "model_module": "@jupyter-widgets/controls",
          "model_name": "HBoxModel",
          "state": {
            "_dom_classes": [],
            "_model_module": "@jupyter-widgets/controls",
            "_model_module_version": "1.5.0",
            "_model_name": "HBoxModel",
            "_view_count": null,
            "_view_module": "@jupyter-widgets/controls",
            "_view_module_version": "1.5.0",
            "_view_name": "HBoxView",
            "box_style": "",
            "children": [
              "IPY_MODEL_2c27fa0de2dd4c599995ae8608dd5b77",
              "IPY_MODEL_19a97333a0064d6680d30c2ed207a6b2"
            ],
            "layout": "IPY_MODEL_96a10783f7494e57ba523953877409f7"
          }
        },
        "96a10783f7494e57ba523953877409f7": {
          "model_module": "@jupyter-widgets/base",
          "model_name": "LayoutModel",
          "state": {
            "_model_module": "@jupyter-widgets/base",
            "_model_module_version": "1.2.0",
            "_model_name": "LayoutModel",
            "_view_count": null,
            "_view_module": "@jupyter-widgets/base",
            "_view_module_version": "1.2.0",
            "_view_name": "LayoutView",
            "align_content": null,
            "align_items": null,
            "align_self": null,
            "border": null,
            "bottom": null,
            "display": null,
            "flex": null,
            "flex_flow": null,
            "grid_area": null,
            "grid_auto_columns": null,
            "grid_auto_flow": null,
            "grid_auto_rows": null,
            "grid_column": null,
            "grid_gap": null,
            "grid_row": null,
            "grid_template_areas": null,
            "grid_template_columns": null,
            "grid_template_rows": null,
            "height": null,
            "justify_content": null,
            "justify_items": null,
            "left": null,
            "margin": null,
            "max_height": null,
            "max_width": null,
            "min_height": null,
            "min_width": null,
            "object_fit": null,
            "object_position": null,
            "order": null,
            "overflow": null,
            "overflow_x": null,
            "overflow_y": null,
            "padding": null,
            "right": null,
            "top": null,
            "visibility": null,
            "width": null
          }
        },
        "c98fc1729c0f449cbbaa4fd221198eab": {
          "model_module": "@jupyter-widgets/controls",
          "model_name": "HTMLModel",
          "state": {
            "_dom_classes": [],
            "_model_module": "@jupyter-widgets/controls",
            "_model_module_version": "1.5.0",
            "_model_name": "HTMLModel",
            "_view_count": null,
            "_view_module": "@jupyter-widgets/controls",
            "_view_module_version": "1.5.0",
            "_view_name": "HTMLView",
            "description": "",
            "description_tooltip": null,
            "layout": "IPY_MODEL_61b57296be8943a298a5a721ab2e9aa1",
            "placeholder": "​",
            "style": "IPY_MODEL_454cd7f54c2e4e30a6f44e4a5e369765",
            "value": " 29696/? [00:00&lt;00:00, 49590.96it/s]"
          }
        },
        "d17a8a3f89a941f4898499e7484f6ac3": {
          "model_module": "@jupyter-widgets/controls",
          "model_name": "ProgressStyleModel",
          "state": {
            "_model_module": "@jupyter-widgets/controls",
            "_model_module_version": "1.5.0",
            "_model_name": "ProgressStyleModel",
            "_view_count": null,
            "_view_module": "@jupyter-widgets/base",
            "_view_module_version": "1.2.0",
            "_view_name": "StyleView",
            "bar_color": null,
            "description_width": "initial"
          }
        },
        "df6a178abc4940ad870455bf1651f32b": {
          "model_module": "@jupyter-widgets/base",
          "model_name": "LayoutModel",
          "state": {
            "_model_module": "@jupyter-widgets/base",
            "_model_module_version": "1.2.0",
            "_model_name": "LayoutModel",
            "_view_count": null,
            "_view_module": "@jupyter-widgets/base",
            "_view_module_version": "1.2.0",
            "_view_name": "LayoutView",
            "align_content": null,
            "align_items": null,
            "align_self": null,
            "border": null,
            "bottom": null,
            "display": null,
            "flex": null,
            "flex_flow": null,
            "grid_area": null,
            "grid_auto_columns": null,
            "grid_auto_flow": null,
            "grid_auto_rows": null,
            "grid_column": null,
            "grid_gap": null,
            "grid_row": null,
            "grid_template_areas": null,
            "grid_template_columns": null,
            "grid_template_rows": null,
            "height": null,
            "justify_content": null,
            "justify_items": null,
            "left": null,
            "margin": null,
            "max_height": null,
            "max_width": null,
            "min_height": null,
            "min_width": null,
            "object_fit": null,
            "object_position": null,
            "order": null,
            "overflow": null,
            "overflow_x": null,
            "overflow_y": null,
            "padding": null,
            "right": null,
            "top": null,
            "visibility": null,
            "width": null
          }
        },
        "eab927ce389d444887ae504bbabfb271": {
          "model_module": "@jupyter-widgets/controls",
          "model_name": "HTMLModel",
          "state": {
            "_dom_classes": [],
            "_model_module": "@jupyter-widgets/controls",
            "_model_module_version": "1.5.0",
            "_model_name": "HTMLModel",
            "_view_count": null,
            "_view_module": "@jupyter-widgets/controls",
            "_view_module_version": "1.5.0",
            "_view_name": "HTMLView",
            "description": "",
            "description_tooltip": null,
            "layout": "IPY_MODEL_15b32d7af19542fa975a51d03ebf8b07",
            "placeholder": "​",
            "style": "IPY_MODEL_57c43d69442b43c7a2f9777537cb5561",
            "value": " 6144/? [01:31&lt;00:00, 66.86it/s]"
          }
        },
        "ed1c06cde87d470ab1b44e286458f781": {
          "model_module": "@jupyter-widgets/base",
          "model_name": "LayoutModel",
          "state": {
            "_model_module": "@jupyter-widgets/base",
            "_model_module_version": "1.2.0",
            "_model_name": "LayoutModel",
            "_view_count": null,
            "_view_module": "@jupyter-widgets/base",
            "_view_module_version": "1.2.0",
            "_view_name": "LayoutView",
            "align_content": null,
            "align_items": null,
            "align_self": null,
            "border": null,
            "bottom": null,
            "display": null,
            "flex": null,
            "flex_flow": null,
            "grid_area": null,
            "grid_auto_columns": null,
            "grid_auto_flow": null,
            "grid_auto_rows": null,
            "grid_column": null,
            "grid_gap": null,
            "grid_row": null,
            "grid_template_areas": null,
            "grid_template_columns": null,
            "grid_template_rows": null,
            "height": null,
            "justify_content": null,
            "justify_items": null,
            "left": null,
            "margin": null,
            "max_height": null,
            "max_width": null,
            "min_height": null,
            "min_width": null,
            "object_fit": null,
            "object_position": null,
            "order": null,
            "overflow": null,
            "overflow_x": null,
            "overflow_y": null,
            "padding": null,
            "right": null,
            "top": null,
            "visibility": null,
            "width": null
          }
        },
        "f4ccb96ea5a94f6cbc2cb5822d2c8440": {
          "model_module": "@jupyter-widgets/controls",
          "model_name": "ProgressStyleModel",
          "state": {
            "_model_module": "@jupyter-widgets/controls",
            "_model_module_version": "1.5.0",
            "_model_name": "ProgressStyleModel",
            "_view_count": null,
            "_view_module": "@jupyter-widgets/base",
            "_view_module_version": "1.2.0",
            "_view_name": "StyleView",
            "bar_color": null,
            "description_width": "initial"
          }
        }
      }
    }
  },
  "nbformat": 4,
  "nbformat_minor": 0
}
